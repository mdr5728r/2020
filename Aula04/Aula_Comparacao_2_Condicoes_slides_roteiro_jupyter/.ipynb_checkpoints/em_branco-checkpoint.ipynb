{
 "cells": [
  {
   "cell_type": "markdown",
   "metadata": {},
   "source": [
    "# Comparações entre duas condições dependentes e independentes\n",
    "\n",
    "  > Paulo S. P Silveira (paulo.silveira@fm.usp.br)   \n",
    "  > Koichi Sameshima (koichi.sameshima@fm.usp.br)  \n",
    "  > José O. Siqueira (siqueira@usp.br)\n",
    "\n",
    "<!-- versao -->\n",
    "<div align=right>\n",
    "<font style=\"color:#26a169; font-size:80%\">v20200329.2025</font>\n",
    "</div>\n",
    "<!-- https://bookdown.org/yihui/rmarkdown/html-document.html#data_frame_printing -->\n",
    "<!-- theme: https://bootswatch.com/3/ -->"
   ]
  },
  {
   "cell_type": "markdown",
   "metadata": {},
   "source": [
    "## Objetivos\n",
    "\n",
    "* reconhecer e mencionar propriedades da distribuição t.\n",
    "* reconhecer as indicações e aplicar um teste *t* para uma condição.\n",
    "* reconhecer as indicações e aplicar um teste *t* pareado\n",
    "(condições dependentes).\n",
    "* reconhecer as indicações e aplicar um teste *t* independente\n",
    "(condições independentes).\n",
    "* definir hipóteses estatísticas nula e alternativa."
   ]
  },
  {
   "cell_type": "markdown",
   "metadata": {},
   "source": [
    "## Preparação\n",
    "\n",
    "Os exemplos aqui apresentados estão disponíveis. Caso queira usá-los, crie um projeto, coloque o arquivo desta aula e os seguintes arquivos na pasta do mesmo:\n",
    "\n",
    "* [Animacao_t_central.R](Animacao_t_central.R)\n",
    "* [Animacao_t_nao_central.R](Animacao_t_nao_central.R)\n",
    "* [Nifedipina.R](Nifedipina.R)\n",
    "* [Violencia_estadios.R](Violencia_estadios.R)\n",
    "* [Violencia_estadios.xlsx](Violencia_estadios.xlsx)\n",
    "* [Nutricao.R](Nutricao.R)\n",
    "* [Nutricao.xlsx](Nutricao.xlsx)"
   ]
  },
  {
   "cell_type": "markdown",
   "metadata": {},
   "source": [
    "## Distribuição $t$\n",
    "\n",
    "É uma distribuição de probabilidades que considera graus de liberdade ($\\nu$, letra grega _[ni](https://pt.wikipedia.org/wiki/%CE%9D)_ ).\n",
    "\n",
    "Sob $H_0$ é semelhante à distribuição normal padronizada, centrada em $t=0$, mas com suas caudas mais “pesadas” (desvio-padrão > 1). Não é uma única curva, mas uma família delas, variando os graus de liberdade: podemos pensar na distribuição $t$ como um avanço histórico em relação à distribuição normal padronizada - em um teste $z$ o desvio-padrão populacional é conhecido; no teste $t$ usa-se o desvio-padrão amostral como estimador. A incerteza adicional pela falta de conhecimento do desvio-padrão populacional é considerada através dos graus de liberdade, alterando a distribuição sobre a qual a estatística do teste funciona.\n",
    "\n",
    "Os graus de liberdade dependem do tamanho da amostra; quanto menor, mais pesadas são as caudas e, portanto, diferenças numéricas precisam que ser maiores para que consigamos rejeitar a hipótese nula.\n",
    "\n",
    "***"
   ]
  },
  {
   "cell_type": "markdown",
   "metadata": {},
   "source": [
    "\n",
    "<img src=\"ps_coruja.png\" alt=\"Drawing\" style=\"width: 75px;float: left;\"/>  \n",
    "<div class=\"alert alert-block alert-success\">\n",
    "    \n",
    "   Experimente o script \\textbf{Animacao_t_central.R} para ver o aspecto da distribuição \\textit{t} e observe que:\n",
    "    \n",
    "* sob $H_0$ a distribuição *t* é centrada em zero;  \n",
    "* quando as caudas têm maior área, então o valor crítico, que define $\\alpha$, afasta-se das extremidades; e    \n",
    "* aproxima-se da distribuição normal se $\\nu \\rightarrow \\infty$, ou o tamanho da amostra aumenta.\n",
    "</div>\n",
    "\n",
    "Nota: As duas rotinas ou scripts de animação, Animacao_t_central.R e Animacao_t_nao_central.R, não adequadas para se rodar no ambiente Jupyter Notebook, pois as dezenas de gráficos são criados sequencialmente para cada ciclo de simulação no ambiente Jupyter, não se criando a percepção de animação. Você notará que a célula de saída ficará abarrotada de gráficos. De todo modo experimente. \n",
    "\n",
    "Há duas formas de se apagar uma célula:\n",
    "* Via menu Edit e Delete Cells (note que há opção Undo Delete Cells, ou seja é possível desfazer o apagamento acidental);\n",
    "* Pode-se obter o mesmo efeito posicionando ou clicando a célula, depois pressionar  $<$Esc$>$ e pressionar duas vezes a tecla $<$d$>$.\n",
    "***"
   ]
  },
  {
   "cell_type": "markdown",
   "metadata": {},
   "source": [
    "## Funções para distribuições em R\n",
    "\n",
    "R dispõe de uma pequena família de funções básicas para cada tipo de distribuição. Estes pequenos conjuntos são análogos uns aos outros conjuntos, facilitando o aprendizado.\n",
    "\n",
    "### distribuição binomial\n",
    "\n",
    "A família de funções para a distribuição binomial é:\n",
    "\n",
    "* `dbinom(x, size, prob, log = FALSE)`\n",
    "* `pbinom(q, size, prob, lower.tail = TRUE, log.p = FALSE)`\n",
    "* `qbinom(p, size, prob, lower.tail = TRUE, log.p = FALSE)`\n",
    "* `rbinom(n, size, prob)`\n",
    "\n",
    "que dependem do número de eventos (`size`) e sucesso de cada evento (`prob`). Esta distribuição serve, por exemplo, para modelar uma moeda. Por exemplo, uma moeda bem balanceada tem $50\\%$ de probabilidade de sair coroa. Caso fosse testada com 6 jogadas, esperamos que 3 coroas sejam o mais provável, e o gráfico com a distribuição de probabilidades pode usar o seguinte código:"
   ]
  },
  {
   "cell_type": "code",
   "execution_count": null,
   "metadata": {
    "echo": true
   },
   "outputs": [],
   "source": [
    "options(repr.plot.width=6, repr.plot.height=5)\n",
    "\n",
    "jogadas <- seq(0:6)\n",
    "probabilidades <- dbinom(x=jogadas, size=6, prob=0.5)\n",
    "plot(jogadas, probabilidades, \n",
    "     xlab=\"número de coroas\", ylab=\"função de probabilidade\",\n",
    "     xlim=c(0,6), type=\"h\")"
   ]
  },
  {
   "cell_type": "markdown",
   "metadata": {},
   "source": [
    "Para uma moeda desbalanceada, viciada para dar $\\frac{2}{3}$ de coroas, esperamos 4 coroas em 6 jogadas, como veremos alterando o parâmetro `prob`:"
   ]
  },
  {
   "cell_type": "code",
   "execution_count": null,
   "metadata": {
    "echo": true
   },
   "outputs": [],
   "source": [
    "jogadas <- seq(0:6)\n",
    "probabilidades <- dbinom(x=jogadas, size=6, prob=2/3)\n",
    "plot(jogadas, probabilidades, \n",
    "     xlab=\"número de coroas\", ylab=\"função de probabilidade\",\n",
    "     xlim=c(0,6), type=\"h\", lty=2)"
   ]
  },
  {
   "cell_type": "markdown",
   "metadata": {},
   "source": [
    "A curva produzida para a moeda desbalanceada é a mesma daquela obtida pela moeda balanceada, apenas transladada para a direita. A dificuldade para distinguir uma moeda da outra está em observar que a moeda de $50\\%$ tem certa probabilidade de sair com 4 coroas, bem como a desbalanceada pode obter 3.\n",
    "\n",
    "### Distribuição normal\n",
    "\n",
    "A distribuição normal tem conjunto de funções similar às da binomial:\n",
    "\n",
    "* `dnorm(x, mean = 0, sd = 1, log = FALSE)`\n",
    "* `pnorm(q, mean = 0, sd = 1, lower.tail = TRUE, log.p = FALSE)`\n",
    "* `qnorm(p, mean = 0, sd = 1, lower.tail = TRUE, log.p = FALSE)`\n",
    "* `rnorm(n, mean = 0, sd = 1)`\n",
    "\n",
    "na qual necessitamos da média (`mean`) e desvio-padrão (`sd`) para sua caracterização. É usada com variáveis quantitativas contínuas, portanto os gráficos devem usar linhas contínuas.\n",
    "\n",
    "Por comparação exploraremos distribuições normais com médias de 3 e 4 e desvio-padrão de 1.22.\n",
    "\n",
    "***"
   ]
  },
  {
   "cell_type": "markdown",
   "metadata": {
    "lines_to_next_cell": 0
   },
   "source": [
    "<img src=\"ps_coruja.png\" alt=\"Drawing\" style=\"width: 75px;float: left;\"/>  \n",
    "<div class=\"alert alert-block alert-success\">\n",
    "Este desvio-padrão não foi escolhido ao acaso. O desvio-padrão de uma binomial é dado por:\n",
    "\n",
    "$sd_{binomial} = \\sqrt{ n \\cdot p \\cdot (1-p) }$,\n",
    "\n",
    "onde $n$ é o número de jogadas e $p$ a probabilidade do evento. Então, para o exemplo acima, $sd_{binomial} = \\sqrt{ 6 \\cdot 0.5 \\cdot (1-0.5) } \\approx 1.22$. \n",
    "\n",
    "Para este exemplo procuramos mostrar uma distribuição normal com formato similar à binomial do exemplo anterior. \n",
    "</div>\n",
    "\n",
    "***\n",
    "\n",
    "O código para ilustrar distribuições normais é similar aos mostrados para as distribuições binomais, mas usando a função `dnorm()` no lugar de `dbinom()`.\n",
    "\n",
    "Para mostrar uma distribuição normal com média de 3 podemos usar:"
   ]
  },
  {
   "cell_type": "code",
   "execution_count": null,
   "metadata": {
    "echo": true
   },
   "outputs": [],
   "source": [
    "valores <- seq(from=-1, to=7, by=0.01)\n",
    "densidades <- dnorm(x=valores, mean=3, sd=1.22)\n",
    "plot(valores, densidades, \n",
    "     xlab=\"valor\", ylab=\"densidade\",\n",
    "     type=\"l\")"
   ]
  },
  {
   "cell_type": "markdown",
   "metadata": {
    "lines_to_next_cell": 0
   },
   "source": [
    "e para média de 4:"
   ]
  },
  {
   "cell_type": "code",
   "execution_count": null,
   "metadata": {
    "echo": true
   },
   "outputs": [],
   "source": [
    "options(repr.plot.width=6, repr.plot.height=5)\n",
    "\n",
    "valores <- seq(from=0, to=8, by=0.01)\n",
    "densidades <- dnorm(x=valores, mean=4, sd=1.22)\n",
    "plot(valores, densidades, \n",
    "     xlab=\"valor\", ylab=\"funcão densidade de probabilidade ou fdp\",\n",
    "     type=\"l\", lty=2)"
   ]
  },
  {
   "cell_type": "markdown",
   "metadata": {},
   "source": [
    "Observamos, novamente, a curva transladada para a direita quando a média aumenta de 3 para 4. O problema estatístico é análogo a distinguir uma moeda balanceada de uma viciada em $2 \\over 3$: saber se duas distribuições com médias numericamente diferentes podem ser tratadas como diversas.\n",
    "\n",
    "A decisão estatística, considerando $H_0: \\mu_A = \\mu_B$, é tomada com base nas distribuições normais padronizadas: é o caso de um teste $z$, e as duas distribuições exemplificadas aqui corresponderiam aproximadamente a:"
   ]
  },
  {
   "cell_type": "code",
   "execution_count": null,
   "metadata": {
    "echo": true
   },
   "outputs": [],
   "source": [
    "options(repr.plot.width=8, repr.plot.height=5)\n",
    "\n",
    "z <- seq(from=-4*1.22, to=4*1.22, by=0.01)\n",
    "H0_z <- dnorm(x=z, mean=0, sd=1)\n",
    "plot(z, H0_z, \n",
    "     xlab=\"z\", ylab=\"fdp\",\n",
    "     type=\"l\")\n",
    "delta <- (4-3)/1.22\n",
    "H1_z <- dnorm(x=z, mean=delta, sd=1)\n",
    "lines(z, H1_z, lty=2)"
   ]
  },
  {
   "cell_type": "markdown",
   "metadata": {},
   "source": [
    "Esta representação ilustra normais padronizadas no intervalo de $\\pm 4~\\text{desvios-padrão}$. A distribuição de referência, que tinha média de 4 (correspondendo a $H_0: \\mu_A = \\mu_B$, linha sólida) foi centrada em zero. A distribuição correspondente à média de 4 ($H_1: \\mu_A \\ne \\mu_B$, linha pontilhada) está a aproximadamente a 0.82 unidades de desvio-padrão acima da média de referência $(\\frac{4-3}{1.22} \\approx 0.8196)$.\n",
    "\n",
    "### a distribuição $t$"
   ]
  },
  {
   "cell_type": "markdown",
   "metadata": {},
   "source": [
    "Para a distribuição $t$ as funções do R são:\n",
    "\n",
    "* dt(x, df, ncp, log = FALSE)\n",
    "* pt(q, df, ncp, lower.tail = TRUE, log.p = FALSE)\n",
    "* qt(p, df, ncp, lower.tail = TRUE, log.p = FALSE)\n",
    "* rt(n, df, ncp)\n",
    "\n",
    "Como as distribuições normais, as funções t são para variáveis quantitativas contínuas. Já são padronizadas e, portanto, não aparece média e desvio-padrão entre seus parâmetros. Em vez disto, aparecem duas novidades:\n",
    "\n",
    "* os graus de liberdade (`df`, degrees of freedom), já discutidos, e \n",
    "* o parâmetro de não centralidade (`ncp`). \n",
    "\n",
    "No caso, _df_ é relacionado com o tamanho da amostra ($df = n-1$), e _ncp_ define a translação da distribuição $t$, representando $H_1$. A curva correspondente a $H_0$ tem <code>ncp = 0</code>. \n",
    "\n",
    "O código similar ao das normais padronizadas pode ser, por exemplo:"
   ]
  },
  {
   "cell_type": "code",
   "execution_count": null,
   "metadata": {
    "echo": true
   },
   "outputs": [],
   "source": [
    "options(repr.plot.width=8, repr.plot.height=5)\n",
    "\n",
    "t <- seq(from=-6, to=6, by=0.01)\n",
    "H0_t <- dt(x=t, df=10-1, ncp=0)\n",
    "plot(t, H0_t, \n",
    "     xlab=\"t\", ylab=\"fdp\",\n",
    "     type=\"l\")\n",
    "H1_t <- dt(x=t, df=10-1, ncp=0.82)\n",
    "lines(t, H1_t, lty=2)"
   ]
  },
  {
   "cell_type": "markdown",
   "metadata": {
    "lines_to_next_cell": 0
   },
   "source": [
    "Algo além da translação ocorreu quando _ncp_ não é zero: observe que a curva pontilhada é ligeiramente mais baixa que a de linha sólida. Mais difícil de perceber é que a curva pontilhada é assimétrica. É mais visível com valor maior de `ncp`:"
   ]
  },
  {
   "cell_type": "code",
   "execution_count": null,
   "metadata": {
    "echo": true
   },
   "outputs": [],
   "source": [
    "options(repr.plot.width=8, repr.plot.height=5)\n",
    "\n",
    "t <- seq(from=-6, to=8, by=0.01)\n",
    "H0_t <- dt(x=t, df=10-1, ncp=0)\n",
    "plot(t, H0_t, \n",
    "     xlab=\"t\", ylab=\"densidade\",\n",
    "     type=\"l\")\n",
    "H1_t <- dt(x=t, df=10-1, ncp=2)\n",
    "lines(t, H1_t, lty=2)"
   ]
  },
  {
   "cell_type": "markdown",
   "metadata": {
    "lines_to_next_cell": 0
   },
   "source": [
    "Na estatística $t$, então, as curvas que representam a hipótese alternativa são transladas mas, também, perdem a simetria. \n",
    "\n",
    "***"
   ]
  },
  {
   "cell_type": "markdown",
   "metadata": {},
   "source": [
    "<img src=\"ps_coruja.png\" alt=\"Drawing\" style=\"width: 75px;float: left;\"/>  \n",
    "<div class=\"alert alert-block alert-success\">\n",
    "O código disponível em [Animacao_t_nao_central.R](Animacao_t_nao_central.R) compara a curva observada sob $H_0$ na animação anterior com diversas curvas representando $H_1$s. Observe, sob $H_1$, assimetria das distribuições, e as áreas correspondentes a $\\beta$ e ao poder do teste ($1 - \\beta$).\n",
    "</div>\n",
    "\n",
    "***"
   ]
  },
  {
   "cell_type": "markdown",
   "metadata": {},
   "source": [
    "# Raciocínio inferencial"
   ]
  },
  {
   "cell_type": "markdown",
   "metadata": {},
   "source": [
    "A análise estatística inferencial é o processo de estimar características de uma população a partir de uma amostra por mio do teste da hipótese nula, \n",
    "usando seus estimadores."
   ]
  },
  {
   "cell_type": "markdown",
   "metadata": {
    "tags": [
     "remove_input"
    ]
   },
   "source": [
    "\n",
    "<center><img src=\"ps_pop_amostra.png\" alt=\"Drawing\" style=\"width: 300px;\"/></center>\n",
    "\n",
    "\n",
    "<center><img src=\"ps_raciocinio_inferencial.png\" alt=\"Drawing\" style=\"width: 800px;\"/></center>"
   ]
  },
  {
   "cell_type": "markdown",
   "metadata": {},
   "source": [
    "***"
   ]
  },
  {
   "cell_type": "markdown",
   "metadata": {},
   "source": [
    "# Métodos Robustos"
   ]
  },
  {
   "cell_type": "markdown",
   "metadata": {
    "lines_to_next_cell": 0,
    "tags": [
     "remove_input"
    ]
   },
   "source": [
    "<center><img src=\"ps_jipe.png\" alt=\"Drawing\" style=\"width: 300px;\"/></center>\n"
   ]
  },
  {
   "cell_type": "markdown",
   "metadata": {},
   "source": [
    "<div align=right><small>https://performancedrive.com.au/icon-land-rover-defender-90-6-2-chev-v8-1606/</small></div>"
   ]
  },
  {
   "cell_type": "markdown",
   "metadata": {},
   "source": [
    "# Teste $t$ para uma condição"
   ]
  },
  {
   "cell_type": "markdown",
   "metadata": {},
   "source": [
    "## - situação"
   ]
  },
  {
   "cell_type": "markdown",
   "metadata": {},
   "source": [
    "Suspeita-se de que um medicamento vasodilatador (Nifedipina) para Hipertensão Arterial, amplamente receitado, esteja aumentando a frequência cardíaca dos pacientes.\n",
    "\n",
    "É sabido que a frequência cardíaca na população normal tem Distribuição Normal com média 70 bpm."
   ]
  },
  {
   "cell_type": "markdown",
   "metadata": {},
   "source": [
    "## - hipóteses (planejamento)"
   ]
  },
  {
   "cell_type": "markdown",
   "metadata": {},
   "source": [
    "Para verificar essa suspeita, planejou-se obter uma amostra aleatória de 50 pacientes que recebem Nifedipina para se medir a frequência cardíaca.\n",
    "\n",
    "$H_0: \\mu_{nifedipina} = \\mu_0$\n",
    "\n",
    "$H_1: \\mu_{nifedipina} > \\mu_0$\n",
    "\n",
    "Adota-se $\\mu_0 = 70~\\text{bpm}$"
   ]
  },
  {
   "cell_type": "markdown",
   "metadata": {
    "lines_to_next_cell": 0
   },
   "source": [
    "***"
   ]
  },
  {
   "cell_type": "markdown",
   "metadata": {},
   "source": [
    "<img src=\"ps_coruja.png\" alt=\"Drawing\" style=\"width: 75px;float: left;\"/>  \n",
    "<div class=\"alert alert-block alert-success\">\n",
    "O teste é unicaudal (só investigamos se há aumento da frequência cardíaca) e a direção é explícita em $H_1$, com o símbolo $>$. É comum encontrar a anotação da hipótese nula com o símbolo complementar ($\\le$ neste exemplo):\n",
    "\n",
    "$H_0: \\mu_{nifedipina} \\le \\mu_0$\n",
    "\n",
    "$H_1: \\mu_{nifedipina} > \\mu_0$\n",
    "\n",
    "Mas optamos por usar o símbolo de igualdade ($=$) porque mais adequadamente espelha o que se espera de $H_0$, a ausência de efeito. Matematicamente, também, é equivalente (GATÁS RR (1978, p. 220-223) Elementos de Probabilidade e Inferência. SP: Atlas.)\n",
    "</div>\n",
    "\n",
    "***"
   ]
  },
  {
   "cell_type": "markdown",
   "metadata": {},
   "source": [
    "## - coleta dos dados"
   ]
  },
  {
   "cell_type": "markdown",
   "metadata": {
    "fig.align": "left",
    "lines_to_next_cell": 0,
    "tags": [
     "remove_input"
    ]
   },
   "source": [
    "<img src=\"ps_pinoquio.png\" alt=\"Drawing\" style=\"width: 75px;float: left;\"/>  "
   ]
  },
  {
   "cell_type": "markdown",
   "metadata": {},
   "source": [
    "A amostra de 50 pacientes forneceu:\n",
    "\n",
    "72, 74, 70, 70, 69, 71, 72, 71, 69, 74, \n",
    "71, 71, 70, 73, 69, 68, 68, 71, 71, 72, \n",
    "70, 69, 73, 69, 71, 70, 72, 73, 70, 72, \n",
    "67, 72, 67, 68, 69, 72, 70, 70, 70, 71, \n",
    "74, 67, 69, 71, 71, 73, 71, 71, 70, 71\n",
    "\n",
    "## - estatística descritiva"
   ]
  },
  {
   "cell_type": "markdown",
   "metadata": {},
   "source": [
    "* Esquema de 5 pontos de Tuckey:"
   ]
  },
  {
   "cell_type": "code",
   "execution_count": null,
   "metadata": {
    "echo": true
   },
   "outputs": [],
   "source": [
    "bpm <- c(72, 74, 70, 70, 69, 71, 72, 71, 69, 74, 71, 71, 70, 73, 69, 68, 68,\n",
    "         71, 71, 72, 70, 69, 73, 69, 71, 70, 72, 73, 70, 72, 67, 72, 67, 68,\n",
    "         69, 72, 70, 70, 70, 71, 74, 67, 69, 71, 71, 73, 71, 71, 70, 71)\n",
    "sumario <- summary(bpm)\n",
    "print(sumario)"
   ]
  },
  {
   "cell_type": "markdown",
   "metadata": {
    "lines_to_next_cell": 0
   },
   "source": [
    "* Histogramas (para ver a seu gosto) sobrepondo-se a função densidade de probabilidade (FDP) estimada pela rotina `density()`,"
   ]
  },
  {
   "cell_type": "code",
   "execution_count": null,
   "metadata": {
    "echo": true
   },
   "outputs": [],
   "source": [
    "options(repr.plot.width=10, repr.plot.height=8) # Dimensão da figura em polegadas ou in (de inch)\n",
    "\n",
    "par(mfrow=c(2,2)) # lay-out de plotagem de 4 gráficos em formato matricial 2 x 2.\n",
    "\n",
    "hist(bpm, prob=TRUE, # Para compatibilizar com a escala da FDP. Nota as somas das áreas do histograma e \n",
    "      main=\"Histograma de probabilidade de distribuição\",                        #  a da FDP é unitária.\n",
    "      xlab=\"Batimentos cardíacos\", ylab=\"Frequência relativa\")\n",
    "lines(density(bpm),col=\"red\",lwd=4) # Este comando sobrepões a FDP sobre o histograma de probabilidade\n",
    "\n",
    "divisoes <- seq(from=min(bpm),to=max(bpm),by=(max(bpm)-min(bpm))/5)\n",
    "hist(bpm, prob=TRUE, breaks=divisoes, \n",
    "     main=\"Histograma de probabilidade de distribuição\", \n",
    "     xlab=\"Batimentos cardíacos\", ylab=\"Frequência relativa\")\n",
    "lines(density(bpm),col=\"red\",lwd=4)\n",
    "\n",
    "divisoes <- seq(from=min(bpm),to=max(bpm),by=(max(bpm)-min(bpm))/8)\n",
    "hist(bpm, prob=TRUE, breaks=divisoes, \n",
    "     main=\"Histograma de probabilidade de distribuição\",\n",
    "     xlab=\"Batimentos cardíacos\", ylab=\"Frequência relativa\")\n",
    "lines(density(bpm),col=\"red\",lwd=4)\n",
    "\n",
    "divisoes <- seq(from=min(bpm),to=max(bpm),by=(max(bpm)-min(bpm))/9)\n",
    "hist(bpm, prob=TRUE, breaks=divisoes, \n",
    "     main=\"Histograma de probabilidade de distribuição\",\n",
    "     xlab=\"Batimentos cardíacos\", ylab=\"Frequência relativa\")\n",
    "lines(density(bpm),col=\"red\",lwd=4)\n",
    "\n",
    "par(mfrow=c(1,1))"
   ]
  },
  {
   "cell_type": "markdown",
   "metadata": {
    "lines_to_next_cell": 0
   },
   "source": [
    "Como pode notar por comparação, os diversos histogramas com diferentes valores de `breaks` e a FDP se equiparam visualmente. Nossa sugestão é que se plote os dois gráficos sobrepostos, histograma e FDP, para ter uma melhor ideia de como os dados estão distribuídos principalmente quando o tamanho da amostra é pequeno.\n",
    "\n",
    "* _Boxplot_ para ver a distribuição dos dados:"
   ]
  },
  {
   "cell_type": "code",
   "execution_count": null,
   "metadata": {
    "echo": true
   },
   "outputs": [],
   "source": [
    "options(repr.plot.width=10, repr.plot.height=5)\n",
    "\n",
    "par(mfrow=c(1,2))\n",
    "\n",
    "boxplot (bpm, \n",
    "      main=\"Dados amostrais\", \n",
    "      ylab=\"Batimentos cardíacos\", xlab=\"\")\n",
    "boxplot (bpm, horizontal = TRUE, \n",
    "      main=\"Dados amostrais\", \n",
    "      xlab=\"Batimentos cardíacos\", ylab=\"\")\n",
    "\n",
    "par(mfrow=c(1,1))"
   ]
  },
  {
   "cell_type": "markdown",
   "metadata": {
    "lines_to_next_cell": 0
   },
   "source": [
    "* _Density plot_ para ver o formato da distribuição dos dados:"
   ]
  },
  {
   "cell_type": "code",
   "execution_count": null,
   "metadata": {
    "echo": true
   },
   "outputs": [],
   "source": [
    "options(repr.plot.width=6, repr.plot.height=5)\n",
    "\n",
    "densprob <- density(bpm)\n",
    "plot (densprob, \n",
    "      main=\"Distribuição dos dados amostrais\", \n",
    "      xlab=\"Batimentos cardíacos\", ylab=\"Densidade\")"
   ]
  },
  {
   "cell_type": "markdown",
   "metadata": {
    "lines_to_next_cell": 0
   },
   "source": [
    "no \"olhômetro\", parece aproximar-se da distribuição normal?"
   ]
  },
  {
   "cell_type": "code",
   "execution_count": null,
   "metadata": {
    "echo": true
   },
   "outputs": [],
   "source": [
    "# dados\n",
    "bpm <- c(72, 74, 70, 70, 69, 71, 72, 71, 69, 74, 71, 71, 70, 73, 69, 68, 68,\n",
    "         71, 71, 72, 70, 69, 73, 69, 71, 70, 72, 73, 70, 72, 67, 72, 67, 68,\n",
    "         69, 72, 70, 70, 70, 71, 74, 67, 69, 71, 71, 73, 71, 71, 70, 71)\n",
    "# density plot\n",
    "densprob <- density(bpm)\n",
    "plot (densprob, \n",
    "      main=\"Distribuição dos dados amostrais\", \n",
    "      xlab=\"Batimentos cardíacos\", ylab=\"Densidade\")\n",
    "# distribuicao com media +- 4 desvios-padrao\n",
    "media_bpm <- mean(bpm, na.rm = TRUE)\n",
    "dp_bpm <- sd(bpm, na.rm = TRUE)\n",
    "x <- seq(media_bpm-4*dp_bpm,media_bpm+4*dp_bpm,by=0.1)\n",
    "distnormal <- dnorm(x, mean=media_bpm, sd=dp_bpm)\n",
    "lines(x, distnormal, lty=2)"
   ]
  },
  {
   "cell_type": "markdown",
   "metadata": {},
   "source": [
    "## - estatística inferencial"
   ]
  },
  {
   "cell_type": "markdown",
   "metadata": {},
   "source": [
    "Para um teste $t$ para uma condição, unilateral à direita (note o uso de \"_greater_\"), é necessário fornecer o valor de referência (<code>mu_pop <- 70</code>) executado com:"
   ]
  },
  {
   "cell_type": "code",
   "execution_count": null,
   "metadata": {
    "echo": true,
    "lines_to_next_cell": 0
   },
   "outputs": [],
   "source": [
    "bpm <- c(72, 74, 70, 70, 69, 71, 72, 71, 69, 74, 71, 71, 70, 73, 69, 68, 68,\n",
    "         71, 71, 72, 70, 69, 73, 69, 71, 70, 72, 73, 70, 72, 67, 72, 67, 68,\n",
    "         69, 72, 70, 70, 70, 71, 74, 67, 69, 71, 71, 73, 71, 71, 70, 71)\n",
    "mu_pop <- 70\n",
    "alfa <- 0.05\n",
    "t_out <- t.test(bpm, mu=mu_pop, \n",
    "                conf.level = 1-alfa, alternative = \"greater\")\n",
    "print (t_out)"
   ]
  },
  {
   "cell_type": "markdown",
   "metadata": {},
   "source": [
    "Para a decisão estatística, observe o valor da estatística do teste, guardada em  **t_out\\$statistic**=`r t_out$statistic` e o valor-$p$ associado em **t_out\\$p.value**=`r t_out$p.value`. \n",
    "\n",
    "Para $\\alpha=0.05$, rejeita-se $H_0$ e, portanto, o uso de nifedipina está associada ao aumento da frequência cardíaca neste estudo.\n",
    "\n",
    "Para $\\alpha=0.01$, não se rejeita $H_0$ e, portanto, não há elementos neste estudo para afirmar-se que o uso de nifedipina está associada ao aumento da frequência cardíaca.\n",
    "\n",
    "**FALTOU escolher $\\alpha$ no planejamento do estudo.**\n",
    "\n",
    "Disponibilizamos o RScript _[Nifedipina.R](Nifedipina.R)_ que reúne os procedimentos acima, gerando alguns resultados e gráficos adicionais.\n",
    "\n",
    "\n",
    "#### `Nifedipina.R`"
   ]
  },
  {
   "cell_type": "code",
   "execution_count": null,
   "metadata": {
    "lines_to_next_cell": 0,
    "tags": [
     "remove_input"
    ]
   },
   "outputs": [],
   "source": [
    "options(repr.plot.width=8, repr.plot.height=6)\n",
    "\n",
    "# Teste t para uma condicao, unilateral a direita\n",
    "\n",
    "# Exemplo:\n",
    "# \n",
    "# Suspeita-se de que um medicamento vasodilatador (Nifedipina)\n",
    "# para Hipertensao Arterial, amplamente receitado, esteja \n",
    "# aumentando a frequencia cardíaca dos pacientes.\n",
    "# \n",
    "# Sabe-se que a frequencia cardiaca na populacao normal \n",
    "# tem Distribuicao Normal com media de 70 bpm.\n",
    "# \n",
    "# Para verificar essa suspeita, planejou-se obter uma \n",
    "# amostra aleatoria de 50 pacientes que recebem Nifedipina\n",
    "# para se medir a frequencia cardiaca.\n",
    "\n",
    "# suppress warnings\n",
    "options(warn=-1)\n",
    "\n",
    "# H0: mu=70 (o valor conhecido da populacao ... 70 bpm)\n",
    "# H1: mu>70 (a suspeita de que ha aumento dos bpm com nifedipina)\n",
    "mu_pop = 70 # media populacional\n",
    "alfa <- 0.05 # nivel de significancia adotado\n",
    "\n",
    "Tabela <- (\"\n",
    "           Paciente   BPM\n",
    "           1          72\n",
    "           2          74\n",
    "           3          70\n",
    "           4          70\n",
    "           5          69\n",
    "           6          71\n",
    "           7          72\n",
    "           8          71\n",
    "           9          69\n",
    "           10         74\n",
    "           11         71\n",
    "           12         71\n",
    "           13         70\n",
    "           14         73\n",
    "           15         69\n",
    "           16         68\n",
    "           17         68\n",
    "           18         71\n",
    "           19         71\n",
    "           20         72\n",
    "           21         70\n",
    "           22         69\n",
    "           23         73\n",
    "           24         69\n",
    "           25         71\n",
    "           26         70\n",
    "           27         72\n",
    "           28         73\n",
    "           29         70\n",
    "           30         72\n",
    "           31         67\n",
    "           32         72\n",
    "           33         67\n",
    "           34         68\n",
    "           35         69\n",
    "           36         72\n",
    "           37         70\n",
    "           38         70\n",
    "           39         70\n",
    "           40         71\n",
    "           41         74\n",
    "           42         67\n",
    "           43         69\n",
    "           44         71\n",
    "           45         71\n",
    "           46         73\n",
    "           47         71\n",
    "           48         71\n",
    "           49         70\n",
    "           50         71\n",
    "\")\n",
    "Nifedipina <- read.table(textConnection(Tabela),header=TRUE)\n",
    "# a coluna paciente nao deve ser tratada como numero\n",
    "Nifedipina$Paciente <- as.factor(Nifedipina$Paciente)\n",
    "\n",
    "# teste t\n",
    "t_out <- t.test(Nifedipina$BPM, mu=mu_pop, \n",
    "                conf.level = 1-alfa, alternative = \"greater\")\n",
    "\n",
    "# Referencial teorico da distribuicao t central e nao-central\n",
    "# Teste t unilateral a direita\n",
    "\n",
    "df <- t_out$parameter # graus de liberdade\n",
    "t <- t_out$statistic # estatistica de teste t observada\n",
    "ncp <- t # ncp = estatistica de teste t\n",
    "# tamanho de efeito d de Cohen\n",
    "dp <- sd(Nifedipina$BPM)\n",
    "m <- t_out$estimate\n",
    "d <- abs((m-mu_pop)/dp)\n",
    "# Sawilowsky, S (2009) New effect size rules of thumb. Journal of Modern Applied Statistical Methods 8(2): 467-74.\n",
    "if (d<0.01) {mag<-c(\"Desprezivel\")} \n",
    "if (d>=0.01 && d<0.2) {mag<-c(\"Muito pequeno\")} \n",
    "if (d>=0.2 && d<0.5) {mag<-c(\"Pequeno\")}\n",
    "if (d>=0.5 && d<0.8) {mag<-c(\"Intermediario\")}\n",
    "if (d>=0.8 && d<1.2) {mag<-c(\"Grande\")}\n",
    "if (d>=1.2 && d<2) {mag<-c(\"Muito grande\")} \n",
    "if (d>=2) {mag<-c(\"Enorme\")}\n",
    "\n",
    "# media e dp das dist. t central e nao-central\n",
    "mediaH0 <- 0\n",
    "dpH0 <- sqrt(df/(df-2))\n",
    "beta <- sqrt(df/2)*gamma((df-1)/2)/gamma(df/2)\n",
    "mediaH1 <- ncp*beta\n",
    "dpH1 <- sqrt((df*(1+ncp^2)/(df-2))-mediaH1^2)\n",
    "\n",
    "# distribuicao t sob H0 (central: ncp = 0)\n",
    "tH0 <- rt(1e6, df)\n",
    "dtH0 <- density(tH0)\n",
    "\n",
    "# distribuicao t sob H1, ncp = t\n",
    "tH1 <- rt(1e6, df, ncp)\n",
    "dtH1 <- density(tH1)\n",
    "\n",
    "# quantil critico (1-alfa)% sob H0 \n",
    "if (t_out$alternative == \"greater\") {\n",
    "  q <- qt(1-alfa, df)\n",
    "  poder <- 1-pt(q,df,ncp)\n",
    "}\n",
    "if (t_out$alternative == \"less\") {\n",
    "  q <- qt(alfa, df) \n",
    "  poder <- pt(q,df,ncp)\n",
    "}\n",
    "\n",
    "for (g in 1:2)\n",
    "{\n",
    "  if (g == 1)\n",
    "  {\n",
    "    plot(dtH0,\n",
    "         main=paste(\"Teste t unilateral a direita\\ndf =\",df,\"t =\",round(t,5),\"alfa =\",alfa),\n",
    "         xlab=\"t\", \n",
    "         xlim=c(min(dtH0$x,dtH1$x),max(dtH0$x,dtH1$x)),\n",
    "         lwd=1, lty=1\n",
    "    )\n",
    "    # area do valor p\n",
    "    abline(v=t,lwd=1,lty=2)\n",
    "    polx <- dtH0$x[dtH0$x>=t]; polx <- c(min(polx),polx,max(polx))\n",
    "    poly <- dtH0$y[dtH0$x>=t]; poly <- c(0,poly,0)\n",
    "    polygon(polx,poly,border=\"#EE802622\",col=\"#EE802688\",lwd=5)\n",
    "    # t critico\n",
    "    abline(v=q, lty = 3)\n",
    "    # legenda\n",
    "    legend (\"topright\",\n",
    "            c(\"H0\",\"t obs.\",\"t crit.\",\"p\"), \n",
    "            lwd=c(1,1,1,10,10),\n",
    "            lty=c(1,2,3,1,1),\n",
    "            pch=NA,\n",
    "            col=c(\"black\",\"black\",\"black\",\"#EE802688\"),\n",
    "            box.lwd=0, bg=\"transparent\")\n",
    "  }\n",
    "  if (g == 2)\n",
    "  {\n",
    "    plot(dtH0,\n",
    "         main=NA,\n",
    "         xlab=\"t\", \n",
    "         xlim=c(min(dtH0$x,dtH1$x),max(dtH0$x,dtH1$x)),\n",
    "         lwd=1, lty=1\n",
    "    )\n",
    "    lines(dtH1,lwd=3,lty=1)\n",
    "    # area alfa\n",
    "    abline(v=q, lty = 3)\n",
    "    polx <- dtH0$x[dtH0$x>=q]; polx <- c(min(polx),polx,max(polx))\n",
    "    poly <- dtH0$y[dtH0$x>=q]; poly <- c(0,poly,0)\n",
    "    polygon(polx,poly,border=\"#a3261b22\",col=\"#a3261b88\",lwd=5)\n",
    "    # area beta\n",
    "    polx <- dtH1$x[dtH1$x<=q]; polx <- c(min(polx),polx,max(polx))\n",
    "    poly <- dtH1$y[dtH1$x<=q]; poly <- c(0,poly,0)\n",
    "    polygon(polx,poly,border=\"#4EB26522\",col=\"#4EB26588\",lwd=8)\n",
    "    # legenda\n",
    "    legend (\"topright\",\n",
    "            c(\"H0\",\"H1\",\"t crit.\",\"alfa\",\"beta\"), \n",
    "            lwd=c(1,3,1,10,10),\n",
    "            lty=c(1,1,3,1,1),\n",
    "            pch=NA,\n",
    "            col=c(\"black\",\"black\",\"black\",\"#a3261b88\",\"#4EB26588\"),\n",
    "            box.lwd=0, bg=\"transparent\")\n",
    "  }\n",
    "}\n",
    "\n",
    "# sumarizando BPM\n",
    "cat(names(Nifedipina)[2],\":\\n\")\n",
    "sumario <- summary(Nifedipina$BPM)\n",
    "print (sumario)\n",
    "cat(\"\\tDesvio-padrao = \",round(dp,2),\"\\n\", sep=\"\")\n",
    "cat(\"\\tTamanho da amostra = \",length(Nifedipina$BPM),\"\\n\")\n",
    "\n",
    "# resultado do t.test\n",
    "print (t_out)\n",
    "\n",
    "cat(\"Referencial teorico:\\n\")\n",
    "cat(\"\\tvalor-p =\",t_out$p.value,\"\\n\")\n",
    "cat(\"\\td de Cohen = \",d,\" (\",mag,\")\",\"\\n\\n\",sep=\"\")\n",
    "cat(\"sob H0: distribuicao t com media = \",mediaH0,\" e d.p. = \",dpH0,\"\\n\",sep=\"\")\n",
    "cat(\"sob H1: distribuicao t com media = \",mediaH1,\" e d.p. = \",dpH1,\"\\n\",sep=\"\")\n",
    "\n",
    "# enable warnings\n",
    "options(warn=0)"
   ]
  },
  {
   "cell_type": "markdown",
   "metadata": {
    "lines_to_next_cell": 0
   },
   "source": [
    "Note que:\n",
    "\n",
    "* o valor $\\beta$ e seu complemento, o poder do teste ($1-\\beta$) nestes gráficos foram computados 'a posteriori' e, portanto, são inadequados para a decisão.\n",
    "* recomenda-se usar o **d de Cohen**, a medida de tamanho de efeito (significância prática), classificado como \"pequeno\" de acordo com:\n",
    "\n",
    "<center><img src=\"ps_tabela_d_de_Cohen.png\" alt=\"Drawing\" style=\"width: 300px;\"/></center>\n",
    "\n",
    "<div align=right><small>Sawilowsky, S (2009) New effect size rules of thumb. \n",
    "Journal of Modern Applied Statistical Methods 8(2): 467-74.</small></div>\n",
    "\n",
    "---\n",
    "<img src=\"ps_coruja.png\" alt=\"Drawing\" style=\"width: 75px;float: left;\"/>  \n",
    "<div class=\"alert alert-block alert-success\">\n",
    "A outra maneira de decidir é utilizar o intervalo de confiança (IC). \n",
    "\n",
    "Note que a função `t.test()` exigiu o parâmetro $\\alpha$ necessário para o cálculo do $IC$. \n",
    "\n",
    "No exemplo, fornecemos $\\alpha=0.05$ e foi computado $IC95 = [70.1594209,\\ Inf]$ (guardado na variável **t_out\\$conf.int**). O limite superior é infinito (`Inf` significa $\\infty$) porque o teste é unilateral. O valor populacional ($\\mu=70~bpm$) está fora do intervalo, levando à rejeição de $H_0$ para este nível de significância alfa.\n",
    "\n",
    "Caso o teste fosse executado com $\\alpha=0.01$ teríamos:\n",
    "</div>"
   ]
  },
  {
   "cell_type": "code",
   "execution_count": null,
   "metadata": {
    "echo": true,
    "lines_to_next_cell": 0
   },
   "outputs": [],
   "source": [
    "bpm <- c(72, 74, 70, 70, 69, 71, 72, 71, 69, 74, 71, 71, 70, 73, 69, 68, 68,\n",
    "         71, 71, 72, 70, 69, 73, 69, 71, 70, 72, 73, 70, 72, 67, 72, 67, 68,\n",
    "         69, 72, 70, 70, 70, 71, 74, 67, 69, 71, 71, 73, 71, 71, 70, 71)\n",
    "mu_pop <- 70\n",
    "alfa <- 0.01\n",
    "t_out <- t.test(bpm, mu=mu_pop, \n",
    "                conf.level = 1-alfa, alternative = \"greater\")\n",
    "print (t_out)"
   ]
  },
  {
   "cell_type": "markdown",
   "metadata": {
    "lines_to_next_cell": 0
   },
   "source": [
    "<div class=\"alert alert-block alert-success\">\n",
    "O valor populacional ($\\mu=70~bpm$) agora está dentro do intervalo, levando à não rejeição de $H_0$.\n",
    "</div>\n",
    "\n",
    "***\n",
    "\n",
    "Alterando-se, no início de _Nifedipina.R_ o valor de alfa:"
   ]
  },
  {
   "cell_type": "code",
   "execution_count": null,
   "metadata": {
    "echo": true,
    "eval": false,
    "lines_to_next_cell": 0
   },
   "outputs": [],
   "source": [
    "alfa <- 0.01 # nivel de significancia adotado"
   ]
  },
  {
   "cell_type": "markdown",
   "metadata": {},
   "source": [
    "a saída altera-se de acordo, mostrando $p>\\alpha$ e a não-rejeição de $H_0$:"
   ]
  },
  {
   "cell_type": "code",
   "execution_count": null,
   "metadata": {
    "scrolled": true,
    "tags": [
     "remove_input"
    ]
   },
   "outputs": [],
   "source": [
    "# Teste t para uma condicao, unilateral a direita\n",
    "\n",
    "# Exemplo:\n",
    "# \n",
    "# Suspeita-se de que um medicamento vasodilatador (Nifedipina)\n",
    "# para Hipertensao Arterial, amplamente receitado, esteja \n",
    "# aumentando a frequencia cardíaca dos pacientes.\n",
    "# \n",
    "# Sabe-se que a frequencia cardiaca na populacao normal \n",
    "# tem Distribuicao Normal com media de 70 bpm.\n",
    "# \n",
    "# Para verificar essa suspeita, planejou-se obter uma \n",
    "# amostra aleatoria de 50 pacientes que recebem Nifedipina\n",
    "# para se medir a frequencia cardiaca.\n",
    "\n",
    "# suppress warnings\n",
    "options(warn=-1)\n",
    "\n",
    "# H0: mu=70 (o valor conhecido da populacao ... 70 bpm)\n",
    "# H1: mu>70 (a suspeita de que ha aumento dos bpm com nifedipina)\n",
    "mu_pop = 70 # media populacional\n",
    "alfa <- 0.01 # nivel de significancia adotado\n",
    "\n",
    "Tabela <- (\"\n",
    "           Paciente   BPM\n",
    "           1          72\n",
    "           2          74\n",
    "           3          70\n",
    "           4          70\n",
    "           5          69\n",
    "           6          71\n",
    "           7          72\n",
    "           8          71\n",
    "           9          69\n",
    "           10         74\n",
    "           11         71\n",
    "           12         71\n",
    "           13         70\n",
    "           14         73\n",
    "           15         69\n",
    "           16         68\n",
    "           17         68\n",
    "           18         71\n",
    "           19         71\n",
    "           20         72\n",
    "           21         70\n",
    "           22         69\n",
    "           23         73\n",
    "           24         69\n",
    "           25         71\n",
    "           26         70\n",
    "           27         72\n",
    "           28         73\n",
    "           29         70\n",
    "           30         72\n",
    "           31         67\n",
    "           32         72\n",
    "           33         67\n",
    "           34         68\n",
    "           35         69\n",
    "           36         72\n",
    "           37         70\n",
    "           38         70\n",
    "           39         70\n",
    "           40         71\n",
    "           41         74\n",
    "           42         67\n",
    "           43         69\n",
    "           44         71\n",
    "           45         71\n",
    "           46         73\n",
    "           47         71\n",
    "           48         71\n",
    "           49         70\n",
    "           50         71\n",
    "\")\n",
    "Nifedipina <- read.table(textConnection(Tabela),header=TRUE)\n",
    "# a coluna paciente nao deve ser tratada como numero\n",
    "Nifedipina$Paciente <- as.factor(Nifedipina$Paciente)\n",
    "\n",
    "# teste t\n",
    "t_out <- t.test(Nifedipina$BPM, mu=mu_pop, \n",
    "                conf.level = 1-alfa, alternative = \"greater\")\n",
    "\n",
    "# Referencial teorico da distribuicao t central e nao-central\n",
    "# Teste t unilateral a direita\n",
    "\n",
    "df <- t_out$parameter # graus de liberdade\n",
    "t <- t_out$statistic # estatistica de teste t observada\n",
    "ncp <- t # ncp = estatistica de teste t\n",
    "# tamanho de efeito d de Cohen\n",
    "dp <- sd(Nifedipina$BPM)\n",
    "m <- t_out$estimate\n",
    "d <- abs((m-mu_pop)/dp)\n",
    "# Sawilowsky, S (2009) New effect size rules of thumb. Journal of Modern Applied Statistical Methods 8(2): 467-74.\n",
    "if (d<0.01) {mag<-c(\"Desprezivel\")} \n",
    "if (d>=0.01 && d<0.2) {mag<-c(\"Muito pequeno\")} \n",
    "if (d>=0.2 && d<0.5) {mag<-c(\"Pequeno\")}\n",
    "if (d>=0.5 && d<0.8) {mag<-c(\"Intermediario\")}\n",
    "if (d>=0.8 && d<1.2) {mag<-c(\"Grande\")}\n",
    "if (d>=1.2 && d<2) {mag<-c(\"Muito grande\")} \n",
    "if (d>=2) {mag<-c(\"Enorme\")}\n",
    "\n",
    "# media e dp das dist. t central e nao-central\n",
    "mediaH0 <- 0\n",
    "dpH0 <- sqrt(df/(df-2))\n",
    "beta <- sqrt(df/2)*gamma((df-1)/2)/gamma(df/2)\n",
    "mediaH1 <- ncp*beta\n",
    "dpH1 <- sqrt((df*(1+ncp^2)/(df-2))-mediaH1^2)\n",
    "\n",
    "# distribuicao t sob H0 (central: ncp = 0)\n",
    "tH0 <- rt(1e6, df)\n",
    "dtH0 <- density(tH0)\n",
    "\n",
    "# distribuicao t sob H1, ncp = t\n",
    "tH1 <- rt(1e6, df, ncp)\n",
    "dtH1 <- density(tH1)\n",
    "\n",
    "# quantil critico (1-alfa)% sob H0 \n",
    "if (t_out$alternative == \"greater\") {\n",
    "  q <- qt(1-alfa, df)\n",
    "  poder <- 1-pt(q,df,ncp)\n",
    "}\n",
    "if (t_out$alternative == \"less\") {\n",
    "  q <- qt(alfa, df) \n",
    "  poder <- pt(q,df,ncp)\n",
    "}\n",
    "\n",
    "for (g in 1:2)\n",
    "{\n",
    "  if (g == 1)\n",
    "  {\n",
    "    plot(dtH0,\n",
    "         main=paste(\"Teste t unilateral a direita\\ndf =\",df,\"t =\",round(t,5),\"alfa =\",alfa),\n",
    "         xlab=\"t\", \n",
    "         xlim=c(min(dtH0$x,dtH1$x),max(dtH0$x,dtH1$x)),\n",
    "         lwd=1, lty=1\n",
    "    )\n",
    "    # area do valor p\n",
    "    abline(v=t,lwd=1,lty=2)\n",
    "    polx <- dtH0$x[dtH0$x>=t]; polx <- c(min(polx),polx,max(polx))\n",
    "    poly <- dtH0$y[dtH0$x>=t]; poly <- c(0,poly,0)\n",
    "    polygon(polx,poly,border=\"#EE802622\",col=\"#EE802688\",lwd=5)\n",
    "    # t critico\n",
    "    abline(v=q, lty = 3)\n",
    "    # legenda\n",
    "    legend (\"topright\",\n",
    "            c(\"H0\",\"t obs.\",\"t crit.\",\"p\"), \n",
    "            lwd=c(1,1,1,10,10),\n",
    "            lty=c(1,2,3,1,1),\n",
    "            pch=NA,\n",
    "            col=c(\"black\",\"black\",\"black\",\"#EE802688\"),\n",
    "            box.lwd=0, bg=\"transparent\")\n",
    "  }\n",
    "  if (g == 2)\n",
    "  {\n",
    "    plot(dtH0,\n",
    "         main=NA,\n",
    "         xlab=\"t\", \n",
    "         xlim=c(min(dtH0$x,dtH1$x),max(dtH0$x,dtH1$x)),\n",
    "         lwd=1, lty=1\n",
    "    )\n",
    "    lines(dtH1,lwd=3,lty=1)\n",
    "    # area alfa\n",
    "    abline(v=q, lty = 3)\n",
    "    polx <- dtH0$x[dtH0$x>=q]; polx <- c(min(polx),polx,max(polx))\n",
    "    poly <- dtH0$y[dtH0$x>=q]; poly <- c(0,poly,0)\n",
    "    polygon(polx,poly,border=\"#a3261b22\",col=\"#a3261b88\",lwd=5)\n",
    "    # area beta\n",
    "    polx <- dtH1$x[dtH1$x<=q]; polx <- c(min(polx),polx,max(polx))\n",
    "    poly <- dtH1$y[dtH1$x<=q]; poly <- c(0,poly,0)\n",
    "    polygon(polx,poly,border=\"#4EB26522\",col=\"#4EB26588\",lwd=8)\n",
    "    # legenda\n",
    "    legend (\"topright\",\n",
    "            c(\"H0\",\"H1\",\"t crit.\",\"alfa\",\"beta\"), \n",
    "            lwd=c(1,3,1,10,10),\n",
    "            lty=c(1,1,3,1,1),\n",
    "            pch=NA,\n",
    "            col=c(\"black\",\"black\",\"black\",\"#a3261b88\",\"#4EB26588\"),\n",
    "            box.lwd=0, bg=\"transparent\")\n",
    "  }\n",
    "}\n",
    "\n",
    "# sumarizando BPM\n",
    "cat(names(Nifedipina)[2],\":\\n\")\n",
    "sumario <- summary(Nifedipina$BPM)\n",
    "print (sumario)\n",
    "cat(\"\\tDesvio-padrao = \",round(dp,2),\"\\n\", sep=\"\")\n",
    "cat(\"\\tTamanho da amostra = \",length(Nifedipina$BPM),\"\\n\")\n",
    "\n",
    "# resultado do t.test\n",
    "print (t_out)\n",
    "\n",
    "cat(\"Referencial teorico:\\n\")\n",
    "cat(\"\\tvalor-p =\",t_out$p.value,\"\\n\")\n",
    "cat(\"\\td de Cohen = \",d,\" (\",mag,\")\",\"\\n\\n\",sep=\"\")\n",
    "cat(\"sob H0: distribuicao t com media = \",mediaH0,\" e d.p. = \",dpH0,\"\\n\",sep=\"\")\n",
    "cat(\"sob H1: distribuicao t com media = \",mediaH1,\" e d.p. = \",dpH1,\"\\n\",sep=\"\")\n",
    "\n",
    "# enable warnings\n",
    "options(warn=0)"
   ]
  },
  {
   "cell_type": "markdown",
   "metadata": {},
   "source": [
    "# Revendo o raciocínio\n",
    "\n",
    "1. Formular a hipótese de interesse.\n",
    "1.  Fixar um nível de significância (alfa).\n",
    "1.  Escolher e executar o teste estatístico apropriado.\n",
    "1.  Decidir sobre $H_0$.\n",
    "\n",
    "$H_0$ é a hipótese nula (sempre abrange a igualdade).\n",
    "$H_1$ é a hipótese alternativa (oposta da $H_0$ ).\n",
    "$H_0$ pode ser não rejeitada ou rejeitada (a rejeição deve ser baseada em evidências obtidas a partir da amostra).\n",
    "\n",
    "A decisão estatística sempre envolve possíveis erros:\n",
    "\n",
    "<center><img src=\"ps_alfabeta.png\" alt=\"Drawing\" style=\"width: 400px;\"/></center>\n",
    "\n",
    "que são: \n",
    "\n",
    "* $\\alpha$, a probabilidade de erro do tipo I, rejeitar $H_0$ quando não há efeito,\n",
    "* $\\beta$, a probabilidade de erro do tipo II, não rejeitar $H_0$ quando há efeito (mas o valor de $\\beta$ precisa ser estabelecido _a priori_ para ter valor no momento da decisão sobre o teste).\n",
    "\n",
    "A decisão sobre o teste depende da comparação entre a probabilidade de se observar uma diferença sob a hipótese nula, dada uma amostra de tamanho $n$ e a probabilidade do erro do tipo I ($\\alpha$) escolhida previamente:\n",
    "\n",
    "* se a probabilidade de que a diferença seja observada ao acaso for “grande” ($p > \\alpha$), não se rejeita $H_0$ (só podemos falar em aceitar $H_0$ se o poder _a priori_ for maior que $90\\%$).\n",
    "* se a probabilidade de que a diferença seja observada ao acaso for “pequena” ($p < \\alpha$), rejeita-se $H_0$."
   ]
  },
  {
   "cell_type": "markdown",
   "metadata": {},
   "source": [
    "# $t$ pareado (duas condições dependentes)\n",
    "\n",
    "Também chamado de teste $t$ relacionado, aplica-se tipicamente às situações em que o mesmo indivíduo (ou a mesma unidade experimental) tem uma variável quantitativa medida em dois momentos ou duas condições experimentais."
   ]
  },
  {
   "cell_type": "markdown",
   "metadata": {
    "tags": [
     "remove_input"
    ]
   },
   "source": [
    "## -situação\n",
    "\n",
    "A pesquisadora Yob está interessada na violência de massa durante as partidas de futebol. Ela pensa que a violência do grupo é resultado dos assentos desconfortáveis do estádio. \n",
    "\n",
    "<div align=right><small>Adaptado de Dancey & Reidy (2011) Estatistica sem matematica para psicologia. 5a edicao. Porto Alegre: Penso.</small></div>\n",
    "\n",
    "\n",
    "<center><img src=\"ps_estadio_assento.png\" alt=\"Drawing\" style=\"width: 400px;\"/></center>"
   ]
  },
  {
   "cell_type": "markdown",
   "metadata": {},
   "source": [
    "## - planejamento\n",
    "\n",
    "Por isso, Yob modifica dois estádios diferentes na Inglaterra. Em um estádio coloca assentos bem apertados e desconfortáveis. No outro, instala assentos confortáveis, com muito espaço para as pernas e entre os assentos adjacentes. \n",
    "\n",
    "A professora organiza uma competição, de modo que um clube jogue metade das partidas em um estádio e a outra metade no outro estádio. Ela prevê que o número de prisões e expulsões será maior no estádio que apresenta os assentos mais desconfortáveis.\n",
    "\n",
    "***\n",
    "\n",
    "* Este é um delineamento entreparticipantes ou intraparticipantes?\n",
    "  **intraparticipantes**\n",
    "* Que tipo de variável a professora Yob mediu: discreta ou contínua?\n",
    "  **discreta**\n",
    "    * Qual é a variável independente (VI)? \n",
    "      **tipo de acomodação nos estádios**\n",
    "    * Qual é a variável dependente (VD)?\n",
    "      **_diferença_ do número de prisões ou expulsões (NPE)**\n",
    "* Este é um teste unilateral ou bilateral?\n",
    "  **unilateral**\n",
    "* Qual é a hipótese nula? \n",
    "  $H_0:$ **a diferença _populacional_ de NPE entre as duas condições é nula.**\n",
    "* Qual  é a hipótese de pesquisa?\n",
    "  $H_1:$ **a diferença _populacional_ de NPE é maior nos estádios desconfortáveis.**\n",
    "* Qual alfa escolhe?\n",
    "  $\\alpha=0.05$\n",
    "\n",
    "***"
   ]
  },
  {
   "cell_type": "markdown",
   "metadata": {},
   "source": [
    "## - coleta dos dados\n",
    "\n",
    "Ela acompanha um grupo de 12 fãs adolescentes agressivos e grosseiros do clube e registra o número de vezes que cada um é preso ou expulso do estádio.\n",
    "\n",
    "Aqui disponibilizamos o _RScript_ _[Violencia_estadios.R](Violencia_estadios.R)_ e destacamos seus principais trechos."
   ]
  },
  {
   "cell_type": "code",
   "execution_count": null,
   "metadata": {
    "tags": [
     "remove_input"
    ]
   },
   "outputs": [],
   "source": [
    "alfa <- 0.05 # nivel de significancia adotado\n",
    "# define os nomes das variaveis para os graficos\n",
    "vi_name <- \"Estadio\"\n",
    "vd_name <- \"Ocorrencias\""
   ]
  },
  {
   "cell_type": "markdown",
   "metadata": {
    "lines_to_next_cell": 0
   },
   "source": [
    "Os dados estão disponíveis na planilha Excel _[Violencia_estadios.xlsx](Violencia_estadios.xlsx)_:"
   ]
  },
  {
   "cell_type": "code",
   "execution_count": null,
   "metadata": {
    "echo": true,
    "lines_to_next_cell": 0
   },
   "outputs": [],
   "source": [
    "library(readxl)\n",
    "Dtfrm <- read_excel(\"Violencia_estadios.xlsx\", sheet = \"dependente\")\n",
    "# diferenca entre as condições experimentais\n",
    "Dtfrm$dif  <-  Dtfrm$Conforto - Dtfrm$Desconforto\n",
    "print(Dtfrm)"
   ]
  },
  {
   "cell_type": "markdown",
   "metadata": {},
   "source": [
    "Abra a planilha para verificar como os dados foram guardados e como aparecem ao serem lidos. Note que _read\\_excel()_ lê a aba \"dependente\" da planilha, na qual cada linha tem as observações de um indivíduo, feitas nas duas condições experimentais.\n",
    "\n",
    "## - estatística descritiva\n",
    "\n",
    "Exibe a estatística descritiva:"
   ]
  },
  {
   "cell_type": "code",
   "execution_count": null,
   "metadata": {
    "echo": true,
    "eval": false,
    "lines_to_next_cell": 0
   },
   "outputs": [],
   "source": [
    "cat(\"\\nEsquema de 5 estatísticas de Tukey & média\\n\")\n",
    "cat(\"\\nTamanho da amostra: \",length(Dtfrm$dif),\"\\n\", sep=\"\")\n",
    "cat(\"\\nNúmero de ocorrências em \",names(Dtfrm)[2],\":\\n\", sep=\"\")\n",
    "sumario <- summary(Dtfrm[[2]], digits = 3)\n",
    "print (sumario)\n",
    "cat(\"\\nNúmero de ocorrências \",names(Dtfrm)[3],\":\\n\", sep=\"\")\n",
    "sumario <- summary(Dtfrm[[3]], digits = 3)\n",
    "print (sumario)\n",
    "cat(\"Diferença do número de ocorrências (\",names(Dtfrm)[3],\" - \",names(Dtfrm)[2],\"):\\n\", sep=\"\")\n",
    "sumario <- summary(Dtfrm$dif, digits = 3)\n",
    "print (sumario)"
   ]
  },
  {
   "cell_type": "code",
   "execution_count": null,
   "metadata": {
    "tags": [
     "remove_input"
    ]
   },
   "outputs": [],
   "source": [
    "cat(\"\\nEsquema de 5 estatísticas de Tukey & média\\n\")\n",
    "cat(\"\\nTamanho da amostra: \",length(Dtfrm$dif),\"\\n\", sep=\"\")\n",
    "cat(\"\\nNúmero de ocorrências em \",names(Dtfrm)[2],\":\\n\", sep=\"\")\n",
    "sumario <- summary(Dtfrm[[2]], digits = 3)\n",
    "print (sumario)\n",
    "cat(\"\\nNúmero de ocorrências \",names(Dtfrm)[3],\":\\n\", sep=\"\")\n",
    "sumario <- summary(Dtfrm[[3]], digits = 3)\n",
    "print (sumario)\n",
    "cat(\"Diferença do número de ocorrências (\",names(Dtfrm)[3],\" - \",names(Dtfrm)[2],\"):\\n\", sep=\"\")\n",
    "sumario <- summary(Dtfrm$dif, digits = 3)\n",
    "print (sumario)"
   ]
  },
  {
   "cell_type": "markdown",
   "metadata": {
    "lines_to_next_cell": 0
   },
   "source": [
    "Gera alguns gráficos para estatística descritiva (abra o código R para ver como os gráficos foram gerados):"
   ]
  },
  {
   "cell_type": "code",
   "execution_count": null,
   "metadata": {
    "tags": [
     "remove_input"
    ]
   },
   "outputs": [],
   "source": [
    "filegrf <- c()\n",
    "filenum <- 0\n",
    "# boxplot de cada conjunto de dados\n",
    "boxplot (unlist(Dtfrm[2]), unlist(Dtfrm[3]), \n",
    "         names= c(names(Dtfrm)[2],names(Dtfrm)[3]),\n",
    "         main=\"Distribuição dos dados\",xlab=vi_name,ylab=vd_name)\n",
    "# boxplot da diferenca  entre os dois conjuntos de dados\n",
    "boxplot (Dtfrm$dif, \n",
    "         main=paste(\"Diferenças de ocorrências\\n(\",\n",
    "                    names(Dtfrm)[3],\"-\",names(Dtfrm)[2],\")\",sep=\"\"),\n",
    "         xlab=\"\", ylab=paste (vd_name,\" (diferenca)\",sep=\"\"))\n",
    "# density plot\n",
    "densidade1 <- density(unlist(Dtfrm[2]))\n",
    "densidade2 <- density(unlist(Dtfrm[3]))\n",
    "plot (densidade1, main=\"Distribuição dos dados\",\n",
    "      xlab=vd_name,ylab=\"Densidade\",\n",
    "      xlim = c(min(densidade1$x,densidade2$x),max(densidade1$x,densidade2$x)),\n",
    "      ylim = c(min(densidade1$y,densidade2$y),max(densidade1$y,densidade2$y))\n",
    "      )\n",
    "lines (densidade2, lty=2)\n",
    "legend (\"topright\",c(names(Dtfrm)[2],names(Dtfrm)[3]),lty=c(1,2))\n",
    "# density plot das diferencas\n",
    "densidade <- density(Dtfrm$dif)\n",
    "plot (densidade, main=\"Distribuição dos dados\",\n",
    "      xlab=paste(vd_name,\" (\",names(Dtfrm)[3],\"-\",names(Dtfrm)[2],\")\",\n",
    "                 sep=\"\"),ylab=\"Densidade\"\n",
    ")"
   ]
  },
  {
   "cell_type": "markdown",
   "metadata": {},
   "source": [
    "## - estatística inferencial\n",
    "\n",
    "Faz testes de estatística inferencial:"
   ]
  },
  {
   "cell_type": "code",
   "execution_count": null,
   "metadata": {
    "echo": true,
    "eval": false,
    "lines_to_next_cell": 0
   },
   "outputs": [],
   "source": [
    "corr_test <- cor.test(Dtfrm$Desconforto,Dtfrm$Conforto)\n",
    "cat(\"\\nCoeficiente de correlacao de Pearson\\n\")\n",
    "print (corr_test)"
   ]
  },
  {
   "cell_type": "markdown",
   "metadata": {},
   "source": [
    "mostrando que os comportamentos do mesmo indivíduo em cada uma das condições experimentais não estão associados. "
   ]
  },
  {
   "cell_type": "code",
   "execution_count": null,
   "metadata": {
    "echo": true,
    "eval": false,
    "lines_to_next_cell": 0
   },
   "outputs": [],
   "source": [
    "cat(\"Analise de significancia estatistica: valor-p\\n\")\n",
    "t_out <- t.test(Dtfrm$dif,mu=0,alternative=\"less\")\n",
    "print(t_out)\n",
    "#``````{r echo=FALSE}\n",
    "cat(\"Analise de significancia estatistica: valor-p\\n\")\n",
    "t_out <- t.test(Dtfrm$dif,mu=0,alternative=\"less\")\n",
    "print(t_out)"
   ]
  },
  {
   "cell_type": "markdown",
   "metadata": {
    "lines_to_next_cell": 0
   },
   "source": [
    "mostrando que há diferença entre as condições experimentais (rejeição de $H_0$, valor-$p < \\alpha$, intervalo de confiança 95% não inclui o valor zero). O teste foi feito com $\\text{Conforto} -\\text{Desconforto}$, encontrando-se números negativos: então NPE é maior em $\\text{Desconforto}$; o número de NPE é significantemente maior nos estádios desconfortáveis.\n",
    "\n",
    "Computa, também, valores para a significância prática:"
   ]
  },
  {
   "cell_type": "code",
   "execution_count": null,
   "metadata": {
    "echo": true,
    "eval": false,
    "lines_to_next_cell": 0
   },
   "outputs": [],
   "source": [
    "F <- t^2\n",
    "df <- t_out$parameter\n",
    "eta2 <- F/(F+df)\n",
    "\n",
    "# Elis P (2010) The essential guide to effect sizes. Cambrige \n",
    "if (eta2 <0.01) {mag_eta2<-c(\"Desprezivel\")} \n",
    "if (eta2>=0.01 && eta2<0.06) {mag_eta2<-c(\"Pequeno\")} \n",
    "if (eta2>=0.06 && eta2<0.14) {mag_eta2<-c(\"Intermediario\")}\n",
    "if (eta2>=0.14) {mag_eta2<-c(\"Grande\")}\n",
    "R2aj <- (F-1)/(F+df)\n",
    "\n",
    "# tamanho de efeito d de Cohen\n",
    "dp <- sd(Dtfrm$dif)\n",
    "m <- t_out$estimate\n",
    "d <- abs(t_out$statistic)/sqrt(t_out$parameter+1)\n",
    "# Sawilowsky, S (2009) New effect size rules of thumb. Journal of Modern Applied Statistical Methods 8(2): 467-74.\n",
    "if (d<0.01) {mag_Cohen<-c(\"Desprezivel\")} \n",
    "if (d>=0.01 && d<0.2) {mag_Cohen<-c(\"Muito pequeno\")} \n",
    "if (d>=0.2 && d<0.5) {mag_Cohen<-c(\"Pequeno\")}\n",
    "if (d>=0.5 && d<0.8) {mag_Cohen<-c(\"Intermediario\")}\n",
    "if (d>=0.8 && d<1.2) {mag_Cohen<-c(\"Grande\")}\n",
    "if (d>=1.2 && d<2) {mag_Cohen<-c(\"Muito grande\")} \n",
    "if (d>=2) {mag_Cohen<-c(\"Enorme\")}\n",
    "\n",
    "cat(\"Analise de significancia pratica: tamanho de efeito\\n\")\n",
    "cat(\"\\td de Cohen = \",d,\" (\",mag_Cohen,\")\",\"\\n\",sep=\"\")\n",
    "cat(\"\\teta^2 = R^2 = \",eta2,\" (\",mag_eta2,\")\\n\",sep=\"\")"
   ]
  },
  {
   "cell_type": "code",
   "execution_count": null,
   "metadata": {
    "tags": [
     "remove_input"
    ]
   },
   "outputs": [],
   "source": [
    "F <- t^2\n",
    "df <- t_out$parameter\n",
    "eta2 <- F/(F+df)\n",
    "\n",
    "# Elis P (2010) The essential guide to effect sizes. Cambrige \n",
    "if (eta2 <0.01) {mag_eta2<-c(\"Desprezivel\")} \n",
    "if (eta2>=0.01 && eta2<0.06) {mag_eta2<-c(\"Pequeno\")} \n",
    "if (eta2>=0.06 && eta2<0.14) {mag_eta2<-c(\"Intermediario\")}\n",
    "if (eta2>=0.14) {mag_eta2<-c(\"Grande\")}\n",
    "R2aj <- (F-1)/(F+df)\n",
    "\n",
    "# tamanho de efeito d de Cohen\n",
    "dp <- sd(Dtfrm$dif)\n",
    "m <- t_out$estimate\n",
    "d <- abs(t_out$statistic)/sqrt(t_out$parameter+1)\n",
    "# Sawilowsky, S (2009) New effect size rules of thumb. Journal of Modern Applied Statistical Methods 8(2): 467-74.\n",
    "if (d<0.01) {mag_Cohen<-c(\"Desprezivel\")} \n",
    "if (d>=0.01 && d<0.2) {mag_Cohen<-c(\"Muito pequeno\")} \n",
    "if (d>=0.2 && d<0.5) {mag_Cohen<-c(\"Pequeno\")}\n",
    "if (d>=0.5 && d<0.8) {mag_Cohen<-c(\"Intermediario\")}\n",
    "if (d>=0.8 && d<1.2) {mag_Cohen<-c(\"Grande\")}\n",
    "if (d>=1.2 && d<2) {mag_Cohen<-c(\"Muito grande\")} \n",
    "if (d>=2) {mag_Cohen<-c(\"Enorme\")}\n",
    "\n",
    "cat(\"Analise de significancia pratica: tamanho de efeito\\n\")\n",
    "cat(\"\\td de Cohen = \",d,\" (\",mag_Cohen,\")\",\"\\n\",sep=\"\")\n",
    "cat(\"\\teta^2 = R^2 = \",eta2,\" (\",mag_eta2,\")\\n\",sep=\"\")"
   ]
  },
  {
   "cell_type": "markdown",
   "metadata": {},
   "source": [
    "A tabela implementada no _RScript_ para a intensidade do efeito calculado por <code>eta^2</code> ($\\eta^2$) é:\n",
    "\n",
    "\n",
    "<center><img src=\"ps_tabela_eta2.png\" alt=\"Drawing\" style=\"width: 600px;\"/></center>\n",
    "\n",
    "<div align=right><small>Elis P (2010) The essential guide to effect sizes. Cambrige </small></div>"
   ]
  },
  {
   "cell_type": "markdown",
   "metadata": {},
   "source": [
    "# teste $t$ para duas condições independentes (teste $t$ de Welch)"
   ]
  },
  {
   "cell_type": "markdown",
   "metadata": {},
   "source": [
    "## - situação\n",
    "\n",
    "<img src=\"ps_snaped.png\" alt=\"Drawing\" style=\"width: 200px;float: left;\"/>\n",
    "\n",
    "<div align=right><small>https://www.fns.usda.gov/snap/supplemental-nutrition-assistance-program-education-snap-ed</small></div>\n",
    "\n",
    "* O SNAP-Ed (Supplemental Nutrition Assistance Program Education) é um programa baseado em evidências que ajuda as pessoas a terem uma vida mais saudável.\n",
    "\n",
    "* O SNAP-Ed ensina às pessoas que usam ou qualificam para o SNAP uma boa nutrição e como fazer com que o seu dinheiro de alimentação se estenda ainda mais.\n",
    "\n",
    "* Os participantes do SNAP-Ed também aprendem a ser fisicamente ativos."
   ]
  },
  {
   "cell_type": "markdown",
   "metadata": {},
   "source": [
    "## - planejamento\n",
    "\n",
    "Brendon Small e Coach McGuirk fazem com que seus alunos do SNAP-Ed mantenham diários do que comem por uma semana e depois calculem a ingestão diária de sódio em miligramas.\n",
    "\n",
    "Desde que as classes receberam diferentes programas de educação nutricional, eles querem ver se a ingestão média de sódio é a mesma para as duas turmas."
   ]
  },
  {
   "cell_type": "markdown",
   "metadata": {},
   "source": [
    "## - coleta dos dados\n",
    "\n",
    "Desenvolvemos  _[Nutricao.R](Nutricao.R)_ para as análises descritiva e inferencial. Abaixo destacamos seus techos principais. Neste _RScript_ aproveitamos funções de alguns pacotes (verifique se estão instalados em seu computador)"
   ]
  },
  {
   "cell_type": "code",
   "execution_count": null,
   "metadata": {
    "echo": true
   },
   "outputs": [],
   "source": [
    "library(readxl)\n",
    "library(car)\n",
    "library(lattice)\n",
    "library(ggplot2)\n",
    "library(rcompanion)"
   ]
  },
  {
   "cell_type": "markdown",
   "metadata": {
    "lines_to_next_cell": 0
   },
   "source": [
    "Os dados estão na planilha _[Nutricao.xlsx](Nutricao.xlsx)_:"
   ]
  },
  {
   "cell_type": "code",
   "execution_count": null,
   "metadata": {
    "echo": true
   },
   "outputs": [],
   "source": [
    "Dtfrm <- read_excel(\"Nutricao.xlsx\")\n",
    "# os instrutores devem ser tratados como fator\n",
    "Dtfrm$Instructor <- as.factor(Dtfrm$Instructor)\n",
    "Dtfrm$Instructor <- factor(Dtfrm$Instructor, levels=unique(Dtfrm$Instructor))\n",
    "print(Dtfrm)"
   ]
  },
  {
   "cell_type": "markdown",
   "metadata": {},
   "source": [
    "## - estatística descritiva"
   ]
  },
  {
   "cell_type": "code",
   "execution_count": null,
   "metadata": {
    "tags": [
     "remove_input"
    ]
   },
   "outputs": [],
   "source": [
    "alfa <- 0.05 # nivel de significancia adotado"
   ]
  },
  {
   "cell_type": "markdown",
   "metadata": {
    "lines_to_next_cell": 0
   },
   "source": [
    "Verificamos se os dados estão coerentes:"
   ]
  },
  {
   "cell_type": "code",
   "execution_count": null,
   "metadata": {
    "echo": true
   },
   "outputs": [],
   "source": [
    "res_sodiumbyinstructor <- summary.data.frame(Dtfrm, digits=2)\n",
    "print (res_sodiumbyinstructor)"
   ]
  },
  {
   "cell_type": "markdown",
   "metadata": {
    "lines_to_next_cell": 0
   },
   "source": [
    "Gráficos sugeridos:\n",
    "\n",
    "* _boxplot_:"
   ]
  },
  {
   "cell_type": "code",
   "execution_count": null,
   "metadata": {
    "echo": true
   },
   "outputs": [],
   "source": [
    "grf <- boxplot(Sodium ~ Instructor, data=Dtfrm, ylab=names(Dtfrm)[3], \n",
    "        xlab=\"Instructor\")"
   ]
  },
  {
   "cell_type": "code",
   "execution_count": null,
   "metadata": {
    "echo": true
   },
   "outputs": [],
   "source": [
    "print(grf)"
   ]
  },
  {
   "cell_type": "markdown",
   "metadata": {
    "lines_to_next_cell": 0
   },
   "source": [
    "* _xyplot()_ do pacote _lattice_:"
   ]
  },
  {
   "cell_type": "code",
   "execution_count": null,
   "metadata": {
    "echo": true
   },
   "outputs": [],
   "source": [
    "grf <- lattice::xyplot(Sodium ~ Instructor, data=Dtfrm, type=c(\"p\",\"a\"), jitter.x=TRUE)\n",
    "print(grf)"
   ]
  },
  {
   "cell_type": "markdown",
   "metadata": {
    "lines_to_next_cell": 0
   },
   "source": [
    "* uma variante de _density plot_ do pacote _car_:"
   ]
  },
  {
   "cell_type": "code",
   "execution_count": null,
   "metadata": {
    "echo": true
   },
   "outputs": [],
   "source": [
    "grf <- car::densityPlot(Sodium~Instructor, data=Dtfrm, rug=TRUE)\n",
    "print(grf)"
   ]
  },
  {
   "cell_type": "markdown",
   "metadata": {
    "lines_to_next_cell": 0
   },
   "source": [
    "* gráfico com médias e intervalos de confiança separados por grupo, combinando recursos dos pacotes _ggplot2_ e _rcompanion_:"
   ]
  },
  {
   "cell_type": "code",
   "execution_count": null,
   "metadata": {
    "echo": true,
    "lines_to_next_cell": 0
   },
   "outputs": [],
   "source": [
    "SumMM <- rcompanion::groupwiseMean(Sodium ~ Instructor,\n",
    "                       data   = Dtfrm,\n",
    "                       conf   = 0.95,\n",
    "                       digits = 3,\n",
    "                       traditional = FALSE,\n",
    "                       percentile  = TRUE)\n",
    "\n",
    "grf <- ggplot2::ggplot(SumMM, ggplot2::aes(x = Instructor, y = Mean)) +\n",
    "  ggplot2::geom_errorbar(ggplot2::aes(ymin = Percentile.lower,\n",
    "                                      ymax = Percentile.upper),\n",
    "                         width = 0.05, size  = 0.5) +\n",
    "  ggplot2::geom_point(shape = 15, \n",
    "                      size  = 4) +\n",
    "  ggplot2::theme_bw() +\n",
    "  ggplot2::theme(axis.title   = ggplot2::element_text(face  = \"bold\")) +\n",
    "  ylab(names(Dtfrm)[3])\n",
    "print(grf)"
   ]
  },
  {
   "cell_type": "markdown",
   "metadata": {
    "lines_to_next_cell": 0
   },
   "source": [
    "***"
   ]
  },
  {
   "cell_type": "markdown",
   "metadata": {
    "fig.align": "left",
    "lines_to_next_cell": 0,
    "tags": [
     "remove_input"
    ]
   },
   "source": [
    "<img src=\"ps_coruja.png\" alt=\"Drawing\" style=\"width: 75px;float: left;\"/>  \n",
    "<div class=\"alert alert-block alert-success\">\n",
    "\n",
    "Repare o que acontece com a linha\n",
    "\n",
    "<code>print(grf)</code>\n",
    "\n",
    "Há gráficos que aparecem quando sua função é chamada, e o que é armazenado na variável **grf** é um objeto com informações sobre o gráfico (e.g., _boxplot()_); em outros gráficos, o que retorna e é armazenado em **grf** é o gráfico propriamente dito (e.g., _lattice::xyplot()_). Sempre que for usar gráficos em seus _RScripts_, precisará testar caso a caso.\n",
    "</div>\n",
    "***\n",
    "\n",
    "## - estatística inferencial"
   ]
  },
  {
   "cell_type": "markdown",
   "metadata": {},
   "source": [
    "Definimos alfa:"
   ]
  },
  {
   "cell_type": "code",
   "execution_count": null,
   "metadata": {
    "echo": true
   },
   "outputs": [],
   "source": [
    "alfa <- 0.05 # nivel de significancia adotado"
   ]
  },
  {
   "cell_type": "markdown",
   "metadata": {},
   "source": [
    "O teste $t$ a ser aplicado é de Satterthwaite (apesar do R exibir como teste de Welch), conforme as seguintes referências:\n",
    "\n",
    "* Manuais do STATA\n",
    "* SATTERTHWAITE, FE (1946) Approximate distribution of estimates of variance components. Biometrics Bulletin, 2(6): 110-114 e\n",
    "* WELCH, BL (1947) The generalization of ‘Student’s’ problem when several different population variances are involved. Biometrika, 34(1/2): 28-35.\n",
    "\n",
    "### significância estatística"
   ]
  },
  {
   "cell_type": "markdown",
   "metadata": {},
   "source": [
    "Para operacionalizar o teste, calculamos:"
   ]
  },
  {
   "cell_type": "code",
   "execution_count": null,
   "metadata": {
    "echo": true
   },
   "outputs": [],
   "source": [
    "# separa os dois instrutores\n",
    "SodiumBS <- subset(Dtfrm,select=Sodium,subset=Instructor==\"Brendon Small\",drop=TRUE)\n",
    "SodiumCM <- subset(Dtfrm,select=Sodium,subset=Instructor==\"Coach McGuirk\",drop=TRUE)\n",
    "# dados da amostra\n",
    "nA <- sum(!is.na(SodiumBS)) \n",
    "nB <- sum(!is.na(SodiumCM))\n",
    "\n",
    "# significancia estatistica\n",
    "t_out <- t.test(Sodium ~ Instructor, data = Dtfrm)\n",
    "\n",
    "# significancia pratica\n",
    "t <- t_out$statistic # estatistica de teste t\n",
    "df <- t_out$parameter # graus de liberdade\n",
    "dfefic <- (df-min(nA,nB))/(nA+nB-2-min(nA,nB))"
   ]
  },
  {
   "cell_type": "markdown",
   "metadata": {
    "lines_to_next_cell": 0
   },
   "source": [
    "exibimos o resultado:"
   ]
  },
  {
   "cell_type": "code",
   "execution_count": null,
   "metadata": {
    "tags": [
     "remove_input"
    ]
   },
   "outputs": [],
   "source": [
    "cat(\"\\nTamanho das amostras: \\n\", sep=\"\")\n",
    "cat (\"\\tBrendon Small: n = \", nA, \"\\n\", sep=\"\") \n",
    "cat (\"\\tCoach McGuirk: n = \", nB, \"\\n\", sep=\"\") \n",
    "\n",
    "cat (\"\\n\")\n",
    "cat(\"Analise de significancia estatistica: valor-p\\n\")\n",
    "cat(\"Teste t de Satterthwaite\\n\")\n",
    "print(t_out)\n",
    "\n",
    "cat(\"Eficiencia do numero de graus de liberdade =\",dfefic,\"\\n\\n\")"
   ]
  },
  {
   "cell_type": "markdown",
   "metadata": {},
   "source": [
    "e construímos os gráficos:"
   ]
  },
  {
   "cell_type": "code",
   "execution_count": null,
   "metadata": {
    "echo": true,
    "lines_to_next_cell": 0
   },
   "outputs": [],
   "source": [
    "# distribuicao t sob H0 (central: ncp = 0)\n",
    "tH0 <- rt(1e6, df)\n",
    "dtH0 <- density(tH0)\n",
    "# distribuicao t sob H1, ncp = t\n",
    "# ncp\n",
    "F <- t^2 # estatistica de teste F de Fisher\n",
    "eta2 <- F/(F+df)\n",
    "f2 <- eta2/(1-eta2) # f de Cohen\n",
    "ncp <- df*f2 # parametro de nao-centralidade: ncp = F\n",
    "tH1 <- rt(1e6, df, ncp)\n",
    "dtH1 <- density(tH1)\n",
    "\n",
    "# media e dp das dist. t central e nao-central\n",
    "mediaH0 <- 0\n",
    "dpH0 <- sqrt(df/(df-2))\n",
    "beta <- sqrt(df/2)*gamma((df-1)/2)/gamma(df/2)\n",
    "mediaH1 <- ncp*beta\n",
    "dpH1 <- sqrt((df*(1+ncp^2)/(df-2))-mediaH1^2)"
   ]
  },
  {
   "cell_type": "code",
   "execution_count": null,
   "metadata": {
    "tags": [
     "remove_input"
    ]
   },
   "outputs": [],
   "source": [
    "cat(\"\\nReferencial teorico:\\n\")\n",
    "cat(\"\\tvalor-p =\",t_out$p.value,\"\\n\")\n",
    "cat(\"sob H0: distribuicao t com media = \",mediaH0,\" e d.p. = \",dpH0,\"\\n\",sep=\"\")\n",
    "cat(\"sob H1: distribuicao t com media = \",mediaH1,\" e d.p. = \",dpH1,\"\\n\",sep=\"\")\n",
    "cat(\"\\n\")"
   ]
  },
  {
   "cell_type": "markdown",
   "metadata": {
    "lines_to_next_cell": 0
   },
   "source": [
    "e construímos os gráficos:"
   ]
  },
  {
   "cell_type": "code",
   "execution_count": null,
   "metadata": {
    "echo": true
   },
   "outputs": [],
   "source": [
    "# graficos\n",
    "for (g in 1:2)\n",
    "{\n",
    "  # limites de x\n",
    "  min_x <- min(mediaH0-3*dpH0, mediaH1-3*dpH1)\n",
    "  max_x <- max(mediaH0+3*dpH0, mediaH1+3*dpH1)\n",
    "  if (g == 1)\n",
    "  {\n",
    "    plot(dtH0,\n",
    "         main=paste(\"Teste t independente\\ndf =\",round(df,3),\", t =\",round(t,5),\", alfa =\",alfa),\n",
    "         xlab=\"t\", \n",
    "         xlim=c(min_x,max_x),\n",
    "         lwd=1, lty=1\n",
    "    )\n",
    "  }\n",
    "  if (g == 2)\n",
    "  {\n",
    "    plot(dtH0,\n",
    "         main=NA,\n",
    "         xlab=\"t\", \n",
    "         xlim=c(min_x,max_x),\n",
    "         lwd=1, lty=1\n",
    "    )\n",
    "  }\n",
    "  qalfa <- qt(c(alfa/2,1-alfa/2),df,0)\n",
    "  abline(v=qalfa[1], lty = 3)\n",
    "  abline(v=qalfa[2], lty = 3)\n",
    "  if (g==1)\n",
    "  {\n",
    "    abline(v=abs(t),lwd=1,lty=2)\n",
    "    abline(v=-abs(t),lwd=1,lty=2)\n",
    "    # area do valor p\n",
    "    polx <- dtH0$x[dtH0$x>=abs(t)]; polx <- c(min(polx),polx,max(polx))\n",
    "    poly <- dtH0$y[dtH0$x>=abs(t)]; poly <- c(0,poly,0)\n",
    "    polygon(polx,poly,border=\"#EE802622\",col=\"#EE802688\",lwd=5)\n",
    "    polx <- dtH0$x[dtH0$x<=-abs(t)]; polx <- c(min(polx),polx,max(polx))\n",
    "    poly <- dtH0$y[dtH0$x<=-abs(t)]; poly <- c(0,poly,0)\n",
    "    polygon(polx,poly,border=\"#EE802622\",col=\"#EE802688\",lwd=5)\n",
    "  }\n",
    "  if (g==2)\n",
    "  {\n",
    "    # H1\n",
    "    lines(dtH1,lwd=3,lty=1)\n",
    "    # area alfa\n",
    "    polx <- dtH0$x[dtH0$x<=qalfa[1]]; polx <- c(min(polx),polx,max(polx))\n",
    "    poly <- dtH0$y[dtH0$x<=qalfa[1]]; poly <- c(0,poly,0)\n",
    "    polygon(polx,poly,border=\"#a3261b22\",col=\"#a3261b88\",lwd=5)\n",
    "    polx <- dtH0$x[dtH0$x>=qalfa[2]]; polx <- c(min(polx),polx,max(polx))\n",
    "    poly <- dtH0$y[dtH0$x>=qalfa[2]]; poly <- c(0,poly,0)\n",
    "    polygon(polx,poly,border=\"#a3261b22\",col=\"#a3261b88\",lwd=5)\n",
    "    # area beta\n",
    "    polx <- dtH1$x[dtH1$x>=qalfa[1] & dtH1$x<=qalfa[2]]; polx <- c(min(polx),polx,max(polx))\n",
    "    poly <- dtH1$y[dtH1$x>=qalfa[1] & dtH1$x<=qalfa[2]]; poly <- c(0,poly,0)\n",
    "    polygon(polx,poly,border=\"#4EB26522\",col=\"#4EB26588\",lwd=8)\n",
    "  }\n",
    "  \n",
    "  # legenda\n",
    "  if (g==1)\n",
    "  {\n",
    "    p_txt <- t_out$p.value;\n",
    "    if (p_txt > 0.001) \n",
    "    {\n",
    "      p_txt <- round(p_txt,4)\n",
    "    } else\n",
    "    {\n",
    "      p_txt <- format(format(p_txt, scientific = TRUE, digits = 4)) \n",
    "    } \n",
    "    legend (\"topright\",\n",
    "            c(\"H0\",\"t obs.\",\"t crit.\",paste(\"p=\",p_txt,sep=\"\")), \n",
    "            lwd=c(1,1,1,10),\n",
    "            lty=c(1,2,3,1),\n",
    "            pch=NA,\n",
    "            col=c(\"black\",\"black\",\"black\",\"#EE802688\"),\n",
    "            box.lwd=0, bg=\"transparent\")\n",
    "  } \n",
    "  if (g==2)\n",
    "  {\n",
    "    legend (\"topright\",\n",
    "            c(\"H0\",\"H1\",\"t crit.\",\"alfa\",\"beta\"), \n",
    "            lwd=c(1,3,1,10,10),\n",
    "            lty=c(1,1,3,1,1),\n",
    "            pch=NA,\n",
    "            col=c(\"black\",\"black\",\"black\",\"#a3261b88\",\"#4EB26588\"),\n",
    "            box.lwd=0, bg=\"transparent\")\n",
    "  } \n",
    "}\n"
   ]
  },
  {
   "cell_type": "markdown",
   "metadata": {
    "lines_to_next_cell": 0
   },
   "source": [
    "Verifique e interprete a saída. Não rejeitamos $H_0$: não há elementos para afirmar que há diferença de resultado, quanto à ingestão de sódio, quando comparamos os dois grupos submetidos a diferentes programas educacionais.\n",
    "\n",
    "***"
   ]
  },
  {
   "cell_type": "markdown",
   "metadata": {
    "lines_to_next_cell": 0
   },
   "source": [
    "\n",
    "<img src=\"ps_coruja.png\" alt=\"Drawing\" style=\"width: 75px;float: left;\"/>  \n",
    "<div class=\"alert alert-block alert-success\">\n",
    "\n",
    "Existe um outro teste $t$ feito por _bootstrapping_ (do package _MKinfer_):\n",
    ",/div>"
   ]
  },
  {
   "cell_type": "code",
   "execution_count": null,
   "metadata": {
    "lines_to_next_cell": 0
   },
   "outputs": [],
   "source": [
    "if (!require(\"MKinfer\")) install.packages(\"MKinfer\",repo=\"https://vps.fmvz.usp.br/CRAN/\")\n",
    "\n",
    "library(MKinfer)\n",
    "t.boot <- MKinfer::boot.t.test(Sodium ~ Instructor, data=Dtfrm, R=10^6)\n",
    "print(t.boot)"
   ]
  },
  {
   "cell_type": "markdown",
   "metadata": {},
   "source": [
    "A novidade são as primeiras linhas. O que aparece após \"Results without bootstrap\" é o teste de Welch visto acima.\n",
    "</td></tr></table>\n",
    "\n",
    "***\n",
    "\n",
    "### significância prática"
   ]
  },
  {
   "cell_type": "markdown",
   "metadata": {},
   "source": [
    "Calculamos os tamanhos de efeito:"
   ]
  },
  {
   "cell_type": "code",
   "execution_count": null,
   "metadata": {
    "echo": true
   },
   "outputs": [],
   "source": [
    "# Elis P (2010) The essential guide to effect sizes. Cambrige \n",
    "if (eta2 <0.01) {mag_eta2<-c(\"Desprezivel\")} \n",
    "if (eta2>=0.01 && eta2<0.06) {mag_eta2<-c(\"Pequeno\")} \n",
    "if (eta2>=0.06 && eta2<0.14) {mag_eta2<-c(\"Intermediario\")}\n",
    "if (eta2>=0.14) {mag_eta2<-c(\"Grande\")}\n",
    "\n",
    "d <- abs(t)/sqrt(1/((1/nA)+(1/nB)))\n",
    "# Sawilowsky, S (2009) New effect size rules of thumb. Journal of Modern Applied Statistical Methods 8(2): 467-74.\n",
    "if (d<0.01) {mag_Cohen<-c(\"Desprezivel\")} \n",
    "if (d>=0.01 && d<0.2) {mag_Cohen<-c(\"Muito pequeno\")} \n",
    "if (d>=0.2 && d<0.5) {mag_Cohen<-c(\"Pequeno\")}\n",
    "if (d>=0.5 && d<0.8) {mag_Cohen<-c(\"Intermediario\")}\n",
    "if (d>=0.8 && d<1.2) {mag_Cohen<-c(\"Grande\")}\n",
    "if (d>=1.2 && d<2) {mag_Cohen<-c(\"Muito grande\")} \n",
    "if (d>=2) {mag_Cohen<-c(\"Enorme\")}\n",
    "g <- d*(1-3/(4*df-1))\n",
    "if (g<0.01) {mag_Hedges<-c(\"Desprezivel\")} \n",
    "if (g>=0.01 && g<0.2) {mag_Hedges<-c(\"Muito pequeno\")} \n",
    "if (g>=0.2 && g<0.5) {mag_Hedges<-c(\"Pequeno\")}\n",
    "if (g>=0.5 && g<0.8) {mag_Hedges<-c(\"Intermediario\")}\n",
    "if (g>=0.8 && g<1.2) {mag_Hedges<-c(\"Grande\")}\n",
    "if (g>=1.2 && g<2) {mag_Hedges<-c(\"Muito grande\")} \n",
    "if (g>=2) {mag_Hedges<-c(\"Enorme\")}\n",
    "\n",
    "# selecao de modelo\n",
    "R2aj <- (F-1)/((F-1)+df+1)\n",
    "omega2 <- (F-1)/((F-1)+df+2)"
   ]
  },
  {
   "cell_type": "markdown",
   "metadata": {
    "lines_to_next_cell": 0
   },
   "source": [
    "e exibimos o resultado:"
   ]
  },
  {
   "cell_type": "code",
   "execution_count": null,
   "metadata": {
    "echo": true,
    "eval": false,
    "lines_to_next_cell": 0
   },
   "outputs": [],
   "source": [
    "cat(\"Analise de significancia pratica: tamanho de efeito\\n\")\n",
    "cat(\"\\td de Cohen = \",d,\" (\",mag_Cohen,\")\",\"\\n\",sep=\"\")\n",
    "cat(\"\\tg de Hedges = \",g,\" (\",mag_Hedges,\")\",\"\\n\",sep=\"\")\n",
    "cat(\"\\teta^2 = R^2 = \",eta2,\" (\",mag_eta2,\")\\n\",sep=\"\")\n",
    "\n",
    "cat(\"\\nSelecao de modelo:\\n\")\n",
    "cat(\"\\tR^2 ajustado =\",R2aj,\"\\n\")\n",
    "cat(\"\\tomega^2 = \", omega2,\"\\n\")"
   ]
  },
  {
   "cell_type": "code",
   "execution_count": null,
   "metadata": {
    "tags": [
     "remove_input"
    ]
   },
   "outputs": [],
   "source": [
    "cat(\"Analise de significancia pratica: tamanho de efeito\\n\")\n",
    "cat(\"\\td de Cohen = \",d,\" (\",mag_Cohen,\")\",\"\\n\",sep=\"\")\n",
    "cat(\"\\tg de Hedges = \",g,\" (\",mag_Hedges,\")\",\"\\n\",sep=\"\")\n",
    "cat(\"\\teta^2 = R^2 = \",eta2,\" (\",mag_eta2,\")\\n\",sep=\"\")\n",
    "\n",
    "cat(\"\\nSelecao de modelo:\\n\")\n",
    "cat(\"\\tR^2 ajustado =\",R2aj,\"\\n\")\n",
    "cat(\"\\tomega^2 = \", omega2,\"\\n\")"
   ]
  },
  {
   "cell_type": "markdown",
   "metadata": {},
   "source": [
    "# Conceitos adicionais\n",
    "\n",
    "## Teste $t$ sem os dados brutos"
   ]
  },
  {
   "cell_type": "markdown",
   "metadata": {},
   "source": [
    "É muito comum, em publicações, que somente tenhamos acesso às medidas-resumo (número de participantes, média, desvio-padrão e correlação). Nestes casos, os _RScripts_ acima não são utilizáveis. \n",
    "\n",
    "Para fazer os testes $t$ de Welch ( independentes) ou testes $t$ relacionados (pareados), quando os dados brutos não estão disponíveis, criamos os seguintes scripts:\n",
    "\n",
    "* [TestetWelchBilateral_SemDadosBrutos.R](TestetWelchBilateral_SemDadosBrutos.R)\n",
    "* [TestetWelchUnilatDir_SemDadosBrutos.R](TestetWelchUnilatDir_SemDadosBrutos.R)\n",
    "* [TestetWelchUnilatEsq_SemDadosBrutos.R](TestetWelchUnilatEsq_SemDadosBrutos.R)\n",
    "* [TestetRelacionadoBilateral_SemDadosBrutos.R](TestetRelacionadoBilateral_SemDadosBrutos.R)\n",
    "* [TestetRelacionadoUnilateralDireita_SemDadosBrutos.R](TestetRelacionadoUnilateralDireita_SemDadosBrutos.R)\n",
    "* [TestetRelacionadoUnilateralEsquerda_SemDadosBrutos.R](TestetRelacionadoUnilateralEsquerda_SemDadosBrutos.R)\n",
    "\n",
    "Estude e aprenda a modificar estes _RScripts_ para seu uso.\n",
    "\n",
    "<img src=\"ps_coruja.png\" alt=\"Drawing\" style=\"width: 75px;float: left;\"/>  \n",
    "<div class=\"alert alert-block alert-success\">\n",
    "Para rodar quaisquer dos scripts acima no ambiente Jupyter basta executar o comando \\textbf{ source(\"nome_do_script.R\")} numa célula do Jupyter Notebook. Para abrir uma célula logo abaixo basta pressionar $<$Esc$>$ e depois  $<$b$>$  (b de \\textbf{b}ellow, da mesma forma pressionando-se  $<$a$>$,  cria-se uma célula above). Neste momento deve surgir logo abaixo uma célula que se inicia com `In [ ]: `, indicando que foi criada uma célula de código, Code, (vide acima na barra de ferramentas),  depois clique com o mouse sobre a célula e transcreva o comando source com o nome de um dos seis scripts acima e pressione  $<$Shift$>$+$<$Enter/Return$>$, ou seja mantenha a tecla $<$Shift$>$ pressionada e depois  $<$Enter/Return$>$. Voilá, você deve visualizar um gráfico de uma das funções densidade de probabilidade, aqui denominada \"Densidade\" por brevidade.\n",
    "</div>"
   ]
  },
  {
   "cell_type": "code",
   "execution_count": null,
   "metadata": {},
   "outputs": [],
   "source": [
    "# Por exemplo, para executar o primeiro script basta digitar e pressionar <Shift>+<Enter/Return>\n",
    "# Para repetir a execução basta também pressionar o comando de teclas acima. Experimente!\n",
    "source(\"TestetWelchBilateral_SemDadosBrutos.R\")"
   ]
  },
  {
   "cell_type": "markdown",
   "metadata": {},
   "source": [
    "## teste $t$ com _bootstrapping_ e tamanho de efeito"
   ]
  },
  {
   "cell_type": "markdown",
   "metadata": {},
   "source": [
    "Um código que incorpora o teste $t$ e um cálculo de d de Cohen (requer o package _lsr_) mais adequado à versão robusta do teste $t$ de Welch é:"
   ]
  },
  {
   "cell_type": "code",
   "execution_count": null,
   "metadata": {
    "echo": true
   },
   "outputs": [],
   "source": [
    "if (!require(\"lsr\")) install.packages(\"lsr\",dep=TRUE, repo=\"https://vps.fmvz.usp.br/CRAN/\")\n",
    "\n",
    "library(readxl)\n",
    "library(MKinfer)\n",
    "library(lsr)\n",
    "\n",
    "Dados <- readxl::read_excel(\"Nutricao.xlsx\")\n",
    "MKinfer::boot.t.test(Sodium ~ Instructor, data=Dados, R=10^6)\n",
    "# d de Cohen para o teste t de Welch\n",
    "d <- lsr::cohensD(Sodium ~ Instructor, data=Dados, method=\"unequal\")\n",
    "# Sawilowsky, S (2009) New effect size rules of thumb. \n",
    "# Journal of Modern Applied Statistical Methods, 8(2): 467-74.\n",
    "if (0 <= d && d < 0.01) {dc <- \"negligible\"}\n",
    "if (0.01 <= d && d < 0.2) {dc <- \"very small\"}\n",
    "if (0.2 <= d && d < 0.5) {dc <- \"small\"}\n",
    "if (0.5 <= d && d < 0.8) {dc <- \"medium\"}\n",
    "if (0.8 <= d && d < 1.2) {dc <- \"large\"}\n",
    "if (1.2 <= d && d < 2) {dc <- \"very large\"}\n",
    "if (2 <= d && d < Inf) {dc <- \"huge\"}\n",
    "cat(\"Cohen's d = \", d, \" (\",dc, \" effect size)\", sep=\"\")"
   ]
  },
  {
   "cell_type": "markdown",
   "metadata": {},
   "source": [
    "## algumas manobras úteis\n",
    "\n",
    "### construção de dois `boxplots`, lado a lado"
   ]
  },
  {
   "cell_type": "markdown",
   "metadata": {},
   "source": [
    "Um exemplo caricato (apenas 4 medidas em cada grupo) é dado por:"
   ]
  },
  {
   "cell_type": "code",
   "execution_count": null,
   "metadata": {
    "echo": true,
    "lines_to_next_cell": 0
   },
   "outputs": [],
   "source": [
    "estatm <- c(176,183,173,191) # estatura de 4 homens\n",
    "estatf <- c(157,152,174,166) # estatura de 4 mulheres\n",
    "# Criando dois boxplot simples\n",
    "boxplot(estatm, main=\"Boxplot de estatura de homens adultos (cm)\", \n",
    "        xlab=\"Masculino\", ylab=\"Estatura\")"
   ]
  },
  {
   "cell_type": "code",
   "execution_count": null,
   "metadata": {
    "echo": true,
    "lines_to_next_cell": 0
   },
   "outputs": [],
   "source": [
    "boxplot(estatf, main=\"Boxplot de estatura de mulheres adultas (cm)\",\n",
    "        xlab=\"Feminino\", ylab=\"Estatura\")"
   ]
  },
  {
   "cell_type": "markdown",
   "metadata": {
    "lines_to_next_cell": 0
   },
   "source": [
    "Para juntar os dois gráficos, uma possibilidade é construir dois vetores de mesmo tamanho, um com os dados e outro que indique o sexo (Masculino ou Feminino):"
   ]
  },
  {
   "cell_type": "code",
   "execution_count": null,
   "metadata": {
    "echo": true
   },
   "outputs": [],
   "source": [
    "estatm <- c(176,183,173,191) \n",
    "estatf <- c(157,152,174,166) \n",
    "estat <- c(estatm,estatf)\n",
    "sexo <- rep(c(\"Masculino\",\"Feminino\"),each=4)\n",
    "boxplot(estat~sexo, main=\"Boxplot de estatura de adultos (cm)\", xlab=\"Sexo\", ylab=\"Estatura (cm)\")"
   ]
  },
  {
   "cell_type": "markdown",
   "metadata": {},
   "source": [
    "### guardar o gráfico para um arquivo\n",
    "\n",
    "Experimente criar um arquivo .png:"
   ]
  },
  {
   "cell_type": "code",
   "execution_count": null,
   "metadata": {
    "echo": true,
    "eval": false,
    "lines_to_next_cell": 0
   },
   "outputs": [],
   "source": [
    "png(\"estatura_homem_mulher.png\")\n",
    "boxplot(estat~sexo, main=\"Boxplot de estatura de adultos (cm)\", xlab=\"Sexo\", ylab=\"Estatura (cm)\")\n",
    "dev.off()"
   ]
  },
  {
   "cell_type": "markdown",
   "metadata": {},
   "source": [
    "A função `png()` tem vários outros parâmetros. Veja a documentação do R (com ?png): especialmente `width` e `height` são fundamentais. Há outros formatos gráficos disponíveis."
   ]
  },
  {
   "cell_type": "markdown",
   "metadata": {},
   "source": [
    "### guardar a saída textual em um arquivo"
   ]
  },
  {
   "cell_type": "markdown",
   "metadata": {},
   "source": [
    "Você pode desviar a saída em tela para um arquivo texto. Experimente a função _sink()_:"
   ]
  },
  {
   "cell_type": "code",
   "execution_count": null,
   "metadata": {
    "echo": true,
    "eval": false
   },
   "outputs": [],
   "source": [
    "sink(\"estatura_homem_mulher.txt\")\n",
    "resumo <- summary(estat)\n",
    "cat (\"Estatura de todos os individuos:\\n\")\n",
    "print (resumo)\n",
    "sink()"
   ]
  },
  {
   "cell_type": "markdown",
   "metadata": {},
   "source": [
    "Precisa ser usada duas vezes: a primeira para abrir o arquivo e a segunda para fechá-lo - _sink()_, sem parâmetros - voltando a exibir as saídas na tela."
   ]
  },
  {
   "cell_type": "markdown",
   "metadata": {},
   "source": [
    "## intervalo de confiança robusto"
   ]
  },
  {
   "cell_type": "markdown",
   "metadata": {},
   "source": [
    "Na linha de métodos robustos é possível estimar o intervalo de confiança 95% por bootstrapping (https://en.wikipedia.org/wiki/Bootstrapping_(statistics)).\n",
    "\n",
    "Por exemplo, para as estaturas dos homens deste exemplo:"
   ]
  },
  {
   "cell_type": "code",
   "execution_count": null,
   "metadata": {
    "echo": true,
    "lines_to_next_cell": 0
   },
   "outputs": [],
   "source": [
    "rm <- replicate(1e4, mean(sample(estatm, replace=TRUE)))\n",
    "plot(density(rm), main=\"Distribuicao das medias amostrais\",\n",
    "     sub=\"(homens)\", xlab=\"Media amostral\", ylab=\"Densidade\")\n",
    "qm <- quantile(rm, probs=c(0.025, 0.975))\n",
    "cat (paste (\"Intervalo de confianca 95% para os homens: [\",qm[1],\", \",qm[2], \"]\\n\",sep=\"\"))"
   ]
  },
  {
   "cell_type": "markdown",
   "metadata": {},
   "source": [
    "A função _replicate(1e4, mean(sample(estatm, replace=TRUE)))_ é uma forma de fazer reamostragem (sample), de uma população hipotética com média (mean) igual à da amostra de estatura dos homens com reposição (replace=TRUE), repetindo (replicate) o processo 10.000 vezes (1e4).\n",
    "\n",
    "O intervalo de confiança de 95% é obtido com a função quantile(), localizando os\n",
    "valores que deixam 2.5% da área sob as caudas esquerda e direita desta distribuição\n",
    "de probabilidades."
   ]
  },
  {
   "cell_type": "markdown",
   "metadata": {},
   "source": [
    "# Sobre os métodos tradicionais"
   ]
  },
  {
   "cell_type": "markdown",
   "metadata": {
    "lines_to_next_cell": 0,
    "tags": [
     "remove_input"
    ]
   },
   "source": [
    "\n",
    "<center><img src=\"ps_modeloT.png\" alt=\"Drawing\" style=\"width: 400px;\"/></center>"
   ]
  },
  {
   "cell_type": "markdown",
   "metadata": {},
   "source": [
    "<div align=right><small>http://unusual-cars.com/wp-content/uploads/2016/01/Ford-Model-T-1908.jpg</small></div>"
   ]
  },
  {
   "cell_type": "markdown",
   "metadata": {},
   "source": [
    "## - o teste $t$ de Student"
   ]
  },
  {
   "cell_type": "markdown",
   "metadata": {
    "echo": true,
    "lines_to_next_cell": 0
   },
   "source": [
    "<center><img src=\"https://upload.wikimedia.org/wikipedia/commons/thumb/4/42/William_Sealy_Gosset.jpg/186px-William_Sealy_Gosset.jpg\" alt=\"Drawing\" style=\"width: 200px;\"/></center>"
   ]
  },
  {
   "cell_type": "markdown",
   "metadata": {},
   "source": [
    "<div align=right><small>https://en.wikipedia.org/wiki/Student%27s_t-test</small></div>\n",
    "\n",
    "Este teste foi inicialmente publicado por em 1908 por William Sealy Gosset sob o pseudônimo de Student, e posteriormente aprimorado por Ronald Fisher, que introduziu os graus de liberdade. \n",
    "\n",
    "Em R, o teste $t$ default é executado com a correção de Satterthwaite (erroneamente exibido como Welch), mas é possível forçar o teste clássico, adicionando o parâmetro _var.equal_:"
   ]
  },
  {
   "cell_type": "code",
   "execution_count": null,
   "metadata": {
    "lines_to_next_cell": 0,
    "tags": [
     "remove_input"
    ]
   },
   "outputs": [],
   "source": [
    "t_student <- t.test(Sodium ~ Instructor, data = Dtfrm, var.equal = TRUE)\n",
    "print (t_student)"
   ]
  },
  {
   "cell_type": "markdown",
   "metadata": {},
   "source": [
    "O que muda são os graus de liberdade, aqui correspondendo a um número inteiro igual ao tamanho da amostra subtraído de duas unidades (uma para cada grupo)."
   ]
  },
  {
   "cell_type": "markdown",
   "metadata": {},
   "source": [
    "## - o (não) uso de testes não-paramétricos"
   ]
  },
  {
   "cell_type": "markdown",
   "metadata": {},
   "source": [
    "Classicamente, havia várias condições para se poder executar o teste $t$. No entanto, em suas versões robustas e com tamanho de amostra suficiente, podemos dispensar os testes prévios de homocedasticidade e normalidade. Quando estas condições não são atendidas, os pesquisadores podem optar pelos métodos equivalentes não paramétricos (e.g., Wilcoxon e Mann-Whitney).\n",
    "\n",
    "Há respaldo na literatura especializada, sugerindo que atualmente esta pode não ser a melhor opção:\n",
    "\n",
    "<center><img src=\"ps_paper_Rasch.png\" alt=\"Drawing\" style=\"width: 600px;\"/></center>\n",
    "\n",
    "***\n",
    "<p>\n",
    "<center><img src=\"ps_paper_Delacre.png\" alt=\"Drawing\" style=\"width: 600px;\"/></center>\n",
    "</p>\n",
    "***\n",
    "\n",
    "<center><img src=\"ps_paper_Munzel.png\" alt=\"Drawing\" style=\"width: 600px;\"/></center>"
   ]
  },
  {
   "cell_type": "markdown",
   "metadata": {},
   "source": []
  }
 ],
 "metadata": {
  "jupytext": {
   "cell_metadata_filter": "fig.align,name,eval,tags,echo,-all",
   "notebook_metadata_filter": "-all",
   "text_representation": {
    "extension": ".Rmd",
    "format_name": "rmarkdown"
   }
  },
  "kernelspec": {
   "display_name": "R3.6.0",
   "language": "R",
   "name": "ir"
  },
  "language_info": {
   "codemirror_mode": "r",
   "file_extension": ".r",
   "mimetype": "text/x-r-source",
   "name": "R",
   "pygments_lexer": "r",
   "version": "3.6.3"
  },
  "latex_envs": {
   "LaTeX_envs_menu_present": true,
   "autoclose": true,
   "autocomplete": true,
   "bibliofile": "biblio.bib",
   "cite_by": "apalike",
   "current_citInitial": 1,
   "eqLabelWithNumbers": true,
   "eqNumInitial": 1,
   "hotkeys": {
    "equation": "Ctrl-E",
    "itemize": "Ctrl-I"
   },
   "labels_anchors": false,
   "latex_user_defs": false,
   "report_style_numbering": false,
   "user_envs_cfg": false
  },
  "varInspector": {
   "cols": {
    "lenName": 16,
    "lenType": 16,
    "lenVar": 40
   },
   "kernels_config": {
    "python": {
     "delete_cmd_postfix": "",
     "delete_cmd_prefix": "del ",
     "library": "var_list.py",
     "varRefreshCmd": "print(var_dic_list())"
    },
    "r": {
     "delete_cmd_postfix": ") ",
     "delete_cmd_prefix": "rm(",
     "library": "var_list.r",
     "varRefreshCmd": "cat(var_dic_list()) "
    }
   },
   "types_to_exclude": [
    "module",
    "function",
    "builtin_function_or_method",
    "instance",
    "_Feature"
   ],
   "window_display": false
  }
 },
 "nbformat": 4,
 "nbformat_minor": 4
}
