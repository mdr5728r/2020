{
 "cells": [
  {
   "cell_type": "code",
   "execution_count": 1,
   "metadata": {},
   "outputs": [],
   "source": [
    "library(readxl)"
   ]
  },
  {
   "cell_type": "code",
   "execution_count": 3,
   "metadata": {},
   "outputs": [],
   "source": [
    "?readxl"
   ]
  },
  {
   "cell_type": "code",
   "execution_count": 7,
   "metadata": {},
   "outputs": [
    {
     "data": {
      "text/html": [
       "<style>\n",
       ".list-inline {list-style: none; margin:0; padding: 0}\n",
       ".list-inline>li {display: inline-block}\n",
       ".list-inline>li:not(:last-child)::after {content: \"\\00b7\"; padding: 0 .5ex}\n",
       "</style>\n",
       "<ol class=list-inline><li>'clippy.xls'</li><li>'clippy.xlsx'</li><li>'datasets.xls'</li><li>'datasets.xlsx'</li><li>'deaths.xls'</li><li>'deaths.xlsx'</li><li>'geometry.xls'</li><li>'geometry.xlsx'</li><li>'type-me.xls'</li><li>'type-me.xlsx'</li></ol>\n"
      ],
      "text/latex": [
       "\\begin{enumerate*}\n",
       "\\item 'clippy.xls'\n",
       "\\item 'clippy.xlsx'\n",
       "\\item 'datasets.xls'\n",
       "\\item 'datasets.xlsx'\n",
       "\\item 'deaths.xls'\n",
       "\\item 'deaths.xlsx'\n",
       "\\item 'geometry.xls'\n",
       "\\item 'geometry.xlsx'\n",
       "\\item 'type-me.xls'\n",
       "\\item 'type-me.xlsx'\n",
       "\\end{enumerate*}\n"
      ],
      "text/markdown": [
       "1. 'clippy.xls'\n",
       "2. 'clippy.xlsx'\n",
       "3. 'datasets.xls'\n",
       "4. 'datasets.xlsx'\n",
       "5. 'deaths.xls'\n",
       "6. 'deaths.xlsx'\n",
       "7. 'geometry.xls'\n",
       "8. 'geometry.xlsx'\n",
       "9. 'type-me.xls'\n",
       "10. 'type-me.xlsx'\n",
       "\n",
       "\n"
      ],
      "text/plain": [
       " [1] \"clippy.xls\"    \"clippy.xlsx\"   \"datasets.xls\"  \"datasets.xlsx\"\n",
       " [5] \"deaths.xls\"    \"deaths.xlsx\"   \"geometry.xls\"  \"geometry.xlsx\"\n",
       " [9] \"type-me.xls\"   \"type-me.xlsx\" "
      ]
     },
     "metadata": {},
     "output_type": "display_data"
    }
   ],
   "source": [
    "readxl_example()"
   ]
  },
  {
   "cell_type": "code",
   "execution_count": null,
   "metadata": {},
   "outputs": [],
   "source": [
    "?read_excel"
   ]
  },
  {
   "cell_type": "code",
   "execution_count": 47,
   "metadata": {},
   "outputs": [],
   "source": [
    "# read in the first worksheet from the workbook myexcel.xlsx\n",
    "# first row contains variable names\n",
    "if (!require(\"xlsx\")) install.packages(\"xlsx\",repo=\"https://vps.fmvz.usp.br/CRAN/\",dep=TRUE)\n",
    "library(xlsx)\n",
    "mydata_A <- read.xlsx(\"anorexigeno.xls\", sheetName=\"Grupo_A\")"
   ]
  },
  {
   "cell_type": "code",
   "execution_count": 48,
   "metadata": {
    "scrolled": true
   },
   "outputs": [
    {
     "data": {
      "text/html": [
       "<table>\n",
       "<caption>A data.frame: 6 × 2</caption>\n",
       "<thead>\n",
       "\t<tr><th></th><th scope=col>Paciente</th><th scope=col>Perda</th></tr>\n",
       "\t<tr><th></th><th scope=col>&lt;dbl&gt;</th><th scope=col>&lt;dbl&gt;</th></tr>\n",
       "</thead>\n",
       "<tbody>\n",
       "\t<tr><th scope=row>1</th><td>1</td><td>0.9</td></tr>\n",
       "\t<tr><th scope=row>2</th><td>2</td><td>1.3</td></tr>\n",
       "\t<tr><th scope=row>3</th><td>3</td><td>1.5</td></tr>\n",
       "\t<tr><th scope=row>4</th><td>4</td><td>2.4</td></tr>\n",
       "\t<tr><th scope=row>5</th><td>5</td><td>2.9</td></tr>\n",
       "\t<tr><th scope=row>6</th><td>6</td><td>3.0</td></tr>\n",
       "</tbody>\n",
       "</table>\n"
      ],
      "text/latex": [
       "A data.frame: 6 × 2\n",
       "\\begin{tabular}{r|ll}\n",
       "  & Paciente & Perda\\\\\n",
       "  & <dbl> & <dbl>\\\\\n",
       "\\hline\n",
       "\t1 & 1 & 0.9\\\\\n",
       "\t2 & 2 & 1.3\\\\\n",
       "\t3 & 3 & 1.5\\\\\n",
       "\t4 & 4 & 2.4\\\\\n",
       "\t5 & 5 & 2.9\\\\\n",
       "\t6 & 6 & 3.0\\\\\n",
       "\\end{tabular}\n"
      ],
      "text/markdown": [
       "\n",
       "A data.frame: 6 × 2\n",
       "\n",
       "| <!--/--> | Paciente &lt;dbl&gt; | Perda &lt;dbl&gt; |\n",
       "|---|---|---|\n",
       "| 1 | 1 | 0.9 |\n",
       "| 2 | 2 | 1.3 |\n",
       "| 3 | 3 | 1.5 |\n",
       "| 4 | 4 | 2.4 |\n",
       "| 5 | 5 | 2.9 |\n",
       "| 6 | 6 | 3.0 |\n",
       "\n"
      ],
      "text/plain": [
       "  Paciente Perda\n",
       "1 1        0.9  \n",
       "2 2        1.3  \n",
       "3 3        1.5  \n",
       "4 4        2.4  \n",
       "5 5        2.9  \n",
       "6 6        3.0  "
      ]
     },
     "metadata": {},
     "output_type": "display_data"
    }
   ],
   "source": [
    "head(mydata_A)"
   ]
  },
  {
   "cell_type": "code",
   "execution_count": 46,
   "metadata": {
    "scrolled": true
   },
   "outputs": [
    {
     "data": {
      "text/html": [
       "<table>\n",
       "<caption>A data.frame: 6 × 2</caption>\n",
       "<thead>\n",
       "\t<tr><th></th><th scope=col>Paciente</th><th scope=col>Perda</th></tr>\n",
       "\t<tr><th></th><th scope=col>&lt;dbl&gt;</th><th scope=col>&lt;dbl&gt;</th></tr>\n",
       "</thead>\n",
       "<tbody>\n",
       "\t<tr><th scope=row>1</th><td> 7</td><td>3.8</td></tr>\n",
       "\t<tr><th scope=row>2</th><td> 8</td><td>4.9</td></tr>\n",
       "\t<tr><th scope=row>3</th><td> 9</td><td>5.9</td></tr>\n",
       "\t<tr><th scope=row>4</th><td>10</td><td>6.6</td></tr>\n",
       "\t<tr><th scope=row>5</th><td>11</td><td>6.7</td></tr>\n",
       "\t<tr><th scope=row>6</th><td>12</td><td>7.1</td></tr>\n",
       "</tbody>\n",
       "</table>\n"
      ],
      "text/latex": [
       "A data.frame: 6 × 2\n",
       "\\begin{tabular}{r|ll}\n",
       "  & Paciente & Perda\\\\\n",
       "  & <dbl> & <dbl>\\\\\n",
       "\\hline\n",
       "\t1 &  7 & 3.8\\\\\n",
       "\t2 &  8 & 4.9\\\\\n",
       "\t3 &  9 & 5.9\\\\\n",
       "\t4 & 10 & 6.6\\\\\n",
       "\t5 & 11 & 6.7\\\\\n",
       "\t6 & 12 & 7.1\\\\\n",
       "\\end{tabular}\n"
      ],
      "text/markdown": [
       "\n",
       "A data.frame: 6 × 2\n",
       "\n",
       "| <!--/--> | Paciente &lt;dbl&gt; | Perda &lt;dbl&gt; |\n",
       "|---|---|---|\n",
       "| 1 |  7 | 3.8 |\n",
       "| 2 |  8 | 4.9 |\n",
       "| 3 |  9 | 5.9 |\n",
       "| 4 | 10 | 6.6 |\n",
       "| 5 | 11 | 6.7 |\n",
       "| 6 | 12 | 7.1 |\n",
       "\n"
      ],
      "text/plain": [
       "  Paciente Perda\n",
       "1  7       3.8  \n",
       "2  8       4.9  \n",
       "3  9       5.9  \n",
       "4 10       6.6  \n",
       "5 11       6.7  \n",
       "6 12       7.1  "
      ]
     },
     "metadata": {},
     "output_type": "display_data"
    }
   ],
   "source": [
    "mydata_B <- read.xlsx(\"anorexigeno.xls\",sheetName=\"Grupo_B\")\n",
    "head(mydata_B)"
   ]
  },
  {
   "cell_type": "code",
   "execution_count": 49,
   "metadata": {},
   "outputs": [],
   "source": [
    "mydata_B$grupo <- \"B\""
   ]
  },
  {
   "cell_type": "code",
   "execution_count": 50,
   "metadata": {},
   "outputs": [],
   "source": [
    "mydata_A$grupo <- \"A\""
   ]
  },
  {
   "cell_type": "code",
   "execution_count": 52,
   "metadata": {},
   "outputs": [],
   "source": [
    "mydata_total <-rbind(mydata_A, mydata_B)"
   ]
  },
  {
   "cell_type": "code",
   "execution_count": 53,
   "metadata": {},
   "outputs": [
    {
     "name": "stdout",
     "output_type": "stream",
     "text": [
      "  Paciente Perda grupo\n",
      "1        1   0.9     A\n",
      "2        2   1.3     A\n",
      "3        3   1.5     A\n",
      "4        4   2.4     A\n",
      "5        5   2.9     A\n",
      "6        6   3.0     A\n"
     ]
    }
   ],
   "source": [
    "print(mydata_)"
   ]
  },
  {
   "cell_type": "code",
   "execution_count": 24,
   "metadata": {},
   "outputs": [],
   "source": [
    "?read.xlsx2"
   ]
  },
  {
   "cell_type": "code",
   "execution_count": 11,
   "metadata": {},
   "outputs": [],
   "source": [
    "df <- read_excel(\"anorexigeno.xls\")"
   ]
  },
  {
   "cell_type": "code",
   "execution_count": 18,
   "metadata": {},
   "outputs": [
    {
     "data": {
      "text/html": [
       "<table>\n",
       "<caption>A tibble: 6 × 2</caption>\n",
       "<thead>\n",
       "\t<tr><th scope=col>Paciente</th><th scope=col>Perda</th></tr>\n",
       "\t<tr><th scope=col>&lt;dbl&gt;</th><th scope=col>&lt;dttm&gt;</th></tr>\n",
       "</thead>\n",
       "<tbody>\n",
       "\t<tr><td>1</td><td>1899-12-31 21:36:00</td></tr>\n",
       "\t<tr><td>2</td><td>1900-01-01 07:12:00</td></tr>\n",
       "\t<tr><td>3</td><td>1900-01-01 12:00:00</td></tr>\n",
       "\t<tr><td>4</td><td>1900-01-02 09:36:00</td></tr>\n",
       "\t<tr><td>5</td><td>1900-01-02 21:36:00</td></tr>\n",
       "\t<tr><td>6</td><td>1900-01-03 00:00:00</td></tr>\n",
       "</tbody>\n",
       "</table>\n"
      ],
      "text/latex": [
       "A tibble: 6 × 2\n",
       "\\begin{tabular}{ll}\n",
       " Paciente & Perda\\\\\n",
       " <dbl> & <dttm>\\\\\n",
       "\\hline\n",
       "\t 1 & 1899-12-31 21:36:00\\\\\n",
       "\t 2 & 1900-01-01 07:12:00\\\\\n",
       "\t 3 & 1900-01-01 12:00:00\\\\\n",
       "\t 4 & 1900-01-02 09:36:00\\\\\n",
       "\t 5 & 1900-01-02 21:36:00\\\\\n",
       "\t 6 & 1900-01-03 00:00:00\\\\\n",
       "\\end{tabular}\n"
      ],
      "text/markdown": [
       "\n",
       "A tibble: 6 × 2\n",
       "\n",
       "| Paciente &lt;dbl&gt; | Perda &lt;dttm&gt; |\n",
       "|---|---|\n",
       "| 1 | 1899-12-31 21:36:00 |\n",
       "| 2 | 1900-01-01 07:12:00 |\n",
       "| 3 | 1900-01-01 12:00:00 |\n",
       "| 4 | 1900-01-02 09:36:00 |\n",
       "| 5 | 1900-01-02 21:36:00 |\n",
       "| 6 | 1900-01-03 00:00:00 |\n",
       "\n"
      ],
      "text/plain": [
       "  Paciente Perda              \n",
       "1 1        1899-12-31 21:36:00\n",
       "2 2        1900-01-01 07:12:00\n",
       "3 3        1900-01-01 12:00:00\n",
       "4 4        1900-01-02 09:36:00\n",
       "5 5        1900-01-02 21:36:00\n",
       "6 6        1900-01-03 00:00:00"
      ]
     },
     "metadata": {},
     "output_type": "display_data"
    }
   ],
   "source": [
    "head(df)"
   ]
  },
  {
   "cell_type": "code",
   "execution_count": 13,
   "metadata": {},
   "outputs": [],
   "source": [
    "df_A <- read_excel(\"anorexigeno.xls\",sheet=\"Grupo_A\")"
   ]
  },
  {
   "cell_type": "code",
   "execution_count": 14,
   "metadata": {},
   "outputs": [
    {
     "data": {
      "text/html": [
       "<table>\n",
       "<caption>A tibble: 6 × 2</caption>\n",
       "<thead>\n",
       "\t<tr><th scope=col>Paciente</th><th scope=col>Perda</th></tr>\n",
       "\t<tr><th scope=col>&lt;dbl&gt;</th><th scope=col>&lt;dttm&gt;</th></tr>\n",
       "</thead>\n",
       "<tbody>\n",
       "\t<tr><td>1</td><td>1899-12-31 21:36:00</td></tr>\n",
       "\t<tr><td>2</td><td>1900-01-01 07:12:00</td></tr>\n",
       "\t<tr><td>3</td><td>1900-01-01 12:00:00</td></tr>\n",
       "\t<tr><td>4</td><td>1900-01-02 09:36:00</td></tr>\n",
       "\t<tr><td>5</td><td>1900-01-02 21:36:00</td></tr>\n",
       "\t<tr><td>6</td><td>1900-01-03 00:00:00</td></tr>\n",
       "</tbody>\n",
       "</table>\n"
      ],
      "text/latex": [
       "A tibble: 6 × 2\n",
       "\\begin{tabular}{ll}\n",
       " Paciente & Perda\\\\\n",
       " <dbl> & <dttm>\\\\\n",
       "\\hline\n",
       "\t 1 & 1899-12-31 21:36:00\\\\\n",
       "\t 2 & 1900-01-01 07:12:00\\\\\n",
       "\t 3 & 1900-01-01 12:00:00\\\\\n",
       "\t 4 & 1900-01-02 09:36:00\\\\\n",
       "\t 5 & 1900-01-02 21:36:00\\\\\n",
       "\t 6 & 1900-01-03 00:00:00\\\\\n",
       "\\end{tabular}\n"
      ],
      "text/markdown": [
       "\n",
       "A tibble: 6 × 2\n",
       "\n",
       "| Paciente &lt;dbl&gt; | Perda &lt;dttm&gt; |\n",
       "|---|---|\n",
       "| 1 | 1899-12-31 21:36:00 |\n",
       "| 2 | 1900-01-01 07:12:00 |\n",
       "| 3 | 1900-01-01 12:00:00 |\n",
       "| 4 | 1900-01-02 09:36:00 |\n",
       "| 5 | 1900-01-02 21:36:00 |\n",
       "| 6 | 1900-01-03 00:00:00 |\n",
       "\n"
      ],
      "text/plain": [
       "  Paciente Perda              \n",
       "1 1        1899-12-31 21:36:00\n",
       "2 2        1900-01-01 07:12:00\n",
       "3 3        1900-01-01 12:00:00\n",
       "4 4        1900-01-02 09:36:00\n",
       "5 5        1900-01-02 21:36:00\n",
       "6 6        1900-01-03 00:00:00"
      ]
     },
     "metadata": {},
     "output_type": "display_data"
    }
   ],
   "source": [
    "df_A"
   ]
  },
  {
   "cell_type": "code",
   "execution_count": 15,
   "metadata": {},
   "outputs": [],
   "source": [
    "df_B <- read_excel(\"anorexigeno.xls\",sheet=\"Grupo_B\")"
   ]
  },
  {
   "cell_type": "code",
   "execution_count": 16,
   "metadata": {},
   "outputs": [
    {
     "data": {
      "text/html": [
       "<table>\n",
       "<caption>A tibble: 7 × 2</caption>\n",
       "<thead>\n",
       "\t<tr><th scope=col>Paciente</th><th scope=col>Perda</th></tr>\n",
       "\t<tr><th scope=col>&lt;dbl&gt;</th><th scope=col>&lt;dttm&gt;</th></tr>\n",
       "</thead>\n",
       "<tbody>\n",
       "\t<tr><td> 7</td><td>1900-01-03 19:12:00</td></tr>\n",
       "\t<tr><td> 8</td><td>1900-01-04 21:36:00</td></tr>\n",
       "\t<tr><td> 9</td><td>1900-01-05 21:36:00</td></tr>\n",
       "\t<tr><td>10</td><td>1900-01-06 14:24:00</td></tr>\n",
       "\t<tr><td>11</td><td>1900-01-06 16:48:00</td></tr>\n",
       "\t<tr><td>12</td><td>1900-01-07 02:24:00</td></tr>\n",
       "\t<tr><td>13</td><td>1900-01-07 00:00:00</td></tr>\n",
       "</tbody>\n",
       "</table>\n"
      ],
      "text/latex": [
       "A tibble: 7 × 2\n",
       "\\begin{tabular}{ll}\n",
       " Paciente & Perda\\\\\n",
       " <dbl> & <dttm>\\\\\n",
       "\\hline\n",
       "\t  7 & 1900-01-03 19:12:00\\\\\n",
       "\t  8 & 1900-01-04 21:36:00\\\\\n",
       "\t  9 & 1900-01-05 21:36:00\\\\\n",
       "\t 10 & 1900-01-06 14:24:00\\\\\n",
       "\t 11 & 1900-01-06 16:48:00\\\\\n",
       "\t 12 & 1900-01-07 02:24:00\\\\\n",
       "\t 13 & 1900-01-07 00:00:00\\\\\n",
       "\\end{tabular}\n"
      ],
      "text/markdown": [
       "\n",
       "A tibble: 7 × 2\n",
       "\n",
       "| Paciente &lt;dbl&gt; | Perda &lt;dttm&gt; |\n",
       "|---|---|\n",
       "|  7 | 1900-01-03 19:12:00 |\n",
       "|  8 | 1900-01-04 21:36:00 |\n",
       "|  9 | 1900-01-05 21:36:00 |\n",
       "| 10 | 1900-01-06 14:24:00 |\n",
       "| 11 | 1900-01-06 16:48:00 |\n",
       "| 12 | 1900-01-07 02:24:00 |\n",
       "| 13 | 1900-01-07 00:00:00 |\n",
       "\n"
      ],
      "text/plain": [
       "  Paciente Perda              \n",
       "1  7       1900-01-03 19:12:00\n",
       "2  8       1900-01-04 21:36:00\n",
       "3  9       1900-01-05 21:36:00\n",
       "4 10       1900-01-06 14:24:00\n",
       "5 11       1900-01-06 16:48:00\n",
       "6 12       1900-01-07 02:24:00\n",
       "7 13       1900-01-07 00:00:00"
      ]
     },
     "metadata": {},
     "output_type": "display_data"
    }
   ],
   "source": [
    "df_B"
   ]
  },
  {
   "cell_type": "code",
   "execution_count": null,
   "metadata": {},
   "outputs": [],
   "source": []
  }
 ],
 "metadata": {
  "kernelspec": {
   "display_name": "R3.6.0",
   "language": "R",
   "name": "ir"
  },
  "language_info": {
   "codemirror_mode": "r",
   "file_extension": ".r",
   "mimetype": "text/x-r-source",
   "name": "R",
   "pygments_lexer": "r",
   "version": "3.6.3"
  },
  "latex_envs": {
   "LaTeX_envs_menu_present": true,
   "autoclose": true,
   "autocomplete": true,
   "bibliofile": "biblio.bib",
   "cite_by": "apalike",
   "current_citInitial": 1,
   "eqLabelWithNumbers": true,
   "eqNumInitial": 1,
   "hotkeys": {
    "equation": "Ctrl-E",
    "itemize": "Ctrl-I"
   },
   "labels_anchors": false,
   "latex_user_defs": false,
   "report_style_numbering": false,
   "user_envs_cfg": false
  },
  "toc": {
   "base_numbering": 1,
   "nav_menu": {},
   "number_sections": false,
   "sideBar": false,
   "skip_h1_title": true,
   "title_cell": "Tabela de conteúdos",
   "title_sidebar": "Conteúdo",
   "toc_cell": false,
   "toc_position": {
    "height": "47.2585px",
    "left": "1033px",
    "top": "124.426px",
    "width": "165.17px"
   },
   "toc_section_display": false,
   "toc_window_display": true
  },
  "varInspector": {
   "cols": {
    "lenName": 16,
    "lenType": 16,
    "lenVar": 40
   },
   "kernels_config": {
    "python": {
     "delete_cmd_postfix": "",
     "delete_cmd_prefix": "del ",
     "library": "var_list.py",
     "varRefreshCmd": "print(var_dic_list())"
    },
    "r": {
     "delete_cmd_postfix": ") ",
     "delete_cmd_prefix": "rm(",
     "library": "var_list.r",
     "varRefreshCmd": "cat(var_dic_list()) "
    }
   },
   "position": {
    "height": "288.068px",
    "left": "771.008px",
    "right": "20px",
    "top": "41px",
    "width": "420.511px"
   },
   "types_to_exclude": [
    "module",
    "function",
    "builtin_function_or_method",
    "instance",
    "_Feature"
   ],
   "window_display": true
  }
 },
 "nbformat": 4,
 "nbformat_minor": 4
}
