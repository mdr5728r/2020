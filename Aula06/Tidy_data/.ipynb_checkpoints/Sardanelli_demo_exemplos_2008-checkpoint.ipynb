{
 "cells": [
  {
   "cell_type": "markdown",
   "metadata": {
    "slideshow": {
     "slide_type": "slide"
    }
   },
   "source": [
    "# IMPORTANDO ARQUIVOS DE DADOS"
   ]
  },
  {
   "cell_type": "markdown",
   "metadata": {
    "slideshow": {
     "slide_type": "slide"
    }
   },
   "source": [
    "## Exemplo 4.1 de Sardanelli & Di Leo (2008)"
   ]
  },
  {
   "cell_type": "markdown",
   "metadata": {},
   "source": [
    "> **Example 4.1.** Measuring myocardial delayed enhancement in cardiac MR imaging. Let us suppose we want to evaluate the difference in delayed enhancement of the myocardium provided by **two contrast agents (CAs)**. A sample of 50 post-ischemic patients undergo a cardiac MR with inversion recovery turbo- gradient-echo sequence ten minutes after the injection of 0.1 mmol/kg of CA 1. The signal intensity (SI), expressed in arbitrary units (a.u.), is measured in a region of interest placed in the infarcted myocardium. A second sample made up of another 50 post-ischemic patients is studied with the same technique but using 0.1 mmol/kg of CA 2. Data are summarized in Tables 4.2 and 4.3."
   ]
  },
  {
   "cell_type": "markdown",
   "metadata": {},
   "source": [
    "### Resultados com CA1"
   ]
  },
  {
   "cell_type": "markdown",
   "metadata": {},
   "source": [
    "<p align=\"center\">\n",
    "    <center><img src=\"./image/Table_4_2.png\" alt=\"drawing\" width=\"500\"/></center>\n",
    "</p>"
   ]
  },
  {
   "cell_type": "markdown",
   "metadata": {
    "slideshow": {
     "slide_type": "subslide"
    }
   },
   "source": [
    "### Resultados com CA2"
   ]
  },
  {
   "cell_type": "markdown",
   "metadata": {},
   "source": [
    "<p align=\"center\">\n",
    "    <center><img src=\"./image/Table_4_3.png\" alt=\"drawing\" width=\"500\"/></center>\n",
    "</p>"
   ]
  },
  {
   "cell_type": "markdown",
   "metadata": {},
   "source": [
    "## Arquivos e Diretórios/Pastas no R\n",
    "\n",
    "Em ambiente R e no Jupyter Notebook, todos os arquivos serão lidos e salvos no diretório ativo, a menos que se especifique o contrário. Logo, a primeira coisa que você precisa se preocupar é como obter e configurar seu **diretório de trabalho**.\n",
    "```{R}\n",
    "# Para obter o diretório de trabalho corrente, execute:\n",
    "getwd ()\n",
    " \n",
    "#Configure o diretório de trabalho:\n",
    "setwd (\"C:/Documents and Settings/Aula06\")\n",
    "````\n",
    "\n",
    "### Diretório de Trabalho\n",
    "Os códigos ou comandos executados a seguir assumirão que os arquivos de dados estão localizados num diretório relativo ao **diretório de trabalho R do Jupyter Notebook**. O diretório atual pode ser verificado com a função getwd. Assim no meu caso:"
   ]
  },
  {
   "cell_type": "code",
   "execution_count": null,
   "metadata": {},
   "outputs": [],
   "source": [
    "getwd()               # get current working directory"
   ]
  },
  {
   "cell_type": "markdown",
   "metadata": {},
   "source": [
    "Poderá selecionar diferentes diretórios de trabalho com a função `setwd()`, evitando-se assim a necessidade de especificar o caminho completo para arquivos de dados para leitura e gravação. Neste exemplo criou-se um diretório \"Sardanelli\" no caminho obtido por getwd(). Vamos verificar isso por meio da função `list.files()`:"
   ]
  },
  {
   "cell_type": "code",
   "execution_count": null,
   "metadata": {},
   "outputs": [],
   "source": [
    "list.files()"
   ]
  },
  {
   "cell_type": "markdown",
   "metadata": {},
   "source": [
    "Pronto, podemos verificar que há um arquivo ou diretório denominado **Sardanelli**."
   ]
  },
  {
   "cell_type": "code",
   "execution_count": null,
   "metadata": {},
   "outputs": [],
   "source": [
    "dir.exists(\"Sardanelli\")  # Vamos testar se Sardanelli existe como um diretório ou não."
   ]
  },
  {
   "cell_type": "code",
   "execution_count": null,
   "metadata": {},
   "outputs": [],
   "source": [
    "# Verifica-se neste caso que Sardanelli é um diretório. Assim teremos sucesso em executar o seguinte comando\n",
    "setwd(\"Sardanelli\")   # set working directory para o subdiretório ./Sardanelli"
   ]
  },
  {
   "cell_type": "code",
   "execution_count": null,
   "metadata": {},
   "outputs": [],
   "source": [
    "getwd()"
   ]
  },
  {
   "cell_type": "code",
   "execution_count": null,
   "metadata": {},
   "outputs": [],
   "source": [
    "setwd(\"../\")\n",
    "getwd()"
   ]
  },
  {
   "cell_type": "markdown",
   "metadata": {},
   "source": [
    "Como pode ser verificado por meio de **`getwd()`**, o diretório corrente foi configurado para o subdiretório `./Aula06/Tidying_data/Sardanelli`. \n",
    "Note que a barra normal (/) deve ser usada no abiente R como separador de diretórios, mesmo na plataforma Windows, ao invés da barra invertida (\\).\n",
    "Por exemplo\n",
    "`> setwd(\"C:/Users/usuario/Documents\")`\n",
    "\n",
    "\n",
    "### Listando os arquivos e as pastas no diretório\n",
    "\n",
    "```{R}\n",
    "#lista arquivos no diretório de trabalho\n",
    "list.files()\n",
    " \n",
    "#lista arquivos in a specific folder\n",
    "list.files (path = \"C:/Folder/Subfolder1/Subfolder2\")\n",
    " \n",
    "#lista arquivos no diretório escolhido, choose.dir() funciona somente no Windows\n",
    "list.files(path = choose.dir())\n",
    " \n",
    "#lista de subdiretórios e arquivos dentro dos subdiretórios recursivamente\n",
    "list.files(recursive = TRUE)\n",
    " \n",
    "#obtém o nome completo (caminho e nome de arquivos) de cada arquivo\n",
    "list.files(full.name = TRUE)\n",
    "```\n",
    "\n",
    "#### Se a lista obtida for muito longa,  poderá filtrar os resultados usando o argumento padrão da função `list.files()`\n",
    "\n",
    "```{R}\n",
    "#lista todos os arquivos que contêm a palavra \"anorex\"\n",
    "list.files(pattern = \"anorex\")\n",
    " \n",
    "#lista arquivos que termina com a palavra \"csv\"\n",
    "list.files (pattern = \"csv$\")\n",
    " \n",
    "#lista arquivos que começam com a palavra \"anorex\" seguida por quaisquer characteres e finalizado com \"xlsx\":\n",
    "list.files(pattern = \"^anorex(.*)xlsx$\")\n",
    "```"
   ]
  },
  {
   "cell_type": "code",
   "execution_count": null,
   "metadata": {},
   "outputs": [],
   "source": [
    "list.files()"
   ]
  },
  {
   "cell_type": "markdown",
   "metadata": {},
   "source": [
    "#### Expressões regulares\n",
    "> Se ficou curioso o que são os símbolos \"^\", \"$\\bullet $\", \"$\\ast$\", \"**$**\" nos comandos acima, bem estes são chamados **metacaracteres em expressões regulares**. Se você quiser saber mais sobre expressões regulares, consultem estas duas fontes: [Cheat Sheet de \"Expressões Regulares\"](https://rstudio.com/wp-content/uploads/2016/09/RegExCheatsheet.pdf) ou [\"Expressões Regulares\" que um programador R deve saber](https://www.r-bloggers.com/regular-expressions-every-r-programmer-should-know/)."
   ]
  },
  {
   "cell_type": "code",
   "execution_count": null,
   "metadata": {},
   "outputs": [],
   "source": [
    "#setwd(\"./Aula06/Tidying_data\")\n",
    "getwd()\n",
    "list.files(pattern = \"^anorex(.*)xls$\")"
   ]
  },
  {
   "cell_type": "markdown",
   "metadata": {},
   "source": [
    "Checking if a file or folder exists\n",
    "\n",
    "#Check if the file \"raw data.csv\" exists in the working directory\n",
    "file.exists(\"filename.extension\")\n",
    " \n",
    "#Check if the folder \"Data\" exists in the current directory, if not creates it\n",
    "ifelse(!dir.exists(\"Data\"), dir.create(\"Data\"), \"Folder exists already\")"
   ]
  },
  {
   "cell_type": "markdown",
   "metadata": {},
   "source": [
    "## Importando dados para Data.Frame"
   ]
  },
  {
   "cell_type": "markdown",
   "metadata": {},
   "source": [
    "[Tutorial genérico para importação de dados em R](http://www.r-tutor.com/r-introduction/data-frame/data-import)\n",
    "\n",
    "### Arquivos textos separador = espaço com cabeçalho"
   ]
  },
  {
   "cell_type": "code",
   "execution_count": null,
   "metadata": {},
   "outputs": [],
   "source": [
    "si_ca1 = read.table(\"./Sardanelli/table_4_2.txt\",header=TRUE)  # read text file \n",
    "si_ca2 = read.table(\"./Sardanelli/table_4_3.txt\",header=TRUE)  # read second text file"
   ]
  },
  {
   "cell_type": "code",
   "execution_count": null,
   "metadata": {
    "cell_style": "split",
    "format": "row"
   },
   "outputs": [],
   "source": [
    "head(si_ca1)"
   ]
  },
  {
   "cell_type": "code",
   "execution_count": null,
   "metadata": {
    "cell_style": "split",
    "format": "row"
   },
   "outputs": [],
   "source": [
    "head(si_ca2)"
   ]
  },
  {
   "cell_type": "code",
   "execution_count": null,
   "metadata": {
    "cell_style": "split"
   },
   "outputs": [],
   "source": [
    "tail(si_ca1)\n",
    "mean(si_ca1$SI)"
   ]
  },
  {
   "cell_type": "code",
   "execution_count": null,
   "metadata": {
    "cell_style": "split"
   },
   "outputs": [],
   "source": [
    "tail(si_ca2)\n",
    "mean(si_ca2$SI)"
   ]
  },
  {
   "cell_type": "markdown",
   "metadata": {},
   "source": [
    "### Importando arquivo em formato CSV"
   ]
  },
  {
   "cell_type": "markdown",
   "metadata": {},
   "source": [
    "**CSV = comma separated values**"
   ]
  },
  {
   "cell_type": "code",
   "execution_count": null,
   "metadata": {},
   "outputs": [],
   "source": [
    "si_ca1_csv = read.csv(\"./Sardanelli/table_4_2.csv\")  # read csv file \n",
    "si_ca2_csv = read.csv(\"./Sardanelli/table_4_3.csv\")  # read second csv file \n",
    "head(si_ca1_csv)\n",
    "head(si_ca2_csv)"
   ]
  },
  {
   "cell_type": "code",
   "execution_count": null,
   "metadata": {},
   "outputs": [],
   "source": [
    "**Estatística Descritiva**"
   ]
  },
  {
   "cell_type": "code",
   "execution_count": null,
   "metadata": {},
   "outputs": [],
   "source": [
    "summary(si_ca1_csv)"
   ]
  },
  {
   "cell_type": "markdown",
   "metadata": {},
   "source": [
    "## Cálculo do Erro Padrão da Média (EPM)\n",
    "\n",
    "Leia sobre EPM em [An R Companion for the Handbook of Biological Statistics - SEM](https://rcompanion.org/rcompanion/c_03.html) e [neste site de John H. McDonald](http://www.biostathandbook.com/standarderror.html). \n",
    "\n",
    "**Recomendamos**: Este site elaborado por Salvatore S. Mangiafico é uma excelente fonte para praticantes da análise estatística em R. \n",
    "\n",
    "No R, o erro padrão da média (EPM) pode ser calculado com funções padrão no pacote de estatísticas nativas. Similar à função `summary( )`, existe uma função de **descrição no pacote psych** que inclui o cálculo do erro padrão da média junto com outras estatísticas descritivas. Esta função é útil para resumir várias variáveis em um quadro de dados. Nesse caso é interessante que os dados estejam no formato WIDE."
   ]
  },
  {
   "cell_type": "code",
   "execution_count": null,
   "metadata": {},
   "outputs": [],
   "source": [
    "# Instala o pacote/bliblioteca `psych` se ainda não está presente\n",
    "if (!require(\"psych\")) install.packages(\"psych\",repo=\"https://vps.fmvz.usp.br/CRAN/\",dep=TRUE)"
   ]
  },
  {
   "cell_type": "code",
   "execution_count": null,
   "metadata": {},
   "outputs": [],
   "source": [
    "library(psych)"
   ]
  },
  {
   "cell_type": "markdown",
   "metadata": {},
   "source": [
    "### Cálculo de EPM manualmente\n",
    "\n",
    "\n",
    "$$EPM = \\frac{\\text{desvio-padrão}}{\\sqrt{N}}$$"
   ]
  },
  {
   "cell_type": "code",
   "execution_count": null,
   "metadata": {},
   "outputs": [],
   "source": [
    "# Aplicação acima para cálculo do EPM para os contrastes CA1 e CA2.\n",
    "se_ca1 <- sd(si_ca1$SI)/sqrt(length(si_ca1$SI[!is.na(si_ca1$SI)])) # se = standard error ~ epm\n",
    "se_ca2 <- sd(si_ca2$SI)/sqrt(length(si_ca2$SI[!is.na(si_ca2$SI)]))\n",
    "\n",
    "cat('sd_ca1 = ', sd(si_ca1$SI), '; sd_ca2 = ', sd(si_ca2$SI), '; ')\n",
    "cat('se_ca1 = ', se_ca1, '; se_ca2 = ', se_ca2)"
   ]
  },
  {
   "cell_type": "code",
   "execution_count": 1,
   "metadata": {},
   "outputs": [
    {
     "ename": "ERROR",
     "evalue": "Error in str(si_ca1):  オブジェクト 'si_ca1' がありません \n",
     "output_type": "error",
     "traceback": [
      "Error in str(si_ca1):  オブジェクト 'si_ca1' がありません \nTraceback:\n",
      "1. str(si_ca1)"
     ]
    }
   ],
   "source": [
    "str(si_ca1)"
   ]
  },
  {
   "cell_type": "code",
   "execution_count": null,
   "metadata": {},
   "outputs": [],
   "source": [
    "tail(si_ca1)"
   ]
  },
  {
   "cell_type": "code",
   "execution_count": null,
   "metadata": {},
   "outputs": [],
   "source": [
    "head(si_ca1)"
   ]
  },
  {
   "cell_type": "code",
   "execution_count": null,
   "metadata": {},
   "outputs": [],
   "source": [
    "?read.table"
   ]
  },
  {
   "cell_type": "code",
   "execution_count": null,
   "metadata": {},
   "outputs": [],
   "source": [
    "filename <- \"./Sardanelli/table_4_2.txt\" # arquivo no subdiretório \"./Sardanelli\"\n",
    "data1_csv <- read.csv(filename, sep = \" \", quote = \"\\\"\",\n",
    "         dec = \".\", fill = TRUE)"
   ]
  },
  {
   "cell_type": "code",
   "execution_count": null,
   "metadata": {},
   "outputs": [],
   "source": [
    "head(data1_csv)"
   ]
  },
  {
   "cell_type": "markdown",
   "metadata": {},
   "source": [
    "### Acrescentando terceira coluna, a variável tipo de **contrast**"
   ]
  },
  {
   "cell_type": "code",
   "execution_count": null,
   "metadata": {},
   "outputs": [],
   "source": [
    "si_ca1$contrast <- \"CA1\"\n",
    "si_ca2$contrast <- \"CA2\"\n",
    "\n",
    "head(si_ca1)\n",
    "head(si_ca2)"
   ]
  },
  {
   "cell_type": "markdown",
   "metadata": {},
   "source": [
    "## Juntando dois dataframes ou arquivos \n",
    "\n",
    "Dois conjunto de dataframes com nomes de colunas comuns podem ser juntados\n",
    "\n",
    "### "
   ]
  },
  {
   "cell_type": "code",
   "execution_count": null,
   "metadata": {},
   "outputs": [],
   "source": [
    "si_total <- rbind(si_ca1, si_ca2)\n",
    "# si_total"
   ]
  },
  {
   "cell_type": "markdown",
   "metadata": {},
   "source": [
    "### LONG => WIDE"
   ]
  },
  {
   "cell_type": "code",
   "execution_count": null,
   "metadata": {},
   "outputs": [],
   "source": [
    "library(tidyr)\n",
    "si_total_wide <- spread(si_total, contrast, SI)"
   ]
  },
  {
   "cell_type": "code",
   "execution_count": null,
   "metadata": {},
   "outputs": [],
   "source": [
    "head(si_total_wide)"
   ]
  },
  {
   "cell_type": "markdown",
   "metadata": {},
   "source": [
    "## Gerando sumários dos dados"
   ]
  },
  {
   "cell_type": "code",
   "execution_count": null,
   "metadata": {},
   "outputs": [],
   "source": [
    "library(psych) # Para usar função describe( )"
   ]
  },
  {
   "cell_type": "code",
   "execution_count": null,
   "metadata": {},
   "outputs": [],
   "source": [
    "summary(si_total_wide)"
   ]
  },
  {
   "cell_type": "code",
   "execution_count": null,
   "metadata": {
    "scrolled": true
   },
   "outputs": [],
   "source": [
    "# A função describe do pacote psych requer dados no formato WIDE\n",
    "psych::describe(si_total_wide)"
   ]
  },
  {
   "cell_type": "markdown",
   "metadata": {},
   "source": [
    "## Visualizar os dados por box plots\n",
    "\n",
    "Fonte: [Statistical tools for high-throughput data analysis](http://www.sthda.com/english/wiki/paired-samples-t-test-in-r)"
   ]
  },
  {
   "cell_type": "code",
   "execution_count": null,
   "metadata": {},
   "outputs": [],
   "source": [
    "if (!require(\"ggpubr\")) install.packages(\"ggpubr\",repo=\"https://vps.fmvz.usp.br/CRAN/\",dep=TRUE)\n",
    "\n",
    "library(ggpubr)\n",
    "\n",
    "# Note que aqui é necessário usar o formato LONG de dados\n",
    "\n",
    "ggboxplot(si_total, x = \"contrast\", y = \"SI\", \n",
    "          color = \"contrast\", palette = c(\"#00AFDD\", \"#E77700\"),\n",
    "          order = c(\"CA1\", \"CA2\"),\n",
    "          ylab = \"SI (a.u.)\", xlab = \"Tipo de contraste\")"
   ]
  },
  {
   "cell_type": "markdown",
   "metadata": {},
   "source": [
    "Por box plot fica evidente que o sinal gerado pelo contraste CA2 é bem maior que o do contraste CA1.\n",
    "\n",
    "Com isso poderíamos ter feito um teste monocaudal de tal sorte que a hipótese alternativa poderia ser  $H_1: si_{CA2} > si_{CA1}$  (**Prof. Siqueira está de acordo**)\n",
    "\n",
    "Mas insistiremos no teste bicaudal:"
   ]
  },
  {
   "cell_type": "markdown",
   "metadata": {},
   "source": [
    "## Teste t não pareado bicaudal\n",
    "\n",
    "Neste caso o teste estatístico é \n",
    "\n",
    "> $H_0: \\mu_{CA1} = \\mu_{CA2}$;  \n",
    "> $H_1: \\mu_{CA1} \\neq \\mu_{CA2}$.  \n",
    "> $\\alpha = 5%$"
   ]
  },
  {
   "cell_type": "code",
   "execution_count": null,
   "metadata": {},
   "outputs": [],
   "source": [
    "?t.test # Para visualizar o help de t.test"
   ]
  },
  {
   "cell_type": "code",
   "execution_count": null,
   "metadata": {},
   "outputs": [],
   "source": [
    "t.test(si_total_wide$CA2,\n",
    "       si_total_wide$CA1,\n",
    "       paired=FALSE,\n",
    "       alternative=\"two.sided\",  # bicaudal\n",
    "       conf.level=0.95)"
   ]
  },
  {
   "cell_type": "markdown",
   "metadata": {},
   "source": [
    "***\n",
    "\n",
    "<p align=\"center\">\n",
    "    <center><img src=\"./image/sardanelli_t_teste_SI.png\" alt=\"drawing\" width=\"600\"/></center>\n",
    "</p>"
   ]
  },
  {
   "cell_type": "markdown",
   "metadata": {},
   "source": [
    "## Reordenando a posição das colunas\n",
    "\n",
    "Parece ser lógico ordenar as variáveis de coluna hierarquicamente, por exemplo, nessa ordem: **contrast** => **Individual** => **SI**.\n",
    "<br>\n",
    "Há diversas maneiras de se obter este efeito em R. Vejamos quatro métodos:"
   ]
  },
  {
   "cell_type": "code",
   "execution_count": null,
   "metadata": {},
   "outputs": [],
   "source": [
    "head(si_total)"
   ]
  },
  {
   "cell_type": "code",
   "execution_count": null,
   "metadata": {},
   "outputs": [],
   "source": [
    "### Reordenação método 1\n",
    "si_total_reord <- si_total[, c(3, 1, 2)]  # A primeira vírgula sinaliza que todas as linhas devem ser mantidas, \n",
    "                        # e 3, 1, 2 refere-se a ordem das colunas."
   ]
  },
  {
   "cell_type": "code",
   "execution_count": null,
   "metadata": {},
   "outputs": [],
   "source": [
    "### Reordenação método 2\n",
    "salvar <- si_total[, c(\"contrast\", \"SI\")] # Vide observação acima.\n",
    "write.csv(salvar,\"salvando.csv\")\n",
    "list.files()"
   ]
  },
  {
   "cell_type": "code",
   "execution_count": null,
   "metadata": {},
   "outputs": [],
   "source": [
    "### Reordenação método 3\n",
    "si_subset <- subset(si_total, select = c(3, 2))\n",
    "head(si_subset)\n",
    "tail(si_subset)"
   ]
  },
  {
   "cell_type": "code",
   "execution_count": null,
   "metadata": {},
   "outputs": [],
   "source": [
    "### Reordenação ou pipeline por meio do dplyr método 4\n",
    "if (!require(\"dplyr\")) install.packages(\"dplyr\", repo = \"https://vps.fmvz.usp.br/CRAN/\", \n",
    "    dep = TRUE)\n",
    "library(dplyr)\n",
    "\n",
    "si_total %>% select(contrast, Individual, SI) %>% select(SI>20) # %>% indica operação de pipeline do dplyr "
   ]
  }
 ],
 "metadata": {
  "kernelspec": {
   "display_name": "R 3.6.1",
   "language": "R361",
   "name": "ir"
  },
  "language_info": {
   "codemirror_mode": "r",
   "file_extension": ".r",
   "mimetype": "text/x-r-source",
   "name": "R",
   "pygments_lexer": "r",
   "version": "3.6.1"
  },
  "latex_envs": {
   "LaTeX_envs_menu_present": true,
   "autoclose": true,
   "autocomplete": true,
   "bibliofile": "biblio.bib",
   "cite_by": "apalike",
   "current_citInitial": 1,
   "eqLabelWithNumbers": true,
   "eqNumInitial": 1,
   "hotkeys": {
    "equation": "Ctrl-E",
    "itemize": "Ctrl-I"
   },
   "labels_anchors": false,
   "latex_user_defs": false,
   "report_style_numbering": false,
   "user_envs_cfg": false
  },
  "toc": {
   "base_numbering": 1,
   "nav_menu": {},
   "number_sections": true,
   "sideBar": true,
   "skip_h1_title": true,
   "title_cell": "Tabela de conteúdos",
   "title_sidebar": "Conteúdo",
   "toc_cell": false,
   "toc_position": {
    "height": "calc(100% - 180px)",
    "left": "10px",
    "top": "150px",
    "width": "277.443px"
   },
   "toc_section_display": true,
   "toc_window_display": true
  },
  "varInspector": {
   "cols": {
    "lenName": 16,
    "lenType": 16,
    "lenVar": 40
   },
   "kernels_config": {
    "python": {
     "delete_cmd_postfix": "",
     "delete_cmd_prefix": "del ",
     "library": "var_list.py",
     "varRefreshCmd": "print(var_dic_list())"
    },
    "r": {
     "delete_cmd_postfix": ") ",
     "delete_cmd_prefix": "rm(",
     "library": "var_list.r",
     "varRefreshCmd": "cat(var_dic_list()) "
    }
   },
   "oldHeight": 442.258818,
   "position": {
    "height": "40px",
    "left": "582.864px",
    "right": "20px",
    "top": "-2px",
    "width": "709.574px"
   },
   "types_to_exclude": [
    "module",
    "function",
    "builtin_function_or_method",
    "instance",
    "_Feature"
   ],
   "varInspector_section_display": "none",
   "window_display": false
  }
 },
 "nbformat": 4,
 "nbformat_minor": 4
}
