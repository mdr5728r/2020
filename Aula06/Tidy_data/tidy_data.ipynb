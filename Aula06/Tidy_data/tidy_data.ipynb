{
 "cells": [
  {
   "cell_type": "markdown",
   "metadata": {},
   "source": [
    "# Tidy Data / Dados Organizados\n",
    "\n",
    "R segue um conjunto de convenções que tornam um layout de dados tabulares muito mais fácil de trabalhar do que outros. Seus dados serão mais fáceis de trabalhar no R se seguirem três regras:\n",
    "\n",
    "* **Cada variável** no conjunto de dados é colocada em sua **própria coluna**;\n",
    "* **Cada observação** é colocada em sua **própria linha**;\n",
    "* **Cada valor** é colocado em sua **própria célula**.\n",
    "<br>\n",
    "<br>\n",
    "<left><img src=\"./image/tidy_data.png\" alt=\"Drawing\" style=\"width:400px;\"/></left>  \n",
    "Os dados que satisfazem essas regras são conhecidos como **tidy data** ou **dados organizados**."
   ]
  },
  {
   "cell_type": "markdown",
   "metadata": {},
   "source": [
    "# Aqui lidaremos com conversão entre os formatos WIDE e LONG\n"
   ]
  },
  {
   "cell_type": "markdown",
   "metadata": {},
   "source": [
    "## Importando dados em planilha Excel"
   ]
  },
  {
   "cell_type": "markdown",
   "metadata": {
    "cell_style": "split"
   },
   "source": [
    "A planilha **anorexigenos.xls** contém dados de um ensaio clínico, em que se comparou dois anorexígenos, A e B, e as perdas de peso foram registradas. Deseja-se testar se a diferença observada nas duas amostras é estatisticamente significante, assumindo-se $\\alpha = 1\\%$.\n",
    "<br>\n",
    "<br>\n",
    "<br>\n",
    "<br>\n",
    "<br>\n",
    "<center><img src=\"./image/anorexigenos.png\" alt=\"Drawing\" style=\"width:400px;\"/></center>\n",
    "<br>"
   ]
  },
  {
   "cell_type": "markdown",
   "metadata": {
    "cell_style": "split"
   },
   "source": [
    "Esse conjunto de dados estão codificados num arquivo Excel, **anorexigenos.xls**, em duas planilhas, **Grupo_A** e **Grupo_B**, na seguinte forma:\n",
    "<center><img src=\"./image/planilha_grupo_A.png\" alt=\"Drawing\" style=\"width:200px;\"/></center>\n",
    "<center><img src=\"./image/planilha_grupo_B.png\" alt=\"Drawing\" style=\"width:200px;\"/></center>"
   ]
  },
  {
   "cell_type": "markdown",
   "metadata": {},
   "source": [
    "Para podermos analisar esses dados no R é necessário rearrumá-los no formato **long**:\n",
    "<br>\n",
    "<br>\n",
    "<center><img src=\"./image/planilha_total_long.png\" alt=\"Drawing\" style=\"width:200px;\"/></center>"
   ]
  },
  {
   "cell_type": "code",
   "execution_count": null,
   "metadata": {},
   "outputs": [],
   "source": [
    "if (!require(\"xlsx\")) install.packages(\"xlsx\", repo = \"https://vps.fmvz.usp.br/CRAN/\", \n",
    "    dep = TRUE)\n",
    "\n",
    "library(xlsx)"
   ]
  },
  {
   "cell_type": "markdown",
   "metadata": {},
   "source": [
    "Leia a primeira planilha Grupo_A do arquivo anorexigenos.xls.  \n",
    "Primeira linha contém os nomes das variábeis"
   ]
  },
  {
   "cell_type": "code",
   "execution_count": null,
   "metadata": {},
   "outputs": [],
   "source": [
    "mydata_A <- read.xlsx(\"anorexigenos.xls\", sheetName=\"Grupo_A\")"
   ]
  },
  {
   "cell_type": "code",
   "execution_count": null,
   "metadata": {},
   "outputs": [],
   "source": [
    "head(mydata_A)"
   ]
  },
  {
   "cell_type": "code",
   "execution_count": null,
   "metadata": {
    "scrolled": true
   },
   "outputs": [],
   "source": [
    "mydata_B <- read.xlsx(\"anorexigenos.xls\",sheetName=\"Grupo_B\")\n",
    "head(mydata_B)"
   ]
  },
  {
   "cell_type": "markdown",
   "metadata": {},
   "source": [
    "### Crie uma coluna Grupo em cada um dos dataframes:"
   ]
  },
  {
   "cell_type": "code",
   "execution_count": null,
   "metadata": {},
   "outputs": [],
   "source": [
    "mydata_B$Grupo <- \"B\"\n",
    "\n",
    "mydata_A$Grupo <- \"A\""
   ]
  },
  {
   "cell_type": "markdown",
   "metadata": {},
   "source": [
    "### Empilhando dois dataframes com rbind"
   ]
  },
  {
   "cell_type": "code",
   "execution_count": null,
   "metadata": {},
   "outputs": [],
   "source": [
    "mydata_total <- rbind(mydata_A, mydata_B)"
   ]
  },
  {
   "cell_type": "code",
   "execution_count": null,
   "metadata": {
    "scrolled": true
   },
   "outputs": [],
   "source": [
    "print(mydata_total)"
   ]
  },
  {
   "cell_type": "code",
   "execution_count": null,
   "metadata": {},
   "outputs": [],
   "source": [
    "# ?read.xlsx2"
   ]
  },
  {
   "cell_type": "code",
   "execution_count": null,
   "metadata": {},
   "outputs": [],
   "source": [
    "if (!require(\"readxl\")) install.packages(\"readxl\", repo = \"https://vps.fmvz.usp.br/CRAN/\", \n",
    "    dep = TRUE)\n",
    "\n",
    "library(readxl)"
   ]
  },
  {
   "cell_type": "code",
   "execution_count": null,
   "metadata": {},
   "outputs": [],
   "source": [
    "df_A <- read_excel(\"anorexigenos.xls\",sheet=\"Grupo_A\")\n",
    "df_A"
   ]
  },
  {
   "cell_type": "code",
   "execution_count": null,
   "metadata": {},
   "outputs": [],
   "source": [
    "df_B <- read_excel(\"anorexigenos.xls\",sheet=\"Grupo_B\")\n",
    "df_B"
   ]
  },
  {
   "cell_type": "markdown",
   "metadata": {},
   "source": [
    "## Conversão entre formatos WIDE e LONG\n",
    "\n",
    "Na prática de análises estatísticas é necessário converter dados entre os formatos \"wide\" e \"long\".\n",
    "\n",
    "Muitas funções do R requerem que os dados estejam no formato \"long\" em vez de formato \"wide\", usado frequentemente em programas de análise estatística comerciais tais como SPSS, Minitab e etc.\n",
    "\n",
    " O roteiro que segue foi adaptado de [Converting data between wide and long format](http://www.cookbook-r.com/Manipulating_data/Converting_data_between_wide_and_long_format/).\n",
    " \n",
    "No exemplo abaixo, os dois dataframes contêm os mesmos conjuntos de dados em formatos \"wide\" e \"long\". Aqui mostraremos como converter de um formato ao outro e vice-versa."
   ]
  },
  {
   "cell_type": "code",
   "execution_count": null,
   "metadata": {},
   "outputs": [],
   "source": [
    "dadosinicial_wide <- read.table(header=TRUE, text='\n",
    "sujeito sexo controle cond1 cond2\n",
    "      1    M      7.9  12.3  10.7\n",
    "      2    F      6.3  10.6  11.1\n",
    "      3    F      9.5  13.1  13.8\n",
    "      4    M     11.5  13.4  12.9\n",
    "')\n",
    "# Make sure the subject column is a factor\n",
    "dadosinicial_wide$sujeito <- factor(dadosinicial_wide$sujeito)"
   ]
  },
  {
   "cell_type": "code",
   "execution_count": null,
   "metadata": {},
   "outputs": [],
   "source": [
    "dadosinicial_long <- read.table(header=TRUE, text='\n",
    "sujeito sexo condicao medida\n",
    "      1    M controle    7.9\n",
    "      1    M    cond1   12.3\n",
    "      1    M    cond2   10.7\n",
    "      2    F controle    6.3\n",
    "      2    F    cond1   10.6\n",
    "      2    F    cond2   11.1\n",
    "      3    F controle    9.5\n",
    "      3    F    cond1   13.1\n",
    "      3    F    cond2   13.8\n",
    "      4    M controle   11.5\n",
    "      4    M    cond1   13.4\n",
    "      4    M    cond2   12.9\n",
    "')\n",
    "# Make sure the subject column is a factor\n",
    "dadosinicial_long$sujeito <- factor(dadosinicial_long$sujeito)"
   ]
  },
  {
   "cell_type": "code",
   "execution_count": null,
   "metadata": {},
   "outputs": [],
   "source": [
    "dadosinicial_wide"
   ]
  },
  {
   "cell_type": "code",
   "execution_count": null,
   "metadata": {},
   "outputs": [],
   "source": [
    "dadosinicial_long"
   ]
  },
  {
   "cell_type": "markdown",
   "metadata": {},
   "source": [
    "## Conversão de WIDE --> LONG\n",
    "\n",
    "### Usando a rotina `gather`"
   ]
  },
  {
   "cell_type": "code",
   "execution_count": null,
   "metadata": {},
   "outputs": [],
   "source": [
    "if (!require(\"tidyr\")) install.packages(\"tidyr\",repo=\"https://vps.fmvz.usp.br/CRAN/\",dep=TRUE)\n",
    "\n",
    "library(tidyr)\n",
    "\n",
    "# The arguments to gather():\n",
    "# - data: Data object\n",
    "# - key: Name of new key column (made from names of data columns)\n",
    "# - value: Name of new value column\n",
    "# - ...: Names of source columns that contain values\n",
    "# - factor_key: Treat the new key column as a factor (instead of character vector)\n",
    "dadosinicial_wide"
   ]
  },
  {
   "cell_type": "code",
   "execution_count": null,
   "metadata": {},
   "outputs": [],
   "source": [
    "dados_long <- gather(dadosinicial_wide, condicao, medida, controle:cond2, factor_key=TRUE)\n",
    "dados_long"
   ]
  },
  {
   "cell_type": "code",
   "execution_count": null,
   "metadata": {},
   "outputs": [],
   "source": []
  },
  {
   "cell_type": "markdown",
   "metadata": {},
   "source": [
    "Neste exemplo, as colunas que serão juntadas (gathered) são especificados por **controle:cond2**, i.e. todas as colunas posiciondas entre **controle** e **cond2**.  \n",
    "\n",
    "Outra maneira de se executar a mesma coisa, é listando todas as colunas individualmente, via **gather**:"
   ]
  },
  {
   "cell_type": "code",
   "execution_count": null,
   "metadata": {},
   "outputs": [],
   "source": [
    "gather(dadosinicial_wide, condicao, medida, controle, cond1, cond2)"
   ]
  },
  {
   "cell_type": "markdown",
   "metadata": {},
   "source": [
    "Se tens intenção de usar esta função, gather( ), dentro de um programa e talvez queiras colocar variáveis contendo os nomes das colunas como parâmetro da função. Neste caso, será necessário usar a função gather_( ), que aceita \"strings\" em vez de nomes de colunas sem aspas ou apóstrofes."
   ]
  },
  {
   "cell_type": "code",
   "execution_count": null,
   "metadata": {},
   "outputs": [],
   "source": [
    "keycol <- \"condicao\"  # coluna chave\n",
    "valuecol <- \"medida\"  # variável dependente (VD)\n",
    "gathercols <- c(\"controle\", \"cond1\", \"cond2\") \n",
    "\n",
    "gather_(dadosinicial_wide, keycol, valuecol, gathercols)"
   ]
  },
  {
   "cell_type": "markdown",
   "metadata": {},
   "source": [
    "É possível ou desejável opcionalmente renomear os níveis de fator da coluna de variável, e classificá-los."
   ]
  },
  {
   "cell_type": "code",
   "execution_count": null,
   "metadata": {},
   "outputs": [],
   "source": [
    "# Renomear nomes de fator de \"cond1\" and \"cond2\" to \"nivel1\" and \"nivel2\"\n",
    "levels(dados_long$condicao)[levels(dados_long$condicao)==\"cond1\"] <- \"nivel1\"\n",
    "levels(dados_long$condicao)[levels(dados_long$condicao)==\"cond2\"] <- \"nivel2\"\n",
    "\n",
    "# Sortear por sujeito, depois por condicao\n",
    "dados_long <- dados_long[order(dados_long$sujeito, dados_long$condicao) , ]\n",
    "dados_long\n",
    "#"
   ]
  },
  {
   "cell_type": "code",
   "execution_count": null,
   "metadata": {},
   "outputs": [],
   "source": [
    "levels(dados_long$sujeito)"
   ]
  },
  {
   "cell_type": "code",
   "execution_count": null,
   "metadata": {},
   "outputs": [],
   "source": [
    "# ?order"
   ]
  },
  {
   "cell_type": "markdown",
   "metadata": {},
   "source": [
    "## Conversão de LONG --> WIDE\n",
    "\n",
    "### Usando rotina spread da biblioteca `tidyr`"
   ]
  },
  {
   "cell_type": "code",
   "execution_count": null,
   "metadata": {},
   "outputs": [],
   "source": [
    "library(tidyr)\n",
    "\n",
    "# os argumentos para spread(data, key, value):\n",
    "# - data: Objeto de dados \n",
    "# - key: Nome de coluna contendo os novos nomes de colunas\n",
    "# - value: Nome da coluna que contém os valores (VD)\n",
    "dados_wide <- spread(dadosinicial_long, condicao, medida)\n",
    "dados_wide\n",
    "#>   sujeito sexo cond1 cond2 controle\n",
    "#> 1       1    M  12.3  10.7      7.9\n",
    "#> 2       2    F  10.6  11.1      6.3\n",
    "#> 3       3    F  13.1  13.8      9.5\n",
    "#> 4       4    M  13.4  12.9     11.5"
   ]
  },
  {
   "cell_type": "markdown",
   "metadata": {},
   "source": [
    "À semelhança do **formato long** em que se mudou os nomes do fator, aqui no **formato wide** também se pode mudar os nomes das variáveis coluna:  "
   ]
  },
  {
   "cell_type": "code",
   "execution_count": null,
   "metadata": {},
   "outputs": [],
   "source": [
    "# Renomear de cond1 para nivel1, e cond2 para nivel2\n",
    "names(dados_wide)[names(dados_wide)==\"cond1\"] <- \"nivel1\"\n",
    "names(dados_wide)[names(dados_wide)==\"cond2\"] <- \"nivel2\"\n",
    "\n",
    "# Aqui podemos reordenar as colunas\n",
    "dados_wide <- dados_wide[, c(1,2,5,3,4)]\n",
    "dados_wide\n",
    "#>   sujeito sexo controle nivel1 nivel2\n",
    "#> 1       1    M      7.9   12.3   10.7\n",
    "#> 2       2    F      6.3   10.6   11.1\n",
    "#> 3       3    F      9.5   13.1   13.8\n",
    "#> 4       4    M     11.5   13.4   12.9"
   ]
  },
  {
   "cell_type": "markdown",
   "metadata": {},
   "source": [
    "A ordem dos níveis dos fatores determina a ordem de aparecimento das colunas. A ordem dos níveis pode ser alterado antes de \"reshaping\", ou as colunas poder ser reordenados depois."
   ]
  },
  {
   "cell_type": "markdown",
   "metadata": {},
   "source": [
    "## Biblioteca reshape2\n",
    "\n",
    "### Conversão  WIDE => LONG\n",
    "\n",
    "Uso `melt`:"
   ]
  },
  {
   "cell_type": "code",
   "execution_count": null,
   "metadata": {},
   "outputs": [],
   "source": [
    "if (!require(\"reshape2\")) install.packages(\"reshape2\", repo = \"https://vps.fmvz.usp.br/CRAN/\", \n",
    "    dep = TRUE)\n",
    "\n",
    "library(reshape2)"
   ]
  },
  {
   "cell_type": "code",
   "execution_count": null,
   "metadata": {},
   "outputs": [],
   "source": [
    "?melt"
   ]
  },
  {
   "cell_type": "code",
   "execution_count": null,
   "metadata": {},
   "outputs": [],
   "source": [
    "dadosinicial_wide\n",
    "#>   sujeito sexo controle cond1 cond2\n",
    "#> 1       1    M      7.9  12.3  10.7\n",
    "#> 2       2    F      6.3  10.6  11.1\n",
    "#> 3       3    F      9.5  13.1  13.8\n",
    "#> 4       4    M     11.5  13.4  12.9\n",
    "\n",
    "\n",
    "\n",
    "# Especificar id.vars: as variáveis para manter mas não separá-los\n",
    "melt(dadosinicial_wide, id.vars=c(\"sujeito\", \"sexo\"))\n",
    "#>    sujeito sexo  variable value\n",
    "#> 1        1    M  controle   7.9\n",
    "#> 2        2    F  controle   6.3\n",
    "#> 3        3    F  controle   9.5\n",
    "#> 4        4    M  controle  11.5\n",
    "#> 5        1    M     cond1  12.3\n",
    "#> 6        2    F     cond1  10.6\n",
    "#> 7        3    F     cond1  13.1\n",
    "#> 8        4    M     cond1  13.4\n",
    "#> 9        1    M     cond2  10.7\n",
    "#> 10       2    F     cond2  11.1\n",
    "#> 11       3    F     cond2  13.8\n",
    "#> 12       4    M     cond2  12.9"
   ]
  },
  {
   "cell_type": "markdown",
   "metadata": {},
   "source": [
    "Note que os nomes para duas colunas à direita foram atribuídas automaticamente pela rotina melt, \"variable\" e \"value\".\n",
    "\n",
    "Há opções de `melt` que torna a saída um pouco mais adequada para o trabalho:"
   ]
  },
  {
   "cell_type": "code",
   "execution_count": null,
   "metadata": {},
   "outputs": [],
   "source": [
    "dados_long <- melt(dadosinicial_wide,\n",
    "        # ID variables - todas as variáveis a preservar mas não separadas.\n",
    "    id.vars=c(\"sujeito\", \"sexo\"),\n",
    "        # Fontes das colunas\n",
    "    measure.vars=c(\"controle\", \"cond1\", \"cond2\" ),\n",
    "        # Nome de coluna destino que identificará a coluna original\n",
    "        # de onde a medida proveio\n",
    "    variable.name=\"condicao\",\n",
    "    value.name=\"medida\"\n",
    ")"
   ]
  },
  {
   "cell_type": "code",
   "execution_count": null,
   "metadata": {},
   "outputs": [],
   "source": [
    "dados_long\n",
    "#>    sujeito sexo   condicao  medida\n",
    "#> 1        1    M   controle     7.9\n",
    "#> 2        2    F   controle     6.3\n",
    "#> 3        3    F   controle     9.5\n",
    "#> 4        4    M   controle    11.5\n",
    "#> 5        1    M      cond1    12.3\n",
    "#> 6        2    F      cond1    10.6\n",
    "#> 7        3    F      cond1    13.1\n",
    "#> 8        4    M      cond1    13.4\n",
    "#> 9        1    M      cond2    10.7\n",
    "#> 10       2    F      cond2    11.1\n",
    "#> 11       3    F      cond2    13.8\n",
    "#> 12       4    M      cond2    12.9"
   ]
  },
  {
   "cell_type": "markdown",
   "metadata": {},
   "source": [
    "Se omitir o argumento `measure.vars`, `melt( )` usará automaticamente todas as outras variáveis como `id.vars`. O complemento é verdadeiro se `id.vars` for omitido.\n",
    "\n",
    "Como visto, se não se especificar `variable.name`, `melt()` nomeará a coluna como \"variable\", e se  `value.name` for omitido, a coluna de VD será denominada \"measurement\".\n",
    "\n",
    "Opcionalmente pode-se renomenar os níveis dos fatores da variável coluna."
   ]
  },
  {
   "cell_type": "code",
   "execution_count": null,
   "metadata": {},
   "outputs": [],
   "source": [
    "# Renomear nomes de fator de \"cond1\" e \"cond2\" para, por exemplo, \"prima\" e \"seconda\"\n",
    "levels(dados_long$condicao)[levels(dados_long$condicao)==\"cond1\"] <- \"prima\"\n",
    "levels(dados_long$condicao)[levels(dados_long$condicao)==\"cond2\"] <- \"seconda\"\n",
    "\n",
    "# Ordenar primeiro por sujeito, depois pela condição\n",
    "dados_long <- dados_long[ order(dados_long$sujeito, dados_long$condicao), ]\n",
    "dados_long\n",
    "#>    sujeito sexo   condicao medida\n",
    "#> 1        1    M   controle    7.9\n",
    "#> 5        1    M      prima   12.3\n",
    "#> 9        1    M    seconda   10.7\n",
    "#> 2        2    F   controle    6.3\n",
    "#> 6        2    F      prima   10.6\n",
    "#> 10       2    F    seconda   11.1\n",
    "#> 3        3    F   controle    9.5\n",
    "#> 7        3    F      prima   13.1\n",
    "#> 11       3    F    seconda   13.8\n",
    "#> 4        4    M   controle   11.5\n",
    "#> 8        4    M      prima   13.4\n",
    "#> 12       4    M    seconda   12.9"
   ]
  },
  {
   "cell_type": "markdown",
   "metadata": {},
   "source": [
    "### Conversão LONG => WIDE\n",
    "O seguinte código usa `dcast` para remodelar (reshape) os dados. Esta função é destinada para **data frames**; se estiver lidando com **arrays ou matrizes**, use `acast`."
   ]
  },
  {
   "cell_type": "code",
   "execution_count": null,
   "metadata": {},
   "outputs": [],
   "source": [
    "library(reshape2)"
   ]
  },
  {
   "cell_type": "code",
   "execution_count": null,
   "metadata": {},
   "outputs": [],
   "source": [
    "dadosinicial_long\n",
    "#>    sujeito sexo   condicao  medida\n",
    "#> 1        1    M   controle     7.9\n",
    "#> 2        2    F   controle     6.3\n",
    "#> 3        3    F   controle     9.5\n",
    "#> 4        4    M   controle    11.5\n",
    "#> 5        1    M      cond1    12.3\n",
    "#> 6        2    F      cond1    10.6\n",
    "#> 7        3    F      cond1    13.1\n",
    "#> 8        4    M      cond1    13.4\n",
    "#> 9        1    M      cond2    10.7\n",
    "#> 10       2    F      cond2    11.1\n",
    "#> 11       3    F      cond2    13.8\n",
    "#> 12       4    M      cond2    12.9"
   ]
  },
  {
   "cell_type": "code",
   "execution_count": null,
   "metadata": {},
   "outputs": [],
   "source": [
    "# Da fonte:\n",
    "# \"sujeito\" e \"sexo\" são colunas que desejmos manter na mesma forma\n",
    "# \"condicao\" é a coluna que contém os nomes das novas colunas destinos para colocar as coisas da \n",
    "# \"medida\" para conter as medidas (VD)\n",
    "dados_wide <- dcast(dadosinicial_long, sujeito + sexo ~ condicao, value.var=\"medida\")\n",
    "dados_wide\n",
    "#>   sujeito sexo controle cond1 cond2\n",
    "#> 1       1    M      7.9  12.3  10.7\n",
    "#> 2       2    F      6.3  10.6  11.1\n",
    "#> 3       3    F      9.5  13.1  13.8\n",
    "#> 4       4    M     11.5  13.4  12.9"
   ]
  },
  {
   "cell_type": "markdown",
   "metadata": {},
   "source": [
    "Como sempre, opcionalmente pode-se modificar a nomeação das colunas de forma adequada."
   ]
  },
  {
   "cell_type": "code",
   "execution_count": null,
   "metadata": {},
   "outputs": [],
   "source": [
    "# Renomear cond1 para prima, e cond2 para seconda\n",
    "names(dados_wide)[names(dados_wide)==\"cond1\"] <- \"prima\"\n",
    "names(dados_wide)[names(dados_wide)==\"cond2\"] <- \"seconda\"\n",
    "\n",
    "# Reordernar as colunas\n",
    "dados_wide <- dados_wide[, c(1,2,5,3,4)]\n",
    "dados_wide\n",
    "#>   sujeito sexo controle prima seconda\n",
    "#> 1       1    M      7.9  12.3    10.7\n",
    "#> 2       2    F      6.3  10.6    11.1\n",
    "#> 3       3    F      9.5  13.1    13.8\n",
    "#> 4       4    M     11.5  13.4    12.9"
   ]
  },
  {
   "cell_type": "code",
   "execution_count": null,
   "metadata": {},
   "outputs": [],
   "source": []
  }
 ],
 "metadata": {
  "kernelspec": {
   "display_name": "R3.6.0",
   "language": "R",
   "name": "ir"
  },
  "language_info": {
   "codemirror_mode": "r",
   "file_extension": ".r",
   "mimetype": "text/x-r-source",
   "name": "R",
   "pygments_lexer": "r",
   "version": "3.6.3"
  },
  "latex_envs": {
   "LaTeX_envs_menu_present": true,
   "autoclose": true,
   "autocomplete": true,
   "bibliofile": "biblio.bib",
   "cite_by": "apalike",
   "current_citInitial": 1,
   "eqLabelWithNumbers": true,
   "eqNumInitial": 1,
   "hotkeys": {
    "equation": "Ctrl-E",
    "itemize": "Ctrl-I"
   },
   "labels_anchors": false,
   "latex_user_defs": false,
   "report_style_numbering": false,
   "user_envs_cfg": false
  },
  "toc": {
   "base_numbering": 1,
   "nav_menu": {},
   "number_sections": true,
   "sideBar": true,
   "skip_h1_title": true,
   "title_cell": "Tabela de conteúdos",
   "title_sidebar": "Conteúdo",
   "toc_cell": false,
   "toc_position": {
    "height": "47.2585px",
    "left": "46px",
    "top": "91.988px",
    "width": "309.162px"
   },
   "toc_section_display": true,
   "toc_window_display": true
  },
  "varInspector": {
   "cols": {
    "lenName": 16,
    "lenType": 16,
    "lenVar": 40
   },
   "kernels_config": {
    "python": {
     "delete_cmd_postfix": "",
     "delete_cmd_prefix": "del ",
     "library": "var_list.py",
     "varRefreshCmd": "print(var_dic_list())"
    },
    "r": {
     "delete_cmd_postfix": ") ",
     "delete_cmd_prefix": "rm(",
     "library": "var_list.r",
     "varRefreshCmd": "cat(var_dic_list()) "
    }
   },
   "oldHeight": 581.65,
   "position": {
    "height": "40px",
    "left": "668.008px",
    "right": "20px",
    "top": "86.9943px",
    "width": "643.675px"
   },
   "types_to_exclude": [
    "module",
    "function",
    "builtin_function_or_method",
    "instance",
    "_Feature"
   ],
   "varInspector_section_display": "none",
   "window_display": false
  }
 },
 "nbformat": 4,
 "nbformat_minor": 4
}
