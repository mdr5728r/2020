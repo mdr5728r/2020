{
 "cells": [
  {
   "cell_type": "markdown",
   "metadata": {},
   "source": [
    "# IMPORTANDO ARQUIVOS DE DADOS\n",
    "\n",
    "\n",
    " <a href=\"mailto:siqueira@usp.br?subject=Dúvida sobre ANOVA\">José O. Siqueira (siqueira@usp.br)</a><br>\n",
    " \n",
    " <a href=\"mailto:paulo.silveira@fm.usp.br?subject=Dúvida sobre ANOVA\">Paulo S. P Silveira (paulo.silveira@fm.usp.br)</a> <br>\n",
    " \n",
    " <a href=\"mailto:koichi.sameshima@fm.usp.br?subject=Dúvida sobre ANOVA\">Koichi Sameshima (koichi.sameshima@fm.usp.br)</a> <br>\n",
    "<br>"
   ]
  },
  {
   "cell_type": "markdown",
   "metadata": {
    "slideshow": {
     "slide_type": "slide"
    }
   },
   "source": []
  },
  {
   "cell_type": "markdown",
   "metadata": {
    "slideshow": {
     "slide_type": "slide"
    }
   },
   "source": [
    "## Exemplo 4.1 de Sardanelli & Di Leo (2008)"
   ]
  },
  {
   "cell_type": "markdown",
   "metadata": {},
   "source": [
    "> **Example 4.1.** Measuring myocardial delayed enhancement in cardiac MR imaging. Let us suppose we want to evaluate the difference in delayed enhancement of the myocardium provided by **two contrast agents (CAs)**. A sample of 50 post-ischemic patients undergo a cardiac MR with inversion recovery turbo- gradient-echo sequence ten minutes after the injection of 0.1 mmol/kg of CA 1. The signal intensity (SI), expressed in arbitrary units (a.u.), is measured in a region of interest placed in the infarcted myocardium. A second sample made up of another 50 post-ischemic patients is studied with the same technique but using 0.1 mmol/kg of CA 2. Data are summarized in Tables 4.2 and 4.3."
   ]
  },
  {
   "cell_type": "markdown",
   "metadata": {},
   "source": [
    "### Resultados com CA1"
   ]
  },
  {
   "cell_type": "markdown",
   "metadata": {},
   "source": [
    "<p align=\"center\">\n",
    "    <center><img src=\"./image/Table_4_2.png\" alt=\"drawing\" width=\"500\"/></center>\n",
    "</p>"
   ]
  },
  {
   "cell_type": "markdown",
   "metadata": {
    "slideshow": {
     "slide_type": "subslide"
    }
   },
   "source": [
    "### Resultados com CA2"
   ]
  },
  {
   "cell_type": "markdown",
   "metadata": {},
   "source": [
    "<p align=\"center\">\n",
    "    <center><img src=\"./image/Table_4_3.png\" alt=\"drawing\" width=\"500\"/></center>\n",
    "</p>"
   ]
  },
  {
   "cell_type": "markdown",
   "metadata": {},
   "source": [
    "## Arquivos e Diretórios/Pastas no R"
   ]
  },
  {
   "cell_type": "markdown",
   "metadata": {},
   "source": [
    "Em ambiente R e no Jupyter Notebook, todos os arquivos serão lidos e salvos no diretório ativo, a menos que se especifique o contrário. Logo, a primeira coisa que você precisa se preocupar é como obter e configurar seu **diretório de trabalho**.\n",
    "```{R}\n",
    "# Para obter o diretório de trabalho corrente, execute:\n",
    "getwd ()\n",
    " \n",
    "#Configure o diretório de trabalho:\n",
    "setwd (\"C:/Documents and Settings/Aula06\")\n",
    "````"
   ]
  },
  {
   "cell_type": "markdown",
   "metadata": {},
   "source": [
    "### Diretório de Trabalho"
   ]
  },
  {
   "cell_type": "markdown",
   "metadata": {},
   "source": [
    "Os códigos ou comandos executados a seguir assumirão que os arquivos de dados estão localizados num diretório relativo ao **diretório de trabalho R do Jupyter Notebook**. O diretório atual pode ser verificado com a função getwd. Assim no meu caso:"
   ]
  },
  {
   "cell_type": "code",
   "execution_count": 1,
   "metadata": {},
   "outputs": [
    {
     "data": {
      "text/html": [
       "'/Users/koichi/Dropbox/0Aulas/mdr5728_2020/Aula06/R_Tidy_data'"
      ],
      "text/latex": [
       "'/Users/koichi/Dropbox/0Aulas/mdr5728\\_2020/Aula06/R\\_Tidy\\_data'"
      ],
      "text/markdown": [
       "'/Users/koichi/Dropbox/0Aulas/mdr5728_2020/Aula06/R_Tidy_data'"
      ],
      "text/plain": [
       "[1] \"/Users/koichi/Dropbox/0Aulas/mdr5728_2020/Aula06/R_Tidy_data\""
      ]
     },
     "metadata": {},
     "output_type": "display_data"
    }
   ],
   "source": [
    "getwd()               # get current working directory"
   ]
  },
  {
   "cell_type": "markdown",
   "metadata": {},
   "source": [
    "Poderá selecionar diferentes diretórios de trabalho com a função `setwd()`, evitando-se assim a necessidade de especificar o caminho completo para arquivos de dados para leitura e gravação. Neste exemplo criou-se um diretório \"Sardanelli\" no caminho obtido por getwd(). Vamos verificar isso por meio da função `list.files()`:"
   ]
  },
  {
   "cell_type": "code",
   "execution_count": 2,
   "metadata": {},
   "outputs": [
    {
     "data": {
      "text/html": [
       "<style>\n",
       ".list-inline {list-style: none; margin:0; padding: 0}\n",
       ".list-inline>li {display: inline-block}\n",
       ".list-inline>li:not(:last-child)::after {content: \"\\00b7\"; padding: 0 .5ex}\n",
       "</style>\n",
       "<ol class=list-inline><li>'anorexia_A.txt'</li><li>'anorexia_B.txt'</li><li>'anorexigenos_log.xls'</li><li>'anorexigenos.xls'</li><li>'cheat_sheet_data-import.pdf'</li><li>'Data'</li><li>'image'</li><li>'Importar_Arquivo_de_Dados.ipynb'</li><li>'Sardanelli'</li><li>'Sardanelli_demo_exemplos_2008.ipynb'</li><li>'tidy_data_slides.ipynb'</li><li>'tidy_data.ipynb'</li><li>'Untitled.ipynb'</li></ol>\n"
      ],
      "text/latex": [
       "\\begin{enumerate*}\n",
       "\\item 'anorexia\\_A.txt'\n",
       "\\item 'anorexia\\_B.txt'\n",
       "\\item 'anorexigenos\\_log.xls'\n",
       "\\item 'anorexigenos.xls'\n",
       "\\item 'cheat\\_sheet\\_data-import.pdf'\n",
       "\\item 'Data'\n",
       "\\item 'image'\n",
       "\\item 'Importar\\_Arquivo\\_de\\_Dados.ipynb'\n",
       "\\item 'Sardanelli'\n",
       "\\item 'Sardanelli\\_demo\\_exemplos\\_2008.ipynb'\n",
       "\\item 'tidy\\_data\\_slides.ipynb'\n",
       "\\item 'tidy\\_data.ipynb'\n",
       "\\item 'Untitled.ipynb'\n",
       "\\end{enumerate*}\n"
      ],
      "text/markdown": [
       "1. 'anorexia_A.txt'\n",
       "2. 'anorexia_B.txt'\n",
       "3. 'anorexigenos_log.xls'\n",
       "4. 'anorexigenos.xls'\n",
       "5. 'cheat_sheet_data-import.pdf'\n",
       "6. 'Data'\n",
       "7. 'image'\n",
       "8. 'Importar_Arquivo_de_Dados.ipynb'\n",
       "9. 'Sardanelli'\n",
       "10. 'Sardanelli_demo_exemplos_2008.ipynb'\n",
       "11. 'tidy_data_slides.ipynb'\n",
       "12. 'tidy_data.ipynb'\n",
       "13. 'Untitled.ipynb'\n",
       "\n",
       "\n"
      ],
      "text/plain": [
       " [1] \"anorexia_A.txt\"                      \"anorexia_B.txt\"                     \n",
       " [3] \"anorexigenos_log.xls\"                \"anorexigenos.xls\"                   \n",
       " [5] \"cheat_sheet_data-import.pdf\"         \"Data\"                               \n",
       " [7] \"image\"                               \"Importar_Arquivo_de_Dados.ipynb\"    \n",
       " [9] \"Sardanelli\"                          \"Sardanelli_demo_exemplos_2008.ipynb\"\n",
       "[11] \"tidy_data_slides.ipynb\"              \"tidy_data.ipynb\"                    \n",
       "[13] \"Untitled.ipynb\"                     "
      ]
     },
     "metadata": {},
     "output_type": "display_data"
    }
   ],
   "source": [
    "list.files()"
   ]
  },
  {
   "cell_type": "markdown",
   "metadata": {},
   "source": [
    "Pronto, podemos verificar que há um arquivo ou diretório denominado **Sardanelli**."
   ]
  },
  {
   "cell_type": "code",
   "execution_count": 3,
   "metadata": {},
   "outputs": [
    {
     "data": {
      "text/html": [
       "TRUE"
      ],
      "text/latex": [
       "TRUE"
      ],
      "text/markdown": [
       "TRUE"
      ],
      "text/plain": [
       "[1] TRUE"
      ]
     },
     "metadata": {},
     "output_type": "display_data"
    }
   ],
   "source": [
    "dir.exists(\"Sardanelli\")  # Vamos testar se Sardanelli existe como um diretório ou não."
   ]
  },
  {
   "cell_type": "code",
   "execution_count": 4,
   "metadata": {},
   "outputs": [],
   "source": [
    "# Verifica-se neste caso que Sardanelli é um diretório. Assim teremos sucesso em executar o seguinte comando\n",
    "setwd(\"Sardanelli\")   # set working directory para o subdiretório ./Sardanelli"
   ]
  },
  {
   "cell_type": "code",
   "execution_count": 5,
   "metadata": {},
   "outputs": [
    {
     "data": {
      "text/html": [
       "'/Users/koichi/Dropbox/0Aulas/mdr5728_2020/Aula06/R_Tidy_data/Sardanelli'"
      ],
      "text/latex": [
       "'/Users/koichi/Dropbox/0Aulas/mdr5728\\_2020/Aula06/R\\_Tidy\\_data/Sardanelli'"
      ],
      "text/markdown": [
       "'/Users/koichi/Dropbox/0Aulas/mdr5728_2020/Aula06/R_Tidy_data/Sardanelli'"
      ],
      "text/plain": [
       "[1] \"/Users/koichi/Dropbox/0Aulas/mdr5728_2020/Aula06/R_Tidy_data/Sardanelli\""
      ]
     },
     "metadata": {},
     "output_type": "display_data"
    }
   ],
   "source": [
    "getwd()"
   ]
  },
  {
   "cell_type": "markdown",
   "metadata": {},
   "source": [
    "Como pode ser verificado por meio de **`getwd()`**, o diretório corrente foi configurado para o subdiretório `./Aula06/Tidying_data/Sardanelli`. \n",
    "Note que a barra normal (/) deve ser usada no abiente R como separador de diretórios, mesmo na plataforma Windows, ao invés da barra invertida (\\).\n",
    "Por exemplo\n",
    "`> setwd(\"C:/Users/usuario/Documents\")`"
   ]
  },
  {
   "cell_type": "markdown",
   "metadata": {},
   "source": [
    "### Listando os arquivos e as pastas no diretório"
   ]
  },
  {
   "cell_type": "markdown",
   "metadata": {},
   "source": [
    "```{R}\n",
    "#lista arquivos no diretório de trabalho\n",
    "list.files()\n",
    " \n",
    "#lista arquivos in a specific folder\n",
    "list.files (path = \"C:/Folder/Subfolder1/Subfolder2\")\n",
    " \n",
    "#lista arquivos no diretório escolhido, choose.dir() funciona somente no Windows\n",
    "list.files(path = choose.dir())\n",
    " \n",
    "#lista de subdiretórios e arquivos dentro dos subdiretórios recursivamente\n",
    "list.files(recursive = TRUE)\n",
    " \n",
    "#obtém o nome completo (caminho e nome de arquivos) de cada arquivo\n",
    "list.files(full.name = TRUE)\n",
    "```"
   ]
  },
  {
   "cell_type": "markdown",
   "metadata": {},
   "source": [
    "#### Se a lista obtida for muito longa,  poderá filtrar os resultados usando o argumento padrão da função `list.files()`"
   ]
  },
  {
   "cell_type": "markdown",
   "metadata": {},
   "source": [
    "```{R}\n",
    "#lista todos os arquivos que contêm a palavra \"anorex\"\n",
    "list.files(pattern = \"anorex\")\n",
    " \n",
    "#lista arquivos que termina com a palavra \"csv\"\n",
    "list.files (pattern = \"csv$\")\n",
    " \n",
    "#lista arquivos que começam com a palavra \"anorex\" seguida por quaisquer characteres e finalizado com \"xlsx\":\n",
    "list.files(pattern = \"^anorex(.*)xlsx$\")\n",
    "```"
   ]
  },
  {
   "cell_type": "markdown",
   "metadata": {},
   "source": [
    "#### Expressões regulares"
   ]
  },
  {
   "cell_type": "markdown",
   "metadata": {},
   "source": [
    "> Se ficou curioso o que são os símbolos \"^\", \".\", \"*\", \"<span>$</span>\" nos comandos acima, bem estes são chamados **metacaracteres em expressões regulares**. Se você quiser saber mais sobre expressões regulares, consultem estas duas fontes: [Cheat Sheet de \"Expressões Regulares\"](https://rstudio.com/wp-content/uploads/2016/09/RegExCheatsheet.pdf) ou [\"Expressões Regulares\" que um programador R deve saber](https://www.r-bloggers.com/regular-expressions-every-r-programmer-should-know/)."
   ]
  },
  {
   "cell_type": "code",
   "execution_count": 6,
   "metadata": {},
   "outputs": [
    {
     "data": {
      "text/html": [
       "'/Users/koichi/Dropbox/0Aulas/mdr5728_2020/Aula06/R_Tidy_data'"
      ],
      "text/latex": [
       "'/Users/koichi/Dropbox/0Aulas/mdr5728\\_2020/Aula06/R\\_Tidy\\_data'"
      ],
      "text/markdown": [
       "'/Users/koichi/Dropbox/0Aulas/mdr5728_2020/Aula06/R_Tidy_data'"
      ],
      "text/plain": [
       "[1] \"/Users/koichi/Dropbox/0Aulas/mdr5728_2020/Aula06/R_Tidy_data\""
      ]
     },
     "metadata": {},
     "output_type": "display_data"
    },
    {
     "data": {
      "text/html": [
       "<style>\n",
       ".list-inline {list-style: none; margin:0; padding: 0}\n",
       ".list-inline>li {display: inline-block}\n",
       ".list-inline>li:not(:last-child)::after {content: \"\\00b7\"; padding: 0 .5ex}\n",
       "</style>\n",
       "<ol class=list-inline><li>'anorexigenos_log.xls'</li><li>'anorexigenos.xls'</li></ol>\n"
      ],
      "text/latex": [
       "\\begin{enumerate*}\n",
       "\\item 'anorexigenos\\_log.xls'\n",
       "\\item 'anorexigenos.xls'\n",
       "\\end{enumerate*}\n"
      ],
      "text/markdown": [
       "1. 'anorexigenos_log.xls'\n",
       "2. 'anorexigenos.xls'\n",
       "\n",
       "\n"
      ],
      "text/plain": [
       "[1] \"anorexigenos_log.xls\" \"anorexigenos.xls\"    "
      ]
     },
     "metadata": {},
     "output_type": "display_data"
    }
   ],
   "source": [
    "# Retornando ao diretório inicial\n",
    "setwd(\"../\")\n",
    "# Verificando se o arquivo anorexigenos.xls\n",
    "getwd()\n",
    "list.files(pattern = \"^anorex(.*)xls$\")"
   ]
  },
  {
   "cell_type": "markdown",
   "metadata": {},
   "source": [
    "### Checking if a file or folder exists\n",
    "\n",
    "Como exercício vamos checar se o arquivo \"anorexigenos.xls\" existe no diretório de trabalho.\n",
    "A função para verificação é:\n",
    "> `file.exists(\"filename.extension\")`"
   ]
  },
  {
   "cell_type": "code",
   "execution_count": 7,
   "metadata": {},
   "outputs": [
    {
     "data": {
      "text/html": [
       "TRUE"
      ],
      "text/latex": [
       "TRUE"
      ],
      "text/markdown": [
       "TRUE"
      ],
      "text/plain": [
       "[1] TRUE"
      ]
     },
     "metadata": {},
     "output_type": "display_data"
    }
   ],
   "source": [
    "file.exists(\"anorexigenos.xls\")"
   ]
  },
  {
   "cell_type": "markdown",
   "metadata": {},
   "source": [
    "Podemos ver que o resultado é TRUE, de modo que o arquivo em questão existe!\n",
    "\n",
    "Agora vamos inicialmente checar se a pasta \"Data\" existe diretório corrente, se não existir cria-se o diretório:"
   ]
  },
  {
   "cell_type": "code",
   "execution_count": 8,
   "metadata": {},
   "outputs": [
    {
     "data": {
      "text/html": [
       "'Diretorio já existe!'"
      ],
      "text/latex": [
       "'Diretorio já existe!'"
      ],
      "text/markdown": [
       "'Diretorio já existe!'"
      ],
      "text/plain": [
       "[1] \"Diretorio já existe!\""
      ]
     },
     "metadata": {},
     "output_type": "display_data"
    }
   ],
   "source": [
    "ifelse(!dir.exists(\"Data\"), dir.create(\"Data\"), \"Diretorio já existe!\") # Execute esta linha de comando mais uma vez."
   ]
  },
  {
   "cell_type": "markdown",
   "metadata": {},
   "source": [
    "## Importando dados para Data.Frame"
   ]
  },
  {
   "cell_type": "markdown",
   "metadata": {},
   "source": [
    "[Tutorial genérico para importação dados em R](http://www.r-tutor.com/r-introduction/data-frame/data-import)"
   ]
  },
  {
   "cell_type": "markdown",
   "metadata": {},
   "source": [
    "### Arquivos textos"
   ]
  },
  {
   "cell_type": "code",
   "execution_count": 9,
   "metadata": {},
   "outputs": [],
   "source": [
    "si_ca1 = read.table(\"./Sardanelli/table_4_2.txt\",header=TRUE)  # read text file \n",
    "si_ca2 = read.table(\"./Sardanelli/table_4_3.txt\",header=TRUE)  # read second text file"
   ]
  },
  {
   "cell_type": "code",
   "execution_count": 10,
   "metadata": {
    "cell_style": "split"
   },
   "outputs": [
    {
     "data": {
      "text/html": [
       "<table>\n",
       "<caption>A data.frame: 6 × 2</caption>\n",
       "<thead>\n",
       "\t<tr><th></th><th scope=col>Individual</th><th scope=col>SI</th></tr>\n",
       "\t<tr><th></th><th scope=col>&lt;int&gt;</th><th scope=col>&lt;dbl&gt;</th></tr>\n",
       "</thead>\n",
       "<tbody>\n",
       "\t<tr><th scope=row>1</th><td>1</td><td>38.74</td></tr>\n",
       "\t<tr><th scope=row>2</th><td>2</td><td>39.26</td></tr>\n",
       "\t<tr><th scope=row>3</th><td>3</td><td>39.13</td></tr>\n",
       "\t<tr><th scope=row>4</th><td>4</td><td>40.56</td></tr>\n",
       "\t<tr><th scope=row>5</th><td>5</td><td>37.18</td></tr>\n",
       "\t<tr><th scope=row>6</th><td>6</td><td>38.61</td></tr>\n",
       "</tbody>\n",
       "</table>\n"
      ],
      "text/latex": [
       "A data.frame: 6 × 2\n",
       "\\begin{tabular}{r|ll}\n",
       "  & Individual & SI\\\\\n",
       "  & <int> & <dbl>\\\\\n",
       "\\hline\n",
       "\t1 & 1 & 38.74\\\\\n",
       "\t2 & 2 & 39.26\\\\\n",
       "\t3 & 3 & 39.13\\\\\n",
       "\t4 & 4 & 40.56\\\\\n",
       "\t5 & 5 & 37.18\\\\\n",
       "\t6 & 6 & 38.61\\\\\n",
       "\\end{tabular}\n"
      ],
      "text/markdown": [
       "\n",
       "A data.frame: 6 × 2\n",
       "\n",
       "| <!--/--> | Individual &lt;int&gt; | SI &lt;dbl&gt; |\n",
       "|---|---|---|\n",
       "| 1 | 1 | 38.74 |\n",
       "| 2 | 2 | 39.26 |\n",
       "| 3 | 3 | 39.13 |\n",
       "| 4 | 4 | 40.56 |\n",
       "| 5 | 5 | 37.18 |\n",
       "| 6 | 6 | 38.61 |\n",
       "\n"
      ],
      "text/plain": [
       "  Individual SI   \n",
       "1 1          38.74\n",
       "2 2          39.26\n",
       "3 3          39.13\n",
       "4 4          40.56\n",
       "5 5          37.18\n",
       "6 6          38.61"
      ]
     },
     "metadata": {},
     "output_type": "display_data"
    }
   ],
   "source": [
    "head(si_ca1)"
   ]
  },
  {
   "cell_type": "code",
   "execution_count": 11,
   "metadata": {
    "cell_style": "split"
   },
   "outputs": [
    {
     "data": {
      "text/html": [
       "<table>\n",
       "<caption>A data.frame: 6 × 2</caption>\n",
       "<thead>\n",
       "\t<tr><th></th><th scope=col>Individual</th><th scope=col>SI</th></tr>\n",
       "\t<tr><th></th><th scope=col>&lt;int&gt;</th><th scope=col>&lt;dbl&gt;</th></tr>\n",
       "</thead>\n",
       "<tbody>\n",
       "\t<tr><th scope=row>1</th><td>1</td><td>50.36</td></tr>\n",
       "\t<tr><th scope=row>2</th><td>2</td><td>51.04</td></tr>\n",
       "\t<tr><th scope=row>3</th><td>3</td><td>50.87</td></tr>\n",
       "\t<tr><th scope=row>4</th><td>4</td><td>52.73</td></tr>\n",
       "\t<tr><th scope=row>5</th><td>5</td><td>48.33</td></tr>\n",
       "\t<tr><th scope=row>6</th><td>6</td><td>50.19</td></tr>\n",
       "</tbody>\n",
       "</table>\n"
      ],
      "text/latex": [
       "A data.frame: 6 × 2\n",
       "\\begin{tabular}{r|ll}\n",
       "  & Individual & SI\\\\\n",
       "  & <int> & <dbl>\\\\\n",
       "\\hline\n",
       "\t1 & 1 & 50.36\\\\\n",
       "\t2 & 2 & 51.04\\\\\n",
       "\t3 & 3 & 50.87\\\\\n",
       "\t4 & 4 & 52.73\\\\\n",
       "\t5 & 5 & 48.33\\\\\n",
       "\t6 & 6 & 50.19\\\\\n",
       "\\end{tabular}\n"
      ],
      "text/markdown": [
       "\n",
       "A data.frame: 6 × 2\n",
       "\n",
       "| <!--/--> | Individual &lt;int&gt; | SI &lt;dbl&gt; |\n",
       "|---|---|---|\n",
       "| 1 | 1 | 50.36 |\n",
       "| 2 | 2 | 51.04 |\n",
       "| 3 | 3 | 50.87 |\n",
       "| 4 | 4 | 52.73 |\n",
       "| 5 | 5 | 48.33 |\n",
       "| 6 | 6 | 50.19 |\n",
       "\n"
      ],
      "text/plain": [
       "  Individual SI   \n",
       "1 1          50.36\n",
       "2 2          51.04\n",
       "3 3          50.87\n",
       "4 4          52.73\n",
       "5 5          48.33\n",
       "6 6          50.19"
      ]
     },
     "metadata": {},
     "output_type": "display_data"
    }
   ],
   "source": [
    "head(si_ca2)"
   ]
  },
  {
   "cell_type": "code",
   "execution_count": 12,
   "metadata": {
    "cell_style": "split"
   },
   "outputs": [
    {
     "data": {
      "text/html": [
       "<table>\n",
       "<caption>A data.frame: 6 × 2</caption>\n",
       "<thead>\n",
       "\t<tr><th></th><th scope=col>Individual</th><th scope=col>SI</th></tr>\n",
       "\t<tr><th></th><th scope=col>&lt;int&gt;</th><th scope=col>&lt;dbl&gt;</th></tr>\n",
       "</thead>\n",
       "<tbody>\n",
       "\t<tr><th scope=row>45</th><td>45</td><td>38.74</td></tr>\n",
       "\t<tr><th scope=row>46</th><td>46</td><td>38.60</td></tr>\n",
       "\t<tr><th scope=row>47</th><td>47</td><td>39.00</td></tr>\n",
       "\t<tr><th scope=row>48</th><td>48</td><td>39.13</td></tr>\n",
       "\t<tr><th scope=row>49</th><td>49</td><td>38.74</td></tr>\n",
       "\t<tr><th scope=row>50</th><td>50</td><td>39.13</td></tr>\n",
       "</tbody>\n",
       "</table>\n"
      ],
      "text/latex": [
       "A data.frame: 6 × 2\n",
       "\\begin{tabular}{r|ll}\n",
       "  & Individual & SI\\\\\n",
       "  & <int> & <dbl>\\\\\n",
       "\\hline\n",
       "\t45 & 45 & 38.74\\\\\n",
       "\t46 & 46 & 38.60\\\\\n",
       "\t47 & 47 & 39.00\\\\\n",
       "\t48 & 48 & 39.13\\\\\n",
       "\t49 & 49 & 38.74\\\\\n",
       "\t50 & 50 & 39.13\\\\\n",
       "\\end{tabular}\n"
      ],
      "text/markdown": [
       "\n",
       "A data.frame: 6 × 2\n",
       "\n",
       "| <!--/--> | Individual &lt;int&gt; | SI &lt;dbl&gt; |\n",
       "|---|---|---|\n",
       "| 45 | 45 | 38.74 |\n",
       "| 46 | 46 | 38.60 |\n",
       "| 47 | 47 | 39.00 |\n",
       "| 48 | 48 | 39.13 |\n",
       "| 49 | 49 | 38.74 |\n",
       "| 50 | 50 | 39.13 |\n",
       "\n"
      ],
      "text/plain": [
       "   Individual SI   \n",
       "45 45         38.74\n",
       "46 46         38.60\n",
       "47 47         39.00\n",
       "48 48         39.13\n",
       "49 49         38.74\n",
       "50 50         39.13"
      ]
     },
     "metadata": {},
     "output_type": "display_data"
    },
    {
     "data": {
      "text/html": [
       "39.0182"
      ],
      "text/latex": [
       "39.0182"
      ],
      "text/markdown": [
       "39.0182"
      ],
      "text/plain": [
       "[1] 39.0182"
      ]
     },
     "metadata": {},
     "output_type": "display_data"
    }
   ],
   "source": [
    "tail(si_ca1)\n",
    "mean(si_ca1$SI)"
   ]
  },
  {
   "cell_type": "code",
   "execution_count": 13,
   "metadata": {
    "cell_style": "split"
   },
   "outputs": [
    {
     "data": {
      "text/html": [
       "<table>\n",
       "<caption>A data.frame: 6 × 2</caption>\n",
       "<thead>\n",
       "\t<tr><th></th><th scope=col>Individual</th><th scope=col>SI</th></tr>\n",
       "\t<tr><th></th><th scope=col>&lt;int&gt;</th><th scope=col>&lt;dbl&gt;</th></tr>\n",
       "</thead>\n",
       "<tbody>\n",
       "\t<tr><th scope=row>45</th><td>45</td><td>50.36</td></tr>\n",
       "\t<tr><th scope=row>46</th><td>46</td><td>50.18</td></tr>\n",
       "\t<tr><th scope=row>47</th><td>47</td><td>50.70</td></tr>\n",
       "\t<tr><th scope=row>48</th><td>48</td><td>50.87</td></tr>\n",
       "\t<tr><th scope=row>49</th><td>49</td><td>50.36</td></tr>\n",
       "\t<tr><th scope=row>50</th><td>50</td><td>50.87</td></tr>\n",
       "</tbody>\n",
       "</table>\n"
      ],
      "text/latex": [
       "A data.frame: 6 × 2\n",
       "\\begin{tabular}{r|ll}\n",
       "  & Individual & SI\\\\\n",
       "  & <int> & <dbl>\\\\\n",
       "\\hline\n",
       "\t45 & 45 & 50.36\\\\\n",
       "\t46 & 46 & 50.18\\\\\n",
       "\t47 & 47 & 50.70\\\\\n",
       "\t48 & 48 & 50.87\\\\\n",
       "\t49 & 49 & 50.36\\\\\n",
       "\t50 & 50 & 50.87\\\\\n",
       "\\end{tabular}\n"
      ],
      "text/markdown": [
       "\n",
       "A data.frame: 6 × 2\n",
       "\n",
       "| <!--/--> | Individual &lt;int&gt; | SI &lt;dbl&gt; |\n",
       "|---|---|---|\n",
       "| 45 | 45 | 50.36 |\n",
       "| 46 | 46 | 50.18 |\n",
       "| 47 | 47 | 50.70 |\n",
       "| 48 | 48 | 50.87 |\n",
       "| 49 | 49 | 50.36 |\n",
       "| 50 | 50 | 50.87 |\n",
       "\n"
      ],
      "text/plain": [
       "   Individual SI   \n",
       "45 45         50.36\n",
       "46 46         50.18\n",
       "47 47         50.70\n",
       "48 48         50.87\n",
       "49 49         50.36\n",
       "50 50         50.87"
      ]
     },
     "metadata": {},
     "output_type": "display_data"
    },
    {
     "data": {
      "text/html": [
       "50.724"
      ],
      "text/latex": [
       "50.724"
      ],
      "text/markdown": [
       "50.724"
      ],
      "text/plain": [
       "[1] 50.724"
      ]
     },
     "metadata": {},
     "output_type": "display_data"
    }
   ],
   "source": [
    "tail(si_ca2)\n",
    "mean(si_ca2$SI)"
   ]
  },
  {
   "cell_type": "markdown",
   "metadata": {},
   "source": [
    "### Importando arquivo em formato CSV"
   ]
  },
  {
   "cell_type": "markdown",
   "metadata": {},
   "source": [
    "**CSV = comma separated values**"
   ]
  },
  {
   "cell_type": "code",
   "execution_count": 14,
   "metadata": {},
   "outputs": [
    {
     "data": {
      "text/html": [
       "<table>\n",
       "<caption>A data.frame: 6 × 2</caption>\n",
       "<thead>\n",
       "\t<tr><th></th><th scope=col>Individual</th><th scope=col>SI</th></tr>\n",
       "\t<tr><th></th><th scope=col>&lt;int&gt;</th><th scope=col>&lt;dbl&gt;</th></tr>\n",
       "</thead>\n",
       "<tbody>\n",
       "\t<tr><th scope=row>1</th><td>1</td><td>38.74</td></tr>\n",
       "\t<tr><th scope=row>2</th><td>2</td><td>39.26</td></tr>\n",
       "\t<tr><th scope=row>3</th><td>3</td><td>39.13</td></tr>\n",
       "\t<tr><th scope=row>4</th><td>4</td><td>40.56</td></tr>\n",
       "\t<tr><th scope=row>5</th><td>5</td><td>37.18</td></tr>\n",
       "\t<tr><th scope=row>6</th><td>6</td><td>38.61</td></tr>\n",
       "</tbody>\n",
       "</table>\n"
      ],
      "text/latex": [
       "A data.frame: 6 × 2\n",
       "\\begin{tabular}{r|ll}\n",
       "  & Individual & SI\\\\\n",
       "  & <int> & <dbl>\\\\\n",
       "\\hline\n",
       "\t1 & 1 & 38.74\\\\\n",
       "\t2 & 2 & 39.26\\\\\n",
       "\t3 & 3 & 39.13\\\\\n",
       "\t4 & 4 & 40.56\\\\\n",
       "\t5 & 5 & 37.18\\\\\n",
       "\t6 & 6 & 38.61\\\\\n",
       "\\end{tabular}\n"
      ],
      "text/markdown": [
       "\n",
       "A data.frame: 6 × 2\n",
       "\n",
       "| <!--/--> | Individual &lt;int&gt; | SI &lt;dbl&gt; |\n",
       "|---|---|---|\n",
       "| 1 | 1 | 38.74 |\n",
       "| 2 | 2 | 39.26 |\n",
       "| 3 | 3 | 39.13 |\n",
       "| 4 | 4 | 40.56 |\n",
       "| 5 | 5 | 37.18 |\n",
       "| 6 | 6 | 38.61 |\n",
       "\n"
      ],
      "text/plain": [
       "  Individual SI   \n",
       "1 1          38.74\n",
       "2 2          39.26\n",
       "3 3          39.13\n",
       "4 4          40.56\n",
       "5 5          37.18\n",
       "6 6          38.61"
      ]
     },
     "metadata": {},
     "output_type": "display_data"
    },
    {
     "data": {
      "text/html": [
       "<table>\n",
       "<caption>A data.frame: 6 × 2</caption>\n",
       "<thead>\n",
       "\t<tr><th></th><th scope=col>Individual</th><th scope=col>SI</th></tr>\n",
       "\t<tr><th></th><th scope=col>&lt;int&gt;</th><th scope=col>&lt;dbl&gt;</th></tr>\n",
       "</thead>\n",
       "<tbody>\n",
       "\t<tr><th scope=row>1</th><td>1</td><td>50.36</td></tr>\n",
       "\t<tr><th scope=row>2</th><td>2</td><td>51.04</td></tr>\n",
       "\t<tr><th scope=row>3</th><td>3</td><td>50.87</td></tr>\n",
       "\t<tr><th scope=row>4</th><td>4</td><td>52.73</td></tr>\n",
       "\t<tr><th scope=row>5</th><td>5</td><td>48.33</td></tr>\n",
       "\t<tr><th scope=row>6</th><td>6</td><td>50.19</td></tr>\n",
       "</tbody>\n",
       "</table>\n"
      ],
      "text/latex": [
       "A data.frame: 6 × 2\n",
       "\\begin{tabular}{r|ll}\n",
       "  & Individual & SI\\\\\n",
       "  & <int> & <dbl>\\\\\n",
       "\\hline\n",
       "\t1 & 1 & 50.36\\\\\n",
       "\t2 & 2 & 51.04\\\\\n",
       "\t3 & 3 & 50.87\\\\\n",
       "\t4 & 4 & 52.73\\\\\n",
       "\t5 & 5 & 48.33\\\\\n",
       "\t6 & 6 & 50.19\\\\\n",
       "\\end{tabular}\n"
      ],
      "text/markdown": [
       "\n",
       "A data.frame: 6 × 2\n",
       "\n",
       "| <!--/--> | Individual &lt;int&gt; | SI &lt;dbl&gt; |\n",
       "|---|---|---|\n",
       "| 1 | 1 | 50.36 |\n",
       "| 2 | 2 | 51.04 |\n",
       "| 3 | 3 | 50.87 |\n",
       "| 4 | 4 | 52.73 |\n",
       "| 5 | 5 | 48.33 |\n",
       "| 6 | 6 | 50.19 |\n",
       "\n"
      ],
      "text/plain": [
       "  Individual SI   \n",
       "1 1          50.36\n",
       "2 2          51.04\n",
       "3 3          50.87\n",
       "4 4          52.73\n",
       "5 5          48.33\n",
       "6 6          50.19"
      ]
     },
     "metadata": {},
     "output_type": "display_data"
    }
   ],
   "source": [
    "si_ca1_csv = read.csv(\"./Sardanelli/table_4_2.csv\")  # read text file \n",
    "si_ca2_csv = read.csv(\"./Sardanelli/table_4_3.csv\")  # read second text file \n",
    "head(si_ca1_csv)\n",
    "head(si_ca2_csv)"
   ]
  },
  {
   "cell_type": "markdown",
   "metadata": {},
   "source": [
    "Vamos calcular o sumário da Tabela 4.2:"
   ]
  },
  {
   "cell_type": "code",
   "execution_count": 15,
   "metadata": {},
   "outputs": [
    {
     "data": {
      "text/plain": [
       "   Individual          SI       \n",
       " Min.   : 1.00   Min.   :35.62  \n",
       " 1st Qu.:13.25   1st Qu.:38.34  \n",
       " Median :25.50   Median :39.06  \n",
       " Mean   :25.50   Mean   :39.02  \n",
       " 3rd Qu.:37.75   3rd Qu.:39.75  \n",
       " Max.   :50.00   Max.   :42.25  "
      ]
     },
     "metadata": {},
     "output_type": "display_data"
    }
   ],
   "source": [
    "summary(si_ca1_csv)"
   ]
  },
  {
   "cell_type": "markdown",
   "metadata": {},
   "source": [
    "## Cálculo do Erro Padrão da Média (EPM)"
   ]
  },
  {
   "cell_type": "markdown",
   "metadata": {},
   "source": [
    "Leia sobre EPM em [An R Companion for the Handbook of Biological Statistics - SEM](https://rcompanion.org/rcompanion/c_03.html) e [neste site de John H. McDonald](http://www.biostathandbook.com/standarderror.html). \n",
    "\n",
    "**Recomendamos**: Este site elaborado por Salvatore S. Mangiafico é uma excelente fonte para praticantes da análise estatística em R. \n",
    "\n",
    "No R, o erro padrão da média (EPM) pode ser calculado com funções padrão no pacote de estatísticas nativas. Similar à função `summary( )`, existe uma função de **descrição no pacote psych**, `describe( )`, que inclui o cálculo do erro padrão da média junto com outras estatísticas descritivas. Esta função é útil para resumir várias variáveis em um quadro de dados. Nesse caso é interessante que os dados estejam no formato WIDE."
   ]
  },
  {
   "cell_type": "code",
   "execution_count": 16,
   "metadata": {},
   "outputs": [
    {
     "name": "stderr",
     "output_type": "stream",
     "text": [
      "Loading required package: psych\n",
      "\n"
     ]
    }
   ],
   "source": [
    "# Instala o pacote/bliblioteca `psych` se ainda não está presente\n",
    "if (!require(\"psych\")) install.packages(\"psych\",repo=\"https://vps.fmvz.usp.br/CRAN/\",dep=TRUE)"
   ]
  },
  {
   "cell_type": "code",
   "execution_count": 17,
   "metadata": {},
   "outputs": [],
   "source": [
    "library(psych)"
   ]
  },
  {
   "cell_type": "markdown",
   "metadata": {},
   "source": [
    "### Cálculo de EPM manualmente"
   ]
  },
  {
   "cell_type": "markdown",
   "metadata": {},
   "source": [
    "$$ \\large {EPM = \\frac{\\text{desvio-padrão}}{\\sqrt{N}}}$$\n"
   ]
  },
  {
   "cell_type": "code",
   "execution_count": 18,
   "metadata": {},
   "outputs": [
    {
     "name": "stdout",
     "output_type": "stream",
     "text": [
      "sd_ca1 =  1.460874 ; sd_ca2 =  1.899586 ; se_ca1 =  0.2065988 ; se_ca2 =  0.2686421"
     ]
    }
   ],
   "source": [
    "# Aplicação acima para cálculo do EPM para os contrastes CA1 e CA2.\n",
    "se_ca1 <- sd(si_ca1$SI)/sqrt(length(si_ca1$SI[!is.na(si_ca1$SI)])) # se = standard error ~ epm\n",
    "se_ca2 <- sd(si_ca2$SI)/sqrt(length(si_ca2$SI[!is.na(si_ca2$SI)]))\n",
    "\n",
    "cat('sd_ca1 = ', sd(si_ca1$SI), '; sd_ca2 = ', sd(si_ca2$SI), '; ')\n",
    "cat('se_ca1 = ', se_ca1, '; se_ca2 = ', se_ca2)"
   ]
  },
  {
   "cell_type": "code",
   "execution_count": 19,
   "metadata": {},
   "outputs": [
    {
     "name": "stdout",
     "output_type": "stream",
     "text": [
      "'data.frame':\t50 obs. of  2 variables:\n",
      " $ Individual: int  1 2 3 4 5 6 7 8 9 10 ...\n",
      " $ SI        : num  38.7 39.3 39.1 40.6 37.2 ...\n"
     ]
    }
   ],
   "source": [
    "str(si_ca1)"
   ]
  },
  {
   "cell_type": "code",
   "execution_count": 20,
   "metadata": {},
   "outputs": [
    {
     "data": {
      "text/html": [
       "<table>\n",
       "<caption>A data.frame: 6 × 2</caption>\n",
       "<thead>\n",
       "\t<tr><th></th><th scope=col>Individual</th><th scope=col>SI</th></tr>\n",
       "\t<tr><th></th><th scope=col>&lt;int&gt;</th><th scope=col>&lt;dbl&gt;</th></tr>\n",
       "</thead>\n",
       "<tbody>\n",
       "\t<tr><th scope=row>45</th><td>45</td><td>38.74</td></tr>\n",
       "\t<tr><th scope=row>46</th><td>46</td><td>38.60</td></tr>\n",
       "\t<tr><th scope=row>47</th><td>47</td><td>39.00</td></tr>\n",
       "\t<tr><th scope=row>48</th><td>48</td><td>39.13</td></tr>\n",
       "\t<tr><th scope=row>49</th><td>49</td><td>38.74</td></tr>\n",
       "\t<tr><th scope=row>50</th><td>50</td><td>39.13</td></tr>\n",
       "</tbody>\n",
       "</table>\n"
      ],
      "text/latex": [
       "A data.frame: 6 × 2\n",
       "\\begin{tabular}{r|ll}\n",
       "  & Individual & SI\\\\\n",
       "  & <int> & <dbl>\\\\\n",
       "\\hline\n",
       "\t45 & 45 & 38.74\\\\\n",
       "\t46 & 46 & 38.60\\\\\n",
       "\t47 & 47 & 39.00\\\\\n",
       "\t48 & 48 & 39.13\\\\\n",
       "\t49 & 49 & 38.74\\\\\n",
       "\t50 & 50 & 39.13\\\\\n",
       "\\end{tabular}\n"
      ],
      "text/markdown": [
       "\n",
       "A data.frame: 6 × 2\n",
       "\n",
       "| <!--/--> | Individual &lt;int&gt; | SI &lt;dbl&gt; |\n",
       "|---|---|---|\n",
       "| 45 | 45 | 38.74 |\n",
       "| 46 | 46 | 38.60 |\n",
       "| 47 | 47 | 39.00 |\n",
       "| 48 | 48 | 39.13 |\n",
       "| 49 | 49 | 38.74 |\n",
       "| 50 | 50 | 39.13 |\n",
       "\n"
      ],
      "text/plain": [
       "   Individual SI   \n",
       "45 45         38.74\n",
       "46 46         38.60\n",
       "47 47         39.00\n",
       "48 48         39.13\n",
       "49 49         38.74\n",
       "50 50         39.13"
      ]
     },
     "metadata": {},
     "output_type": "display_data"
    }
   ],
   "source": [
    "tail(si_ca1)"
   ]
  },
  {
   "cell_type": "code",
   "execution_count": 21,
   "metadata": {},
   "outputs": [
    {
     "data": {
      "text/html": [
       "<table>\n",
       "<caption>A data.frame: 6 × 2</caption>\n",
       "<thead>\n",
       "\t<tr><th></th><th scope=col>Individual</th><th scope=col>SI</th></tr>\n",
       "\t<tr><th></th><th scope=col>&lt;int&gt;</th><th scope=col>&lt;dbl&gt;</th></tr>\n",
       "</thead>\n",
       "<tbody>\n",
       "\t<tr><th scope=row>1</th><td>1</td><td>38.74</td></tr>\n",
       "\t<tr><th scope=row>2</th><td>2</td><td>39.26</td></tr>\n",
       "\t<tr><th scope=row>3</th><td>3</td><td>39.13</td></tr>\n",
       "\t<tr><th scope=row>4</th><td>4</td><td>40.56</td></tr>\n",
       "\t<tr><th scope=row>5</th><td>5</td><td>37.18</td></tr>\n",
       "\t<tr><th scope=row>6</th><td>6</td><td>38.61</td></tr>\n",
       "</tbody>\n",
       "</table>\n"
      ],
      "text/latex": [
       "A data.frame: 6 × 2\n",
       "\\begin{tabular}{r|ll}\n",
       "  & Individual & SI\\\\\n",
       "  & <int> & <dbl>\\\\\n",
       "\\hline\n",
       "\t1 & 1 & 38.74\\\\\n",
       "\t2 & 2 & 39.26\\\\\n",
       "\t3 & 3 & 39.13\\\\\n",
       "\t4 & 4 & 40.56\\\\\n",
       "\t5 & 5 & 37.18\\\\\n",
       "\t6 & 6 & 38.61\\\\\n",
       "\\end{tabular}\n"
      ],
      "text/markdown": [
       "\n",
       "A data.frame: 6 × 2\n",
       "\n",
       "| <!--/--> | Individual &lt;int&gt; | SI &lt;dbl&gt; |\n",
       "|---|---|---|\n",
       "| 1 | 1 | 38.74 |\n",
       "| 2 | 2 | 39.26 |\n",
       "| 3 | 3 | 39.13 |\n",
       "| 4 | 4 | 40.56 |\n",
       "| 5 | 5 | 37.18 |\n",
       "| 6 | 6 | 38.61 |\n",
       "\n"
      ],
      "text/plain": [
       "  Individual SI   \n",
       "1 1          38.74\n",
       "2 2          39.26\n",
       "3 3          39.13\n",
       "4 4          40.56\n",
       "5 5          37.18\n",
       "6 6          38.61"
      ]
     },
     "metadata": {},
     "output_type": "display_data"
    }
   ],
   "source": [
    "head(si_ca1)"
   ]
  },
  {
   "cell_type": "code",
   "execution_count": 22,
   "metadata": {},
   "outputs": [],
   "source": [
    "help(read.table)"
   ]
  },
  {
   "cell_type": "code",
   "execution_count": 23,
   "metadata": {},
   "outputs": [],
   "source": [
    "filename <- \"./Sardanelli/table_4_2.txt\"\n",
    "data1_csv <- read.csv(filename, sep = \" \", quote = \"\\\"\",\n",
    "         dec = \".\", fill = TRUE)"
   ]
  },
  {
   "cell_type": "code",
   "execution_count": 24,
   "metadata": {},
   "outputs": [
    {
     "data": {
      "text/html": [
       "<table>\n",
       "<caption>A data.frame: 6 × 2</caption>\n",
       "<thead>\n",
       "\t<tr><th></th><th scope=col>Individual</th><th scope=col>SI</th></tr>\n",
       "\t<tr><th></th><th scope=col>&lt;int&gt;</th><th scope=col>&lt;dbl&gt;</th></tr>\n",
       "</thead>\n",
       "<tbody>\n",
       "\t<tr><th scope=row>1</th><td>1</td><td>38.74</td></tr>\n",
       "\t<tr><th scope=row>2</th><td>2</td><td>39.26</td></tr>\n",
       "\t<tr><th scope=row>3</th><td>3</td><td>39.13</td></tr>\n",
       "\t<tr><th scope=row>4</th><td>4</td><td>40.56</td></tr>\n",
       "\t<tr><th scope=row>5</th><td>5</td><td>37.18</td></tr>\n",
       "\t<tr><th scope=row>6</th><td>6</td><td>38.61</td></tr>\n",
       "</tbody>\n",
       "</table>\n"
      ],
      "text/latex": [
       "A data.frame: 6 × 2\n",
       "\\begin{tabular}{r|ll}\n",
       "  & Individual & SI\\\\\n",
       "  & <int> & <dbl>\\\\\n",
       "\\hline\n",
       "\t1 & 1 & 38.74\\\\\n",
       "\t2 & 2 & 39.26\\\\\n",
       "\t3 & 3 & 39.13\\\\\n",
       "\t4 & 4 & 40.56\\\\\n",
       "\t5 & 5 & 37.18\\\\\n",
       "\t6 & 6 & 38.61\\\\\n",
       "\\end{tabular}\n"
      ],
      "text/markdown": [
       "\n",
       "A data.frame: 6 × 2\n",
       "\n",
       "| <!--/--> | Individual &lt;int&gt; | SI &lt;dbl&gt; |\n",
       "|---|---|---|\n",
       "| 1 | 1 | 38.74 |\n",
       "| 2 | 2 | 39.26 |\n",
       "| 3 | 3 | 39.13 |\n",
       "| 4 | 4 | 40.56 |\n",
       "| 5 | 5 | 37.18 |\n",
       "| 6 | 6 | 38.61 |\n",
       "\n"
      ],
      "text/plain": [
       "  Individual SI   \n",
       "1 1          38.74\n",
       "2 2          39.26\n",
       "3 3          39.13\n",
       "4 4          40.56\n",
       "5 5          37.18\n",
       "6 6          38.61"
      ]
     },
     "metadata": {},
     "output_type": "display_data"
    }
   ],
   "source": [
    "head(data1_csv)"
   ]
  },
  {
   "cell_type": "markdown",
   "metadata": {},
   "source": [
    "### Acrescentando terceira coluna, a variável tipo de **contrast**"
   ]
  },
  {
   "cell_type": "code",
   "execution_count": 25,
   "metadata": {},
   "outputs": [
    {
     "data": {
      "text/html": [
       "<table>\n",
       "<caption>A data.frame: 6 × 3</caption>\n",
       "<thead>\n",
       "\t<tr><th></th><th scope=col>Individual</th><th scope=col>SI</th><th scope=col>contrast</th></tr>\n",
       "\t<tr><th></th><th scope=col>&lt;int&gt;</th><th scope=col>&lt;dbl&gt;</th><th scope=col>&lt;chr&gt;</th></tr>\n",
       "</thead>\n",
       "<tbody>\n",
       "\t<tr><th scope=row>1</th><td>1</td><td>38.74</td><td>CA1</td></tr>\n",
       "\t<tr><th scope=row>2</th><td>2</td><td>39.26</td><td>CA1</td></tr>\n",
       "\t<tr><th scope=row>3</th><td>3</td><td>39.13</td><td>CA1</td></tr>\n",
       "\t<tr><th scope=row>4</th><td>4</td><td>40.56</td><td>CA1</td></tr>\n",
       "\t<tr><th scope=row>5</th><td>5</td><td>37.18</td><td>CA1</td></tr>\n",
       "\t<tr><th scope=row>6</th><td>6</td><td>38.61</td><td>CA1</td></tr>\n",
       "</tbody>\n",
       "</table>\n"
      ],
      "text/latex": [
       "A data.frame: 6 × 3\n",
       "\\begin{tabular}{r|lll}\n",
       "  & Individual & SI & contrast\\\\\n",
       "  & <int> & <dbl> & <chr>\\\\\n",
       "\\hline\n",
       "\t1 & 1 & 38.74 & CA1\\\\\n",
       "\t2 & 2 & 39.26 & CA1\\\\\n",
       "\t3 & 3 & 39.13 & CA1\\\\\n",
       "\t4 & 4 & 40.56 & CA1\\\\\n",
       "\t5 & 5 & 37.18 & CA1\\\\\n",
       "\t6 & 6 & 38.61 & CA1\\\\\n",
       "\\end{tabular}\n"
      ],
      "text/markdown": [
       "\n",
       "A data.frame: 6 × 3\n",
       "\n",
       "| <!--/--> | Individual &lt;int&gt; | SI &lt;dbl&gt; | contrast &lt;chr&gt; |\n",
       "|---|---|---|---|\n",
       "| 1 | 1 | 38.74 | CA1 |\n",
       "| 2 | 2 | 39.26 | CA1 |\n",
       "| 3 | 3 | 39.13 | CA1 |\n",
       "| 4 | 4 | 40.56 | CA1 |\n",
       "| 5 | 5 | 37.18 | CA1 |\n",
       "| 6 | 6 | 38.61 | CA1 |\n",
       "\n"
      ],
      "text/plain": [
       "  Individual SI    contrast\n",
       "1 1          38.74 CA1     \n",
       "2 2          39.26 CA1     \n",
       "3 3          39.13 CA1     \n",
       "4 4          40.56 CA1     \n",
       "5 5          37.18 CA1     \n",
       "6 6          38.61 CA1     "
      ]
     },
     "metadata": {},
     "output_type": "display_data"
    },
    {
     "data": {
      "text/html": [
       "<table>\n",
       "<caption>A data.frame: 6 × 3</caption>\n",
       "<thead>\n",
       "\t<tr><th></th><th scope=col>Individual</th><th scope=col>SI</th><th scope=col>contrast</th></tr>\n",
       "\t<tr><th></th><th scope=col>&lt;int&gt;</th><th scope=col>&lt;dbl&gt;</th><th scope=col>&lt;chr&gt;</th></tr>\n",
       "</thead>\n",
       "<tbody>\n",
       "\t<tr><th scope=row>1</th><td>1</td><td>50.36</td><td>CA2</td></tr>\n",
       "\t<tr><th scope=row>2</th><td>2</td><td>51.04</td><td>CA2</td></tr>\n",
       "\t<tr><th scope=row>3</th><td>3</td><td>50.87</td><td>CA2</td></tr>\n",
       "\t<tr><th scope=row>4</th><td>4</td><td>52.73</td><td>CA2</td></tr>\n",
       "\t<tr><th scope=row>5</th><td>5</td><td>48.33</td><td>CA2</td></tr>\n",
       "\t<tr><th scope=row>6</th><td>6</td><td>50.19</td><td>CA2</td></tr>\n",
       "</tbody>\n",
       "</table>\n"
      ],
      "text/latex": [
       "A data.frame: 6 × 3\n",
       "\\begin{tabular}{r|lll}\n",
       "  & Individual & SI & contrast\\\\\n",
       "  & <int> & <dbl> & <chr>\\\\\n",
       "\\hline\n",
       "\t1 & 1 & 50.36 & CA2\\\\\n",
       "\t2 & 2 & 51.04 & CA2\\\\\n",
       "\t3 & 3 & 50.87 & CA2\\\\\n",
       "\t4 & 4 & 52.73 & CA2\\\\\n",
       "\t5 & 5 & 48.33 & CA2\\\\\n",
       "\t6 & 6 & 50.19 & CA2\\\\\n",
       "\\end{tabular}\n"
      ],
      "text/markdown": [
       "\n",
       "A data.frame: 6 × 3\n",
       "\n",
       "| <!--/--> | Individual &lt;int&gt; | SI &lt;dbl&gt; | contrast &lt;chr&gt; |\n",
       "|---|---|---|---|\n",
       "| 1 | 1 | 50.36 | CA2 |\n",
       "| 2 | 2 | 51.04 | CA2 |\n",
       "| 3 | 3 | 50.87 | CA2 |\n",
       "| 4 | 4 | 52.73 | CA2 |\n",
       "| 5 | 5 | 48.33 | CA2 |\n",
       "| 6 | 6 | 50.19 | CA2 |\n",
       "\n"
      ],
      "text/plain": [
       "  Individual SI    contrast\n",
       "1 1          50.36 CA2     \n",
       "2 2          51.04 CA2     \n",
       "3 3          50.87 CA2     \n",
       "4 4          52.73 CA2     \n",
       "5 5          48.33 CA2     \n",
       "6 6          50.19 CA2     "
      ]
     },
     "metadata": {},
     "output_type": "display_data"
    }
   ],
   "source": [
    "si_ca1$contrast <- \"CA1\"\n",
    "si_ca2$contrast <- \"CA2\"\n",
    "\n",
    "head(si_ca1)\n",
    "head(si_ca2)"
   ]
  },
  {
   "cell_type": "markdown",
   "metadata": {},
   "source": [
    "## Juntando dois dataframes ou arquivos "
   ]
  },
  {
   "cell_type": "markdown",
   "metadata": {},
   "source": [
    "Dois conjunto de dataframes com nomes de colunas comuns podem ser juntados"
   ]
  },
  {
   "cell_type": "code",
   "execution_count": 26,
   "metadata": {},
   "outputs": [
    {
     "data": {
      "text/html": [
       "<table>\n",
       "<caption>A data.frame: 6 × 3</caption>\n",
       "<thead>\n",
       "\t<tr><th></th><th scope=col>Individual</th><th scope=col>SI</th><th scope=col>contrast</th></tr>\n",
       "\t<tr><th></th><th scope=col>&lt;int&gt;</th><th scope=col>&lt;dbl&gt;</th><th scope=col>&lt;chr&gt;</th></tr>\n",
       "</thead>\n",
       "<tbody>\n",
       "\t<tr><th scope=row>1</th><td>1</td><td>38.74</td><td>CA1</td></tr>\n",
       "\t<tr><th scope=row>2</th><td>2</td><td>39.26</td><td>CA1</td></tr>\n",
       "\t<tr><th scope=row>3</th><td>3</td><td>39.13</td><td>CA1</td></tr>\n",
       "\t<tr><th scope=row>4</th><td>4</td><td>40.56</td><td>CA1</td></tr>\n",
       "\t<tr><th scope=row>5</th><td>5</td><td>37.18</td><td>CA1</td></tr>\n",
       "\t<tr><th scope=row>6</th><td>6</td><td>38.61</td><td>CA1</td></tr>\n",
       "</tbody>\n",
       "</table>\n"
      ],
      "text/latex": [
       "A data.frame: 6 × 3\n",
       "\\begin{tabular}{r|lll}\n",
       "  & Individual & SI & contrast\\\\\n",
       "  & <int> & <dbl> & <chr>\\\\\n",
       "\\hline\n",
       "\t1 & 1 & 38.74 & CA1\\\\\n",
       "\t2 & 2 & 39.26 & CA1\\\\\n",
       "\t3 & 3 & 39.13 & CA1\\\\\n",
       "\t4 & 4 & 40.56 & CA1\\\\\n",
       "\t5 & 5 & 37.18 & CA1\\\\\n",
       "\t6 & 6 & 38.61 & CA1\\\\\n",
       "\\end{tabular}\n"
      ],
      "text/markdown": [
       "\n",
       "A data.frame: 6 × 3\n",
       "\n",
       "| <!--/--> | Individual &lt;int&gt; | SI &lt;dbl&gt; | contrast &lt;chr&gt; |\n",
       "|---|---|---|---|\n",
       "| 1 | 1 | 38.74 | CA1 |\n",
       "| 2 | 2 | 39.26 | CA1 |\n",
       "| 3 | 3 | 39.13 | CA1 |\n",
       "| 4 | 4 | 40.56 | CA1 |\n",
       "| 5 | 5 | 37.18 | CA1 |\n",
       "| 6 | 6 | 38.61 | CA1 |\n",
       "\n"
      ],
      "text/plain": [
       "  Individual SI    contrast\n",
       "1 1          38.74 CA1     \n",
       "2 2          39.26 CA1     \n",
       "3 3          39.13 CA1     \n",
       "4 4          40.56 CA1     \n",
       "5 5          37.18 CA1     \n",
       "6 6          38.61 CA1     "
      ]
     },
     "metadata": {},
     "output_type": "display_data"
    },
    {
     "data": {
      "text/html": [
       "<table>\n",
       "<caption>A data.frame: 6 × 3</caption>\n",
       "<thead>\n",
       "\t<tr><th></th><th scope=col>Individual</th><th scope=col>SI</th><th scope=col>contrast</th></tr>\n",
       "\t<tr><th></th><th scope=col>&lt;int&gt;</th><th scope=col>&lt;dbl&gt;</th><th scope=col>&lt;chr&gt;</th></tr>\n",
       "</thead>\n",
       "<tbody>\n",
       "\t<tr><th scope=row>95</th><td>45</td><td>50.36</td><td>CA2</td></tr>\n",
       "\t<tr><th scope=row>96</th><td>46</td><td>50.18</td><td>CA2</td></tr>\n",
       "\t<tr><th scope=row>97</th><td>47</td><td>50.70</td><td>CA2</td></tr>\n",
       "\t<tr><th scope=row>98</th><td>48</td><td>50.87</td><td>CA2</td></tr>\n",
       "\t<tr><th scope=row>99</th><td>49</td><td>50.36</td><td>CA2</td></tr>\n",
       "\t<tr><th scope=row>100</th><td>50</td><td>50.87</td><td>CA2</td></tr>\n",
       "</tbody>\n",
       "</table>\n"
      ],
      "text/latex": [
       "A data.frame: 6 × 3\n",
       "\\begin{tabular}{r|lll}\n",
       "  & Individual & SI & contrast\\\\\n",
       "  & <int> & <dbl> & <chr>\\\\\n",
       "\\hline\n",
       "\t95 & 45 & 50.36 & CA2\\\\\n",
       "\t96 & 46 & 50.18 & CA2\\\\\n",
       "\t97 & 47 & 50.70 & CA2\\\\\n",
       "\t98 & 48 & 50.87 & CA2\\\\\n",
       "\t99 & 49 & 50.36 & CA2\\\\\n",
       "\t100 & 50 & 50.87 & CA2\\\\\n",
       "\\end{tabular}\n"
      ],
      "text/markdown": [
       "\n",
       "A data.frame: 6 × 3\n",
       "\n",
       "| <!--/--> | Individual &lt;int&gt; | SI &lt;dbl&gt; | contrast &lt;chr&gt; |\n",
       "|---|---|---|---|\n",
       "| 95 | 45 | 50.36 | CA2 |\n",
       "| 96 | 46 | 50.18 | CA2 |\n",
       "| 97 | 47 | 50.70 | CA2 |\n",
       "| 98 | 48 | 50.87 | CA2 |\n",
       "| 99 | 49 | 50.36 | CA2 |\n",
       "| 100 | 50 | 50.87 | CA2 |\n",
       "\n"
      ],
      "text/plain": [
       "    Individual SI    contrast\n",
       "95  45         50.36 CA2     \n",
       "96  46         50.18 CA2     \n",
       "97  47         50.70 CA2     \n",
       "98  48         50.87 CA2     \n",
       "99  49         50.36 CA2     \n",
       "100 50         50.87 CA2     "
      ]
     },
     "metadata": {},
     "output_type": "display_data"
    }
   ],
   "source": [
    "si_total <- rbind(si_ca1, si_ca2)\n",
    "head(si_total)\n",
    "tail(si_total)"
   ]
  },
  {
   "cell_type": "markdown",
   "metadata": {},
   "source": [
    "### LONG => WIDE"
   ]
  },
  {
   "cell_type": "code",
   "execution_count": 27,
   "metadata": {},
   "outputs": [],
   "source": [
    "library(tidyr)\n",
    "si_total_wide <- spread(si_total, contrast, SI)"
   ]
  },
  {
   "cell_type": "code",
   "execution_count": 28,
   "metadata": {},
   "outputs": [
    {
     "data": {
      "text/html": [
       "<table>\n",
       "<caption>A data.frame: 6 × 3</caption>\n",
       "<thead>\n",
       "\t<tr><th></th><th scope=col>Individual</th><th scope=col>CA1</th><th scope=col>CA2</th></tr>\n",
       "\t<tr><th></th><th scope=col>&lt;int&gt;</th><th scope=col>&lt;dbl&gt;</th><th scope=col>&lt;dbl&gt;</th></tr>\n",
       "</thead>\n",
       "<tbody>\n",
       "\t<tr><th scope=row>1</th><td>1</td><td>38.74</td><td>50.36</td></tr>\n",
       "\t<tr><th scope=row>2</th><td>2</td><td>39.26</td><td>51.04</td></tr>\n",
       "\t<tr><th scope=row>3</th><td>3</td><td>39.13</td><td>50.87</td></tr>\n",
       "\t<tr><th scope=row>4</th><td>4</td><td>40.56</td><td>52.73</td></tr>\n",
       "\t<tr><th scope=row>5</th><td>5</td><td>37.18</td><td>48.33</td></tr>\n",
       "\t<tr><th scope=row>6</th><td>6</td><td>38.61</td><td>50.19</td></tr>\n",
       "</tbody>\n",
       "</table>\n"
      ],
      "text/latex": [
       "A data.frame: 6 × 3\n",
       "\\begin{tabular}{r|lll}\n",
       "  & Individual & CA1 & CA2\\\\\n",
       "  & <int> & <dbl> & <dbl>\\\\\n",
       "\\hline\n",
       "\t1 & 1 & 38.74 & 50.36\\\\\n",
       "\t2 & 2 & 39.26 & 51.04\\\\\n",
       "\t3 & 3 & 39.13 & 50.87\\\\\n",
       "\t4 & 4 & 40.56 & 52.73\\\\\n",
       "\t5 & 5 & 37.18 & 48.33\\\\\n",
       "\t6 & 6 & 38.61 & 50.19\\\\\n",
       "\\end{tabular}\n"
      ],
      "text/markdown": [
       "\n",
       "A data.frame: 6 × 3\n",
       "\n",
       "| <!--/--> | Individual &lt;int&gt; | CA1 &lt;dbl&gt; | CA2 &lt;dbl&gt; |\n",
       "|---|---|---|---|\n",
       "| 1 | 1 | 38.74 | 50.36 |\n",
       "| 2 | 2 | 39.26 | 51.04 |\n",
       "| 3 | 3 | 39.13 | 50.87 |\n",
       "| 4 | 4 | 40.56 | 52.73 |\n",
       "| 5 | 5 | 37.18 | 48.33 |\n",
       "| 6 | 6 | 38.61 | 50.19 |\n",
       "\n"
      ],
      "text/plain": [
       "  Individual CA1   CA2  \n",
       "1 1          38.74 50.36\n",
       "2 2          39.26 51.04\n",
       "3 3          39.13 50.87\n",
       "4 4          40.56 52.73\n",
       "5 5          37.18 48.33\n",
       "6 6          38.61 50.19"
      ]
     },
     "metadata": {},
     "output_type": "display_data"
    }
   ],
   "source": [
    "head(si_total_wide)"
   ]
  },
  {
   "cell_type": "markdown",
   "metadata": {},
   "source": [
    "## Gerando sumários dos dados"
   ]
  },
  {
   "cell_type": "code",
   "execution_count": 29,
   "metadata": {},
   "outputs": [],
   "source": [
    "library(psych)"
   ]
  },
  {
   "cell_type": "code",
   "execution_count": 30,
   "metadata": {},
   "outputs": [
    {
     "data": {
      "text/plain": [
       "   Individual         CA1             CA2       \n",
       " Min.   : 1.00   Min.   :35.62   Min.   :46.31  \n",
       " 1st Qu.:13.25   1st Qu.:38.34   1st Qu.:49.85  \n",
       " Median :25.50   Median :39.06   Median :50.78  \n",
       " Mean   :25.50   Mean   :39.02   Mean   :50.72  \n",
       " 3rd Qu.:37.75   3rd Qu.:39.75   3rd Qu.:51.67  \n",
       " Max.   :50.00   Max.   :42.25   Max.   :54.93  "
      ]
     },
     "metadata": {},
     "output_type": "display_data"
    }
   ],
   "source": [
    "summary(si_total_wide)"
   ]
  },
  {
   "cell_type": "code",
   "execution_count": 31,
   "metadata": {
    "scrolled": true
   },
   "outputs": [
    {
     "data": {
      "text/html": [
       "<table>\n",
       "<caption>A psych: 3 × 13</caption>\n",
       "<thead>\n",
       "\t<tr><th></th><th scope=col>vars</th><th scope=col>n</th><th scope=col>mean</th><th scope=col>sd</th><th scope=col>median</th><th scope=col>trimmed</th><th scope=col>mad</th><th scope=col>min</th><th scope=col>max</th><th scope=col>range</th><th scope=col>skew</th><th scope=col>kurtosis</th><th scope=col>se</th></tr>\n",
       "\t<tr><th></th><th scope=col>&lt;int&gt;</th><th scope=col>&lt;dbl&gt;</th><th scope=col>&lt;dbl&gt;</th><th scope=col>&lt;dbl&gt;</th><th scope=col>&lt;dbl&gt;</th><th scope=col>&lt;dbl&gt;</th><th scope=col>&lt;dbl&gt;</th><th scope=col>&lt;dbl&gt;</th><th scope=col>&lt;dbl&gt;</th><th scope=col>&lt;dbl&gt;</th><th scope=col>&lt;dbl&gt;</th><th scope=col>&lt;dbl&gt;</th><th scope=col>&lt;dbl&gt;</th></tr>\n",
       "</thead>\n",
       "<tbody>\n",
       "\t<tr><th scope=row>Individual</th><td>1</td><td>50</td><td>25.5000</td><td>14.577380</td><td>25.500</td><td>25.50000</td><td>18.532500</td><td> 1.00</td><td>50.00</td><td>49.00</td><td>0.000000000</td><td>-1.2722024</td><td>2.0615528</td></tr>\n",
       "\t<tr><th scope=row>CA1</th><td>2</td><td>50</td><td>39.0182</td><td> 1.460874</td><td>39.065</td><td>39.01375</td><td> 1.097124</td><td>35.62</td><td>42.25</td><td> 6.63</td><td>0.002176188</td><td>-0.1042467</td><td>0.2065988</td></tr>\n",
       "\t<tr><th scope=row>CA2</th><td>3</td><td>50</td><td>50.7240</td><td> 1.899586</td><td>50.785</td><td>50.71800</td><td> 1.423296</td><td>46.31</td><td>54.93</td><td> 8.62</td><td>0.003450425</td><td>-0.1050502</td><td>0.2686421</td></tr>\n",
       "</tbody>\n",
       "</table>\n"
      ],
      "text/latex": [
       "A psych: 3 × 13\n",
       "\\begin{tabular}{r|lllllllllllll}\n",
       "  & vars & n & mean & sd & median & trimmed & mad & min & max & range & skew & kurtosis & se\\\\\n",
       "  & <int> & <dbl> & <dbl> & <dbl> & <dbl> & <dbl> & <dbl> & <dbl> & <dbl> & <dbl> & <dbl> & <dbl> & <dbl>\\\\\n",
       "\\hline\n",
       "\tIndividual & 1 & 50 & 25.5000 & 14.577380 & 25.500 & 25.50000 & 18.532500 &  1.00 & 50.00 & 49.00 & 0.000000000 & -1.2722024 & 2.0615528\\\\\n",
       "\tCA1 & 2 & 50 & 39.0182 &  1.460874 & 39.065 & 39.01375 &  1.097124 & 35.62 & 42.25 &  6.63 & 0.002176188 & -0.1042467 & 0.2065988\\\\\n",
       "\tCA2 & 3 & 50 & 50.7240 &  1.899586 & 50.785 & 50.71800 &  1.423296 & 46.31 & 54.93 &  8.62 & 0.003450425 & -0.1050502 & 0.2686421\\\\\n",
       "\\end{tabular}\n"
      ],
      "text/markdown": [
       "\n",
       "A psych: 3 × 13\n",
       "\n",
       "| <!--/--> | vars &lt;int&gt; | n &lt;dbl&gt; | mean &lt;dbl&gt; | sd &lt;dbl&gt; | median &lt;dbl&gt; | trimmed &lt;dbl&gt; | mad &lt;dbl&gt; | min &lt;dbl&gt; | max &lt;dbl&gt; | range &lt;dbl&gt; | skew &lt;dbl&gt; | kurtosis &lt;dbl&gt; | se &lt;dbl&gt; |\n",
       "|---|---|---|---|---|---|---|---|---|---|---|---|---|---|\n",
       "| Individual | 1 | 50 | 25.5000 | 14.577380 | 25.500 | 25.50000 | 18.532500 |  1.00 | 50.00 | 49.00 | 0.000000000 | -1.2722024 | 2.0615528 |\n",
       "| CA1 | 2 | 50 | 39.0182 |  1.460874 | 39.065 | 39.01375 |  1.097124 | 35.62 | 42.25 |  6.63 | 0.002176188 | -0.1042467 | 0.2065988 |\n",
       "| CA2 | 3 | 50 | 50.7240 |  1.899586 | 50.785 | 50.71800 |  1.423296 | 46.31 | 54.93 |  8.62 | 0.003450425 | -0.1050502 | 0.2686421 |\n",
       "\n"
      ],
      "text/plain": [
       "           vars n  mean    sd        median trimmed  mad       min   max  \n",
       "Individual 1    50 25.5000 14.577380 25.500 25.50000 18.532500  1.00 50.00\n",
       "CA1        2    50 39.0182  1.460874 39.065 39.01375  1.097124 35.62 42.25\n",
       "CA2        3    50 50.7240  1.899586 50.785 50.71800  1.423296 46.31 54.93\n",
       "           range skew        kurtosis   se       \n",
       "Individual 49.00 0.000000000 -1.2722024 2.0615528\n",
       "CA1         6.63 0.002176188 -0.1042467 0.2065988\n",
       "CA2         8.62 0.003450425 -0.1050502 0.2686421"
      ]
     },
     "metadata": {},
     "output_type": "display_data"
    }
   ],
   "source": [
    "# A função describe do pacote psych requer dados no formato WIDE\n",
    "describe(si_total_wide)"
   ]
  },
  {
   "cell_type": "markdown",
   "metadata": {},
   "source": [
    "Note que os valores de EPM, **se** em inglês, estão na última coluna à direita. `describe()` emite um relatório mais completo que a função `summary()`."
   ]
  },
  {
   "cell_type": "markdown",
   "metadata": {},
   "source": [
    "## Visualizar os dados por box plots"
   ]
  },
  {
   "cell_type": "markdown",
   "metadata": {},
   "source": [
    "Fonte: [Statistical tools for high-throughput data analysis](http://www.sthda.com/english/wiki/paired-samples-t-test-in-r)"
   ]
  },
  {
   "cell_type": "code",
   "execution_count": 39,
   "metadata": {},
   "outputs": [
    {
     "data": {
      "image/png": "[encoded data removed]",
      "text/plain": [
       "plot without title"
      ]
     },
     "metadata": {
      "image/png": {
       "height": 420,
       "width": 420
      }
     },
     "output_type": "display_data"
    }
   ],
   "source": [
    "if (!require(\"ggpubr\")) install.packages(\"ggpubr\",repo=\"https://vps.fmvz.usp.br/CRAN/\",dep=TRUE)\n",
    "\n",
    "library(ggpubr)\n",
    "\n",
    "# Note que aqui é necessário usar o formato LONG de dados\n",
    "\n",
    "ggboxplot(si_total, x = \"contrast\", y = \"SI\", \n",
    "          color = \"contrast\", palette = c(\"#00AFDD\", \"#E77700\"),\n",
    "          order = c(\"CA1\", \"CA2\"),\n",
    "          ylab = \"SI (a.u.)\", xlab = \"Tipo de contraste\")"
   ]
  },
  {
   "cell_type": "markdown",
   "metadata": {},
   "source": [
    "Pela visualização do **box plot** fica evidente que o sinal gerado pelo contraste CA2 é bem maior que o do contraste CA1.\n",
    "\n",
    "Com isso poderíamos ter feito um teste monocaudal de tal sorte que a hipótese alternativa poderia ser  $H_1: si_{CA2} > si_{CA2}$\n",
    "\n",
    "Mas insistiremos no teste bicaudal:"
   ]
  },
  {
   "cell_type": "markdown",
   "metadata": {},
   "source": [
    "## Teste t não pareado bicaudal"
   ]
  },
  {
   "cell_type": "markdown",
   "metadata": {},
   "source": [
    "Neste caso o teste estatístico é \n",
    "\n",
    "> $H_0: \\mu_{CA1} = \\mu_{CA2}$;  \n",
    "> $H_1: \\mu_{CA1} \\neq \\mu_{CA2}$.  \n",
    "> $\\alpha = 5%$"
   ]
  },
  {
   "cell_type": "code",
   "execution_count": 33,
   "metadata": {},
   "outputs": [],
   "source": [
    "?t.test # Para visualizar o help de t.test"
   ]
  },
  {
   "cell_type": "code",
   "execution_count": 34,
   "metadata": {},
   "outputs": [
    {
     "data": {
      "text/plain": [
       "\n",
       "\tWelch Two Sample t-test\n",
       "\n",
       "data:  si_total_wide$CA2 and si_total_wide$CA1\n",
       "t = 34.541, df = 91.94, p-value < 2.2e-16\n",
       "alternative hypothesis: true difference in means is not equal to 0\n",
       "95 percent confidence interval:\n",
       " 11.03271 12.37889\n",
       "sample estimates:\n",
       "mean of x mean of y \n",
       "  50.7240   39.0182 \n"
      ]
     },
     "metadata": {},
     "output_type": "display_data"
    }
   ],
   "source": [
    "t.test(si_total_wide$CA2,\n",
    "       si_total_wide$CA1,\n",
    "       paired=FALSE,\n",
    "       alternative=\"two.sided\",  # bicaudal\n",
    "       mu = 0,                   # \n",
    "       conf.level=0.95)"
   ]
  },
  {
   "cell_type": "markdown",
   "metadata": {},
   "source": [
    "***\n",
    "\n",
    "<p align=\"center\">\n",
    "    <center><img src=\"./image/sardanelli_t_teste_SI.png\" alt=\"drawing\" width=\"600\"/></center>\n",
    "</p>"
   ]
  },
  {
   "cell_type": "markdown",
   "metadata": {},
   "source": [
    "## Reordenando a posição das colunas"
   ]
  },
  {
   "cell_type": "markdown",
   "metadata": {},
   "source": [
    "Parece ser lógico ordenar as variáveis de coluna hierarquicamente, por exemplo, nessa ordem: **contrast** => **Individual** => **SI**.\n",
    "<br>\n",
    "Há diversas maneiras de se obter este efeito em R. Vejamos quatro métodos:"
   ]
  },
  {
   "cell_type": "code",
   "execution_count": null,
   "metadata": {},
   "outputs": [],
   "source": [
    "### Reordenação método 1\n",
    "si_total[, c(3, 1, 2)]  # A primeira vírgula sinaliza que todas as linhas devem ser mantidas, \n",
    "                        # e 3, 1, 2 refere-se a ordem das colunas."
   ]
  },
  {
   "cell_type": "code",
   "execution_count": null,
   "metadata": {},
   "outputs": [],
   "source": [
    "### Reordenação método 2\n",
    "si_total[, c(\"contrast\", \"Individual\", \"SI\")] # Vide observação acima."
   ]
  },
  {
   "cell_type": "code",
   "execution_count": null,
   "metadata": {},
   "outputs": [],
   "source": [
    "### Reordenação método 3\n",
    "subset(si_total, select = c(3, 1, 2))"
   ]
  },
  {
   "cell_type": "code",
   "execution_count": null,
   "metadata": {},
   "outputs": [],
   "source": [
    "### Reordenação ou pipeline por meio do dplyr método 4\n",
    "if (!require(\"dplyr\")) install.packages(\"dplyr\", repo = \"https://vps.fmvz.usp.br/CRAN/\", \n",
    "    dep = TRUE)\n",
    "library(dplyr)\n",
    "\n",
    "si_total %>% select(contrast, Individual, SI) # %>% indica operação de pipeline do dplyr "
   ]
  }
 ],
 "metadata": {
  "kernelspec": {
   "display_name": "R3.6.0",
   "language": "R",
   "name": "ir"
  },
  "language_info": {
   "codemirror_mode": "r",
   "file_extension": ".r",
   "mimetype": "text/x-r-source",
   "name": "R",
   "pygments_lexer": "r",
   "version": "3.6.3"
  },
  "latex_envs": {
   "LaTeX_envs_menu_present": true,
   "autoclose": true,
   "autocomplete": true,
   "bibliofile": "biblio.bib",
   "cite_by": "apalike",
   "current_citInitial": 1,
   "eqLabelWithNumbers": true,
   "eqNumInitial": 1,
   "hotkeys": {
    "equation": "Ctrl-E",
    "itemize": "Ctrl-I"
   },
   "labels_anchors": false,
   "latex_user_defs": false,
   "report_style_numbering": false,
   "user_envs_cfg": false
  },
  "toc": {
   "base_numbering": 1,
   "nav_menu": {},
   "number_sections": true,
   "sideBar": true,
   "skip_h1_title": true,
   "title_cell": "Tabela de conteúdos",
   "title_sidebar": "Conteúdo",
   "toc_cell": false,
   "toc_position": {
    "height": "calc(100% - 180px)",
    "left": "10px",
    "top": "150px",
    "width": "277.443px"
   },
   "toc_section_display": true,
   "toc_window_display": false
  },
  "varInspector": {
   "cols": {
    "lenName": 16,
    "lenType": 16,
    "lenVar": 40
   },
   "kernels_config": {
    "python": {
     "delete_cmd_postfix": "",
     "delete_cmd_prefix": "del ",
     "library": "var_list.py",
     "varRefreshCmd": "print(var_dic_list())"
    },
    "r": {
     "delete_cmd_postfix": ") ",
     "delete_cmd_prefix": "rm(",
     "library": "var_list.r",
     "varRefreshCmd": "cat(var_dic_list()) "
    }
   },
   "oldHeight": 442.258818,
   "position": {
    "height": "40px",
    "left": "582.864px",
    "right": "20px",
    "top": "-2px",
    "width": "709.574px"
   },
   "types_to_exclude": [
    "module",
    "function",
    "builtin_function_or_method",
    "instance",
    "_Feature"
   ],
   "varInspector_section_display": "none",
   "window_display": false
  }
 },
 "nbformat": 4,
 "nbformat_minor": 4
}
