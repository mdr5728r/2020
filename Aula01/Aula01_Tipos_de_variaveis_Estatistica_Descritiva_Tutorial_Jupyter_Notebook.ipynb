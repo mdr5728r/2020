{
 "cells": [
  {
   "cell_type": "markdown",
   "metadata": {
    "slideshow": {
     "slide_type": "slide"
    }
   },
   "source": [
    "# MDR5728 - Biostatistics in R for Diagnostic Methods in Medicine — 2020\n",
    "\n",
    "## Lecture 01 - **Variable types, statistical distributions, descriptive statistics, etc**"
   ]
  },
  {
   "cell_type": "markdown",
   "metadata": {
    "slideshow": {
     "slide_type": "slide"
    }
   },
   "source": [
    "## Overview\n",
    "\n",
    "* define statistics and exemplify their use;\n",
    "* distinguish data, information and knowledge;\n",
    "* define variables, data and parameters;\n",
    "* classify types of variables and give examples;\n",
    "* define concepts of samples and populations;\n",
    "* define data reduction;\n",
    "* introduce **R language**, **RStudio** and **Jupyter Notebook**, and execute its commands in R for descriptive statistics.\n",
    "  - input data into R environment;\n",
    "  - calculate measures of central tendency and dispersion using R;\n",
    "  - build R graphs and interpret them;\n",
    "* introduce text formatting with Markdown in RStudio and Jupyter environments."
   ]
  },
  {
   "cell_type": "markdown",
   "metadata": {
    "slideshow": {
     "slide_type": "slide"
    }
   },
   "source": [
    "## College or Graduate-level ?\n",
    "<p align=\"center\">\n",
    "    <center><img src=\"image_04.png\" alt=\"drawing\" width=300/></center>\n",
    "</p>"
   ]
  },
  {
   "cell_type": "markdown",
   "metadata": {
    "slideshow": {
     "slide_type": "slide"
    }
   },
   "source": [
    "### College or Graduate-level ?\n",
    "\n",
    "<a href=\"http://www.youtube.com/watch?feature=player_embedded&v=Vae5spc4nZ0\" target=\"_blank\">\n",
    "    <center><img src=\"image_05.png\" alt=\"IMAGE ALT TEXT HERE\" width=\"600\" height=\"400\" border=\"10\" /> </center></a>\n",
    "    \n",
    "    https://www.youtube.com/watch?v=Vae5spc4nZ0"
   ]
  },
  {
   "cell_type": "markdown",
   "metadata": {
    "slideshow": {
     "slide_type": "slide"
    }
   },
   "source": [
    "## High-level in what sense?\n"
   ]
  },
  {
   "cell_type": "markdown",
   "metadata": {
    "slideshow": {
     "slide_type": "slide"
    }
   },
   "source": [
    "## In the uncertainty !\n",
    "<p align=\"center\">\n",
    "    <center><img src=\"image_07.png\" alt=\"drawing\" width=\"600\"/></center>\n",
    "</p>"
   ]
  },
  {
   "cell_type": "markdown",
   "metadata": {
    "slideshow": {
     "slide_type": "slide"
    }
   },
   "source": [
    "## Inference (uncertainty)\n",
    "\n",
    "<p align=\"center\">\n",
    "    <center><img src=\"image_inference23.png\" alt=\"drawing\" width=\"800\"/></center>\n",
    "</p>"
   ]
  },
  {
   "cell_type": "markdown",
   "metadata": {
    "slideshow": {
     "slide_type": "slide"
    }
   },
   "source": [
    "## Inference (uncertainty)\n",
    "\n",
    "<p align=\"center\">\n",
    "    <center><img src=\"image_inference26.png\" alt=\"drawing\" width=\"800\"/></center>\n",
    "</p>"
   ]
  },
  {
   "cell_type": "markdown",
   "metadata": {
    "slideshow": {
     "slide_type": "slide"
    }
   },
   "source": [
    "## Inference (uncertainty)\n",
    "\n",
    "<p align=\"center\">\n",
    "    <center><img src=\"image_inference27.png\" alt=\"drawing\" width=\"800\"/></center>\n",
    "</p>"
   ]
  },
  {
   "cell_type": "markdown",
   "metadata": {
    "slideshow": {
     "slide_type": "slide"
    }
   },
   "source": [
    "## Descriptive statistics\n",
    "\n",
    "<p align=\"center\">\n",
    "    <center><img src=\"image_descriptive0.png\" alt=\"drawing\" width=\"800\"/></center>\n",
    "</p>"
   ]
  },
  {
   "cell_type": "markdown",
   "metadata": {
    "slideshow": {
     "slide_type": "slide"
    }
   },
   "source": [
    "## Variables\n",
    "\n",
    "<p align=\"center\">\n",
    "    <center><img src=\"image_variability04.png\" alt=\"drawing\" width=\"800\"/></center>\n",
    "</p>"
   ]
  },
  {
   "cell_type": "markdown",
   "metadata": {
    "slideshow": {
     "slide_type": "slide"
    }
   },
   "source": [
    "<p align=\"center\">\n",
    "    <center><img src=\"image_vartype06.png\" alt=\"drawing\" width=\"800\"/></center>\n",
    "</p>"
   ]
  },
  {
   "cell_type": "markdown",
   "metadata": {
    "slideshow": {
     "slide_type": "slide"
    }
   },
   "source": [
    "<p align=\"center\">\n",
    "    <center><img src=\"image_vartype07.png\" alt=\"drawing\" width=\"800\"/></center>\n",
    "</p>"
   ]
  },
  {
   "cell_type": "markdown",
   "metadata": {
    "slideshow": {
     "slide_type": "slide"
    }
   },
   "source": [
    "## Descriptive statistics\n",
    "\n",
    "<p align=\"center\">\n",
    "    <center><img src=\"image_sherlock1.png\" alt=\"drawing\" width=\"800\"/></center>\n",
    "</p>"
   ]
  },
  {
   "cell_type": "markdown",
   "metadata": {
    "slideshow": {
     "slide_type": "slide"
    }
   },
   "source": [
    "## Descriptive statistics\n",
    "\n",
    "<p align=\"center\">\n",
    "    <center><img src=\"image_sherlock2.png\" alt=\"drawing\" width=\"800\"/></center>\n",
    "</p>"
   ]
  },
  {
   "cell_type": "markdown",
   "metadata": {
    "slideshow": {
     "slide_type": "slide"
    }
   },
   "source": [
    "<p align=\"center\">\n",
    "    <center><img src=\"image_descriptivestatisticsinR.png\" alt=\"drawing\" width=\"800\"/></center>\n",
    "</p>"
   ]
  },
  {
   "cell_type": "markdown",
   "metadata": {
    "slideshow": {
     "slide_type": "slide"
    }
   },
   "source": [
    "## Quantitative variables\n",
    "A **community agent** in family health program wanted to write down a short text alerting youths in his/her community about **the problem of unwanted pregnancy**. So he decides to investigate what methods these people were using. After surveying 60 teenagers (14--19 years old), chosen at random, he/she obtained the following list of answers:\n",
    "```R\n",
    "\"Tabelinha\", \"Tabelinha\", \"Preservativo\", \"Pílula\",\"Pílula\",\"Tabelinha\",\n",
    "\"Tabelinha\", \"Preservativo\",\"Pílula\", \"Preservativo\",\"Preservativo\",  \n",
    "\"Preservativo\", \"Outro\", \"Pílula\", \"Preservativo\", \"Tabelinha\",\"Tabelinha\", \n",
    "\"Outro\", \"Pílula\", \"Outro\", \"Preservativo\", \"Pílula\",\"Tabelinha\",\"Tabelinha\",\n",
    "\"Tabelinha\",\"Pílula\", \"Tabelinha\", \"Preservativo\", \"Preservativo\",\"Tabelinha\", \n",
    "\"Outro\", \"Tabelinha\", \"Tabelinha\",\"Preservativo\", \"Pílula\",  \"Pílula\", \n",
    "\"Preservativo\", \"Preservativo\", \"Preservativo\", \"Outro\",  \"Tabelinha\", \n",
    "\"Tabelinha\", \"Pílula\", \"Tabelinha\", \"Pílula\", \"Preservativo\",\"Preservativo\", \n",
    "\"Tabelinha\", \"Preservativo\", \"Pílula\", \"Tabelinha\",\"Tabelinha\",\"Preservativo\",\n",
    "\"Preservativo\",\"Pílula\",\"Tabelinha\",\"Tabelinha\",\"Pílula\",\"Preservativo\",\n",
    "\"Tabelinha\"\n",
    "```"
   ]
  },
  {
   "cell_type": "markdown",
   "metadata": {
    "slideshow": {
     "slide_type": "slide"
    }
   },
   "source": [
    "## Input data in R command line\n",
    "\n",
    "#### Note: to execute an R command in Jupyter environment, **press \\< shift\\> + \\< return\\>**"
   ]
  },
  {
   "cell_type": "code",
   "execution_count": null,
   "metadata": {
    "slideshow": {
     "slide_type": "fragment"
    }
   },
   "outputs": [],
   "source": [
    "# To run the R commands in the cell of Jupyter environment, press <shift> + <return>\n",
    "# Once you run the cell, the number in between [ ] will be updated in the sequence of execution\n",
    "# If [  ] is empty, you have not run the commands inside the cell.\n",
    "\n",
    "Methods <- c(\"Tabelinha\", \"Tabelinha\", \"Preservativo\", \"Pílula\", \"Pílula\", \"Tabelinha\",  \"Tabelinha\", \n",
    "             \"Preservativo\", \"Pílula\", \"Preservativo\", \"Preservativo\",  \"Preservativo\", \"Outro\", \"Pílula\", \n",
    "             \"Preservativo\", \"Tabelinha\", \"Tabelinha\",  \"Outro\", \"Pílula\", \"Outro\", \"Preservativo\", \"Pílula\", \n",
    "             \"Tabelinha\", \"Tabelinha\",  \"Tabelinha\", \"Pílula\", \"Tabelinha\", \"Preservativo\", \"Preservativo\",  \n",
    "             \"Tabelinha\", \"Outro\", \"Tabelinha\", \"Tabelinha\", \"Preservativo\", \"Pílula\",  \"Pílula\", \"Preservativo\", \n",
    "             \"Preservativo\", \"Preservativo\", \"Outro\",  \"Tabelinha\", \"Tabelinha\", \"Pílula\", \"Tabelinha\", \"Pílula\", \n",
    "             \"Preservativo\",  \"Preservativo\", \"Tabelinha\", \"Preservativo\", \"Pílula\", \"Tabelinha\",  \"Tabelinha\", \n",
    "             \"Preservativo\", \"Preservativo\", \"Pílula\", \"Tabelinha\",  \"Tabelinha\", \"Pílula\", \"Preservativo\", \n",
    "             \"Tabelinha\")\n",
    "\n",
    "# To call in the statistician after the experiment is done may be no more than asking him to perform \n",
    "# a post-mortem examination: he/she may be able to say what the experiment died of. \n",
    "#                                                                           Sir Ronald Aylmer Fisher"
   ]
  },
  {
   "cell_type": "code",
   "execution_count": null,
   "metadata": {
    "slideshow": {
     "slide_type": "slide"
    }
   },
   "outputs": [],
   "source": [
    "# Try some commands with the variable \"Methods\": \n",
    "Methods\n",
    "sort(Methods, decreasing = FALSE) # Sorting Methods in ascending order "
   ]
  },
  {
   "cell_type": "code",
   "execution_count": null,
   "metadata": {
    "slideshow": {
     "slide_type": "fragment"
    }
   },
   "outputs": [],
   "source": [
    "Methods[4] == 'Pílula'  # To execute the R command Jupyter environment, press <shift> + <return>"
   ]
  },
  {
   "cell_type": "markdown",
   "metadata": {
    "slideshow": {
     "slide_type": "slide"
    }
   },
   "source": [
    "## Variable Methods is of type nominal qualitative/categorical\n",
    "\n",
    "**This list** contains categorical data, but what is the frequency of each category?"
   ]
  },
  {
   "cell_type": "code",
   "execution_count": null,
   "metadata": {
    "slideshow": {
     "slide_type": "fragment"
    }
   },
   "outputs": [],
   "source": [
    "table(Methods)"
   ]
  },
  {
   "cell_type": "markdown",
   "metadata": {
    "slideshow": {
     "slide_type": "slide"
    }
   },
   "source": [
    "## Nominal qualitative/categorical variable\n",
    "\n",
    "It may be interesting to look at the percentage of distribution:"
   ]
  },
  {
   "cell_type": "code",
   "execution_count": null,
   "metadata": {
    "slideshow": {
     "slide_type": "fragment"
    }
   },
   "outputs": [],
   "source": [
    "Methods\n",
    "# counting <- table(Methods)\n",
    "# round(counting/sum(counting)*100, 2)"
   ]
  },
  {
   "cell_type": "markdown",
   "metadata": {
    "slideshow": {
     "slide_type": "slide"
    }
   },
   "source": [
    "## Nominal qualitative/categorical variable\n",
    "\n",
    "It may be also interesting to see the accumulated percentage of distribution.\n",
    "\n",
    "**Let's  introduce DataFrame**"
   ]
  },
  {
   "cell_type": "code",
   "execution_count": null,
   "metadata": {
    "slideshow": {
     "slide_type": "slide"
    }
   },
   "outputs": [],
   "source": [
    "# Dataframe_create_n_count_2.R\n",
    "# from a vector variable create a dataframe\n",
    "# and determine count, relative frequency, accumulated frequency \n",
    "Methods <- c(\"Tabelinha\", \"Tabelinha\", \"Preservativo\", \"Pílula\", \"Pílula\", \"Tabelinha\",  \"Tabelinha\", \n",
    "             \"Preservativo\", \"Pílula\", \"Preservativo\", \"Preservativo\",  \"Preservativo\", \"Outro\", \"Pílula\", \n",
    "             \"Preservativo\", \"Tabelinha\", \"Tabelinha\",  \"Outro\", \"Pílula\", \"Outro\", \"Preservativo\", \"Pílula\", \n",
    "             \"Tabelinha\", \"Tabelinha\",  \"Tabelinha\", \"Pílula\", \"Tabelinha\", \"Preservativo\", \"Preservativo\",  \n",
    "             \"Tabelinha\", \"Outro\", \"Tabelinha\", \"Tabelinha\", \"Preservativo\", \"Pílula\",  \"Pílula\", \"Preservativo\", \n",
    "             \"Preservativo\", \"Preservativo\", \"Outro\",  \"Tabelinha\", \"Tabelinha\", \"Pílula\", \"Tabelinha\", \"Pílula\", \n",
    "             \"Preservativo\",  \"Preservativo\", \"Tabelinha\", \"Preservativo\", \"Pílula\", \"Tabelinha\",  \"Tabelinha\", \n",
    "             \"Preservativo\", \"Preservativo\", \"Pílula\", \"Tabelinha\",  \"Tabelinha\", \"Pílula\", \"Preservativo\", \n",
    "             \"Tabelinha\")\n",
    "counting <- table(Methods)\n",
    "freqrel <- as.numeric(counting/sum(counting)*100)\n",
    "dt_descript <- data.frame(counting, freqrel)  # creating a dataframe with two columns\n",
    "dt_descript$freqaccum <- 0                    # adding another column to existing dataframe\n",
    "names(dt_descript) <- c(\"Method\", \"Count\", \"Freq.rel\", \"Freq.accum\") # attributing name to columns\n",
    "dt_descript <- dt_descript[order(dt_descript$Count, decreasing = FALSE)]\n",
    "accum <- 0     # temporary variable for accumulation\n",
    "for (i in 1:nrow(dt_descript))\n",
    "{\n",
    "    accum <- accum + dt_descript$Freq.rel[i]\n",
    "    dt_descript$Freq.accum[i] <- accum\n",
    "}\n",
    "\n",
    "print (dt_descript)"
   ]
  },
  {
   "cell_type": "markdown",
   "metadata": {
    "slideshow": {
     "slide_type": "slide"
    }
   },
   "source": [
    "## The same result can be obtained by running a script-file containing these set of R commands: \"Dataframe_create_n_count.R\"\""
   ]
  },
  {
   "cell_type": "code",
   "execution_count": null,
   "metadata": {
    "scrolled": true,
    "slideshow": {
     "slide_type": "fragment"
    }
   },
   "outputs": [],
   "source": [
    "source('Dataframe_create_n_count.R')"
   ]
  },
  {
   "cell_type": "markdown",
   "metadata": {
    "slideshow": {
     "slide_type": "slide"
    }
   },
   "source": [
    "## Qualitative/categorical variable\n",
    "\n",
    "Graphs can be helpful to \"look into\" the data:"
   ]
  },
  {
   "cell_type": "code",
   "execution_count": null,
   "metadata": {
    "slideshow": {
     "slide_type": "fragment"
    }
   },
   "outputs": [],
   "source": [
    "methanticoncept <- c(22, 19, 14, 5)\n",
    "barplot(methanticoncept, \n",
    "        names.arg = c(\"Tabelinha\", \"Preservativo\", \"Pílula\", \"Outro\"), \n",
    "        width = 600)  "
   ]
  },
  {
   "cell_type": "code",
   "execution_count": null,
   "metadata": {
    "slideshow": {
     "slide_type": "slide"
    }
   },
   "outputs": [],
   "source": [
    "library(ggplot2)\n",
    "# Barplot\n",
    "ggplot(dt_descript, aes(x=Method, y=Count)) + \n",
    "  geom_bar(stat = \"identity\")"
   ]
  },
  {
   "cell_type": "code",
   "execution_count": null,
   "metadata": {
    "slideshow": {
     "slide_type": "notes"
    }
   },
   "outputs": [],
   "source": [
    "methanticoncept <- dt_descript$Count\n",
    "barplot(methanticoncept, names.arg = dt_descript$Method)"
   ]
  },
  {
   "cell_type": "markdown",
   "metadata": {
    "slideshow": {
     "slide_type": "slide"
    }
   },
   "source": [
    "## Qualitative/categorical variable\n",
    "\n",
    "Graphs can be of help for \"looking into\" the data:"
   ]
  },
  {
   "cell_type": "code",
   "execution_count": null,
   "metadata": {},
   "outputs": [],
   "source": [
    "options(repr.plot.width=10, repr.plot.height=10) # Set graph size\n",
    "methanticoncept <- c(22, 19, 14, 5)\n",
    "# pdf(\"fig_pie.pdf\")\n",
    "# png(\"fig_pie.png\")\n",
    "# svg(\"fig_pie.svg\")\n",
    "pie (methanticoncept, labels = c(\"Tabelinha\", \"Preservativo\", \"Pílula\", \"Outro\"))\n",
    "# dev.off()  # Use either with pdf(), png(), or svg() to save graph in a file"
   ]
  },
  {
   "cell_type": "markdown",
   "metadata": {
    "slideshow": {
     "slide_type": "slide"
    }
   },
   "source": [
    "## Quantitative variables\n",
    "\n",
    "* Quantitative variable (numerical)\n",
    "    - Mean\n",
    "        + arithmetic\n",
    "        + geometric\n",
    "        + harmonic"
   ]
  },
  {
   "cell_type": "markdown",
   "metadata": {
    "slideshow": {
     "slide_type": "slide"
    }
   },
   "source": [
    "## Measures of location and dispersion\n",
    "\n",
    "* Measures of location\n",
    "    - Mode\n",
    "    - Median and quantile\n",
    "    - Mean (arithmetic)\n",
    "* Measures of dispersion\n",
    "    - Amplitude\n",
    "    - Interquantile interval\n",
    "    - Standard-deviation"
   ]
  },
  {
   "cell_type": "markdown",
   "metadata": {
    "slideshow": {
     "slide_type": "slide"
    }
   },
   "source": [
    "## Measures of location or central tendency\n",
    "\n",
    "<p align=\"center\">\n",
    "    <center><img src=\"image_central_tendency.png\" alt=\"drawing\" width=\"800\"/></center>\n",
    "</p>\n",
    " <!---\n",
    "This is comment.\n",
    "![alt text](./image_03.png))\n",
    "-->"
   ]
  },
  {
   "cell_type": "markdown",
   "metadata": {
    "slideshow": {
     "slide_type": "slide"
    }
   },
   "source": [
    "## Reading CSV file \n",
    "\n",
    "To exercise central tendency and dispersion measures in R, let us import Sardanelli & Di Leo's Table 2.2 into R environment.\n",
    "\n",
    "For further detail of **Reading** and **Writing** CSV Files in R  [look here](https://swcarpentry.github.io/r-novice-inflammation/11-supp-read-write-csv/) or [here](https://www.learnbyexample.org/read-and-write-csv-files-in-r/)."
   ]
  },
  {
   "cell_type": "code",
   "execution_count": null,
   "metadata": {
    "slideshow": {
     "slide_type": "fragment"
    }
   },
   "outputs": [],
   "source": [
    "# First set your working directory where the table_2_2.csv is located\n",
    "setwd(\"C:/User/Voce/Desktop//mdr5728_2020/Aula01/\") # Edit this line according to you system setting"
   ]
  },
  {
   "cell_type": "code",
   "execution_count": null,
   "metadata": {
    "slideshow": {
     "slide_type": "fragment"
    }
   },
   "outputs": [],
   "source": [
    "# import the Aortic Diameter data and look at the first six rows \n",
    "AorticDiameter <- read.csv(file = \"table_2_2.csv\")\n",
    "\n",
    "tail(AorticDiameter)"
   ]
  },
  {
   "cell_type": "markdown",
   "metadata": {
    "slideshow": {
     "slide_type": "slide"
    }
   },
   "source": [
    "## Mode (Measure of location)\n",
    "\n",
    "<p align=\"center\">\n",
    " <img src=\"image_mmm.png\" alt=\"drawing\" width=\"600\"/>\n",
    "</p>"
   ]
  },
  {
   "cell_type": "markdown",
   "metadata": {
    "slideshow": {
     "slide_type": "slide"
    }
   },
   "source": [
    "## Mode (Measure of location)\n",
    "\n",
    "<p align=\"center\">\n",
    "    <center><img src=\"image_mode.png\" alt=\"drawing\" width=\"600\"/></center>\n",
    "</p>\n",
    "\n",
    "Most frequent value(s)."
   ]
  },
  {
   "cell_type": "markdown",
   "metadata": {},
   "source": [
    "## Median (Measure of location)\n",
    "\n",
    "<p align=\"center\">\n",
    " <img src=\"image_median.png\" alt=\"drawing\" width=\"600\"/>\n",
    "</p>"
   ]
  },
  {
   "cell_type": "markdown",
   "metadata": {},
   "source": [
    "## Mean (Measure of location)\n",
    "\n",
    "<p align=\"center\">\n",
    " <img src=\"image_mean.png\" alt=\"drawing\" width=\"600\"/>\n",
    "</p>"
   ]
  },
  {
   "cell_type": "code",
   "execution_count": null,
   "metadata": {
    "slideshow": {
     "slide_type": "fragment"
    }
   },
   "outputs": [],
   "source": [
    "height = c(205, 189, 180, 175, 172, 165, 165, 160, 154)"
   ]
  },
  {
   "cell_type": "code",
   "execution_count": null,
   "metadata": {
    "slideshow": {
     "slide_type": "fragment"
    }
   },
   "outputs": [],
   "source": [
    "Diameter_density <- density(AorticDiameter$Diameter)\n",
    "modev <- Diameter_density$x[i.mode <- which.max(Diameter_density$y)]\n",
    "print (modev)"
   ]
  },
  {
   "cell_type": "code",
   "execution_count": null,
   "metadata": {
    "slideshow": {
     "slide_type": "fragment"
    }
   },
   "outputs": [],
   "source": [
    "Diameter_density"
   ]
  },
  {
   "cell_type": "markdown",
   "metadata": {
    "slideshow": {
     "slide_type": "slide"
    }
   },
   "source": [
    "# Function in R to determine Mode\n",
    "\n",
    "Definition of a Mode function (borrowed from [here](https://www.r-bloggers.com/computing-the-mode-in-r/))"
   ]
  },
  {
   "cell_type": "code",
   "execution_count": null,
   "metadata": {
    "slideshow": {
     "slide_type": "fragment"
    }
   },
   "outputs": [],
   "source": [
    "# Let us define a Mode function, taken from [https://www.r-bloggers.com/computing-the-mode-in-r/]\n",
    "\n",
    "Mode = function(x){\n",
    "    ta = table(x)\n",
    "    tam = max(ta)\n",
    "    if (all(ta == tam))\n",
    "         mod = NA\n",
    "    else\n",
    "         if(is.numeric(x))\n",
    "    mod = as.numeric(names(ta)[ta == tam])\n",
    "    else\n",
    "         mod = names(ta)[ta == tam]\n",
    "    return(mod)\n",
    "}"
   ]
  },
  {
   "cell_type": "markdown",
   "metadata": {
    "slideshow": {
     "slide_type": "slide"
    }
   },
   "source": [
    "## Let's use this Mode function\n",
    "\n",
    "Let's determine the **mode** value of S&D Table 2.2:"
   ]
  },
  {
   "cell_type": "code",
   "execution_count": null,
   "metadata": {
    "slideshow": {
     "slide_type": "fragment"
    }
   },
   "outputs": [],
   "source": [
    "Mode(AorticDiameter$Diameter)"
   ]
  },
  {
   "cell_type": "code",
   "execution_count": null,
   "metadata": {
    "slideshow": {
     "slide_type": "fragment"
    }
   },
   "outputs": [],
   "source": [
    "Mode(height)"
   ]
  },
  {
   "cell_type": "code",
   "execution_count": null,
   "metadata": {
    "scrolled": true,
    "slideshow": {
     "slide_type": "fragment"
    }
   },
   "outputs": [],
   "source": [
    "Mode(Methods)  "
   ]
  },
  {
   "cell_type": "code",
   "execution_count": null,
   "metadata": {
    "slideshow": {
     "slide_type": "fragment"
    }
   },
   "outputs": [],
   "source": [
    "**Interestingly, it does work for quantitative and "
   ]
  },
  {
   "cell_type": "markdown",
   "metadata": {
    "slideshow": {
     "slide_type": "slide"
    }
   },
   "source": [
    "## Median (Measure of location)\n",
    "\n",
    "<p align=\"center\">\n",
    " <center><img src=\"image_mmm.png\" alt=\"drawing\" width=\"600\"/></center>\n",
    "</p>\n"
   ]
  },
  {
   "cell_type": "code",
   "execution_count": null,
   "metadata": {
    "slideshow": {
     "slide_type": "slide"
    }
   },
   "outputs": [],
   "source": [
    "median(height)"
   ]
  },
  {
   "cell_type": "markdown",
   "metadata": {
    "slideshow": {
     "slide_type": "fragment"
    }
   },
   "source": [
    "## Median (Measure of location)\n",
    "\n",
    "<p align=\"center\">\n",
    "    <center><img src=\"image_median.png\" alt=\"drawing\" width=\"600\"/></center>\n",
    "</p>\n",
    "\n",
    "*Defined as the value that divides the sample in two subsamples with the same size (Sardanelli & Di Leo, 2009)*."
   ]
  },
  {
   "cell_type": "code",
   "execution_count": null,
   "metadata": {
    "slideshow": {
     "slide_type": "fragment"
    }
   },
   "outputs": [],
   "source": [
    "median(AorticDiameter$Diameter)"
   ]
  },
  {
   "cell_type": "markdown",
   "metadata": {
    "slideshow": {
     "slide_type": "slide"
    }
   },
   "source": [
    "## Arithmetic Mean (Measure of location)\n",
    "\n",
    "<p align=\"center\">\n",
    "    <center><img src=\"image_mode.png\" alt=\"drawing\" width=\"600\"/></center>\n",
    "</p>\n"
   ]
  },
  {
   "cell_type": "markdown",
   "metadata": {
    "slideshow": {
     "slide_type": "slide"
    }
   },
   "source": [
    "## Mean (measure of location)\n",
    "\n",
    "<p align=\"center\">\n",
    "    <center><img src=\"image_mean.png\" alt=\"drawing\" width=\"600\"/></center>\n",
    "</p>\n",
    "\n",
    "\n"
   ]
  },
  {
   "cell_type": "code",
   "execution_count": null,
   "metadata": {
    "slideshow": {
     "slide_type": "fragment"
    }
   },
   "outputs": [],
   "source": [
    "round(mean(height),2)"
   ]
  },
  {
   "cell_type": "code",
   "execution_count": null,
   "metadata": {
    "slideshow": {
     "slide_type": "fragment"
    }
   },
   "outputs": [],
   "source": [
    "# Look! R is also a calculator:\n",
    "round(((205 + 189 + 180 + 175 + 172 + 165 + 165 + 160 + 154) / 9), 2)"
   ]
  },
  {
   "cell_type": "markdown",
   "metadata": {
    "slideshow": {
     "slide_type": "slide"
    }
   },
   "source": [
    "## Measures of dispersion\n",
    "\n",
    "* Measures of dispersion:\n",
    "    - Amplitude\n",
    "    - Interquantile interval\n",
    "    - Standard-deviation"
   ]
  },
  {
   "cell_type": "markdown",
   "metadata": {
    "slideshow": {
     "slide_type": "slide"
    }
   },
   "source": [
    "## Measures of dispersion (variability)\n",
    "\n",
    "<p align=\"center\">\n",
    "    <center><img src=\"image_variability.png\" alt=\"drawing\" width=\"600\"/></center>\n",
    "</p>"
   ]
  },
  {
   "cell_type": "markdown",
   "metadata": {
    "slideshow": {
     "slide_type": "slide"
    }
   },
   "source": [
    "## Amplitude (measure of dispersion)\n",
    "\n",
    "<p align=\"center\">\n",
    "    <center><img src=\"image_amplitude.png\" alt=\"drawing\" width=\"600\"/></center>\n",
    "</p>"
   ]
  },
  {
   "cell_type": "code",
   "execution_count": null,
   "metadata": {
    "slideshow": {
     "slide_type": "fragment"
    }
   },
   "outputs": [],
   "source": [
    "A = max(height)-min(height)\n",
    "print(A)"
   ]
  },
  {
   "cell_type": "markdown",
   "metadata": {
    "slideshow": {
     "slide_type": "fragment"
    }
   },
   "source": [
    "#### Difference between maximum and minimum values ==> $A = 205 - 154 = 51 cm$ "
   ]
  },
  {
   "cell_type": "code",
   "execution_count": null,
   "metadata": {
    "slideshow": {
     "slide_type": "fragment"
    }
   },
   "outputs": [],
   "source": [
    "#Or\n",
    "cat(\"Amplitude = \", max(height)-min(height))"
   ]
  },
  {
   "cell_type": "code",
   "execution_count": null,
   "metadata": {
    "slideshow": {
     "slide_type": "fragment"
    }
   },
   "outputs": [],
   "source": [
    "# Let us create an Amp function (cheating !!): \n",
    "\n",
    "Amp = function(x){\n",
    "\n",
    "    A = 51  # <== Cheating\n",
    "    return(A)\n",
    "}"
   ]
  },
  {
   "cell_type": "code",
   "execution_count": null,
   "metadata": {
    "slideshow": {
     "slide_type": "notes"
    }
   },
   "outputs": [],
   "source": [
    "# Let us create an Amp function: \n",
    "\n",
    "Amp = function(x){\n",
    "    if (is.numeric(x))\n",
    "        A = max(x) - min(x)\n",
    "    else\n",
    "        A = NAN\n",
    "    return(A)\n",
    "}"
   ]
  },
  {
   "cell_type": "code",
   "execution_count": null,
   "metadata": {
    "slideshow": {
     "slide_type": "fragment"
    }
   },
   "outputs": [],
   "source": [
    "Amp(height)"
   ]
  },
  {
   "cell_type": "markdown",
   "metadata": {
    "slideshow": {
     "slide_type": "slide"
    }
   },
   "source": [
    "## Interquantile interval (variability)\n",
    "\n",
    "<p align=\"center\">\n",
    " <center><img src=\"image_quantiles.png\" alt=\"drawing\" width=\"600\"/></center>\n",
    "</p>"
   ]
  },
  {
   "cell_type": "code",
   "execution_count": null,
   "metadata": {
    "slideshow": {
     "slide_type": "fragment"
    }
   },
   "outputs": [],
   "source": [
    "IQR(height)\n",
    "Q3 <- quantile(height, 0.75, type = 2) \n",
    "Q1 <- quantile(height, 0.25, type = 2)  \n",
    "print (Q3 - Q1)\n",
    "IQR(data, type = 2)"
   ]
  },
  {
   "cell_type": "code",
   "execution_count": null,
   "metadata": {
    "slideshow": {
     "slide_type": "fragment"
    }
   },
   "outputs": [],
   "source": [
    "type(Q1)"
   ]
  },
  {
   "cell_type": "markdown",
   "metadata": {
    "slideshow": {
     "slide_type": "slide"
    }
   },
   "source": [
    "## Variance and standard-deviation\n",
    "\n",
    "<p align=\"center\">\n",
    " <center><img src=\"image_mean.png\" alt=\"drawing\" width=\"600\"/></center>\n",
    "</p>\n"
   ]
  },
  {
   "cell_type": "markdown",
   "metadata": {
    "slideshow": {
     "slide_type": "slide"
    }
   },
   "source": [
    "## Variance and standard-deviation (measure of dispersion)\n",
    "\n",
    "<center>$\\overline{x}=\\frac{1}{n}\\displaystyle\\sum_{i=1}^{n}x_i \\text{   (sample mean)}$</center>\n",
    "\n",
    "<center>$S^2=\\frac{1}{n-1}\\displaystyle\\sum_{i=1}^{n} (x_i - \\overline{x})^2 \\text{   (sample variance)}$</center>\n",
    "\n",
    "**Be very careful.... For population variance we use all N data so that it is given by (look at the denominator!)**\n",
    "<center>$\\sigma^2=\\frac{1}{N}\\displaystyle\\sum_{i=1}^{N} (x_i - \\mu)^2 \\ \\ \\ \\text{(N is the population size)}$</center>\n",
    "\n",
    "\n"
   ]
  },
  {
   "cell_type": "code",
   "execution_count": null,
   "metadata": {
    "slideshow": {
     "slide_type": "fragment"
    }
   },
   "outputs": [],
   "source": [
    "height_mean = mean(height) \n",
    "S = sd(height)\n",
    "S2 = var(height) # = S^2\n",
    "\n",
    "cat(\"mean=\",height_mean,\"; S=\", S, \"; S2=\", S2) # Alternative to prints\n",
    "# See https://www.studytrails.com/r/core/r_console_printing/ for more example on print and cat commands\n",
    "# execute help(var) for help on var function"
   ]
  },
  {
   "cell_type": "markdown",
   "metadata": {
    "slideshow": {
     "slide_type": "slide"
    }
   },
   "source": [
    "## Measures of dispersion\n",
    "\n",
    "#### Coefficient of variation: \n",
    "<center>$CV=\\frac{\\sigma}{\\mu}$</center>   \n",
    "\n",
    "**Note: Professor Paulo Silveira does not like CV. Actually he does hate it ! And prefer:**\n",
    "\n",
    "#### Coefficient of relative dispersion: \n",
    "<center>$CRD=\\frac{\\sigma}{^A/_2}$</center>\n"
   ]
  },
  {
   "cell_type": "markdown",
   "metadata": {
    "slideshow": {
     "slide_type": "slide"
    }
   },
   "source": [
    "## Influence of outliers\n",
    "\n",
    "<p align=\"center\">\n",
    " <center><img src=\"image_outlier.png\" alt=\"drawing\" width=\"800\"/></center>\n",
    "</p>\n"
   ]
  },
  {
   "cell_type": "code",
   "execution_count": null,
   "metadata": {
    "slideshow": {
     "slide_type": "fragment"
    }
   },
   "outputs": [],
   "source": [
    "height_H = c(330, 189, 180, 175, 172, 165, 165, 160, 154)"
   ]
  },
  {
   "cell_type": "markdown",
   "metadata": {
    "slideshow": {
     "slide_type": "slide"
    }
   },
   "source": [
    "## Height of the Hulk\n",
    "\n",
    "<p align=\"center\">\n",
    " <center><img src=\"image_hulkheight.png\" alt=\"drawing\" width=900/></center>\n",
    "</p>\n"
   ]
  },
  {
   "cell_type": "markdown",
   "metadata": {
    "slideshow": {
     "slide_type": "slide"
    }
   },
   "source": [
    "## Influence of outliers\n",
    "\n",
    "<p align=\"center\">\n",
    " <center><img src=\"image_outlier.png\" alt=\"drawing\" width=\"800\"/></center>\n",
    "</p>"
   ]
  },
  {
   "cell_type": "markdown",
   "metadata": {
    "slideshow": {
     "slide_type": "slide"
    }
   },
   "source": [
    "## Influence of outliers\n",
    "\n",
    "<p align=\"center\">\n",
    " <center><img src=\"image_outliermode.png\" alt=\"drawing\" width=\"800\"/></center>\n",
    "</p>\n"
   ]
  },
  {
   "cell_type": "code",
   "execution_count": null,
   "metadata": {},
   "outputs": [],
   "source": [
    "Mode(height_H)"
   ]
  },
  {
   "cell_type": "markdown",
   "metadata": {
    "slideshow": {
     "slide_type": "slide"
    }
   },
   "source": [
    "## Influence of outliers\n",
    "\n",
    "<p align=\"center\">\n",
    " <center><img src=\"image_outliermedian.png\" alt=\"drawing\" width=\"800\"/></center>\n",
    "</p>"
   ]
  },
  {
   "cell_type": "code",
   "execution_count": null,
   "metadata": {
    "slideshow": {
     "slide_type": "fragment"
    }
   },
   "outputs": [],
   "source": [
    "median(height_H)"
   ]
  },
  {
   "cell_type": "markdown",
   "metadata": {
    "slideshow": {
     "slide_type": "slide"
    }
   },
   "source": [
    "## Influence of outliers\n",
    "\n",
    "<p align=\"center\">\n",
    " <center><img src=\"image_outliermean.png\" alt=\"drawing\" width=\"800\"/></center>\n",
    "</p>"
   ]
  },
  {
   "cell_type": "code",
   "execution_count": null,
   "metadata": {},
   "outputs": [],
   "source": [
    "round(mean(height_H),1)"
   ]
  },
  {
   "cell_type": "markdown",
   "metadata": {
    "slideshow": {
     "slide_type": "slide"
    }
   },
   "source": [
    "## Influence of outliers\n",
    "\n",
    "<p align=\"center\">\n",
    " <center><img src=\"image_outlieramplitude.png\" alt=\"drawing\" width=\"800\"/></center>\n",
    "</p>"
   ]
  },
  {
   "cell_type": "code",
   "execution_count": null,
   "metadata": {},
   "outputs": [],
   "source": [
    "max(height_H) -  min(height_H)"
   ]
  },
  {
   "cell_type": "markdown",
   "metadata": {
    "slideshow": {
     "slide_type": "slide"
    }
   },
   "source": [
    "## Influence of outliers\n",
    "\n",
    "<p align=\"center\">\n",
    " <center><img src=\"image_outlierIQinterval.png\" alt=\"drawing\" width=\"800\"/></center>\n",
    "</p>"
   ]
  },
  {
   "cell_type": "code",
   "execution_count": null,
   "metadata": {
    "slideshow": {
     "slide_type": "fragment"
    }
   },
   "outputs": [],
   "source": [
    "IQR(height_H)"
   ]
  },
  {
   "cell_type": "markdown",
   "metadata": {
    "slideshow": {
     "slide_type": "slide"
    }
   },
   "source": [
    "## Influence of outliers\n",
    "\n",
    "<p align=\"center\">\n",
    " <center><img src=\"image_outliersd.png\" alt=\"drawing\" width=\"800\"/></center>\n",
    "</p>"
   ]
  },
  {
   "cell_type": "code",
   "execution_count": null,
   "metadata": {
    "slideshow": {
     "slide_type": "fragment"
    }
   },
   "outputs": [],
   "source": [
    "sd(height_H)"
   ]
  },
  {
   "cell_type": "markdown",
   "metadata": {
    "slideshow": {
     "slide_type": "slide"
    }
   },
   "source": [
    "## Which central tendency measure should you use ?\n",
    "\n",
    "* **Mean** is not robust to the presence of **outliers**;\n",
    "* **Median** is robust to the presence of **outliers**;\n",
    "* **Mode** is robust to the presence of **outliers**.\n",
    "    - **Mode** may not exist or exist in multiple for qualitative or discrete quantitative variables;\n",
    "    - **Mode** always exists and is unique for continuous quantitative variables.\n",
    "    \n",
    "  <p align=\"center\">\n",
    " <center><img src=\"image_whichcentraltendency.png\" alt=\"drawing\" width=\"400\"/></center>\n",
    "</p> "
   ]
  },
  {
   "cell_type": "markdown",
   "metadata": {
    "slideshow": {
     "slide_type": "slide"
    }
   },
   "source": [
    "## As you already realized, R does the calculation for us too!\n",
    "\n",
    "#### Let's do it once more "
   ]
  },
  {
   "cell_type": "code",
   "execution_count": null,
   "metadata": {
    "slideshow": {
     "slide_type": "fragment"
    }
   },
   "outputs": [],
   "source": [
    "height = c(205, 189, 180, 175, 172, 165, 165, 160, 154)\n",
    "\n",
    "media <- mean(height)\n",
    "media\n",
    "print(media)\n",
    "print(round(media,2))\n",
    "cat('Média = ', media)"
   ]
  },
  {
   "cell_type": "code",
   "execution_count": null,
   "metadata": {
    "slideshow": {
     "slide_type": "subslide"
    }
   },
   "outputs": [],
   "source": [
    "mediana = median(height)\n",
    "cat('A mediana das estaturas é ', mediana, 'cm.')"
   ]
  },
  {
   "cell_type": "code",
   "execution_count": null,
   "metadata": {
    "slideshow": {
     "slide_type": "fragment"
    }
   },
   "outputs": [],
   "source": [
    "dp = var(height)**0.5\n",
    "print(dp)"
   ]
  },
  {
   "cell_type": "code",
   "execution_count": null,
   "metadata": {
    "slideshow": {
     "slide_type": "fragment"
    }
   },
   "outputs": [],
   "source": [
    "# or\n",
    "dp = sd(height)\n",
    "dp"
   ]
  },
  {
   "cell_type": "code",
   "execution_count": null,
   "metadata": {
    "slideshow": {
     "slide_type": "subslide"
    }
   },
   "outputs": [],
   "source": [
    "quartil <- quantile(height, probs=seq(0, 1, 0.25))\n",
    "quartil\n",
    "print(quartil) "
   ]
  },
  {
   "cell_type": "code",
   "execution_count": null,
   "metadata": {
    "slideshow": {
     "slide_type": "fragment"
    }
   },
   "outputs": [],
   "source": [
    "amplitude = quartil[5] - quartil[1]\n",
    "amplitude"
   ]
  },
  {
   "cell_type": "code",
   "execution_count": null,
   "metadata": {
    "slideshow": {
     "slide_type": "fragment"
    }
   },
   "outputs": [],
   "source": [
    "iq = quartil[4] - quartil[2]\n",
    "iq"
   ]
  },
  {
   "cell_type": "markdown",
   "metadata": {
    "slideshow": {
     "slide_type": "subslide"
    }
   },
   "source": [
    "#### Cont..."
   ]
  },
  {
   "cell_type": "code",
   "execution_count": null,
   "metadata": {
    "slideshow": {
     "slide_type": "fragment"
    }
   },
   "outputs": [],
   "source": [
    "Mode(height)"
   ]
  },
  {
   "cell_type": "code",
   "execution_count": null,
   "metadata": {
    "slideshow": {
     "slide_type": "fragment"
    }
   },
   "outputs": [],
   "source": [
    "alturas_densidade <- density(height)\n",
    "moda <- alturas_densidade$x[i.mode <- which.max(alturas_densidade$y)]\n",
    "moda"
   ]
  },
  {
   "cell_type": "markdown",
   "metadata": {
    "slideshow": {
     "slide_type": "slide"
    }
   },
   "source": [
    "## R does create beautiful graphs for us !\n",
    "\n",
    "Let's play with the data from Table 2.2 from page 45, Sardanelli & Di Leo (2009), which was used to create the  histogram of Figure 2.1 reproduce bellow. \n",
    "<p align=\"center\">\n",
    " <center><img src=\"image_Figure_2.1.png\" alt=\"drawing\" width=\"600\"/></center>\n",
    "</p>"
   ]
  },
  {
   "cell_type": "markdown",
   "metadata": {
    "slideshow": {
     "slide_type": "slide"
    }
   },
   "source": [
    "#### Histogram\n",
    "\n",
    "[Check this site for graph y-axis and x-axis limits setting](https://subscription.packtpub.com/book/big_data_and_business_intelligence/9781849513067/1/ch01lvl1sec07/adjusting-x-and-y-axes-limits)."
   ]
  },
  {
   "cell_type": "code",
   "execution_count": null,
   "metadata": {
    "slideshow": {
     "slide_type": "fragment"
    }
   },
   "outputs": [],
   "source": [
    "# You can comment R command line by inserting # (hashtag) \n",
    "# at the beginning of the line or anywhere before the command.\n",
    "\n",
    "# hist(height, main=\"Height distribution\", xlab=\"Height (cm)\", ylab=\"Frequency\")\n",
    "\n",
    "# import the Aortic Diameter data and look at the first six rows \n",
    "AorticDiameter <- read.csv(file = \"table_2_2.csv\")\n",
    "# head(AorticDiameter)\n",
    "\n",
    "hist(AorticDiameter$Diameter,main=\"Histogram of the abdominal aortic diameter\",\n",
    "     ylab=\"Counts\", xlab=\"Diameter (mm)\",\n",
    "     col=\"red\",border=\"black\")\n",
    "\n",
    "# Comment the hist command above using # or just typing <Ctrl> + </> after selecting the three lines.\n",
    "# For Mac OSX type <Command> + </>. This typing combinatin toggle in between commented and non commented lines.\n",
    "\n",
    "# hist(AorticDiameter$Diameter,main=\"Histogram of the abdominal aortic diameter\",\n",
    "#      ylab=\"Counts\", xlab=\"Diameter (mm)\", xlim=c(20.1,40), ylim=c(0,20), \n",
    "#      col=\"red\",border=\"black\", labels=TRUE, w=1)\n",
    "\n",
    "# Check https://stackoverflow.com/questions/38810453/how-to-plot-a-histogram-with-different-colors-in-r \n",
    "#                 for coloring histogram\n",
    "# Does it look like Figure 2.1 ?"
   ]
  },
  {
   "cell_type": "code",
   "execution_count": null,
   "metadata": {},
   "outputs": [],
   "source": [
    "# How to get help on specific command or function in R\n",
    "help(hist)"
   ]
  },
  {
   "cell_type": "code",
   "execution_count": null,
   "metadata": {},
   "outputs": [],
   "source": [
    "# Try differente commands in here !!\n",
    "mean(AorticDiameter$Diameter)"
   ]
  },
  {
   "cell_type": "markdown",
   "metadata": {
    "slideshow": {
     "slide_type": "slide"
    }
   },
   "source": [
    "### Hint: ggplot2 is a very powerful package alternative to native plotting capabilities  of R \n",
    "\n",
    "Try it. If you want a specific type of graph, just Google what you are lookging for. There are plenty of resources in the Internet, and good discussion group such as [Stackoverflow](https://stackoverflow.com/questions/tagged/r), and many blogs written by professionals and aficionados.\n",
    "\n",
    "To install a package that is eventually missing in your R installation, for instance ggplot2 (ggplot2 is already included in **r-essentials**), run one of the following command in R environment, either RStudio or Jupyter Notebook\n",
    "\n",
    "> **install.packages(\"ggplot2\")**  or  **install.packages(\"ggplot2\", dep = TRUE)**\n",
    "\n",
    "the latter command option will also install the **dep**endency packages required by the package in installation."
   ]
  },
  {
   "cell_type": "code",
   "execution_count": null,
   "metadata": {
    "slideshow": {
     "slide_type": "slide"
    }
   },
   "outputs": [],
   "source": [
    "# Histogram plot using ggplot2\n",
    "# library(ggplot2)\n",
    "# Compute a histogram of `AorticDiameter$Diameter`\n",
    "qplot(AorticDiameter$Diameter, geom=\"histogram\",\n",
    "      main = \"Histogram for Aortic Diameter\",\n",
    "      binwidth=0.95,\n",
    "      xlab = \"Diameter (mm)\",\n",
    "      ylab = \"Counts\",\n",
    "      fill=I(\"red\"),\n",
    "      col=I(\"black\"), \n",
    "      alpha=I(0.3),\n",
    "      xlim=c(20,40),\n",
    "      ylim=c(0,20),\n",
    "      label = TRUE)"
   ]
  },
  {
   "cell_type": "markdown",
   "metadata": {
    "slideshow": {
     "slide_type": "slide"
    }
   },
   "source": [
    "#### Dot plot"
   ]
  },
  {
   "cell_type": "code",
   "execution_count": null,
   "metadata": {
    "slideshow": {
     "slide_type": "fragment"
    }
   },
   "outputs": [],
   "source": [
    "stripchart(AorticDiameter$Diameter,method=\"stack\",offset=0.5, at=0.15, pch=19, \n",
    "           main=\"Heights Distribution\",xlab=\"Height (cm)\",ylab=\"Counts\",\n",
    "           ylim=c(0,5))"
   ]
  },
  {
   "cell_type": "markdown",
   "metadata": {
    "slideshow": {
     "slide_type": "slide"
    }
   },
   "source": [
    "### Boxplot\n"
   ]
  },
  {
   "cell_type": "code",
   "execution_count": null,
   "metadata": {
    "slideshow": {
     "slide_type": "fragment"
    }
   },
   "outputs": [],
   "source": [
    "boxplot(AorticDiameter$Diameter, main=\"Diameter Distribution\", xlab=\"\", ylab=\"Diameter (mm)\",ylim=c(26,34))"
   ]
  },
  {
   "cell_type": "code",
   "execution_count": null,
   "metadata": {},
   "outputs": [],
   "source": [
    "Mode(AorticDiameter$Diameter)"
   ]
  },
  {
   "cell_type": "markdown",
   "metadata": {
    "slideshow": {
     "slide_type": "slide"
    }
   },
   "source": [
    "## Boxplot\n",
    "\n",
    "<p align=\"center\">\n",
    " <center><img src=\"image_boxplot.png\" alt=\"drawing\" width=\"600\"/></center>\n",
    "</p>\n"
   ]
  },
  {
   "cell_type": "markdown",
   "metadata": {
    "slideshow": {
     "slide_type": "slide"
    }
   },
   "source": [
    "### Box plot using ggplot2 library\n",
    "[Check this site for further options of ggplot2 boxplot.](http://www.sthda.com/english/wiki/ggplot2-box-plot-quick-start-guide-r-software-and-data-visualization)\n",
    "\n",
    "Some examples:"
   ]
  },
  {
   "cell_type": "code",
   "execution_count": null,
   "metadata": {},
   "outputs": [],
   "source": [
    "head(AorticDiameter)"
   ]
  },
  {
   "cell_type": "code",
   "execution_count": null,
   "metadata": {
    "slideshow": {
     "slide_type": "fragment"
    }
   },
   "outputs": [],
   "source": [
    "p <- ggplot(AorticDiameter, aes(x=No, y=Diameter))  + geom_boxplot(outlier.colour=\"red\", outlier.shape=6,\n",
    "             outlier.size=6,notch = TRUE) + geom_dotplot(binaxis='y', stackdir='center', dotsize=0.5) \n",
    "p"
   ]
  },
  {
   "cell_type": "markdown",
   "metadata": {
    "slideshow": {
     "slide_type": "slide"
    }
   },
   "source": [
    "## Density plot"
   ]
  },
  {
   "cell_type": "code",
   "execution_count": null,
   "metadata": {
    "slideshow": {
     "slide_type": "fragment"
    }
   },
   "outputs": [],
   "source": [
    "# import the Aortic Diameter data and look at the first six rows \n",
    "AorticDiameter <- read.csv(file = \"table_2_2.csv\")\n",
    "# head(AorticDiameter)\n",
    "AorticDiameter_density <- density(AorticDiameter$Diameter)\n",
    "\n",
    "plot (AorticDiameter_density, main=\"Distribution of Aortic Diameter\", xlab=\"Diameter (mm)\", ylab=\"Density\",\n",
    "      xlim=c(24,36))"
   ]
  },
  {
   "cell_type": "code",
   "execution_count": null,
   "metadata": {},
   "outputs": [],
   "source": [
    "help(density)"
   ]
  },
  {
   "cell_type": "markdown",
   "metadata": {
    "slideshow": {
     "slide_type": "slide"
    }
   },
   "source": [
    "## Boxplot or Density plot\n",
    "\n",
    "<p align=\"center\">\n",
    " <center><img src=\"image_boxplotordensityplot.png\" alt=\"drawing\" width=\"800\"/></center>\n",
    "</p>\n"
   ]
  },
  {
   "cell_type": "markdown",
   "metadata": {
    "slideshow": {
     "slide_type": "slide"
    }
   },
   "source": [
    "## Boxplot or density plot ? What is the issue?\n",
    "<p align=\"center\">\n",
    " <center><img src=\"image_Figure_2.5meanmediamode.png\" alt=\"drawing\" width=\"800\"/></center>\n",
    "</p>\n",
    "Figure 2.5 from Sardanelli & Di Leo (2009). "
   ]
  },
  {
   "cell_type": "markdown",
   "metadata": {
    "slideshow": {
     "slide_type": "slide"
    }
   },
   "source": [
    "## Why some people don't like histograms ?\n",
    "\n",
    "<p align=\"center\">\n",
    " <center><img src=\"image_whysomepeople.png\" alt=\"drawing\" width=\"900\"/></center>\n",
    "</p>"
   ]
  },
  {
   "cell_type": "markdown",
   "metadata": {
    "slideshow": {
     "slide_type": "slide"
    }
   },
   "source": [
    "## More on R:  Operators\n",
    "\n",
    "#### Scalar operators:\n",
    "\n",
    "<p align=\"center\">\n",
    " <center><img src=\"image_Roperators.png\" alt=\"drawing\" width=\"800\"/></center>\n",
    "</p>"
   ]
  },
  {
   "cell_type": "markdown",
   "metadata": {
    "slideshow": {
     "slide_type": "slide"
    }
   },
   "source": [
    "## Let's play with R\n",
    "\n",
    "##### Means_n_Quantiles.R     R-script\n",
    "\n",
    "```R\n",
    "library(\"psych\")\n",
    "# Arithmetic mean of male heights\n",
    "heightm <- c(176, 183, 173, 191, 177.7, 197, 168.9, 181, NA, 169)\n",
    "cat(\"Male's heights:\",heightm,\"\\n\")\n",
    "media <- mean(heightm, na.rm=TRUE)\n",
    "cat(\"Arithmetic mean:\",media,\"\\n\")\n",
    "# Median and quartiles\n",
    "mediana <- median(heightm, na.rm=TRUE)\n",
    "quantil <- quantile(heightm, na.rm=TRUE)\n",
    "cat(\"Median:\",mediana,\"\\n\")\n",
    "cat(\"Quantiles:\\n\")\n",
    "print(quantil)\n",
    "\n",
    "# Robust arithmetic mean\n",
    "cat(\"\\nRobust mean\\n\")\n",
    "\n",
    "# Remove NA, sort, remove 10% from each end and then calculate the arithmetic mean\n",
    "media_woNAremove10p <- mean(heightm, na.rm=TRUE, trim=0.10)\n",
    "cat(\"10% trim and NA remove mean:\",media_woNAremove10p,\"\\n\")\n",
    "\n",
    "heightm.ord <- sort(heightm) # remove NA and sort them\n",
    "cat(\"\\nheightm.ord:\",heightm.ord,\"\\n\")\n",
    "media_ord <- mean(heightm.ord[2:8], na.rm=TRUE)\n",
    "cat(\"Robust arithmetic mean:\",media_ord,\"\\n\")\n",
    "\n",
    "# Geometric and harmonic means\n",
    "cat(\"\\nUsing the package psych:\\n\")\n",
    "mgeom <- psych::geometric.mean(heightm, na.rm=TRUE)\n",
    "mharm <- psych::harmonic.mean(heightm, na.rm=TRUE, zero=TRUE)\n",
    "cat(\"Geometric mean:\",mgeom,\"\\n\")\n",
    "cat(\"Harmonic mean:\",mharm,\"\\n\")\n",
    "```\n"
   ]
  },
  {
   "cell_type": "markdown",
   "metadata": {
    "slideshow": {
     "slide_type": "slide"
    }
   },
   "source": [
    "## Let's run this script in the Jupyter environment and RStudio"
   ]
  },
  {
   "cell_type": "code",
   "execution_count": null,
   "metadata": {
    "slideshow": {
     "slide_type": "fragment"
    }
   },
   "outputs": [],
   "source": [
    "source(\"Means_n_Quantiles.R\")"
   ]
  },
  {
   "cell_type": "code",
   "execution_count": null,
   "metadata": {
    "slideshow": {
     "slide_type": "fragment"
    }
   },
   "outputs": [],
   "source": [
    "# If you get an error of missing psych package, run the following instruction and the rerun the previous command.\n",
    "install.packages(\"psych\")"
   ]
  },
  {
   "cell_type": "markdown",
   "metadata": {
    "slideshow": {
     "slide_type": "slide"
    }
   },
   "source": [
    "## Demo in RStudio environment\n",
    "\n",
    "* Lauch RStudio;\n",
    "* Go to the directory where you have saved the content of today's course by choosing menu item **Session** => **Set Working Directory** => **Choose Directory...**, and choose the directory';\n",
    "* Go to **Console window**, then on prompt, issue following command and press \\< Enter \\>:\n",
    "> \\> source(\"Means_n_Quantiles.R\") \n",
    "\n",
    "Then you should see\n",
    "\n",
    "<p align=\"center\">\n",
    " <center><img src=\"image_RSTudioconsole.png\" alt=\"drawing\" width=\"600\"/></center>\n",
    "</p>\n",
    "\n",
    "**Hint**: to navigate among open programs press \\< **Alt**\\> + \\< Tab\\> ."
   ]
  },
  {
   "cell_type": "markdown",
   "metadata": {},
   "source": [
    "## Another R script example\n",
    "\n",
    "Serum cholesterol has been measured in 53 students in a medical course:\n",
    "\n",
    "<p align=\"center\">\n",
    " <center><img src=\"image_serumcholesterol.png\" alt=\"drawing\" width=\"600\"/></center>\n",
    "</p>\n",
    "\n",
    "**Tasks**: From these data:\n",
    "* Determine measures of central tendency and dispersion;\n",
    "* Create histogram, boxplot and density plot;\n",
    "* Generate a output file, file.out, with numerical results\n",
    "* Create 3 png files with the plottings."
   ]
  },
  {
   "cell_type": "code",
   "execution_count": null,
   "metadata": {
    "scrolled": false,
    "slideshow": {
     "slide_type": "slide"
    }
   },
   "outputs": [],
   "source": [
    "# Let's start by creating a data variable:\n",
    "data <-  c(117, 119, 122, 150, 181, 151, 184, 152, 188, 128, 134, 136, 136, 137, 138,\n",
    "           141, 141, 142, 143, 143, 145, 145, 146, 148, 153, 154, 156, 157, 159, 162, \n",
    "           163, 165, 165, 166, 168, 170, 176, 176, 178, 192, 193, 193, 195, 196, 201, \n",
    "           202, 203, 207, 221, 226, 232, 250, 252)\n",
    "# Give a name for your output files (without extension)\n",
    "filebase <- \"Results_cholesterol_type_prefix_here\"\n",
    "\n",
    "# Provide title and axis labels (you may want to edit them)\n",
    "grf_titulo_main <- \"Cholesterol Distribution\"\n",
    "grf_titulo_axis <- \"Cholesterol (mg/dl)\"\n",
    "\n",
    "# Graph size (in pixels)\n",
    "largura = 500;\n",
    "altura = 300;\n",
    "\n",
    "fileout <- paste(filebase,\"_output.txt\",sep=\"\")\n",
    "filehist <- paste(filebase,\"_histogram.png\",sep=\"\")\n",
    "filebox  <- paste(filebase,\"_boxplot.png\",sep=\"\")\n",
    "filedens <- paste(filebase,\"_densityplot.png\",sep=\"\")\n",
    "\n",
    "# Open output file\n",
    "sink (fileout, append=TRUE)\n",
    "\n",
    "# Title\n",
    "cat (\"\\n**************************\")\n",
    "cat (\"\\n* Descriptive Statistics *\")\n",
    "cat (\"\\n**************************\\n\")\n",
    "\n",
    "# Mean and standard deviation\n",
    "media <- mean(data)\n",
    "dp <- var(data)**0.5\n",
    "# Median and quartiles\n",
    "mediana <- median(data)\n",
    "quartil <- quantile(data, probs=seq(0,1,0.25))\n",
    "amplitude = quartil[5]-quartil[1]\n",
    "iq = quartil[4]-quartil[2]\n",
    "# Mode, based on the probability density function\n",
    "# considering that the mode is at the peak of density function\n",
    "data_density <- density(data)\n",
    "moda <- data_density$x[i.mode <- which.max(data_density$y)]\n",
    "\n",
    "# Record the results\n",
    " # Measures of central tendency\n",
    "cat (\"\\n\\nMeasures of central tendency:\")\n",
    "cat (\"\\n mean =\", media)\n",
    "cat (\"\\n median =\", mediana)\n",
    "cat (\"\\n mode =\", moda)\n",
    " # dispersion\n",
    "cat (\"\\n\\nMeasures of dispersion:\")\n",
    "cat (\"\\n s.d. =\", dp)\n",
    "cat (\"\\n quartiles = \\n\")\n",
    "print (quartil)\n",
    "cat (\"\\n inter-quartil interval =\", iq)\n",
    "cat (\"\\n amplitude =\", amplitude)\n",
    "\n",
    "# record what have been saved\n",
    "cat (\"\\n\\nResults saved in\",fileout)\n",
    "cat (\"\\n - histogram in  \",filehist)\n",
    "cat (\"\\n - boxplot in     \",filebox)\n",
    "cat (\"\\n - density plot in\",filedens)\n",
    "\n",
    "# ative para possiveis problemas ocorridos\n",
    "# cat (\"\\n\\n\")\n",
    "# warnings()\n",
    "\n",
    "# close the file\n",
    "sink()\n",
    "\n",
    "# graphs\n",
    "\n",
    " # histogram\n",
    "png(filehist, width = largura, height = altura)\n",
    "histograma <- hist (data, main=grf_titulo_main,xlab=grf_titulo_axis,ylab=\"Frequency\")\n",
    "dev.off()\n",
    "\n",
    " # boxplot\n",
    "png(filebox, width = largura, height = altura)\n",
    "boxplot (data, main=grf_titulo_main,xlab=\"\",ylab=grf_titulo_axis)\n",
    "dev.off()\n",
    "\n",
    "# density plot\n",
    "png(filedens, width = largura, height = altura)\n",
    "plot (data_density, main=grf_titulo_main,xlab=grf_titulo_axis,ylab=\"Probability density function\")\n",
    "dev.off()\n",
    "\n",
    "# ecoa onde achar o resultado quando executado com source() em terminal R\n",
    "cat (\"\\nResults of analysis saved in\",fileout,\"\\n\")"
   ]
  },
  {
   "cell_type": "markdown",
   "metadata": {
    "slideshow": {
     "slide_type": "slide"
    }
   },
   "source": [
    "## Warning on Vector Cholesterol Example\n",
    "\n",
    "#### sink(fileout) ... sink() not working\n",
    "\n",
    "As you may find in the discussion list in the Internet, the sink(fileout) ... sink() pair-command does not work as expected. Neither work in RStudio environment. However in the Jupyter, as you can see above it list the output of Descriptive Statistics. In Rstudio both output file and console listing are empty. \n",
    "A simple test bellow will show you that tp.txt file will be an empty file after its execution. Try it:"
   ]
  },
  {
   "cell_type": "code",
   "execution_count": null,
   "metadata": {
    "slideshow": {
     "slide_type": "fragment"
    }
   },
   "outputs": [],
   "source": [
    "sink(\"tp.txt\")  #writ all output to file tp.txt\n",
    "for (i in 1:5) print(i);\n",
    "sink()  #stop sinking, =sink(NULL)"
   ]
  },
  {
   "cell_type": "markdown",
   "metadata": {
    "slideshow": {
     "slide_type": "slide"
    }
   },
   "source": [
    "## Vector Cholesterol histogram.png\n",
    "\n",
    "<p align=\"center\">\n",
    " <center><img src='Results_cholesterol_type_prefix_here_histogram.png', alt=\"drawing\" width=\"600\"/></center>\n",
    "</p>"
   ]
  },
  {
   "cell_type": "markdown",
   "metadata": {
    "slideshow": {
     "slide_type": "slide"
    }
   },
   "source": [
    "## Vector Cholesterol boxplot.png\n",
    "\n",
    "<p align=\"center\">\n",
    " <center><img src='Results_cholesterol_type_prefix_here_boxplot.png', alt=\"drawing\" width=\"600\"/></center>\n",
    "</p>"
   ]
  },
  {
   "cell_type": "markdown",
   "metadata": {},
   "source": [
    "## Vector Cholesterol histogram.png\n",
    "\n",
    "<p align=\"center\">\n",
    " <center><img src='Results_cholesterol_type_prefix_here_densityplot.png', alt=\"drawing\" width=\"600\"/></center>\n",
    "</p>"
   ]
  },
  {
   "cell_type": "markdown",
   "metadata": {
    "slideshow": {
     "slide_type": "slide"
    }
   },
   "source": [
    "## This is not the end.\n",
    "\n",
    "Continue your exercises presented in Aula01_Tipos_de_variaveis_Estatistica_Descritiva_Segunda_Parte.pdf"
   ]
  }
 ],
 "metadata": {
  "kernelspec": {
   "display_name": "R",
   "language": "R",
   "name": "ir"
  },
  "language_info": {
   "codemirror_mode": "r",
   "file_extension": ".r",
   "mimetype": "text/x-r-source",
   "name": "R",
   "pygments_lexer": "r",
   "version": "3.6.2"
  }
 },
 "nbformat": 4,
 "nbformat_minor": 2
}
