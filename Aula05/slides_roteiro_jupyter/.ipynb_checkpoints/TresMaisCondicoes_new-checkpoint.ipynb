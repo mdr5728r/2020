{
 "cells": [
  {
   "cell_type": "markdown",
   "metadata": {
    "lines_to_next_cell": 0
   },
   "source": [
    "# Comparações entre três ou mais condições<br>dependentes e independentes"
   ]
  },
  {
   "cell_type": "markdown",
   "metadata": {},
   "source": [
    ">  <a href=\"mailto:paulo.silveira@fm.usp.br?subject=Dúvida sobre ANOVA\">Paulo S. P Silveira (paulo.silveira@fm.usp.br)</a> <br>\n",
    ">   <a href=\"mailto:koichi.sameshima@fm.usp.br?subject=Dúvida sobre ANOVA\">Koichi Sameshima (koichi.sameshima@fm.usp.br)</a> <br>\n",
    ">    <a href=\"mailto:siqueira@usp.br?subject=Dúvida sobre ANOVA\">José O. Siqueira (siqueira@usp.br)</a>"
   ]
  },
  {
   "cell_type": "markdown",
   "metadata": {},
   "source": [
    "<!-- versao -->\n",
    "<div align=right>\n",
    "<font style=\"color:#26a169; font-size:80%\">v20200406.0042</font>\n",
    "</div>\n",
    "<!-- https://bookdown.org/yihui/rmarkdown/html-document.html#data_frame_printing -->\n",
    "<!-- theme: https://bootswatch.com/3/ -->"
   ]
  },
  {
   "cell_type": "markdown",
   "metadata": {
    "heading_collapsed": true
   },
   "source": [
    "# Objetivos\n",
    "\n",
    "* reconhecer e mencionar propriedades da distribuição $F$.\n",
    "* reconhecer as indicações eS aplicar ANOVA para três ou mais condições independentes.\n",
    "* reconhecer as indicações e aplicar ANOVA para três ou mais condições dependentes (medidas repetidas).\n",
    "* definir hipóteses estatísticas nula e alternativa.\n",
    "* executar e interpretar os testes estatísticos _omnibus_ e _post hoc_.\n",
    "* executar e interpretar estatísticas de tamanho de efeito."
   ]
  },
  {
   "cell_type": "markdown",
   "metadata": {
    "heading_collapsed": true
   },
   "source": [
    "# Preparação\n",
    "\n",
    "Os exemplos aqui apresentados estão disponíveis. Caso queira usá-los, crie um projeto, coloque o arquivo desta aula e os seguintes arquivos na pasta do mesmo:\n",
    "\n",
    "* [Animacao_F.R](Animacao_F.R)\n",
    "* [Testes_t_2a2.R](Testes_t_2a2.R)\n",
    "* [HardyWeinberg.R](HardyWeinberg.R)\n",
    "* [Nutricao.R](Nutricao.R) para o teste $t$\n",
    "* [ANOVA1f_indep_FisherWhite_sodio.R](ANOVA1f_indep_FisherWhite_sodio.R)\n",
    "* [ANOVA1f_indep_Welch_sodio.R](ANOVA1f_indep_Welch_sodio.R)\n",
    "* [Nutricao3.R](Nutricao3.R) para ANOVA independente\n",
    "* [ANOVA1f_dep_balanc_sodio.R](ANOVA1f_dep_balanc_sodio.R)\n",
    "* [Nutricao3par.R](Nutricao3par.R) para ANOVA relacionada, balanceada\n",
    "* [ANOVA1f_dep_desbalanc_sodio.R](ANOVA1f_dep_desbalanc_sodio.R)\n",
    "* [Nutricao3parD.R](Nutricao3parD.R) para ANOVA relacionada, desbalanceada"
   ]
  },
  {
   "cell_type": "markdown",
   "metadata": {},
   "source": [
    "# Sobre os métodos tradicionais"
   ]
  },
  {
   "cell_type": "markdown",
   "metadata": {
    "lines_to_next_cell": 0,
    "tags": [
     "remove_input"
    ]
   },
   "source": [
    "\n",
    "\n",
    "<center><img src=\"./image/carroantigo.png\" alt=\"Drawing\" style=\"width: 300px;\"/></center>\n",
    "\n",
    "\n",
    "<div align=right><small>http://unusual-cars.com/wp-content/uploads/2016/01/Ford-Model-T-1908.jpg</small></div>\n"
   ]
  },
  {
   "cell_type": "markdown",
   "metadata": {},
   "source": [
    "## ANOVA (sigla, do inglês, ANalysis Of VAriance) utiliza a estatística $F$."
   ]
  },
  {
   "cell_type": "markdown",
   "metadata": {},
   "source": [
    "- **ANOVA de Fisher** é uma extensão do teste $t$, com:\n",
    "    - **VI** (variável independente) nominal com **três ou mais** categorias (politômica nominal, fator)\n",
    "    - **VD** (variável dependente) quantitativa (unifatorial, *One way* ANOVA)\n",
    "    \n",
    "- Pode ser:\n",
    "    - independente (fator entre participantes)\n",
    "    - relacionada (fator intraparticipantes)"
   ]
  },
  {
   "cell_type": "markdown",
   "metadata": {
    "tags": [
     "remove_input"
    ]
   },
   "source": [
    "### O tamanho do efeito é expresso pelo valor do eta ao quadrado ($\\eta^2$)."
   ]
  },
  {
   "cell_type": "markdown",
   "metadata": {},
   "source": [
    "<br>\n",
    "<br>\n",
    "\n",
    "<center><img src=\"./image/ANOVA_efeitos.png\" alt=\"Drawing\" style=\"width: 600px;\"/></center>"
   ]
  },
  {
   "cell_type": "markdown",
   "metadata": {
    "lines_to_next_cell": 0
   },
   "source": [
    "---"
   ]
  },
  {
   "cell_type": "markdown",
   "metadata": {},
   "source": [
    "<img src=\"./image/coruja.png\" alt=\"Drawing\" style=\"width: 75px;float: left;\"/>  \n",
    "<div class=\"alert alert-block alert-success\">\n",
    "\n",
    "Tradicionalmente exigia-se para a ANOVA clássica que a distribuição populacional da variável fosse normal para cada condição e houvesse homocedasticidade entre os grupos. Estas premissas eram testadas por:\n",
    "\n",
    "- Normalidade da VD (teste de Shapiro-Wilk) se a amostra fosse pequena.\n",
    "- Homocedasticidade (teste de Levene) se os grupos fossem desbalanceados.\n",
    "\n",
    "Quando as premissas não eram atendidas, recomendava-se o teste não paramétrico H de  Kruskal-Wallis.\n",
    "\n",
    "</div>\n",
    "\n",
    "***\n",
    "\n",
    "ANOVA é relativamente robusta às violações das suposições de\n",
    "normalidade, homocedasticidade e *outliers*.\n",
    "\n",
    "Se o tamanho da amostra é pequeno, ou há heterocedasticidade,\n",
    "desbalanceamento, ou assimetria da VD, deve-se considerar a execução\n",
    "de uma ANOVA de Welch, ou ANOVA não paramétrica ou ANOVA com\n",
    "reamostragem (*bootstrapping*)."
   ]
  },
  {
   "cell_type": "markdown",
   "metadata": {},
   "source": [
    "### É necessário seguir as premissas com todo o rigor?"
   ]
  },
  {
   "cell_type": "markdown",
   "metadata": {},
   "source": [
    "Ilustraremos com uma analogia usando o equilíbrio de Hardy-Weinberg.\n",
    "\n",
    "***"
   ]
  },
  {
   "cell_type": "markdown",
   "metadata": {
    "lines_to_next_cell": 0
   },
   "source": [
    "#### A Lei Hardy-Weinberg do Equilíbrio Genético\n",
    "\n",
    "Em 1908, o matemático inglês [Godfrey H. Hardy](https://en.wikipedia.org/wiki/G._H._Hardy) e o médico alemão [Wilhelm Weinberg](https://en.wikipedia.org/wiki/Wilhelm_Weinberg) propuseram independentemente que a frequência de alelos e genótipos em uma população permanecerá constante de geração em geração, se a população for estável e em equilíbrio genético. São necessárias cinco condições para que uma população permaneça em [equilíbrio de Hardy-Weinberg (H-W)](https://en.wikipedia.org/wiki/Hardy%E2%80%93Weinberg_principle):\n",
    "\n",
    "- Uma grande população reprodutora\n",
    "- Acasalamento aleatório\n",
    "- Nenhuma alteração na frequência alélica devido a mutação\n",
    "- Sem imigração ou emigração\n",
    "- Nenhuma seleção natural\n",
    "\n",
    "<div align=right><small>http://www.phschool.com/science/biology_place/labbench/lab8/concepts.html</small></div>\n",
    "\n",
    "<center><img src=\"./image/HW_teoria.png\" alt=\"Drawing\" style=\"width:400px;\"/></center>"
   ]
  },
  {
   "cell_type": "markdown",
   "metadata": {
    "lines_to_next_cell": 0,
    "tags": [
     "remove_input"
    ]
   },
   "source": [
    "#### Violando as condições de H-W\n",
    "\n",
    "Vamos simular com as seguintes condições:\n",
    "\n",
    "- 500 indivíduos, \n",
    "- mutação alterando a frequência dos alelos,\n",
    "- selecionando para o alelo **A**.\n",
    "\n",
    "Em uma simulação poderíamos observar, por exemplo:\n",
    "\n",
    "<center><img src=\"./image/HW.png\" alt=\"Drawing\" style=\"width: 400px;\"/></center>"
   ]
  },
  {
   "cell_type": "markdown",
   "metadata": {},
   "source": [
    "As condições matemáticas de população muito grande (ou infinita), sem mutação e sem seleção garantem a população no equilíbrio de Hardy-Weinberg; porém, dentro de certos limites, ainda encontramos predição aceitável para o Equilíbrio de Hardy-Weinberg e poderíamos utilizá-los em populações biológicas.\n",
    "<br>\n",
    "<br>\n",
    "**Repita a simulação executando a roteiro `HardyWeinberg.R`:**"
   ]
  },
  {
   "cell_type": "code",
   "execution_count": null,
   "metadata": {
    "echo": true,
    "eval": false,
    "scrolled": true
   },
   "outputs": [],
   "source": [
    "options(repr.plot.width=6, repr.plot.height=5) # Dimensão da figura em polegadas ou in (de inch)\n",
    "source(\"HardyWeinberg.R\")"
   ]
  },
  {
   "cell_type": "markdown",
   "metadata": {
    "cell_style": "split"
   },
   "source": [
    "### O que é independência?\n",
    "\n",
    "Um delineamento  independente é aquele em que cada unidade experimental só é submetida a uma condição experimental. \n",
    "\n",
    "Por exemplo, três grupos com 5 indivíduos cada um (total de 15 participantes, nomeados de A a J) são alocados assim:\n",
    "\n",
    "<div align=center>\n",
    "<table cellpadding=10 cellspacing=10 border=1>\n",
    "<tr>\n",
    "<td></td><td><b> Condição 1 </b></td><td><b> Condição 2 </b></td><td><b> Condição 3 </b></td>\n",
    "</tr>\n",
    "<tr>\n",
    "<td></td><td align=center>A</td><td align=center>F</td><td align=center>K</td>\n",
    "</tr>\n",
    "<tr>\n",
    "<td></td><td align=center>B</td><td align=center>G</td><td align=center>L</td>\n",
    "</tr>\n",
    "<tr>\n",
    "<td></td><td align=center>C</td><td align=center>H</td><td align=center>M</td>\n",
    "</tr>\n",
    "<tr>\n",
    "<td></td><td align=center>D</td><td align=center>I</td><td align=center>N</td>\n",
    "</tr>\n",
    "<tr>\n",
    "<td></td><td align=center>E</td><td align=center>J</td><td align=center>O</td>\n",
    "</tr>\n",
    "</table>\n",
    "</div>"
   ]
  },
  {
   "cell_type": "markdown",
   "metadata": {
    "cell_style": "split"
   },
   "source": [
    "<br>\n",
    "<br>\n",
    "Em um delineamento relacionado, o mesmo indivíduo é submetido a todas as condições experimentais. Os mesmos 15 participantes seriam alocados assim:\n",
    "\n",
    "<div align=center>\n",
    "<table cellpadding=10 cellspacing=10 border=1>\n",
    "<tr>\n",
    "<td></td><td><b> Condição 1 </b></td><td><b> Condição 2 </b></td><td><b> Condição 3 </b></td>\n",
    "</tr>\n",
    "<tr>\n",
    "<td></td><td align=center>A</td><td align=center>A</td><td align=center>A</td>\n",
    "</tr>\n",
    "<tr>\n",
    "<td></td><td align=center>B</td><td align=center>B</td><td align=center>B</td>\n",
    "</tr>\n",
    "<tr>\n",
    "<td></td><td align=center>C</td><td align=center>C</td><td align=center>C</td>\n",
    "</tr>\n",
    "<tr>\n",
    "<td></td><td align=center>D</td><td align=center>D</td><td align=center>D</td>\n",
    "</tr>\n",
    "<tr>\n",
    "<td></td><td align=center>E</td><td align=center>E</td><td align=center>E</td>\n",
    "</tr>\n",
    "<tr>\n",
    "<td></td><td align=center>F</td><td align=center>F</td><td align=center>F</td>\n",
    "</tr>\n",
    "<tr>\n",
    "<td></td><td align=center>G</td><td align=center>G</td><td align=center>G</td>\n",
    "</tr>\n",
    "<tr>\n",
    "<td></td><td align=center>H</td><td align=center>H</td><td align=center>H</td>\n",
    "</tr>\n",
    "<tr>\n",
    "<td></td><td align=center>I</td><td align=center>I</td><td align=center>I</td>\n",
    "</tr>\n",
    "<tr>\n",
    "<td></td><td align=center>J</td><td align=center>J</td><td align=center>J</td>\n",
    "</tr>\n",
    "<tr>\n",
    "<td></td><td align=center>K</td><td align=center>K</td><td align=center>K</td>\n",
    "</tr>\n",
    "<tr>\n",
    "<td></td><td align=center>L</td><td align=center>L</td><td align=center>L</td>\n",
    "</tr>\n",
    "<tr>\n",
    "<td></td><td align=center>M</td><td align=center>M</td><td align=center>M</td>\n",
    "</tr>\n",
    "<tr>\n",
    "<td></td><td align=center>N</td><td align=center>N</td><td align=center>N</td>\n",
    "</tr>\n",
    "<tr>\n",
    "<td></td><td align=center>O</td><td align=center>O</td><td align=center>O</td>\n",
    "</tr>\n",
    "</table>\n",
    "</div>"
   ]
  },
  {
   "cell_type": "markdown",
   "metadata": {
    "cell_style": "split"
   },
   "source": [
    "### O que é balanceamento?\n",
    "\n",
    "Em delineamentos em que os grupos são balanceados, o número de participantes em cada condição é aproximadamente igual. Por exemplo, com 15 participantes em ANOVA **independente** e **desbalanceada** poderíamos ter algo como. \n",
    "<br>\n",
    "<br>\n",
    "<div align=center>\n",
    "<table cellpadding=10 cellspacing=10 border=1>\n",
    "<tr>\n",
    "<td></td><td><b> Condição 1 </b></td><td><b> Condição 2 </b></td><td><b> Condição 3 </b></td>\n",
    "</tr>\n",
    "<tr>\n",
    "<td></td><td align=center>A</td><td align=center>H</td><td align=center>K</td>\n",
    "</tr>\n",
    "<tr>\n",
    "<td></td><td align=center>B</td><td align=center>I</td><td align=center>L</td>\n",
    "</tr>\n",
    "<tr>\n",
    "<td></td><td align=center>C</td><td align=center>J</td><td align=center>M</td>\n",
    "</tr>\n",
    "<tr>\n",
    "<td></td><td align=center>D</td><td align=center></td><td align=center>N</td>\n",
    "</tr>\n",
    "<tr>\n",
    "<td></td><td align=center>E</td><td align=center></td><td align=center>O</td>\n",
    "</tr>\n",
    "<tr>\n",
    "<td></td><td align=center>F</td><td align=center></td><td align=center></td>\n",
    "</tr>\n",
    "<tr>\n",
    "<td></td><td align=center>G</td><td align=center></td><td align=center></td>\n",
    "</tr>\n",
    "</table>\n",
    "</div>"
   ]
  },
  {
   "cell_type": "markdown",
   "metadata": {
    "cell_style": "split"
   },
   "source": [
    "Em **delineamento intraparticipantes**, o **desbalanceamento** ocorre quando um dos participantes deixa de aparecer em uma das condições experimentais, por exemplo:\n",
    "\n",
    "<div align=center>\n",
    "<table cellpadding=10 cellspacing=10 border=1>\n",
    "<tr>\n",
    "<td></td><td><b> Condição 1 </b></td><td><b> Condição 2 </b></td><td><b> Condição 3 </b></td>\n",
    "</tr>\n",
    "<tr>\n",
    "<td></td><td align=center>A</td><td align=center>A</td><td align=center>A</td>\n",
    "</tr>\n",
    "<tr>\n",
    "<td></td><td align=center bgcolor=#444444></td><td align=center>B</td><td align=center>B</td>\n",
    "</tr>\n",
    "<tr>\n",
    "<td></td><td align=center>C</td><td align=center>C</td><td align=center>C</td>\n",
    "</tr>\n",
    "<tr>\n",
    "<td></td><td align=center>D</td><td align=center>D</td><td align=center>D</td>\n",
    "</tr>\n",
    "<tr>\n",
    "<td></td><td align=center>E</td><td align=center>E</td><td align=center>E</td>\n",
    "</tr>\n",
    "<tr>\n",
    "<td></td><td align=center>F</td><td align=center>F</td><td align=center>F</td>\n",
    "</tr>\n",
    "<tr>\n",
    "<td></td><td align=center>G</td><td align=center>G</td><td align=center>G</td>\n",
    "</tr>\n",
    "<tr>\n",
    "<td></td><td align=center>H</td><td align=center>H</td><td align=center>H</td>\n",
    "</tr>\n",
    "<tr>\n",
    "<td></td><td align=center>I</td><td align=center>I</td><td align=center>I</td>\n",
    "</tr>\n",
    "<tr>\n",
    "<td></td><td align=center>J</td><td align=cente bgcolor=#444444r></td><td align=center>J</td>\n",
    "</tr>\n",
    "<tr>\n",
    "<td></td><td align=center>K</td><td align=center>K</td><td align=center>K</td>\n",
    "</tr>\n",
    "<tr>\n",
    "<td></td><td align=center>L</td><td align=center>L</td><td align=center>L</td>\n",
    "</tr>\n",
    "<tr>\n",
    "<td></td><td align=center>M</td><td align=center>M</td><td align=center>M</td>\n",
    "</tr>\n",
    "<tr>\n",
    "<td></td><td align=center>N</td><td align=center>N</td><td align=center>N</td>\n",
    "</tr>\n",
    "<tr>\n",
    "<td></td><td align=center>O</td><td align=center>O</td><td align=center>O</td>\n",
    "</tr>\n",
    "</table>\n",
    "</div>\n",
    "\n",
    "Basta uma participação faltante (**missing value**) para se caracterizar o **desbalanceamento**. O procedimento com as estatísticas padrão do R não funcionarão e teremos que usar um modelo com efeitos aleatórios; lidaremos com esta situação adiante."
   ]
  },
  {
   "cell_type": "markdown",
   "metadata": {},
   "source": [
    "### Distribuição $F$ de Fisher-Snedecor\n",
    "\n",
    "Esta distribuição é uma generalização da estatística $t$ para três ou mais grupos. Descreve probabilidades que dependem da razão entre duas variâncias, e portanto considera graus de liberdade ($\\nu$, letra grega [*ni*](https://pt.wikipedia.org/wiki/%CE%9D) ) para o numerador e para o denominador.\n",
    "\n",
    "Para a comparação de três ou mais condições, com base na estatística $F$, os graus de liberdade do numerador dependem do número de condições e os do denominador dependem do tamanho da amostra.\n",
    "\n",
    "Familiarize-se com a distribuição $F$, observando [*Animacao_F.R*](Animacao_F.R): \n",
    "\n",
    "- $F$ é um valor maior ou igual a zero.\n",
    "- sob $H_0$ a distribuição $F$ tem um parâmetro de não centralidade (<code>ncp</code>) igual a zero; sob $H_1$ o parâmetro de não centralidade é maior do que zero.\n",
    "- esta distribuição é assimétrica.\n",
    "- consideramos somente a cauda superior.\n",
    "- localize $\\alpha$ e $\\beta$.\n",
    "- há dois valores para graus de liberdade: para o numerador (número de grupos - 1) e denominador (número de sujeitos - número de grupos).\n",
    "- observe o que acontece com a distribuição $F$ sob $H_0$ e com o valor de $F$ crítico ($F_c$) à medida que os graus de liberdade aumentam.\n",
    "\n",
    "O delineamento dos estudos, o tipo de variável e, consequentemente, a estatística adequada mudam, mas o problema é sempre o mesmo: incerteza porque lidamos com uma amostra."
   ]
  },
  {
   "cell_type": "markdown",
   "metadata": {
    "tags": [
     "remove_input"
    ]
   },
   "source": [
    "### Amostragem\n",
    "\n",
    "<center><img src=\"./image/pop_amostra.png\" alt=\"Drawing\" style=\"width: 300px;\"/> <br>\n",
    "Figure 1- Procedimento de inferência de parâmetros populacionais (média, $\\mu$, e variância, $\\sigma^2$ ) <br> realiza-se por meio de amostragem aleatorizada (média amostral, $\\overline{x}$, e variância amostral, $s^2$).\n",
    "</center>\n",
    "<br>\n",
    "<br>"
   ]
  },
  {
   "cell_type": "markdown",
   "metadata": {
    "cell_style": "split"
   },
   "source": [
    "<br>\n",
    "<br>\n",
    "A diferença, aqui, é que teremos que lidar com 3 ou mais amostras simultaneamente."
   ]
  },
  {
   "cell_type": "markdown",
   "metadata": {
    "cell_style": "split",
    "tags": [
     "remove_input"
    ]
   },
   "source": [
    "<center><img src=\"./image/pop_amostra_3.png\" alt=\"Drawing\" style=\"width: 400px;\"/></center>"
   ]
  },
  {
   "cell_type": "markdown",
   "metadata": {
    "cell_style": "split",
    "lines_to_next_cell": 0
   },
   "source": [
    "<br>\n",
    "<br>\n",
    "<br>\n",
    "A hipótese nula é pela igualdade de todos os $m$ grupos. caso não rejeitemos $H_0$:"
   ]
  },
  {
   "cell_type": "markdown",
   "metadata": {
    "cell_style": "split",
    "tags": [
     "remove_input"
    ]
   },
   "source": [
    "<center><img src=\"./image/pop_amostra_3_H0.png\" alt=\"Drawing\" style=\"width: 300px;\"/></center>\n",
    "<br>\n",
    "<br>"
   ]
  },
  {
   "cell_type": "markdown",
   "metadata": {
    "cell_style": "split",
    "lines_to_next_cell": 0
   },
   "source": [
    "<br>\n",
    "<br>\n",
    "<br>\n",
    "Quando rejeitamos $H_0$ assumimos que todas as condições são diferentes entre si:"
   ]
  },
  {
   "cell_type": "markdown",
   "metadata": {
    "cell_style": "split",
    "lines_to_next_cell": 0,
    "tags": [
     "remove_input"
    ]
   },
   "source": [
    "<center><img src=\"./image/pop_amostra_3.png\" alt=\"Drawing\" style=\"width: 400px;\"/></center>\n",
    "<br>\n",
    "<br>"
   ]
  },
  {
   "cell_type": "markdown",
   "metadata": {
    "cell_style": "split",
    "lines_to_next_cell": 0
   },
   "source": [
    "<br>\n",
    "<br>\n",
    "<div align=center><big>ou</big></div>\n",
    "\n",
    "que pelo menos uma destoe das demais (i.e., basta que uma das condições ser diferente das demais para rejeitarmos $H_0$.), por exemplo:"
   ]
  },
  {
   "cell_type": "markdown",
   "metadata": {
    "cell_style": "split",
    "tags": [
     "remove_input"
    ]
   },
   "source": [
    "<center><img src=\"./image/pop_amostra_3_H1.png\" alt=\"Drawing\" style=\"width: 400px;\"/></center>"
   ]
  },
  {
   "cell_type": "markdown",
   "metadata": {},
   "source": [
    "### Teste $t$ para duas condições\n",
    "\n",
    "Brendon Small e Coach McGuirk fazem com que seus alunos do SNAP-Ed mantenham diários do que comem por uma semana e depois calculem a ingestão diária de sódio em miligramas.\n",
    "\n",
    "Desde que as classes receberam diferentes programas de educação nutricional, eles querem verificar se a ingestão média de sódio é a mesma para as duas turmas.\n",
    "\n",
    "Aplicamos o teste $t$ de Satterthwaite (_a.k.a._ Welch), robusto e _default_ do R:"
   ]
  },
  {
   "cell_type": "code",
   "execution_count": null,
   "metadata": {
    "cell_style": "center",
    "echo": true,
    "format": "column",
    "scrolled": false
   },
   "outputs": [],
   "source": [
    "# dados\n",
    "library(readxl)\n",
    "Dtfrm <- read_excel(\"Nutricao.xlsx\")\n",
    "# significancia estatistica\n",
    "t_out <- t.test(Sodium ~ Instructor, data = Dtfrm)\n",
    "print(t_out)"
   ]
  },
  {
   "cell_type": "markdown",
   "metadata": {},
   "source": [
    "### testes $t$ quando temos três ou mais turmas"
   ]
  },
  {
   "cell_type": "markdown",
   "metadata": {},
   "source": [
    "Suponha que uma terceira classe junte-se ao experimento (Melissa Robins). Podemos, então, verificar as diferenças destas três condições experimentais com testes $t$, comparando-se Brendon Small com Coach McGuirk, Brendon Small com Melissa Robins e Coach McGuirk com Melissa Robins?"
   ]
  },
  {
   "cell_type": "markdown",
   "metadata": {
    "lines_to_next_cell": 0,
    "tags": [
     "remove_input"
    ]
   },
   "source": [
    "<div align=center><font style=\"font-size:150%\">\n",
    "Quantos testes $t$ precisaríamos efetuar em função do número de grupos?\n",
    "\n",
    "<center><img src=\"./image/hammer.png\" alt=\"Drawing\" style=\"width: 100px;\"/></center>"
   ]
  },
  {
   "cell_type": "markdown",
   "metadata": {
    "lines_to_next_cell": 0
   },
   "source": [
    "<div align=right><font style=\"font-size:45%;\">https://www.toolsbr.com.br/produto/dewalt-martelo-20-oz-rip-claw-hammer-94480</font></div>\n",
    "\n",
    "</font></div>\n",
    "É a combinatória dois a dois do número de grupos, $m$:\n",
    "$${m \\choose 2} = { {m!} \\over {2! (m-2)!} }$$"
   ]
  },
  {
   "cell_type": "markdown",
   "metadata": {
    "cell_style": "split",
    "lines_to_next_cell": 0
   },
   "source": [
    "- para $m=2$ grupos: ${2 \\choose 2} = { {2!} \\over {2! (2-2)!} } = 1~\\text{teste}$"
   ]
  },
  {
   "cell_type": "markdown",
   "metadata": {
    "cell_style": "split",
    "lines_to_next_cell": 0,
    "tags": [
     "remove_input"
    ]
   },
   "source": [
    "<center><img src=\"./image/t2.png\" alt=\"Drawing\" style=\"width:100px;\"/></center>\n",
    "<br>\n",
    "<br>"
   ]
  },
  {
   "cell_type": "markdown",
   "metadata": {
    "cell_style": "split",
    "lines_to_next_cell": 0
   },
   "source": [
    "<br>\n",
    "<br>\n",
    "- para $m=3$ grupos: ${3 \\choose 2} = { {3!} \\over {2! (3-2)!} } = 3~\\text{testagens}$"
   ]
  },
  {
   "cell_type": "markdown",
   "metadata": {
    "cell_style": "split",
    "lines_to_next_cell": 0,
    "tags": [
     "remove_input"
    ]
   },
   "source": [
    "<center><img src=\"./image/t3.png\" alt=\"Drawing\" style=\"width: 100px;\"/></center>\n",
    "<br>"
   ]
  },
  {
   "cell_type": "markdown",
   "metadata": {
    "cell_style": "split",
    "lines_to_next_cell": 0
   },
   "source": [
    "<br>\n",
    "<br>\n",
    "- para $m=4$ grupos: ${4 \\choose 2} = { {4!} \\over {2! (4-2)!} } = 6~\\text{testagens}$"
   ]
  },
  {
   "cell_type": "markdown",
   "metadata": {
    "cell_style": "split",
    "lines_to_next_cell": 0,
    "tags": [
     "remove_input"
    ]
   },
   "source": [
    "<center><img src=\"./image/t4.png\" alt=\"Drawing\" style=\"width:100px;\"/></center>"
   ]
  },
  {
   "cell_type": "markdown",
   "metadata": {
    "cell_style": "split",
    "lines_to_next_cell": 0
   },
   "source": [
    "<br>\n",
    "<br>\n",
    "<br>\n",
    "- para $m=6$ grupos: ${6 \\choose 2} = { {6!} \\over {2! (6-2)!} } = 15~\\text{testagens}$"
   ]
  },
  {
   "cell_type": "markdown",
   "metadata": {
    "cell_style": "split",
    "tags": [
     "remove_input"
    ]
   },
   "source": [
    "<center><img src=\"./image/t6.png\" alt=\"Drawing\" style=\"width:150px;\"/></center>"
   ]
  },
  {
   "cell_type": "markdown",
   "metadata": {},
   "source": [
    "Graficamente vemos:"
   ]
  },
  {
   "cell_type": "code",
   "execution_count": null,
   "metadata": {
    "echo": true,
    "format": "column"
   },
   "outputs": [],
   "source": [
    "# Testes_t_2a2.R\n",
    "# Ilustra o numero de testes t necessarios\n",
    "# para comparar grupos par a par\n",
    "\n",
    "combinacoes <- c()\n",
    "grupos <- c()\n",
    "for (g in 2:20)\n",
    "{\n",
    "  grupos <- c(grupos,g)\n",
    "  combinacoes <- c(combinacoes,choose(g,2))\n",
    "}\n",
    "plot(grupos,combinacoes,\n",
    "     xlab=\"Número de grupos\",\n",
    "     ylab=\"Número de testes t feitos par a par\",\n",
    "     lwd=2,\n",
    "     type=\"b\")"
   ]
  },
  {
   "cell_type": "markdown",
   "metadata": {},
   "source": [
    "Embora o número cresça rapidamente, podemos não nos impressionar pois temos computadores para o trabalho repetitivo. Há, porém, um problema mais grave: as probabilidades dos erros do tipo I ($\\alpha$) e do tipo II ($\\beta$) se acumulam. Quando escolhemos $\\alpha$, **a probabilidade de rejeitar incorretamente a hipótese nula**, o máximo valor que $p$ pode assumir, a probabilidade deste erro para $m$ grupos é:\n",
    "\n",
    "$$P(\\alpha | m) = 1-(1-\\alpha)^{m \\choose 2}$$\n",
    "\n",
    "Também gostaríamos de manter a **probabilidade de rejeitar corretamente a hipótese nula**, o poder do teste, $1-\\beta$; para $m$ grupos é:\n",
    "\n",
    "$$P(\\beta | m) = (1-\\beta) ^ {m \\choose 2}$$\n",
    "\n",
    "Graficamente podemos observar o que acontece com o número crescente de pares de teste $t$ necessários, considerando os tradicionais $\\alpha=0.05$ e $\\beta=0.1$:"
   ]
  },
  {
   "cell_type": "code",
   "execution_count": null,
   "metadata": {
    "lines_to_next_cell": 0
   },
   "outputs": [],
   "source": [
    "# Testes_t_AlfaPoder.R\n",
    "# Ilustra o valor de alfa e 1-beta\n",
    "# com numero crescente de testes \n",
    "\n",
    "source(\"friendlycolor.R\")\n",
    "\n",
    "cor_alfa <- friendlycolor(8)\n",
    "cor_poder <- friendlycolor(20)\n",
    "\n",
    "alfa_escolhido <- 0.05\n",
    "beta_escolhido <- 0.20\n",
    "alfa <- c()\n",
    "poder <- c()\n",
    "grupos <- c()\n",
    "for (g in 2:20)\n",
    "{\n",
    "  grupos <- c(grupos,g)\n",
    "  combinacoes <- choose(g,2)\n",
    "  \n",
    "  alfa <- c(alfa,1-(1-alfa_escolhido)^combinacoes)\n",
    "  poder <- c(poder,(1-beta_escolhido)^combinacoes)\n",
    "}\n",
    "plot(grupos, poder,\n",
    "     xlab=\"Número de grupos\",\n",
    "     ylab=\"Probabilidade\",\n",
    "     ylim=c(0,1),\n",
    "     lwd=2, lty=2, col=cor_poder,\n",
    "     type=\"b\")\n",
    "lines(grupos,alfa,\n",
    "      lwd=2, lty=1, col=cor_alfa, \n",
    "      type=\"b\")\n",
    "legend(\"right\",\n",
    "       c(\"alfa\", \"poder\"),\n",
    "       col=c(cor_alfa,cor_poder),\n",
    "       lwd=c(2,2),\n",
    "       lty=c(1,2),\n",
    "       box.lwd=0, bg=\"transparent\")"
   ]
  },
  {
   "cell_type": "markdown",
   "metadata": {
    "lines_to_next_cell": 0
   },
   "source": [
    "Portanto, a probabilidade de erro do tipo I cresce rapidamente para quase $100\\%$ e o poder de seus testes combinados vai para zero. Na prática, dificilmente teremos mais do que 6 grupos mas, ainda assim, teríamos $\\alpha \\approx 53.7\\%$ e poder $1-\\beta \\approx 3.5\\%$, valores totalmente inaceitáveis para uma boa análise estatística."
   ]
  },
  {
   "cell_type": "markdown",
   "metadata": {
    "lines_to_next_cell": 0
   },
   "source": [
    "<div align=center><font style=\"font-size:150%\">\n",
    "Podemos analisar com múltiplos testes $t~$?  A resposta é:"
   ]
  },
  {
   "cell_type": "markdown",
   "metadata": {
    "cell_style": "split",
    "fig.align": "center",
    "tags": [
     "remove_input"
    ]
   },
   "source": [
    "<center><img src=\"./image/meme_NO.png\" alt=\"Drawing\" style=\"width:150px;\"/></center>"
   ]
  },
  {
   "cell_type": "markdown",
   "metadata": {
    "cell_style": "split"
   },
   "source": [
    "<br>\n",
    "<font style=\"font-size:250%\">NÃO!</font>\n",
    "\n",
    "Precisamos testar tudo simultaneamente para<br>\n",
    "manter $\\alpha$ no valor desejado e<br>\n",
    "preservar $1-\\beta$.\n",
    "</font></div>"
   ]
  },
  {
   "cell_type": "markdown",
   "metadata": {
    "lines_to_next_cell": 0
   },
   "source": [
    "# Análise de variância"
   ]
  },
  {
   "cell_type": "markdown",
   "metadata": {},
   "source": [
    "Esta análise, que tem o acrônimo ANOVA (do inglês, **An**alysis **o**f **Va**riance) utiliza **comparações de variâncias** por meio de teste $F$ para se obter ...\n",
    "\n",
    "<div align=center><font style=\"font-size:150%\">\n",
    "... as conclusões são sobre as médias dos $m$ grupos.<br>\n",
    "\n",
    "Como?"
   ]
  },
  {
   "cell_type": "markdown",
   "metadata": {
    "fig.align": "center",
    "lines_to_next_cell": 0,
    "tags": [
     "remove_input"
    ]
   },
   "source": [
    "<center><img src=\"./image/bebesurpreso.png\" alt=\"Drawing\" style=\"width:100px;\"/></center>"
   ]
  },
  {
   "cell_type": "markdown",
   "metadata": {
    "lines_to_next_cell": 0
   },
   "source": [
    "</font></div>"
   ]
  },
  {
   "cell_type": "markdown",
   "metadata": {},
   "source": [
    "### Princípio do teste ANOVA unifatorial"
   ]
  },
  {
   "cell_type": "markdown",
   "metadata": {},
   "source": [
    "Consideremos que existam três grupos com distribuição normal. De cada um deles, retiramos uma amostra:"
   ]
  },
  {
   "cell_type": "markdown",
   "metadata": {
    "lines_to_next_cell": 0,
    "tags": [
     "remove_input"
    ]
   },
   "source": [
    "<center><img src=\"./image/pop3.png\" alt=\"Drawing\" style=\"width: 500px;\"/></center>"
   ]
  },
  {
   "cell_type": "markdown",
   "metadata": {
    "lines_to_next_cell": 0,
    "tags": [
     "remove_input"
    ]
   },
   "source": [
    "<center><img src=\"./image/amo3.png\" alt=\"Drawing\" style=\"width: 500px;\"/></center>"
   ]
  },
  {
   "cell_type": "markdown",
   "metadata": {},
   "source": [
    "Não havendo problemas, as três amostras reproduzem a distribuição, média e variância das populações das quais se originaram.  "
   ]
  },
  {
   "cell_type": "markdown",
   "metadata": {
    "lines_to_next_cell": 0
   },
   "source": [
    "A distribuição $F$ é dada por\n",
    "$$F = {{S_E^2}\\over{S_D^2}}$$\n",
    "onde $S_E^2$ é a variância **entre** os grupos e $S_D^2$ é a variância **dentro** dos grupos."
   ]
  },
  {
   "cell_type": "markdown",
   "metadata": {},
   "source": [
    "#### Variância entre (*between*) os grupos"
   ]
  },
  {
   "cell_type": "markdown",
   "metadata": {
    "cell_style": "split",
    "lines_to_next_cell": 0,
    "tags": [
     "remove_input"
    ]
   },
   "source": [
    "A variância entre os grupos presume que as médias amostrais ($\\bar{X}_m$) refletem as respectivas médias populacionais ($\\mu_m$):\n",
    "\n",
    "<center><img src=\"./image/variancia_entre.png\" alt=\"Drawing\" style=\"width: 350px;\"/></center>"
   ]
  },
  {
   "cell_type": "markdown",
   "metadata": {
    "cell_style": "split",
    "tags": [
     "remove_input"
    ]
   },
   "source": [
    "Como sempre, não temos esta certeza e lidamos somente com a informação das amostras, $\\bar{X}_m$:\n",
    "\n",
    "<center><img src=\"./image/variancia_entre_amo.png\" alt=\"Drawing\" style=\"width:350px;\"/></center>"
   ]
  },
  {
   "cell_type": "markdown",
   "metadata": {
    "lines_to_next_cell": 0
   },
   "source": [
    "Cada média é um número e, portanto, podemos calcular a variância destes valores:"
   ]
  },
  {
   "cell_type": "markdown",
   "metadata": {
    "cell_style": "split",
    "lines_to_next_cell": 0,
    "tags": [
     "remove_input"
    ]
   },
   "source": [
    "<center><img src=\"./image/variancia_entre_SE.png\" alt=\"Drawing\" style=\"width: 400px;\"/></center>"
   ]
  },
  {
   "cell_type": "markdown",
   "metadata": {
    "cell_style": "split",
    "lines_to_next_cell": 0,
    "tags": [
     "remove_input"
    ]
   },
   "source": [
    "<br>\n",
    "<center><img src=\"./image/bebesurpreso_SE.png\" alt=\"Drawing\" style=\"width: 300px;\"/></center>"
   ]
  },
  {
   "cell_type": "markdown",
   "metadata": {
    "lines_to_next_cell": 0
   },
   "source": [
    "Sendo assim, para $F = {{S_E^2}\\over{S_D^2}}$, a estatística $F$ aumenta quando a variância entre os grupos/condições (ou as médias entre grupos)  aumentar."
   ]
  },
  {
   "cell_type": "markdown",
   "metadata": {},
   "source": [
    "#### Variância dentro (*within*) dos grupos"
   ]
  },
  {
   "cell_type": "markdown",
   "metadata": {
    "cell_style": "split",
    "lines_to_next_cell": 0,
    "tags": [
     "remove_input"
    ]
   },
   "source": [
    "A variância dentro dos grupos é uma medida da variância total, desconsiderando a média de cada uma das condições. Cada amostra tem sua própria distribuição (presumivelmente, reflexo da distribuição da população de onde veio):\n",
    "\n",
    "<center><img src=\"./image/variancia_dentro.png\" alt=\"Drawing\" style=\"width:400px;\"/></center>"
   ]
  },
  {
   "cell_type": "markdown",
   "metadata": {
    "cell_style": "split",
    "tags": [
     "remove_input"
    ]
   },
   "source": [
    "<br>\n",
    "<br>\n",
    "Como sempre, não temos esta certeza e lidaremos somente com a informação das amostras, $S_{m}$:\n",
    "<br>\n",
    "<br>\n",
    "<br>\n",
    "\n",
    "<center><img src=\"./image/variancia_dentro_amo.png\" alt=\"Drawing\" style=\"width: 400px;\"/></center>"
   ]
  },
  {
   "cell_type": "markdown",
   "metadata": {
    "cell_style": "center",
    "tags": [
     "remove_input"
    ]
   },
   "source": [
    "***"
   ]
  },
  {
   "cell_type": "markdown",
   "metadata": {
    "cell_style": "split",
    "tags": [
     "remove_input"
    ]
   },
   "source": [
    "Mesclando as três distribuições, estimamos a variância dentro dos grupos, $S_D^2$, uma medida de quanto, como um todo, a variável é dispersa:"
   ]
  },
  {
   "cell_type": "markdown",
   "metadata": {
    "cell_style": "split",
    "tags": [
     "remove_input"
    ]
   },
   "source": [
    "<center><img src=\"./image/variancia_dentro_SD.png\" alt=\"Drawing\" style=\"width: 400px;\"/></center>"
   ]
  },
  {
   "cell_type": "markdown",
   "metadata": {
    "cell_style": "split",
    "lines_to_next_cell": 0
   },
   "source": [
    "Caso a variância em cada condição seja maior,"
   ]
  },
  {
   "cell_type": "markdown",
   "metadata": {
    "cell_style": "split",
    "tags": [
     "remove_input"
    ]
   },
   "source": [
    "<center><img src=\"./image/variancia_dentro_SD3.png\" alt=\"Drawing\" style=\"width: 400px;\"/></center>"
   ]
  },
  {
   "cell_type": "markdown",
   "metadata": {
    "lines_to_next_cell": 0
   },
   "source": [
    "esta variância será refletida em $S_D^2$:"
   ]
  },
  {
   "cell_type": "markdown",
   "metadata": {
    "cell_style": "split",
    "lines_to_next_cell": 0,
    "tags": [
     "remove_input"
    ]
   },
   "source": [
    "<center><img src=\"./image/variancia_dentro_SDmais.png\" alt=\"Drawing\" style=\"width: 400px;\"/></center>"
   ]
  },
  {
   "cell_type": "markdown",
   "metadata": {
    "cell_style": "split",
    "lines_to_next_cell": 0,
    "tags": [
     "remove_input"
    ]
   },
   "source": [
    "<center><img src=\"./image/bebesurpreso_SD.png\" alt=\"Drawing\" style=\"width: 300px;\"/></center>"
   ]
  },
  {
   "cell_type": "markdown",
   "metadata": {
    "lines_to_next_cell": 0
   },
   "source": [
    "Sendo assim, para $F = {{S_E^2}\\over{S_D^2}}$, a estatística $F$ diminui quando a variância dentro os grupos (ou condições) aumentar."
   ]
  },
  {
   "cell_type": "markdown",
   "metadata": {},
   "source": [
    "#### Comportamento de $F = {{S_E^2}\\over{S_D^2}}$"
   ]
  },
  {
   "cell_type": "markdown",
   "metadata": {},
   "source": [
    "É fácil imaginar o comportamento da estatística $F$ combinando-se o que pode acontecer com $S_E^2$ e $S_D^2$:\n",
    "\n",
    "***"
   ]
  },
  {
   "cell_type": "markdown",
   "metadata": {
    "tags": [
     "remove_input"
    ]
   },
   "source": [
    "<center><img src=\"./image/F_X_s.png\" alt=\"Drawing\" style=\"width: 700px;\"/></center>"
   ]
  },
  {
   "cell_type": "markdown",
   "metadata": {
    "lines_to_next_cell": 0
   },
   "source": [
    "***"
   ]
  },
  {
   "cell_type": "markdown",
   "metadata": {
    "tags": [
     "remove_input"
    ]
   },
   "source": [
    "<center><img src=\"./image/F_SE_SD.png\" alt=\"Drawing\" style=\"width: 800px;\"/></center>"
   ]
  },
  {
   "cell_type": "markdown",
   "metadata": {
    "cell_style": "split",
    "lines_to_next_cell": 0
   },
   "source": [
    "***\n",
    "\n",
    "Desta forma, Ronald Fisher inventou uma **genial** forma de comparar médias entre várias condições, simultaneamente, utilizando somente a comparação entre duas variâncias, com o numerador refletindo a dispersão das médias e o denominador refletindo a dispersão do fenômeno em estudo. "
   ]
  },
  {
   "cell_type": "markdown",
   "metadata": {
    "cell_style": "split",
    "tags": [
     "remove_input"
    ]
   },
   "source": [
    "<center><img src=\"./image/bebesurpreso_F.png\" alt=\"Drawing\" style=\"width: 300px;\"/></center>"
   ]
  },
  {
   "cell_type": "markdown",
   "metadata": {
    "cell_style": "split"
   },
   "source": [
    "# Métodos Robustos"
   ]
  },
  {
   "cell_type": "markdown",
   "metadata": {
    "cell_style": "split",
    "lines_to_next_cell": 0,
    "tags": [
     "remove_input"
    ]
   },
   "source": [
    "<center><img src=\"./image/defender.png\" alt=\"Drawing\" style=\"width: 300px;\"/></center>"
   ]
  },
  {
   "cell_type": "markdown",
   "metadata": {},
   "source": [
    "<div align=right><small>https://performancedrive.com.au/icon-land-rover-defender-90-6-2-chev-v8-1606/</small></div>"
   ]
  },
  {
   "cell_type": "markdown",
   "metadata": {},
   "source": [
    "## ANOVA para condições independentes\n",
    "\n",
    "Utilizada quando os participantes são avaliados em somente uma das condições experimentais, i.e., um delineamento independente ou entre participantes."
   ]
  },
  {
   "cell_type": "markdown",
   "metadata": {},
   "source": [
    "### Suposições\n",
    "\n",
    "- independência entre as unidades experimentais,\n",
    "- normalidade da VD em todas as condições,\n",
    "- homocedasticidade da VD entre todas as condições.\n",
    "\n",
    "***"
   ]
  },
  {
   "cell_type": "markdown",
   "metadata": {},
   "source": [
    "<img src=\"./image/coruja.png\" alt=\"Drawing\" style=\"width: 75px;float: left;\"/>  \n",
    "<div class=\"alert alert-block alert-success\">\n",
    "\n",
    "\n",
    "**Normalidade e balanceamento**:\n",
    "\n",
    "> “O teste t é ainda um teste válido, mesmo com modestas violações na\n",
    "suposição de normalidade, particularmente quando os tamanhos dos\n",
    "grupos são iguais e existe um número razoável de participantes em\n",
    "cada grupo; por “razoável” entendemos que, em um delineamento\n",
    "completamente entre participantes, deve haver pelo menos 12\n",
    "participantes por grupo[...]” (Dancey & Reidy, 2019, p. 472)\n",
    "\n",
    "Então:\n",
    "- se o número de unidades experimentais é igual a pelo menos 12 em cada grupo, a suposição de normalidade não é necessária.\n",
    "\n",
    "- se os grupos são balanceados, homocedasticidade não é necessária.\n",
    "\n",
    "***\n",
    "O balanceamento não precisa ser estrito:\n",
    "\n",
    "> “Consideram-se grupos de dimensão semelhante quando o quociente entre a maior dimensão e a menor for inferior a 1,5.” (Pestana, M. & Gageiro, J. (2008) Análise de dados para\n",
    "Ciências Sociais: a complementaridade do SPSS. Lisboa: Sílabo, p. 278)\n",
    "\n",
    "Então:\n",
    "\n",
    "- Se a maior quantidade de unidades observacionais numa condição NÃO superar 1,5 vezes a condição de menor quantidade de unidades observacionais, então a suposição de homocedasticidade não precisa ser considerada para o teste ANOVA unifatorial independente.\n",
    "</div>\n",
    "***\n",
    "\n",
    "***"
   ]
  },
  {
   "cell_type": "markdown",
   "metadata": {},
   "source": [
    "<img src=\"./image/coruja.png\" alt=\"Drawing\" style=\"width: 75px;float: left;\"/>  \n",
    "<div class=\"alert alert-block alert-success\">\n",
    "\n",
    "**Homocedasticidade**:\n",
    "\n",
    "Em geral, quando você tiver tamanhos de amostras iguais, a suposição de homocedasticidade não será um grande problema.\n",
    "<div align=right><small>- Dancey & Reidy (2019), p. 472-3</small></div>\n",
    "\n",
    "- ANOVA unifatorial independente de Fisher para condições **balanceadas** é adequada na situação de heterocedasticidade populacional.\n",
    "- ANOVA unifatorial independente de Welch para condições **desbalanceadas** é adequada na situação de heterocedasticidade populacional.\n",
    "\n",
    "A homocedasticidade ocorre heuristicamente se $\\frac{(\\text{maior desvio-padrão})}{(\\text{menor desvio-padrão})} > 2$.\n",
    "> <div align=right><small> Johnson, R. & Wichern, D. (2007) Applied Multivariate Statistical Analysis. 6 th ed. NJ: Prentice-Hall, p. 291</small></div>\n",
    "> <div align=right><small> Moore, D. (1995) The basic practice of statistics. New York: W. H. Freeman and Company,<br>\n",
    "(citado em Norusis, M. (2009) PASW Statistics 18: Statistics Procedures Companion. NJ: Prentice-Hall, p. 148)</small></div>\n",
    "</div>"
   ]
  },
  {
   "cell_type": "markdown",
   "metadata": {},
   "source": [
    "***"
   ]
  },
  {
   "cell_type": "markdown",
   "metadata": {},
   "source": [
    "### Situação\n",
    "\n",
    "<img src=\"./image/snaped.png\" alt=\"Drawing\" style=\"width: 100px;float: left;\"/>\n",
    "\n",
    "\n",
    "* O SNAP-Ed (Supplemental Nutrition Assistance Program Education) é um programa baseado em evidências que ajuda as pesso as a terem uma vida mais saudável.\n",
    "\n",
    "* O SNAP-Ed ensina às pessoas que usam ou qualificam para o SNAP uma boa nutrição e como fazer com que o seu dinheiro de alimentação se estenda ainda mais.\n",
    "\n",
    "* Os participantes do SNAP-Ed também aprendem a ser fisicamente ativos.\n",
    "\n",
    "<div align=right><small>https://www.fns.usda.gov/snap/supplemental-nutrition-assistance-program-education-snap-ed</small></div>"
   ]
  },
  {
   "cell_type": "markdown",
   "metadata": {},
   "source": [
    "### Planejamento\n",
    "\n",
    "Brendon Small, Coach McGuirk e Melissa Robins fazem com que seus alunos do SNAP-Ed mantenham diários do que comem por uma semana e depois calculem a ingestão diária de sódio em miligramas.\n",
    "\n",
    "Desde que as classes receberam diferentes programas de educação nutricional, eles querem ver se a ingestão média de sódio é a mesma para as três turmas."
   ]
  },
  {
   "cell_type": "markdown",
   "metadata": {
    "lines_to_next_cell": 0
   },
   "source": [
    "### Hipóteses nula e alternativa\n",
    "\n",
    "As três classes receberam diferentes programas de educação nutricional. A ingestão média de sódio é a mesma (populacionalmente) para os três programas?\n",
    "\n",
    "$H_0: \\mu_{\\text{Small}} = \\mu_{\\text{McGuirk}} = \\mu_{\\text{Robins}}$<br>\n",
    "$H_1: \\exists |\\mu_i \\ne \\mu_j; i \\ne j; i,j=\\text{Small},\\text{McGuirk},\\text{Robins}$<br>\n",
    "Para nível de significância $\\alpha=0,05$.\n",
    "\n",
    "***"
   ]
  },
  {
   "cell_type": "markdown",
   "metadata": {},
   "source": [
    "<img src=\"./image/coruja.png\" alt=\"Drawing\" style=\"width: 75px;float: left;\"/>  \n",
    "<div class=\"alert alert-block alert-success\">\n",
    "\n",
    "\n",
    "Esta é uma forma matemática para escrever a hipótese alternativa, lida como \"Existe pelo menos alguma média $\\mu_i$, diferente de outra média $\\mu_j$, com $i$ e $j$ assumindo os valores $1$, $2$ ou $3$\". É dizer que $\\mu_1 \\ne \\mu_2$ **ou** $\\mu_1 \\ne \\mu_3$ **ou** $\\mu_2 \\ne \\mu_3$.\n",
    "\n",
    "Normalmente expressa como: \n",
    "$$H_1: \\mu_1 \\ne \\mu_2 \\ne \\mu_3$$\n",
    "tentando indicar as diferenças, mas esta forma não funciona porque sugere que a rejeição de $H_0$ implica em que todos os grupos sejam diferentes entre si, como $\\mu_1 \\ne \\mu_2$ **e** $\\mu_1 \\ne \\mu_3$ **e** $\\mu_2 \\ne \\mu_3$. \n",
    "\n",
    "Basta que uma condição tenha média estatisticamente diferente das demais para que se rejeite $H_0$ com ANOVA. Em português:\n",
    "\n",
    "$$H_1: \\text{Existe pelo menos um grupo diferente de algum outro.}$$\n",
    "    </div>\n",
    "***"
   ]
  },
  {
   "cell_type": "markdown",
   "metadata": {},
   "source": [
    "# Operacionalização do teste\n",
    "\n",
    "### ANOVA unifatorial independente de Fisher com ajuste para heterocedasticidade de White\n",
    "\n",
    "A estatística descritiva e inferencial pode ser obtida com [ANOVA1f_indep_FisherWhite_sodio.R](ANOVA1f_indep_FisherWhite_sodio.R):\n",
    "\n",
    "### Executando  `ANOVA1f_indep_FisherWhite_sodio.R`"
   ]
  },
  {
   "cell_type": "code",
   "execution_count": null,
   "metadata": {
    "echo": true,
    "eval": false,
    "lines_to_next_cell": 0
   },
   "outputs": [],
   "source": [
    "# Instala a biblioteca emmeans se não presente em seu ambiente R.\n",
    "if (!require(\"emmeans\")) install.packages(\"emmeans\",repo=\"https://vps.fmvz.usp.br/CRAN/\",dep=TRUE)\n",
    "\n",
    "# ANOVA1f_indep_FisherWhite_sodio.R\n",
    "# para ajustar este RScript para outros dados\n",
    "# troque a planilha xlsx e substitua as palavras\n",
    "# Instructor pela nova VI (fator)\n",
    "# Sodium pela nova VD (resposta)\n",
    "\n",
    "library(psych)\n",
    "library(lattice)\n",
    "library(car)\n",
    "library(multcomp)\n",
    "library(gplots)\n",
    "library(emmeans)\n",
    "library(readxl)\n",
    "\n",
    "# suppress warnings\n",
    "options(warn=-1)\n",
    "\n",
    "TH <- read_excel(\"Nutricao3.xlsx\")\n",
    "TH$Instructor <- factor(TH$Instructor, levels=unique(TH$Instructor))\n",
    "\n",
    "print(with(TH, psych::describeBy(Sodium,Instructor,digits=2)))\n",
    "boxplot(Sodium~Instructor,data=TH,\n",
    "        ylab=names(TH)[which(names(TH)==\"Sodium\")],\n",
    "        xlab=names(TH)[which(names(TH)==\"Instructor\")]\n",
    ")\n",
    "print(grf <- lattice::xyplot(Sodium~Instructor, data=TH, type=c(\"p\",\"a\"),\n",
    "                             jitter.x=TRUE, col=\"black\"))\n",
    "with(TH, gplots::plotmeans(Sodium~Instructor,\n",
    "                           error.bars=\"conf.int\", level=.95,\n",
    "                           connect=FALSE,\n",
    "                           ylab=names(TH)[which(names(TH)==\"Sodium\")],\n",
    "                           xlab=names(TH)[which(names(TH)==\"Instructor\")],\n",
    "                           main=\"IC95%\",\n",
    "                           barcol=\"black\"))\n",
    "car::densityPlot(Sodium~Instructor, data=TH, rug=TRUE, from=0, normalize=TRUE,\n",
    "                 na.rm=TRUE, ylab=\"Densidade\", col=c(\"black\", \"black\", \"black\"))\n",
    "cat(\"\\n\")\n",
    "\n",
    "cat(\"\\nANOVA unifatorial independente de Fisher\",\n",
    "    \"\\ncom ajuste para heterocedasticidade de White:\\n\\n\")\n",
    "alfa <- 0.05\n",
    "VD <- names(TH)[which(names(TH)==\"Sodium\")]\n",
    "VI <- names(TH)[which(names(TH)==\"Instructor\")]\n",
    "cat(\"VD =\", VD,\"\\n\")\n",
    "cat(\"Fator =\", VI,\"\\n\")\n",
    "cat(\"\\nAnalise de significancia estatistica: teste omnibus\\n\")\n",
    "modelo <- lm(Sodium~Instructor, data=TH)\n",
    "print(res <- car::Anova(modelo, type=2, white.adjust=TRUE))\n",
    "cat(\"\\nAnalise de significancia pratica: tamanho de efeito\\n\")\n",
    "F <- res$F[1]\n",
    "dfn <- res$Df[1]\n",
    "dfd <- res$Df[2]\n",
    "eta2 <- dfn*F/(dfn*F+dfd)\n",
    "if (0 <= eta2 & eta2 < 0.1) {geta2 <- \"minimo\"}\n",
    "if (0.1 <= eta2 & eta2 < 0.6) {geta2 <- \"pequeno\"}\n",
    "if (0.6 <= eta2 & eta2 < 0.14) {geta2 <- \"intermediario\"}\n",
    "if (0.14 <= eta2 & eta2 <= 1.0) {geta2 <- \"grande\"}\n",
    "cat(\"- eta^2 =\", eta2, \"\\nGrau\", geta2,\n",
    "    \"de explicacao da variancia da VD\", VD,\"pela VI\", VI,\"\\n\")\n",
    "f2 <- eta2/(1-eta2) # tamanho de efeito f de Cohen\n",
    "ncp <- dfd*f2 # parametro de nao-centralidade\n",
    "fc <- qf(1-alfa, dfn, dfd, 0)\n",
    "p <- 1-pf(F,dfn,dfd,0)\n",
    "if (p < 1e-4)\n",
    "{\n",
    "  p <- sprintf(\"%.2e\",p)\n",
    "} else\n",
    "{\n",
    "  p <- sprintf(\"%.4f\",p)\n",
    "}\n",
    "f <- seq(0,2*ncp,0.01)\n",
    "densf <- df(f, dfn, dfd, 0)\n",
    "plot(f, densf, xlab=\"F\", ylab=\"densidade\", lwd=2, type=\"l\")\n",
    "densf <- df(f, dfn, dfd, ncp)\n",
    "lines(f,densf, lwd=2, lty=2)\n",
    "abline(v=fc, lty=3)\n",
    "abline(v=F, lty=4)\n",
    "legend(\"topright\",\n",
    "       c(\"H0\", \"Obs\", \n",
    "         paste(\"Fc(\",dfn,\",\",dfd,\") = \",round(fc,3),sep=\"\"), \n",
    "         paste(\"Fobs = \",round(F,3),\"\\n\",\n",
    "               \"p = \",p,sep=\"\") \n",
    "         ), \n",
    "       lwd=c(2,2,1,1), lty=c(1,2,3,4))\n",
    "cat(\"\\n\\nSelecao de modelo\\n\")\n",
    "R2aj <- (F-1)/((F-1)+dfd+1)\n",
    "cat(\"- R^2 ajustado =\", R2aj, \"\\n\")\n",
    "omega2 <- (F-1)/((F-1)+dfd+2)\n",
    "cat(\"- omega^2 = \", omega2,\"\\n\\n\")\n",
    "cat(paste(\"Teste post hoc\\n\"))\n",
    "print(EMM <- emmeans::emmeans(modelo, \"Instructor\"))\n",
    "print(grf <- plot(EMM, colors = \"black\",\n",
    "                  main=\"Estimated Marginal Means\",\n",
    "                  xlab=VD,\n",
    "                  ylab=VI))\n",
    "\n",
    "# Testes post hoc\n",
    "cat(\"\\n\\nTestes post hoc:\\n\")\n",
    "\n",
    "# nomes do fator encurtados\n",
    "TH$Instructor <- as.character(TH$Instructor)\n",
    "fatores <- unique(as.character(TH$Instructor))\n",
    "letra <- \"A\"\n",
    "legenda <- c()\n",
    "cat (\"\\nLegenda:\\n\")\n",
    "for( f in 1:length(fatores))\n",
    "{\n",
    "  cat(\"\\t\",letra,\" ... \",fatores[f],\"\\n\",sep=\"\")\n",
    "  legenda <- c(legenda,paste(letra,\" ... \",fatores[f],\"\\n\",sep=\"\"))\n",
    "  TH$Instructor[TH$Instructor==fatores[f]] <- letra\n",
    "  ascii <- strtoi(charToRaw(letra),16L)\n",
    "  letra <- rawToChar(as.raw(ascii+1))\n",
    "}\n",
    "TH$Instructor <- as.factor(TH$Instructor)\n",
    "modelo <- lm(Sodium~Instructor, data=TH)\n",
    "mc.tuckey <- multcomp::glht(modelo, linfct = mcp(Instructor = \"Tukey\"))\n",
    "print(mcs.tuckey <- summary(mc.tuckey, test=adjusted(\"bonferroni\")))\n",
    "\n",
    "multcomp::cld(mcs.tuckey, level=alfa, decreasing=TRUE)\n",
    "plot(mc.tuckey,las=3)\n",
    "legend(\"topleft\",legenda,lwd=0,lty=0,cex=0.6,box.lwd=0, bg=\"transparent\")\n",
    "\n",
    "mc.dunnett <- multcomp::glht(modelo, linfct = mcp(Instructor = \"Dunnett\"))\n",
    "mcs.dunnett <- summary(mc.dunnett, test=adjusted(\"bonferroni\"))\n",
    "print(mcs.dunnett)\n",
    "plot(mc.dunnett,las=3)\n",
    "legend(\"topleft\",legenda,lwd=0,lty=0,cex=0.6,box.lwd=0, bg=\"transparent\")\n",
    "\n",
    "# enable warnings\n",
    "options(warn=0)"
   ]
  },
  {
   "cell_type": "markdown",
   "metadata": {
    "lines_to_next_cell": 0
   },
   "source": [
    "Obtendo:"
   ]
  },
  {
   "cell_type": "code",
   "execution_count": null,
   "metadata": {
    "tags": [
     "remove_input"
    ]
   },
   "outputs": [],
   "source": [
    "source(\"ANOVA1f_indep_FisherWhite_sodio.R\")"
   ]
  },
  {
   "cell_type": "markdown",
   "metadata": {
    "lines_to_next_cell": 0
   },
   "source": [
    "Analise a saída deste _RScript_ e encontre:\n",
    "\n",
    "- a estatística descritiva (textual e gráficos)\n",
    "- a ANOVA unifatorial\n",
    "    - encontre os graus de liberdade $F$(`r res$Df`).\n",
    "    - o valor de $F$ calculado, igual a `r round(res$F,4)`.\n",
    "    - o valor de $p$ correspondente, igual a `r round(1-pf(res$F,dfn,dfd,0),6)`.\n",
    "    - o tamanho de efeito, $\\eta^2$=`r eta2`.\n",
    "- os testes _post hoc_ com a legenda:"
   ]
  },
  {
   "cell_type": "code",
   "execution_count": null,
   "metadata": {
    "tags": [
     "remove_input"
    ]
   },
   "outputs": [],
   "source": [
    "for (l in 1:length(legenda))\n",
    "{\n",
    "  cat(\"\\t\\t\",legenda[l],\"\\n\")\n",
    "}"
   ]
  },
  {
   "cell_type": "markdown",
   "metadata": {
    "lines_to_next_cell": 0
   },
   "source": [
    "- e seus resultados em:\n",
    "    - contrastes de Tukey (textual e gráfico) com os respectivos valores $p$: `r mcs.tuckey$test$pvalues` \n",
    "    - contrastes de Dunnett (textual e gráfico) com os respectivos valores $p$: `r mcs.dunnett$test$pvalues`\n",
    "\n",
    "***"
   ]
  },
  {
   "cell_type": "markdown",
   "metadata": {},
   "source": [
    "<img src=\"./image/coruja.png\" alt=\"Drawing\" style=\"width: 75px;float: left;\"/>  \n",
    "<div class=\"alert alert-block alert-success\">\n",
    "\n",
    "Existem muitas famílias de testes para análise _post hoc_ disponíveis.\n",
    "\n",
    "Uma família de testes para análise _post-hoc_ mais conservadora é adequada quando há um grande número de comparações como, por exemplo, o das diferenças honestamente significantes (DHS) de Tukey.\n",
    "\n",
    "<small>\"O Teste proposto por Tukey (1953) é também  conhecido como teste de Tukey da diferença honestamente significativa (honestly significant difference)(HSD) e teste de Tukey da diferença totalmente significativa (wholly significant difference)(WSD). É um teste exato em que, para  a família de todas as $c=\\frac{1}{2}k(k-1)$ comparações duas a duas, a taxa de erro da família dos testes (FWER) é exatamente $\\alpha$ (e o intervalo de confiança é exatamente $1-\\alpha$). Métodos de comparações múltiplas exatos são raros. O teste de Tukey tem sido mostrado analiticamente ótimo, no sentido que, entre todos  os procedimentos que resultam em intervalos de confiança com mesmo tamanho para todas diferenças duas a duas com coeficiente de confiança da família  de pelo menos $1-\\alpha$, o teste de Tukey resulta em intervalos menores. Isso quer dizer que, se a família consiste em todas comparações duas a duas e o teste de Tukey pode ser usado, ele resultará em intervalos menores que qualquer outro método de comparação múltipla de uma etapa.\"</small>\n",
    "<div align=right><small>http://www.portalaction.com.br/anova/31-teste-de-tukey</small></div>\n",
    "\n",
    "</div>"
   ]
  },
  {
   "cell_type": "markdown",
   "metadata": {},
   "source": [
    "***"
   ]
  },
  {
   "cell_type": "markdown",
   "metadata": {},
   "source": [
    "#### Exemplo de relatório para a ANOVA unifatorial independente"
   ]
  },
  {
   "cell_type": "markdown",
   "metadata": {},
   "source": [
    "> Há 60 participantes no estudo balanceado com três condições independentes, sendo que **nenhuma** delas é de controle. Os participantes foram distribuídos aleatoriamente e **balanceadamente** nos três grupos. As suposições de normalidade e homocedasticidade da VD **foram consideradas válidas**. As médias amostrais brutas mostram que **menor ingesta de sódio foi observada entre estudantes submetidos ao programa aplicado por Melissa Robins**. A **ingesta de sódio dos estudantes de Brendon Small e do Coach McGuirk** são semelhantes.\n",
    "A análise de variância de um fator fixo entre participantes mostrou que o efeito fixo **Sódio** é estatisticamente significante, pois o teste omnibus produziu **F(2;57) = 5,57** e **_p_ = 0,00615%**. O tamanho do efeito do fator **Instrutor** é expresso por eta parcial ao quadrado, sendo que seu valor é igual a **0,16**. Portanto, **16% da variância da ingesta de sódio** é explicada pelo **programa adotado pelos respectivos instrutores**. Os testes *post hoc* de Tukey-HSD confirmaram que as diferenças entre **os programas adotados por Robins e Small**, e entre **os adotados por Robins e McGuirk** são estatisticamente significantes. Não se observou diferença estatisticamente significante entre **os programas adotados por Small e McGuirk**."
   ]
  },
  {
   "cell_type": "markdown",
   "metadata": {
    "lines_to_next_cell": 0
   },
   "source": [
    "### ANOVA unifatorial independente de Welch"
   ]
  },
  {
   "cell_type": "markdown",
   "metadata": {},
   "source": [
    "O _RScript_ [ANOVA1f_indep_Welch_sodio.R](ANOVA1f_indep_Welch_sodio.R) é uma modificação mais robusta do anterior. \n",
    "\n",
    "As linhas de código que produzem a ANOVA de Fisher-White:"
   ]
  },
  {
   "cell_type": "code",
   "execution_count": null,
   "metadata": {
    "echo": true,
    "eval": false,
    "lines_to_next_cell": 0
   },
   "outputs": [],
   "source": [
    "modelo <- lm(Sodium~Instructor, data=TH)\n",
    "print(res <- car::Anova(modelo, type=2, white.adjust=TRUE))"
   ]
  },
  {
   "cell_type": "markdown",
   "metadata": {
    "lines_to_next_cell": 0
   },
   "source": [
    "são substituídas por:"
   ]
  },
  {
   "cell_type": "code",
   "execution_count": null,
   "metadata": {
    "echo": true,
    "eval": false,
    "lines_to_next_cell": 0
   },
   "outputs": [],
   "source": [
    "if (!require(\"jmv\")) install.packages(\"jmv\",repo=\"https://vps.fmvz.usp.br/CRAN/\",dep=TRUE)\n",
    "\n",
    "print(res <- jmv::anovaOneW(formula = Sodium~Instructor, data=TH,\n",
    "                       desc=TRUE, descPlot = FALSE, phMethod ='gamesHowell',\n",
    "                       phMeanDif = TRUE, phTest=TRUE, phFlag=TRUE))"
   ]
  },
  {
   "cell_type": "markdown",
   "metadata": {
    "lines_to_next_cell": 0
   },
   "source": [
    "O objeto **res**, que recebe o retorno da função `jmv::anovaOneW()`,\n",
    " é diferente de  `car::Anova()` e, portanto, na sequência do *RScript*, a captação dos valores foram devidamente ajustados. Esta função da library *jmv* já executa os testes *post hoc*.\n",
    "\n",
    "Executando:"
   ]
  },
  {
   "cell_type": "code",
   "execution_count": null,
   "metadata": {
    "echo": true,
    "eval": false,
    "lines_to_next_cell": 0
   },
   "outputs": [],
   "source": [
    "# ANOVA1f_indep_Welch_sodio.R\n",
    "# para ajustar este RScript para outros dados\n",
    "# troque a planilha xlsx e substitua as palavras\n",
    "# Instructor pela nova VI (fator)\n",
    "# Sodium pela nova VD (resposta)\n",
    "\n",
    "library(psych)\n",
    "library(lattice)\n",
    "library(car)\n",
    "library(gplots)\n",
    "library(jmv)\n",
    "library(readxl)\n",
    "\n",
    "# suppress warnings\n",
    "options(warn=-1)\n",
    "\n",
    "TH <- read_excel(\"Nutricao3.xlsx\")\n",
    "TH$Instructor <- factor(TH$Instructor, levels=unique(TH$Instructor))\n",
    "\n",
    "print(with(TH, psych::describeBy(Sodium,Instructor,digits=2)))\n",
    "boxplot(Sodium~Instructor,data=TH,\n",
    "        ylab=names(TH)[which(names(TH)==\"Sodium\")],\n",
    "        xlab=names(TH)[which(names(TH)==\"Instructor\")]\n",
    ")\n",
    "print(grf <- lattice::xyplot(Sodium~Instructor, data=TH, type=c(\"p\",\"a\"),\n",
    "                             jitter.x=TRUE, col=\"black\"))\n",
    "with(TH, gplots::plotmeans(Sodium~Instructor,\n",
    "                           error.bars=\"conf.int\", level=.95,\n",
    "                           connect=FALSE,\n",
    "                           ylab=names(TH)[which(names(TH)==\"Sodium\")],\n",
    "                           xlab=names(TH)[which(names(TH)==\"Instructor\")],\n",
    "                           main=\"IC95%\",\n",
    "                           barcol=\"black\"))\n",
    "car::densityPlot(Sodium~Instructor, data=TH, rug=TRUE, from=0, normalize=TRUE,\n",
    "                 na.rm=TRUE, ylab=\"Densidade\", col=c(\"black\", \"black\", \"black\"))\n",
    "cat(\"\\n\")\n",
    "\n",
    "cat(\"\\nANOVA unifatorial independente de Welch\\n\\n\")\n",
    "alfa <- 0.05\n",
    "VD <- names(TH)[which(names(TH)==\"Sodium\")]\n",
    "VI <- names(TH)[which(names(TH)==\"Instructor\")]\n",
    "cat(\"VD =\", VD,\"\\n\")\n",
    "cat(\"Fator =\", VI,\"\\n\")\n",
    "cat(\"\\nAnalise de significancia estatistica: teste omnibus\\n\")\n",
    "print(res <- jmv::anovaOneW(formula = Sodium~Instructor, data=TH,\n",
    "                       desc=TRUE, descPlot = FALSE, phMethod ='gamesHowell',\n",
    "                       phMeanDif = TRUE, phTest=TRUE, phFlag=TRUE))\n",
    "cat(\"\\nAnalise de significancia pratica: tamanho de efeito\\n\")\n",
    "F <- as.numeric(res$anova$asDF[2])\n",
    "dfn <- as.numeric(res$anova$asDF[3])\n",
    "dfd <- as.numeric(res$anova$asDF[4])\n",
    "eta2 <- dfn*F/(dfn*F+dfd)\n",
    "if (0 <= eta2 & eta2 < 0.1) {geta2 <- \"minimo\"}\n",
    "if (0.1 <= eta2 & eta2 < 0.6) {geta2 <- \"pequeno\"}\n",
    "if (0.6 <= eta2 & eta2 < 0.14) {geta2 <- \"intermediario\"}\n",
    "if (0.14 <= eta2 & eta2 <= 1.0) {geta2 <- \"grande\"}\n",
    "cat(\"- eta^2 =\", eta2, \"\\nGrau\", geta2,\n",
    "    \"de explicacao da variancia da VD\", VD,\"pela VI\", VI,\"\\n\")\n",
    "f2 <- eta2/(1-eta2) # tamanho de efeito f de Cohen\n",
    "ncp <- dfd*f2 # parametro de nao-centralidade\n",
    "fc <- qf(1-alfa, dfn, dfd, 0)\n",
    "p <- 1-pf(F,dfn,dfd,0)\n",
    "if (p < 1e-4)\n",
    "{\n",
    "  p <- sprintf(\"%.2e\",p)\n",
    "} else\n",
    "{\n",
    "  p <- sprintf(\"%.4f\",p)\n",
    "}\n",
    "f <- seq(0,2*ncp,0.01)\n",
    "densf <- df(f, dfn, dfd, 0)\n",
    "plot(f, densf, xlab=\"F\", ylab=\"densidade\", lwd=2, type=\"l\")\n",
    "densf <- df(f, dfn, dfd, ncp)\n",
    "lines(f,densf, lwd=2, lty=2)\n",
    "abline(v=fc, lty=3)\n",
    "abline(v=F, lty=4)\n",
    "legend(\"topright\",\n",
    "       c(\"H0\", \"Obs\", \n",
    "         paste(\"Fc(\",dfn,\",\",round(dfd,3),\") = \",round(fc,3),sep=\"\"), \n",
    "         paste(\"Fobs = \",round(F,3),\"\\n\",\n",
    "               \"p = \",p,sep=\"\") \n",
    "         ), \n",
    "       lwd=c(2,2,1,1), lty=c(1,2,3,4))\n",
    "cat(\"\\n\\nSelecao de modelo\\n\")\n",
    "R2aj <- (F-1)/((F-1)+dfd+1)\n",
    "cat(\"- R^2 ajustado =\", R2aj, \"\\n\")\n",
    "omega2 <- (F-1)/((F-1)+dfd+2)\n",
    "cat(\"- omega^2 = \", omega2,\"\\n\\n\")\n",
    "# enable warnings\n",
    "options(warn=0)"
   ]
  },
  {
   "cell_type": "markdown",
   "metadata": {
    "lines_to_next_cell": 0
   },
   "source": [
    "Obtém-se:"
   ]
  },
  {
   "cell_type": "code",
   "execution_count": null,
   "metadata": {
    "tags": [
     "remove_input"
    ]
   },
   "outputs": [],
   "source": [
    "source(\"ANOVA1f_indep_Welch_sodio.R\")"
   ]
  },
  {
   "cell_type": "markdown",
   "metadata": {},
   "source": [
    "Analise a saída deste *RScript* e encontre:\n",
    "\n",
    "- a mesma estatística descritiva do *RScript* anterior.\n",
    "- os valores da ANOVA de Welch, com o valor $F\\text{ calculado}$=(`r dfn`,`r round(dfd,2)`)=`r round(res$anova$asDF[2],4)` e o valor $p$=`r res$anova$asDF[5]` (note o número fracionário para os graus de liberdade do denominados, da mesma forma que acontece com o teste $t$ de Welch).\n",
    "- os testes *post hoc*, na fomra de uma matriz relacionando os pares de programas (Small, McGuirk e Robins), mostrando:\n",
    "    - a diferença média\n",
    "    - o valor da estatística $t$ (são feitos testes $t$ par-a-par)\n",
    "    - os graus de liberdade fracionários ($t$ de Welch)\n",
    "    - os valores $p$, já corrigidos para serem interpretados em comparação com $\\alpha$=`r alfa`.\n",
    "- o valor estimado para o tamanho de efeito do teste *omnibus*, dado por $\\eta^2$=`r eta2`.\n",
    "    \n",
    "A conclusão, neste exemplo, é similar à obtida com o **teste de ANOVA de Fisher-White**: o programa adotado por Melissa Robins obteve ingestas de sódio significantemente menores que a dos outros dois instrutores."
   ]
  },
  {
   "cell_type": "markdown",
   "metadata": {},
   "source": [
    "### ANOVA independente, sem os dados brutos"
   ]
  },
  {
   "cell_type": "markdown",
   "metadata": {},
   "source": [
    "É muito comum, em publicações, que somente tenhamos acesso às medidas-resumo (número de participantes, média, desvio-padrão e correlação). Nestes casos, os *RScripts* acima não são utilizáveis. \n",
    "\n",
    "Para fazer os testes quando os dados brutos não estão disponíveis, criamos os seguintes scripts:\n",
    "\n",
    "* [ANOVA_Unifatorial_Welch_SemDadosBrutos_Schizo.R](ANOVA_Unifatorial_Welch_SemDadosBrutos_Schizo.R)\n",
    "* [ANOVA_Unifatorial_Fisher_SemDadosBrutos_Schizo.R](ANOVA_Unifatorial_Fisher_SemDadosBrutos_Schizo.R)"
   ]
  },
  {
   "cell_type": "markdown",
   "metadata": {},
   "source": [
    "## ANOVA unifatorial relacionada ou para medidas repetidas"
   ]
  },
  {
   "cell_type": "markdown",
   "metadata": {},
   "source": [
    "Utilizada quando os participantes são avaliados\n",
    "sob todas as condições experimentais, i.e., um\n",
    "delineamento intraparticipantes.\n",
    "\n",
    "Neste delineamento a variação entre os grupos não é devida às diferenças individuais (cada participante em cada grupo é o mesmo), e a fórmula para o cálculo da estatística $F$ leva este fato em consideração. \n",
    "\n",
    "O delineamento com medidas repetidas leva a um teste com maior poder.\n",
    "\n",
    "No entanto, como o mesmo participante é controle de si mesmo e submetido a todas as condições experimentais, sugere-se que esta ordem de submissão, se possível, seja aleatorizada."
   ]
  },
  {
   "cell_type": "markdown",
   "metadata": {},
   "source": [
    "### Suposições\n",
    "\n",
    "– as diferenças dos valores das VDs são independentes entre as unidades observacionais.\n",
    "– as diferenças dos valores das VDs têm distribuição normal multivariada.\n",
    "– esfericidade: homocedasticidade das variâncias das diferenças das VDs (uma explicação sem muita matemática está em https://en.wikipedia.org/wiki/Mauchly%27s_sphericity_test)\n",
    "\n",
    "> “O teste t é ainda um teste válido, mesmo com modestas violações na\n",
    "suposição de normalidade, particularmente quando os tamanhos dos\n",
    "grupos são iguais e existe um número razoável de participantes em\n",
    "cada grupo; por “razoável” entendemos que [para um delineamento] completamente intraparticipantes, [deve haver] pelo menos 22 participantes ao todo.” (Dancey & Reidy, 2019, p. 472)"
   ]
  },
  {
   "cell_type": "markdown",
   "metadata": {},
   "source": [
    "### Situação\n",
    "\n",
    "***\n",
    "\n",
    "<img src=\"./image/coruja.png\" alt=\"Drawing\" style=\"width: 75px;float: left;\"/>  \n",
    "<div class=\"alert alert-block alert-success\">\n",
    "\n",
    "Usaremos os mesmos dados do exemplo anterior, mas supondo que as 20 medidas de ingesta de sódio sejam do mesmo participante, submetido aos três diferentes programas educacionais. Então, a normalidade multivariada das três diferenças não pode ser assumida, pois há 20 unidades observacionais no estudo.\n",
    "</div>"
   ]
  },
  {
   "cell_type": "markdown",
   "metadata": {},
   "source": [
    "***"
   ]
  },
  {
   "cell_type": "markdown",
   "metadata": {
    "lines_to_next_cell": 0
   },
   "source": [
    "<center><img src=\"./image/snaped.png\" alt=\"Drawing\" style=\"width: 100px; float: left;\"/></center>\n",
    "\n",
    "* O SNAP-Ed (Supplemental Nutrition Assistance Program Education) é um programa baseado em evidências que ajuda as pessoas a terem uma vida mais saudável.\n",
    "\n",
    "* O SNAP-Ed ensina às pessoas que usam ou qualificam para o SNAP uma boa nutrição e como fazer com que o seu dinheiro de alimentação se estenda ainda mais.\n",
    "\n",
    "* Os participantes do SNAP-Ed também aprendem a ser fisicamente ativos.\n",
    "<div align=right><small>https://www.fns.usda.gov/snap/supplemental-nutrition-assistance-program-education-snap-ed</small></div>"
   ]
  },
  {
   "cell_type": "markdown",
   "metadata": {},
   "source": [
    "### Planejamento\n",
    "\n",
    "Brendon Small, Coach McGuirk e Melissa Robins fazem com que seus alunos do SNAP-Ed mantenham diários do que comem por uma semana e depois calculem a ingestão diária de sódio em miligramas.\n",
    "\n",
    "Estudantes atenderam os diferentes programas de educação nutricional suscessivamente, e os instrutores querem ver se a ingestão média de sódio é a mesma quando cada um dos três programas foi seguido."
   ]
  },
  {
   "cell_type": "markdown",
   "metadata": {},
   "source": [
    "### Hipóteses nula e alternativa\n",
    "\n",
    "O delineamento do estudo é diferente, mas as hipóteses são as mesmas: \n",
    "\n",
    "$$H_0: \\mu_{\\text{Small}} = \\mu_{\\text{McGuirk}} = \\mu_{\\text{Robins}}$$\n",
    "$$H_1: \\exists |\\mu_i \\ne \\mu_j; i \\ne j; i,j=1,2,3$$"
   ]
  },
  {
   "cell_type": "markdown",
   "metadata": {},
   "source": [
    "# Operacionalização do teste"
   ]
  },
  {
   "cell_type": "markdown",
   "metadata": {},
   "source": [
    "### ANOVA unifatorial relacionada ou para medidas repetidas, balanceadas\n",
    "\n",
    "A planilha a ser utilizada é *[Nutricao3par.R](Nutricao3par.R)*. Verifique a coluna *Student*, que foi alterada para indicar o participante nos três programas (compare com *[Nutricao3.R](Nutricao3.R)*, usada para ANOVA independente).\n",
    "\n",
    "As bibliotecas (*libraries*) necessárias são *lmerTest* e *ez*, e o trecho que aplica o método estatístico é:\n",
    "\n",
    "```{R}\n",
    "res <- lmerTest::lmer(Sodium~Instructor + (1|Student), data=TH, REML=TRUE)\n",
    "```\n",
    "\n",
    "Executando:"
   ]
  },
  {
   "cell_type": "code",
   "execution_count": null,
   "metadata": {
    "echo": true,
    "eval": false
   },
   "outputs": [],
   "source": [
    "if (!require(\"lmerTest\")) install.packages(\"lmerTest\",repo=\"https://vps.fmvz.usp.br/CRAN/\",dep=TRUE)\n",
    "if (!require(\"ez\")) install.packages(\"ez\",repo=\"https://vps.fmvz.usp.br/CRAN/\",dep=TRUE)\n",
    "\n",
    "# ANOVA1f_dep_balanc_sodio.R\n",
    "# para ajustar este RScript para outros dados\n",
    "# troque a planilha xlsx e substitua as palavras\n",
    "# Instructor pela nova VI (fator)\n",
    "# Sodium pela nova VD (resposta)\n",
    "\n",
    "library(psych)\n",
    "library(lattice)\n",
    "library(car)\n",
    "library(lmerTest)\n",
    "library(ez)\n",
    "library(readxl)\n",
    "\n",
    "# suppress warnings\n",
    "options(warn=-1)\n",
    "\n",
    "TH <- read_excel(\"Nutricao3par.xlsx\")\n",
    "TH$Instructor <- factor(TH$Instructor, levels=unique(TH$Instructor))\n",
    "\n",
    "print(with(TH, psych::describeBy(Sodium,Instructor,digits=2)))\n",
    "boxplot(Sodium~Instructor,data=TH,\n",
    "        ylab=names(TH)[which(names(TH)==\"Sodium\")],\n",
    "        xlab=names(TH)[which(names(TH)==\"Instructor\")]\n",
    ")\n",
    "print(grf <- lattice::xyplot(Sodium~Instructor, data=TH, type=c(\"p\",\"a\"),\n",
    "                             jitter.x=TRUE, col=\"black\"))\n",
    "car::densityPlot(Sodium~Instructor, data=TH, rug=TRUE, from=0, normalize=TRUE,\n",
    "                 na.rm=TRUE, ylab=\"Densidade\", col=c(\"black\", \"black\", \"black\"))\n",
    "cat(\"\\n\")\n",
    "\n",
    "cat(paste(\"\\nTeste omnibus por GLMM com efeito aleatorio\\n\"))\n",
    "alfa <- 0.05\n",
    "VD <- names(TH)[which(names(TH)==\"Sodium\")]\n",
    "VI <- names(TH)[which(names(TH)==\"Instructor\")]\n",
    "cat(\"VD =\", VD,\"\\n\")\n",
    "cat(\"Fator =\", VI,\"\\n\")\n",
    "cat(\"\\nAnalise de significancia estatistica: teste omnibus\\n\")\n",
    "res <- lmerTest::lmer(Sodium~Instructor + (1|Student), data=TH, REML=TRUE)\n",
    "cat(\"\\n\"); print(res1 <- stats::anova(res)); cat(\"\\n\")\n",
    "print(lmerTest::rand(res))\n",
    "cat(paste(\"\\nTeste post hoc\\n\\n\"))\n",
    "print(out <- lmerTest::difflsmeans(res))\n",
    "dfn <- as.numeric(res1[3])\n",
    "dfd <- as.numeric(res1[4])\n",
    "F <- as.numeric(res1[5])\n",
    "cat(\"\\nAnalise de significancia pratica: tamanho de efeito\\n\")\n",
    "eta2 <- dfn*F/(dfn*F+dfd)\n",
    "if (0 <= eta2 & eta2 < 0.1) {geta2 <- \"minimo\"}\n",
    "if (0.1 <= eta2 & eta2 < 0.6) {geta2 <- \"pequeno\"}\n",
    "if (0.6 <= eta2 & eta2 < 0.14) {geta2 <- \"intermediario\"}\n",
    "if (0.14 <= eta2 & eta2 <= 1.0) {geta2 <- \"grande\"}\n",
    "cat(\"\\neta^2 =\", eta2, \"\\nGrau\", geta2,\n",
    "    \"de explicacao da variancia da VD\", VD,\"pela VI\", VI,\"\\n\")\n",
    "f2 <- eta2/(1-eta2) # tamanho de efeito f de Cohen\n",
    "ncp <- dfd*f2 # parametro de nao-centralidade\n",
    "fc <- qf(1-alfa, dfn, dfd, 0)\n",
    "p <- 1-pf(F,dfn,dfd,0)\n",
    "if (p < 1e-4)\n",
    "{\n",
    "  p <- sprintf(\"%.2e\",p)\n",
    "} else\n",
    "{\n",
    "  p <- sprintf(\"%.4f\",p)\n",
    "}\n",
    "f <- seq(0,2*ncp,0.01)\n",
    "densf <- df(f, dfn, dfd, 0)\n",
    "plot(f, densf, xlab=\"F\", ylab=\"densidade\", lwd=2, type=\"l\")\n",
    "densf <- df(f, dfn, dfd, ncp)\n",
    "lines(f,densf, lwd=2, lty=2)\n",
    "abline(v=fc, lty=3)\n",
    "abline(v=F, lty=4)\n",
    "legend(\"topright\",\n",
    "       c(\"H0\", \"Obs\", \n",
    "         paste(\"Fc(\",dfn,\",\",round(dfd,3),\") = \",round(fc,3),sep=\"\"), \n",
    "         paste(\"Fobs = \",round(F,3),\"\\n\",\n",
    "               \"p = \",p,sep=\"\") \n",
    "         ), \n",
    "       lwd=c(2,2,1,1), lty=c(1,2,3,4))\n",
    "cat(\"\\n\\nSelecao de modelo\\n\")\n",
    "R2aj <- (F-1)/((F-1)+dfd+1)\n",
    "cat(\"- R^2 ajustado =\", R2aj, \"\\n\")\n",
    "omega2 <- (F-1)/((F-1)+dfd+2)\n",
    "cat(\"- omega^2 = \", omega2,\"\\n\\n\")\n",
    "cat(\"Teste omnibus por GLM univariado\\n\")\n",
    "# ezANOVA: apenas para medidas repetidas balanceadas\n",
    "print(res <- ez::ezANOVA(data=TH, dv=Sodium, wid=Student, within=Instructor,\n",
    "                         detailed=TRUE, type=3))\n",
    "# enable warnings\n",
    "options(warn=0)"
   ]
  },
  {
   "cell_type": "markdown",
   "metadata": {
    "lines_to_next_cell": 0
   },
   "source": [
    "Obtém-se:"
   ]
  },
  {
   "cell_type": "code",
   "execution_count": null,
   "metadata": {
    "tags": [
     "remove_input"
    ]
   },
   "outputs": [],
   "source": [
    "source(\"ANOVA1f_dep_balanc_sodio.R\")"
   ]
  },
  {
   "cell_type": "markdown",
   "metadata": {
    "lines_to_next_cell": 0
   },
   "source": [
    "Analise a saída deste *RScript* e encontre:\n",
    "  \n",
    "- a estatística descritiva (sempre a mesma).\n",
    "- observe o valor de $F\\text{ calculado}$ e valor-$p$ correspondentes (neste exemplo fictício, os dados são os mesmos da ANOVA independente).\n",
    "- localize e interprete os testes *post hoc*; compare com os valores $p$ da ANOVA independente.\n",
    "- aparece um novo trecho, \"Teste omnibus por GLM univariado\"."
   ]
  },
  {
   "cell_type": "markdown",
   "metadata": {},
   "source": [
    "### ANOVA unifatorial relacionada ou para medidas repetidas, desbalanceadas"
   ]
  },
  {
   "cell_type": "markdown",
   "metadata": {},
   "source": [
    "Vamos usar os mesmos dados, mas eliminar uma única medida (removemos o estudante **a** de Melissa Robins, planilha [Nutricao3parD.xlsx](Nutricao3parD.xlsx)).  \n",
    "\n",
    "Para lidar com esta situação, o *RScript* execute:"
   ]
  },
  {
   "cell_type": "code",
   "execution_count": null,
   "metadata": {
    "echo": true,
    "eval": false,
    "scrolled": false
   },
   "outputs": [],
   "source": [
    "if (!require(\"lmerTest\")) install.packages(\"lmerTest\",repo=\"https://vps.fmvz.usp.br/CRAN/\", dep=TRUE)\n",
    "# ANOVA1f_dep_desbalanc_sodio.R\n",
    "# para ajustar este RScript para outros dados\n",
    "# troque a planilha xlsx e substitua as palavras\n",
    "# Instructor pela nova VI (fator)\n",
    "# Sodium pela nova VD (resposta)\n",
    "\n",
    "library(psych)\n",
    "library(lattice)\n",
    "library(car)\n",
    "library(lmerTest)\n",
    "library(readxl)\n",
    "\n",
    "# suppress warnings\n",
    "options(warn=-1)\n",
    "\n",
    "TH <- read_excel(\"Nutricao3parD.xlsx\")\n",
    "TH$Instructor <- factor(TH$Instructor, levels=unique(TH$Instructor))\n",
    "\n",
    "print(with(TH, psych::describeBy(Sodium,Instructor,digits=2)))\n",
    "boxplot(Sodium~Instructor,data=TH,\n",
    "        ylab=names(TH)[which(names(TH)==\"Sodium\")],\n",
    "        xlab=names(TH)[which(names(TH)==\"Instructor\")]\n",
    ")\n",
    "print(grf <- lattice::xyplot(Sodium~Instructor, data=TH, type=c(\"p\",\"a\"),\n",
    "                             jitter.x=TRUE, col=\"black\"))\n",
    "car::densityPlot(Sodium~Instructor, data=TH, rug=TRUE, from=0, normalize=TRUE,\n",
    "                 na.rm=TRUE, ylab=\"Densidade\", col=c(\"black\", \"black\", \"black\"))\n",
    "cat(\"\\n\")\n",
    "\n",
    "cat(paste(\"\\nTeste omnibus por GLMM com efeito aleatorio\\n\"))\n",
    "alfa <- 0.05\n",
    "VD <- names(TH)[which(names(TH)==\"Sodium\")]\n",
    "VI <- names(TH)[which(names(TH)==\"Instructor\")]\n",
    "cat(\"VD =\", VD,\"\\n\")\n",
    "cat(\"Fator =\", VI,\"\\n\")\n",
    "cat(\"\\nAnalise de significancia estatistica: teste omnibus\\n\")\n",
    "res <- lmerTest::lmer(Sodium~Instructor + (1|Student), data=TH, REML=TRUE)\n",
    "cat(\"\\n\"); print(res1 <- stats::anova(res)); cat(\"\\n\")\n",
    "print(lmerTest::rand(res))\n",
    "cat(paste(\"\\nTeste post hoc\\n\\n\"))\n",
    "print(out <- lmerTest::difflsmeans(res))\n",
    "dfn <- as.numeric(res1[3])\n",
    "dfd <- as.numeric(res1[4])\n",
    "F <- as.numeric(res1[5])\n",
    "cat(\"\\nAnalise de significancia pratica: tamanho de efeito\\n\")\n",
    "eta2 <- dfn*F/(dfn*F+dfd)\n",
    "if (0 <= eta2 & eta2 < 0.1) {geta2 <- \"minimo\"}\n",
    "if (0.1 <= eta2 & eta2 < 0.6) {geta2 <- \"pequeno\"}\n",
    "if (0.6 <= eta2 & eta2 < 0.14) {geta2 <- \"intermediario\"}\n",
    "if (0.14 <= eta2 & eta2 <= 1.0) {geta2 <- \"grande\"}\n",
    "cat(\"\\neta^2 =\", eta2, \"\\nGrau\", geta2,\n",
    "    \"de explicacao da variancia da VD\", VD,\"pela VI\", VI,\"\\n\")\n",
    "f2 <- eta2/(1-eta2) # tamanho de efeito f de Cohen\n",
    "ncp <- dfd*f2 # parametro de nao-centralidade\n",
    "fc <- qf(1-alfa, dfn, dfd, 0)\n",
    "p <- 1-pf(F,dfn,dfd,0)\n",
    "if (p < 1e-4)\n",
    "{\n",
    "  p <- sprintf(\"%.2e\",p)\n",
    "} else\n",
    "{\n",
    "  p <- sprintf(\"%.4f\",p)\n",
    "}\n",
    "f <- seq(0,2*ncp,0.01)\n",
    "densf <- df(f, dfn, dfd, 0)\n",
    "plot(f, densf, xlab=\"F\", ylab=\"densidade\", lwd=2, type=\"l\")\n",
    "densf <- df(f, dfn, dfd, ncp)\n",
    "lines(f,densf, lwd=2, lty=2)\n",
    "abline(v=fc, lty=3)\n",
    "abline(v=F, lty=4)\n",
    "legend(\"topright\",\n",
    "       c(\"H0\", \"Obs\", \n",
    "         paste(\"Fc(\",dfn,\",\",round(dfd,3),\") = \",round(fc,3),sep=\"\"), \n",
    "         paste(\"Fobs = \",round(F,3),\"\\n\",\n",
    "               \"p = \",p,sep=\"\") \n",
    "         ), \n",
    "       lwd=c(2,2,1,1), lty=c(1,2,3,4))\n",
    "cat(\"\\n\\nSelecao de modelo\\n\")\n",
    "R2aj <- (F-1)/((F-1)+dfd+1)\n",
    "cat(\"- R^2 ajustado =\", R2aj, \"\\n\")\n",
    "omega2 <- (F-1)/((F-1)+dfd+2)\n",
    "cat(\"- omega^2 = \", omega2,\"\\n\\n\")\n",
    "# enable warnings\n",
    "options(warn=0)"
   ]
  },
  {
   "cell_type": "markdown",
   "metadata": {
    "lines_to_next_cell": 0
   },
   "source": [
    "É o mesmo _RScript_ usado para a ANOVA balanceada, exceto pelas linhas finais (\"Teste omnibus por GLM univariado\"). Obtém-se:"
   ]
  },
  {
   "cell_type": "code",
   "execution_count": null,
   "metadata": {
    "tags": [
     "remove_input"
    ]
   },
   "outputs": [],
   "source": [
    "if (!require(\"ez\")) install.packages(\"ez\",repo=\"https://vps.fmvz.usp.br/CRAN/\")\n",
    "\n",
    "options(repr.plot.width=8, repr.plot.height=6)\n",
    "\n",
    "source(\"ANOVA1f_dep_balanc_sodio.R\")"
   ]
  },
  {
   "cell_type": "markdown",
   "metadata": {},
   "source": [
    "#### Exemplo de relatório para a ANOVA unifatorial relacionada"
   ]
  },
  {
   "cell_type": "markdown",
   "metadata": {},
   "source": [
    "> **Vinte** participantes foram selecionados para um estudo com delineamento intrapartipantes com três condições experimentais. A ordem de aplicação das três condições experimentais em cada participante foi aleatorizada. As médias amostrais brutas mostram que **menor ingesta de sódio foi observada entre estudantes submetidos ao programa aplicado por Melissa Robins**. A **ingesta média de sódio dos estudantes de Brendon Small e do Coach McGuirk** são semelhantes. A ANOVA unifatorial para medidas repetidas mostrou que qualquer diferença\n",
    "entre as condições experimentais é improvável de ter ocorrido apenas por erro\n",
    "amostral, considerando a hipótese nula verdadeira, pois a estatística de teste\n",
    "multivariado observada é **$F(2;38) = 30{,}581$ e o valor *p* associado é igual a $1{,}22 \\times10^{-8}$**. O tamanho do efeito do fator intraparticipantes é estimado pelo eta ao\n",
    "quadrado parcial cujo valor indica que **61,7% da variância da ingesta de sódio** é\n",
    "explicada pelo efeito do fator fixo **Instrutor**. A análise post-hoc confirmou que as diferenças entre entre **os programas adotados por Robins e Small**, e entre **os adotados por Robins e McGuirk** são estatisticamente significantes. Não se observou diferença estatisticamente significante entre **os programas adotados por Small e McGuirk**."
   ]
  },
  {
   "cell_type": "code",
   "execution_count": null,
   "metadata": {},
   "outputs": [],
   "source": []
  }
 ],
 "metadata": {
  "jupytext": {
   "cell_metadata_filter": "fig.align,tags,echo,eval,name,-all",
   "notebook_metadata_filter": "-all",
   "text_representation": {
    "extension": ".Rmd",
    "format_name": "rmarkdown"
   }
  },
  "kernelspec": {
   "display_name": "R3.6.0",
   "language": "R",
   "name": "ir"
  },
  "language_info": {
   "codemirror_mode": "r",
   "file_extension": ".r",
   "mimetype": "text/x-r-source",
   "name": "R",
   "pygments_lexer": "r",
   "version": "3.6.3"
  },
  "latex_envs": {
   "LaTeX_envs_menu_present": true,
   "autoclose": true,
   "autocomplete": true,
   "bibliofile": "biblio.bib",
   "cite_by": "apalike",
   "current_citInitial": 1,
   "eqLabelWithNumbers": true,
   "eqNumInitial": 1,
   "hotkeys": {
    "equation": "Ctrl-E",
    "itemize": "Ctrl-I"
   },
   "labels_anchors": false,
   "latex_user_defs": false,
   "report_style_numbering": false,
   "user_envs_cfg": false
  },
  "toc": {
   "base_numbering": 1,
   "nav_menu": {},
   "number_sections": true,
   "sideBar": true,
   "skip_h1_title": true,
   "title_cell": "Tabela de Conteúdos",
   "title_sidebar": "Conteúdos",
   "toc_cell": false,
   "toc_position": {
    "height": "calc(100% - 180px)",
    "left": "10px",
    "top": "150px",
    "width": "288.182px"
   },
   "toc_section_display": true,
   "toc_window_display": true
  },
  "varInspector": {
   "cols": {
    "lenName": 16,
    "lenType": 16,
    "lenVar": 40
   },
   "kernels_config": {
    "python": {
     "delete_cmd_postfix": "",
     "delete_cmd_prefix": "del ",
     "library": "var_list.py",
     "varRefreshCmd": "print(var_dic_list())"
    },
    "r": {
     "delete_cmd_postfix": ") ",
     "delete_cmd_prefix": "rm(",
     "library": "var_list.r",
     "varRefreshCmd": "cat(var_dic_list()) "
    }
   },
   "oldHeight": 668.067818,
   "position": {
    "height": "689.872px",
    "left": "1168.92px",
    "right": "20px",
    "top": "120px",
    "width": "338.352px"
   },
   "types_to_exclude": [
    "module",
    "function",
    "builtin_function_or_method",
    "instance",
    "_Feature"
   ],
   "varInspector_section_display": "block",
   "window_display": false
  }
 },
 "nbformat": 4,
 "nbformat_minor": 4
}
